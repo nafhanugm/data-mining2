{
 "cells": [
  {
   "cell_type": "markdown",
   "id": "97668933",
   "metadata": {},
   "source": [
    "# Training & Modelling\n",
    "\n",
    "This notebook trains and evaluates multiple models on the cleaned datasets prepared in `data-cleaning-preprocessing.ipynb`.\n",
    "\n",
    "Models included:\n",
    "- TF-IDF (char n-grams) + Logistic Regression\n",
    "- Hybrid: TF-IDF (char + word) + numeric features + Logistic Regression\n",
    "- Sentence-Transformers embeddings + Logistic Regression\n",
    "- IndoBERT fine-tuning (optional, lightweight config)\n",
    "- Google AI Studio Embeddings (API Key) + Logistic Regression\n",
    "- Vertex AI (Text Embeddings) + Logistic Regression\n",
    "\n",
    "You can choose between original or 50:50 balanced splits. Save artifacts to `models/`."
   ]
  },
  {
   "cell_type": "code",
   "execution_count": 1,
   "id": "d8803226",
   "metadata": {},
   "outputs": [],
   "source": [
    "# Setup & configuration\n",
    "import os\n",
    "import json\n",
    "import math\n",
    "import joblib\n",
    "import warnings\n",
    "warnings.filterwarnings('ignore')\n",
    "\n",
    "import numpy as np\n",
    "import pandas as pd\n",
    "\n",
    "from typing import List, Dict\n",
    "\n",
    "MODELS_DIR = 'models'\n",
    "PROCESSED_DIR = 'processed_data'\n",
    "RANDOM_STATE = 42\n",
    "os.makedirs(MODELS_DIR, exist_ok=True)\n",
    "\n",
    "# External services configuration (leave empty to skip)\n",
    "GOOGLE_AI_STUDIO_API_KEY = os.environ.get('GOOGLE_AI_STUDIO_API_KEY', '#')  # or paste here\n",
    "VERTEX_PROJECT_ID = os.environ.get('VERTEX_PROJECT_ID', 'n8n-pmld')\n",
    "VERTEX_LOCATION = os.environ.get('VERTEX_LOCATION', 'us-central1')\n",
    "VERTEX_USE_GCLOUD_AUTH = bool(os.environ.get('VERTEX_USE_GCLOUD_AUTH', 'true'))  # if true, use ADC\n",
    "\n",
    "# HuggingFace/transformers models\n",
    "SENTENCE_TRANSFORMER_MODEL = 'sentence-transformers/paraphrase-multilingual-MiniLM-L12-v2'\n",
    "INDOBERT_MODEL = 'indobenchmark/indobert-base-p1'  # for optional finetuning\n"
   ]
  },
  {
   "cell_type": "code",
   "execution_count": null,
   "id": "0ffd71f5",
   "metadata": {},
   "outputs": [],
   "source": [
    "# Install optional dependencies (run once)\n",
    "# illustrative only\n",
    "# !pip install scikit-learn scikit-learn-intelex sentence-transformers transformers torch --quiet\n",
    "# For Google AI Studio (Gemini Embeddings):\n",
    "# !pip install google-generativeai --quiet\n",
    "# For Vertex AI embeddings:\n",
    "# !pip install google-cloud-aiplatform --quiet\n"
   ]
  },
  {
   "cell_type": "code",
   "execution_count": 6,
   "id": "44ab632f",
   "metadata": {},
   "outputs": [
    {
     "data": {
      "text/plain": [
       "{'train': ((8171, 13), {0: 7454, 1: 717}),\n",
       " 'test': ((2335, 13), {0: 2126, 1: 209}),\n",
       " 'holdout': ((1167, 13), {0: 942, 1: 225})}"
      ]
     },
     "execution_count": 6,
     "metadata": {},
     "output_type": "execute_result"
    }
   ],
   "source": [
    "# Data loading\n",
    "\n",
    "def load_split(use_balanced: bool = True) -> Dict[str, pd.DataFrame]:\n",
    "    if use_balanced:\n",
    "        train_path = os.path.join(PROCESSED_DIR, 'train_balanced_50_50.csv')\n",
    "        test_path = os.path.join(PROCESSED_DIR, 'test_balanced_50_50.csv')\n",
    "        holdout_path = os.path.join(PROCESSED_DIR, 'holdout_balanced_50_50.csv')\n",
    "    else:\n",
    "        train_path = os.path.join(PROCESSED_DIR, 'train_processed.csv')\n",
    "        test_path = os.path.join(PROCESSED_DIR, 'test_processed.csv')\n",
    "        holdout_path = os.path.join(PROCESSED_DIR, 'holdout_processed.csv')\n",
    "    train = pd.read_csv(train_path)\n",
    "    test = pd.read_csv(test_path)\n",
    "    holdout = pd.read_csv(holdout_path)\n",
    "    return {'train': train, 'test': test, 'holdout': holdout}\n",
    "\n",
    "splits = load_split(use_balanced=False)\n",
    "{ k: (v.shape, v['label'].value_counts().to_dict()) for k, v in splits.items() }\n"
   ]
  },
  {
   "cell_type": "code",
   "execution_count": null,
   "id": "73f37ea7",
   "metadata": {},
   "outputs": [
    {
     "data": {
      "application/vnd.plotly.v1+json": {
       "config": {
        "plotlyServerURL": "https://plot.ly"
       },
       "data": [
        {
         "bingroup": "x",
         "hovertemplate": "label=0<br>money_symbol_count=%{x}<br>count=%{y}<extra></extra>",
         "legendgroup": "0",
         "marker": {
          "color": "#636efa",
          "opacity": 0.5,
          "pattern": {
           "shape": ""
          }
         },
         "name": "0",
         "nbinsx": 200,
         "orientation": "v",
         "showlegend": true,
         "type": "histogram",
         "x": {
          "bdata": "AAAAAAAAAAAAAAAAAAAAAAAAAAAAAAAAAAAAAAAAAAAAAAAAAAAAAAAAAAAAAAAAAAAAAAAAAAAAAAAAAAAAAAAAAAAAAAAAAAAAAAAAAAAAAAAAAAAAAAAAAAAAAAAAAAAAAAAAAAAAAAAAAAAAAAAAAAAAAAAAAAAAAAAAAAAAAAAAAAAAAAAAAAAAAAAAAAAAAAAAAAAAAAAAAAAAAAAAAAAAAAAAAAAAAAAAAAAAAAAAAAAAAAAAAAAAAAAAAAAAAAAAAAAAAAAAAAAAAAAAAAAAAAAAAAAAAAAAAAAAAAAAAAAAAAAAAAAAAAAAAAAAAAAAAAAAAAAAAAAAAAAAAAAAAAAAAAAAAAAAAAAAAAAAAAAAAAAAAAAAAAAAAAAAAAAAAAAAAAAAAAAAAAAAAAAAAAAAAAAAAAAAAAAAAAAAAAAAAAAAAAAAAAAAAAAAAAAAAAAAAAAAAAAAAAAAAAAAAAAAAAAAAAAAAAAAAAAAAAAAAAAAAAAAAAAAAAAAAAAAAAAAAAAAAAAAAAAAAAAAAAAAAAAAAAAAAAAAAAAAAAAAAAAAAAAAAAAAAAAAAAAAAAAAAAAAAAAAAAAAAAAAAAAAAAAAAAAAAAAAAAAAAAAAAAAAAAAAAAAAAAAAAAAAAAAAAAAAAAAAAAAAAAAAAAAAAAAAAAAAAAAAAAAAAAAAAAAAAAAAAAAAAAAAAAAAAAAAAAAAAAAAAAAAAAAAAAAAAAAAAAAAAAAAAAAAAAAAAAAAAAAAAAAAAAAAAAAAAAAAAAAAAAAAAAAAAAAAAAAAAAAAAAAAAAAAAAAAAAAAAAAAAAAAAAAAAAAAAAAAAAAAAAAAAAAAAAAAAAAAAAAAAAAAAAAAAAAAAAAAAAAAAAAAAAAAAAAAAAAAAAAAAAAAAAAAAAAAAAAAAAAAAAAAAAAAAAAAAAAAAAAAAAAAAAAAAAAAAAAAAAAAAAAAAAAAAAAAAAAAAAAAAAAAAAAAAAAAAAAAAAAAAAAAAAAAAAAAAAAAAAAAAAAAAAAAAAAAAAAAAAAAAAAAAAAAAAAAAAAAAAAAAAAAAAAAAAAAAAAAAAAAAAAAAAAAAAAAAAAAAAAAAAAAAAAAAAAAAAAAAAAAAAAAAAAAAAABAAAAAAAAAAAAAAAAAAAAAAAAAAAAAAAAAAAAAAAAAAAAAAAAAAAAAAAAAAAAAAAAAAAAAAAAAAAAAAAAAAAAAAAAAAAAAAAAAAAAAAAAAAAAAAAAAAAAAAAAAAAAAAAAAAAAAAAAAAAAAAAAAAAAAAAAAAAAAAAAAAAAAAAAAAAAAAAAAAAAAAAAAAAAAAAAAAAAAAAAAAAAAAAAAAAAAAAAAAAAAAAAAAAAAAAAAAAAAAAAAAAAAAAAAAAAAAAAAAAAAAAAAAAAAAAAAAAAAAAAAAAAAAAAAAAAAAAAAAAAAAAAAAAAAAAAAAAAAAAAAAAAAAAAAAAAAAAAAAAAAAAAAAAAAAAAAAAAAAAAAAAAAAAAAAAAAAAAAAAAAAAAAAAAAAAAAAAAAAAAAAAAAAAAAAAAAAAAAAAAAAAAAAAAAAAAAAAAAAAAAAAAAAAAAAAAAAAAAAAAAAAAAAAAAAAAAAAAAAAAAAAAAAAAAAAAAAAAAAAAAAAAAAAAAAAAAAAAAAAAAAAAAAAAAAAAAAAAAAAAAAAAAAAAAAAAAAAAAAAAAAAAAAAAAAAAAAAAAAAAAAAAAAAAAAAAAAAAAAAAAAAAAAAAAAAAAAAAAAAAAAAAAAAAAAAAAAAAAAAAAAAAAAAAAAAAAAAAAAAAAAAAAAAAAAAAAAAAAAAAAAAAAAAAAAAAAAAAAAAAAAAAAAAAAAAAAAAAAAAAAAAAAAAAAAAAAAAAAAAAAAAAAAAAAAAAAAAAAAAAAAAAAAAAAAAAAAAAAAAAAAAAAAAAAAAAAAAAAAAAAAAAAAAAAAAAAAAAAAAAAAAAAAAAAAAAAAAAAAAAAAAAAAAAAAAAAAAAAAAAAAAAAAAAAAAAAAAAAAAAAAAAAAAAAAAAAAAAAAAAAAAAAAAAAAAAAAAAAAAAAAAAAAAAAAAAAAAAAAAAAAAAAAAAAAAAAAAAAAAAAAAAAAAAAAAAAAAAAAAAAAAAAAAAAAAAAAAAAAAAAAAAAAAAAAAAAAAAAAAAAAAAAAAAAAAAAAAAAAAAAAAAAAAAAAAAAAAAAAAAAAAAAAAAAAAAAAAAAAAAAAAAAAAAAAAAAAAAAAAAAAAAAAAAAAAAAAAAAAAAAAAAAAAAAAAAAAAAAAAAAAAAAAAAAAAAAAAAAAAAAAAAAAAAAAAAAAAAAAAAAAAAAAAAAAAAAAAAAAAAAAAAAAAAAAAAAAAAAAAAAAAAAAAAAAAAAAAAAAAAAAAAAAAAAAAAAAAAAAAAAAAAAAAAAAAAAAAAAAAAAAAAAAAAAAAAAAAAAAAAAAAAAAAAAAAAAAAAAAAAAAAAAAAAAAAAAAAAAAAAAAAAAAAAAAAAAAAAAAAAAAAAAAAAAAAAAAAAAAAAAAAAAAAAAAAAAAAAAAAAAAAAAAAAAAAAAAAAAAAAAAAAAAAAAAAAAAAAAAAAAAAAAAAAAAAAAAAAAAAAAAAAAAAAAAAAAAAAAAAAAAAAAAAAAAAAAAAAAAAAAAAAAAAAAAAAAAAAAAAAAAAAAAAAAAAAAAAAAAAAAAAAAAAAAAAAAAAAAAAAAAAAAAAAAAAAAAAAAAAAAAAAAAAAAAAAAAAAAAAAAAAAAAAAAAAAAAAAAAAAAAAAAAAAAAAAAAAAAAAAAAAAAAAAAAAAAAAAAAAAAAAAAAAAAAAAAAAAAAAAAAAAAAAAAAAAAAAAAAAAAAAAAAAAAAAAAAAAAAAAAAAAAAAAAAAAAAAAAAAAAAAAAAAAAAAAAAAAAAAAAAAAAAAAAAAAAAAAAAAAAAAAAAAAAAAAAAAAAAAAAAAAAAAAAAAAAAAAAAAAAAAAAAAAAAAAAAAAAAAAAAAAAAAAAAAAAAAAAAAAAAAAAAAAAAAAAAAAAAAAAAAAAAAAAAAAAAAAAAAAAAAAAAAAAAAAAAAAAAAAAAAAAAAAAAAAAAAAAAAAAAAAAAAAAAAAAAAAAAAAAAAAAAAAAAAAAAAAAAAAAAAAAAAAAAAAAAAAAAAAAAAAAAAAAAAAAAAAAAAAAAAAAAAAAAAAAAAAAAAAAAAAAAAAAAAAAAAAAAAAAAAAAAAAAAAAAAAAAAAAAAAAAAAAAAAAAAAAAAAAAAAAAAAAAAAAAAAAAAAAAAAAAAAAAAAAAAAAAAAAAAAAAAAAAAAAAAAAAAAAAAAAAAAAAAAAAAAAAAAAAAAAAAAAAAAAAAAAAAAAAAAAAAAAAAAAAAAAAAAAAAAAAAAAAAAAAAAAAAAAAAAAAAAAAAAAAAAAAAAAAAAAAAAAAAAAAAAAAAAAAAAAAAAAAAAAAAAAAAAAAAAAAAAAAAAAAAAAAAAAAAAAAAAAAAAAAAAAAAAAAAAAAAAAAAAAAAAAAAAAAAAAAAAAAAAAAAAAAAAAAAAAAAAAAAAAAAAAAAAAAAAAAAAAAAAAAAAAAAAAAAAAAAAAAAAAAAAAAAAAAAAAAAAAAAAAAAAAAAAAAAAAAAAAAAAAAAAAAAAAAAAAAAAAAAAAAAAAAAAAAAAAAAAAAAAAAAAAAAAAAAAAAAAAAAAAAAAAAAAAAAAAAAAAAAAAAAAAAAAAAAAAAAAAAAAAAAAAAAAAAAAAAAAAAAAAAAAAAAAAAAAAAAAAAAAAAAAAAAAAAAAAAAAAAAAAAAAAAAAAAAAAAAAAAAAAAAAAAAAAAAAAAAAAAAAAAAAAAAAAAAAAAAAAAAAAAAAAAAAAAAAAAAAAAAAAAAAAAAAAAAAAAAAAAAAAAAAAAAAAAAAAAAAAAAAAAAAAAAAAAAAAAAAAAAAAAAAAAAAAAAAAAAAAAAAAAAAAAAAAAAAAAAAAAAAAAAAAAAAAAAAAAAAAAAAAAAAAAAAAAAAAAAAAAAAAAAAAAAAAAAAAAAAAAAAAAAAAAAAAAAAAAAAAAAAAAAAAAAAAAAAAAAAAAAAAAAAAAAAAAAAAAAAAAAAAAAAAAAAAAAAAAAAAAAAAAAAAAAAAAAAAAAAAAAAAAAAAAAAAAAAAAAAAAAAAAAAAAAAAAAAAAAAAAAAAAAAAAAAAAAAAAAAAAAAAAAAAAAAAAAAAAAAAAAAAAAAAAAAAAAAAAAAAAAAAAAAAAAAAAAAAAAAAAAAAAAAAAAAAAAAAAAAAAAAAAAAAAAAAAAAAAAAAAAAAAAAAAAAAAAAAAAAAAAAAAAAAAAAAAAAAAAAAAAAAAAAAAAAAAAAAAAAAAAAAAAAAAAAAAAAAAAAAAAAAAAAAAAAAAAAAAAAAAAAAAAAAAAAAAAAAAAAAAAAAAAAAAAAAAAAAAAAAAAAAAAAAAAAAAAAAAAAAAAAAAAAAAAAAAAAAAAAAAAAAAAAAAAAAAAAAAAAAAAAAAAAAAAAAAAAAAAAAAAAAAAAAAAAAAAAAAAAAAAAAAAAAAAAAAAAAAAAAAAAAAAAAAAAAAAAAAAAAAAAAAAAAAAAAAAAAAAAAAAAAAAAAAAAAAAAAAAAAAAAAAAAAAAAAAAAAAAAAAAAAAAAAAAAAAAAAAAAAAAAAAAAAAAAAAAAAAAAAAAAAAAAAAAAAAAAAAAAAAAAAAAAAAAAAAAAAAAAAAAAAAAAAAAAAAAAAAAAAAAAAAAAAAAAAAAAAAAAAAAAAAAAAAAAAAAAAAAAAAAAAAAAAAAAAAAAAAAAAAAAAAAAAAAAAAAAAAAAAAAAAAAAAAAAAAAAAAAAAAAAAAAAAAAAAAAAAAAAAAAAAAAAAAAAAAAAAAAAAAAAAAAAAAAAAAAAAAAAAAAAAAAAAAAAAAAAAAAAAAAAAAAAAAAAAAAAAAAAAAAAAAAAAAAAAAAAAAAAAAAAAAAAAAAAAAAAAAAAAAAAAAAAAAAAAAAAAAAAAAAAAAAAAAAAAAAAAAAAAAAAAAAAAAAAAAAAAAAAAAAAAAAAAAAAAAAAAAAAAAAAAAAAAAAAAAAAAAAAAAAAAAAAAAAAAAAAAAAAAAAAAAAAAAAAAAAAAAAAAAAAAAAAAAAAAAAAAAAAAAAAAAAAAAAAAAAAAAAAAAAAAAAAAAAAAAAAAAAAAAAAAAAAAAAAAAAAAAAAAAAAAAAAAAAAAAAAAAAAAAAAAAAAAAAAAAAAAAAAAAAAAAAAAAAAAAAAAAAAAAAAAAAAAAAAAAAAAAAAAAAAAAAAAAAAAAAAAAAAAAAAAAAAAAAAAAAAAAAAAAAAAAAAAAAAAAAAAAAAAAAAAAAAAAAAAAAAAAAAAAAAAAAAAAAAAAAAAAAAAAAAAAAAAAAAAAAAAAAAAAAAAAAAAAAAAAAAAAAAAAAAAAAAAAAAAAAAAAAAAAAAAAAAAAAAAAAAAAAAAAAAAAAAAAAAAAAAAAAAAAAAAAAAAAAAAAAAAAAAAAAAAAAAAAAAAAAAAAAAAAAAAAAAAAAAAAAAAAAAAAAAAAAAAAAAAAAAAAAAAAAAAAAAAAAAAAAAAAAAAAAAAAAAAAAAAAAAAAAAAAAAAAAAAAAAAAAAAAAAAAAAAAAAAAAAAAAAAAAAAAAAAAAAAAAAAAAAAAAAAAAAAAAAAAAAAAAAAAAAAAAAAAAAAAAAAAAAAAAAAAAAAAAAAAAAAAAAAAAAAAAAAAAAAAAAAAAAAAAAAAAAAAAAAAAAAAAAAAAAAAAAAAAAAAAAAAAAAAAAAAAAAAAAAAAAAAAAAAAAAAAAAAAAAAAAAAAAAAAAAAAAAAAAAAAAAAAAAAAAAAAAAAAAAAAAAAAAAAAAAAAAAAAAAAAAAAAAAAAAAAAAAAAAAAAAAAAAAAAAAAAAAAAAAAAAAAAAAAAAAAAAAAAAAAAAAAAAAAAAAAAAAAAAAAAAAAAAAAAAAAAAAAAAAAAAAAAAAAAAAAAAAAAAAAAAAAAAAAAAAAAAAAAAAAAAAAAAAAAAAAAAAAAAAAAAAAAAAAAAAAAAAAAAAAAAAAAAAAAAAAAAAAAAAAAAAAAAAAAAAAAAAAAAAAAAAAAAAAAAAAAAAAAAAAAAAAAAAAAAAAAAAAAAAAAAAAAAAAAAAAAAAAAAAAAAAAAAAAAAAAAAAAAAAAAAAAAAAAAAAAAAAAAAAAAAAAAAAAAAAAAAAAAAAAAAAAAAAAAAAAAAAAAAAAAAAAAAAAAAAAAAAAAAAAAAAAAAAAAAAAAAAAAAAAAAAAAAAAAAAAAAAAAAAAAAAAAAAAAAAAAAAAAAAAAAAAAAAAAAAAAAAAAAAAAAAAAAAAAAAAAAAAAAAAAAAAAAAAAAAAAAAAAAAAAAAAAAAAAAAAAAAAAAAAAAAAAAAAAAAAAAAAAAAAAAAAAAAAAAAAAAAAAAAAAAAAAAAAAAAAAAAAAAAAAAAAAAAAAAAAAAAAAAAAAAAAAAAAAAAAAAAAAAAAAAAAAAAAAAAAAAAAAAAAAAAAAAAAAAAAAAAAAAAAAAAAAAAAAAAAAAAAAAAAAAAAAAAAAAAAAAAAAAAAAAAAAAAAAAAAAAAAAAAAAAAAAAAAAAAAAAAAAAAAAAAAAAAAAAAAAAAAAAAAAAAAAAAAAAAAAAAAAAAAAAAAAAAAAAAAAAAAAAAAAAAAAAAAAAAAAAAAAAAAAAAAAAAAAAAAAAAAAAAAAAAAAAAAAAAAAAAAAAAAAAAAAAAAAAAAAAAAAAAAAAAAAAAAAAAAAAAAAAAAAAAAAAAAAAAAAAAAAAAAAAAAAAAAAAAAAAAAAAAAAAAAAAAAAAAAAAAAAAAAAAAAAAAAAAAAAAAAAAAAAAAAAAAAAAAAAAAAAAAAAAAAAAAAAAAAAAAAAAAAAAAAAAAAAAAAAAAAAAAAAAAAAAAAAAAAAAAAAAAAAAAAAAAAAAAAAAAAAAAAAAAAAAAAAAAAAAAAAAAAAAAAAAAAAAAAAAAAAAAAAAAAAAAAAAAAAAAAAAAAAAAAAAAAAAAAAAAAAAAAAAAAAAAAAAAAAAAAAAAAAAAAAAAAAAAAAAAAAAAAAAAAAAAAAAAAAAAAAAAAAAAAAAAAAAAAAAAAAAAAAAAAAAAAAAAAAAAAAAAAAAAAAAAAAAAAAAAAAAAAAAAAAAAAAAAAAAAAAAAAAAAAAAAAAAAAAAAAAAAAAAAAAAAAAAAAAAAAAAAAAAAAAAAAAAAAAAAAAAAAAAAAAAAAAAAAAAAAAAAAAAAAAAAAAAAAAAAAAAAAAAAAAAAAAAAAAAAAAAAAAAAAAAAAAAAAAAAAAAAAAAAAAAAAAAAAAAAAAAAAAAAAAAAAAAAAAAAAAAAAAAAAAAAAAAAAAAAAAAAAAAAAAAAAAAAAAAAAAAAAAAAAAAAAAAAAAAAAAAAAAAAAAAAAAAAAAAAAAAAAAAAAAAAAAAAAAAAAAAAAAAAAAAAAAAAAAAAAAAAAAAAAAAAAAAAAAAAAAAAAAAAAAAAAAAAAAAAAAAAAAAAAAAAAAAAAAAAAAAAAAAAAAAAAAAAAAAAAAAAAAAAAAAAAAAAAAAAAAAAAAAAAAAAAAAAAAAAAAAAAAAAAAAAAAAAAAAAAAAAAAAAAAAAAAAAAAAAAAAAAAAAAAAAAAAAAAAAAAAAAAAAAAAAAAAAAAAAAAAAAAAAAAAAAAAAAAAAAAAAAAAAAAAAAAAAAAAAAAAAAAAAAAAAAAAAAAAAAAAAAAAAAAAAAAAAAAAAAAAAAAAAAAAAAAAAAAAAAAAAAAAAAAAAAAAAAAAAAAAAAAAAAAAAAAAAAAAAAAAAAAAAAAAAAAAAAAAAAAAAAAAAAAAAAAAAAAAAAAAAAAAAAAAAAAAAAAAAAAAAAAAAAAAAAAAAAAAAAAAAAAAAAAAAAAAAAAAAAAAAAAAAAAAAAAAAAAAAAAAAAAAAAAAAAAAAAAAAAAAAAAAAAAAAAAAAAAAAAAAAAAAAAAAAAAAAAAAAAAAAAAAAAAAAAAAAAAAAAAAAAAAAAAAAAAAAAAAAAAAAAAAAAAAAAAAAAAAAAAAAAAAAAAAAAAAAAAAAAAAAAAAAAAAAAAAAAAAAAAAAAAAAAAAAAAAAAAAAAAAAAAAAAAAAAAAAAAAAAAAAAAAAAAAAAAAAAAAAAAAAAAAAAAAAAAAAAAAAAAAAAAAAAAAAAAAAAAAAAAAAAAAAAAAAAAAAAAAAAAAAAAAAAAAAAAAAAAAAAAAAAAAAAAAAAAAAAAAAAAAAAAAAAAAAAAAAAAAAAAAAAAAAAAAAAAAAAAAAAAAAAAAAAAAAAAAAAAAAAAAAAAAAAAAAAAAAAAAAAAAAAAAAAAAAAAAAAAAAAAAAAAAAAAAAAAAAAAAAAAAAAAAAAAAAAAAAAAAAAAAAAAAAAAAAAAAAAAAAAAAAAAAAAAAAAAAAAAAAAAAAAAAAAAAAAAAAAAAAAAAAAAAAAAAAAAAAAAAAAAAAAAAAAAAAAAAAAAAAAAAAAAAAAAAAAAAAAAAAAAAAAAAAAAAAAAAAAAAAAAAAAAAAAAAAAAAAAAAAAAAAAAAAAAAAAAAAAAAAAAAAAAAAAAAAAAAAAAAAAAAAAAAAAAAAAAAAAAAAAAAAAAAAAAAAAAAAAAAAAAAAAAAAAAAAAAAAAAAAAAAAAAAAAAAAAAAAAAAAAAAAAAAAAAAAAAAAAAAAAAAAAAAAAAAAAAAAAAAAAAAAAAAAAAAAAAAAAAAAAAAAAAAAAAAAAAAAAAAAAAAAAAAAAAAAAAAAAAAAAAAAAAAAAAAAAAAAAAAAAAAAAAAAAAAAAAAAAAAAAAAAAAAAAAAAAAAAAAAAAAAAAAAAAAAAAAAAAAAAAAAAAAAAAAAAAAAAAAAAAAAAAAAAAAAAAAAAAAAAAAAAAAAAAAAAAAAAAAAAAAAAAAAAAAAAAAAAAAAAAAAAAAAAAAAAAAAAAAAAAAAAAAAAAAAAAAAAAAAAAAAAAAAAAAAAAAAAAAAAAAAAAAAAAAAAAAAAAAAAAAAAAAAAAAAAAAAAAAAAAAAAAAAAAAAAAAAAAAAAAAAAAAAAAAAAAAAAAAAAAAAAAAAAAAAAAAAAAAAAAAAAAAAAAAAAAAAAAAAAAAAAAAAAAAAAAAAAAAAAAAAAAAAAAAAAAAAAAAAAAAAAAAAAAAAAAAAAAAAAAAAAAAAAAAAAAAAAAAAAAAAAAAAAAAAAAAAAAAAAAAAAAAAAAAAAAAAAAAAAAAAAAAAAAAAAAAAAAAAAAAAAAAAAAAAAAAAAAAAAAAAAAAAAAAAAAAAAAAAAAAAAAAAAAAAAAAAAAAAAAAAAAAAAAAAAAAAAAAAAAAAAAAAAAAAAAAAAAAAAAAAAAAAAAAAAAAAAAAAAAAAAAAAAAAAAAAAAAAAAAAAAAAAAAAAAAAAAAAAAAAAAAAAAAAAAAAAAAAAAAAAAAAAAAAAAAAAAAAAAAAAAAAAAAAAAAAAAAAAAAAAAAAAAAAAAAAAAAAAAAAAAAAAAAAAAAAAAAAAAAAAAAAAAAAAAAAAAAAAAAAAAAAAAAAAAAAAAAAAAAAAAAAAAAAAAAAAAAAAAAAAAAAAAAAAAAAAAAAAAAAAAAAAAAAAAAAAAAAAAAAAAAAAAAAAAAAAAAAAAAAAAAAAAAAAAAAAAAAAAAAAAAAAAAAAAAAAAAAAAAAAAAAAAAAAAAAAAAAAAAAAAAAAAAAAAAAAAAAAAAAAAAAAAAAAAAAAAAAAAAAAAAAAAAAAAAAAAAAAAAAAAAAAAAAAAAAAAAAAAAAAAAAAAAAAAAAAAAAAAAAAAAAAAAAAAAAAAAAAAAAAAAAAAAAAAAAAAAAAAAAAAAAAAAAAAAAAAAAAAAAAAAAAAAAAAAAAAAAAAAAAAAAAAAAAAAAAAAAAAAAAAAAAAAAAAAAAAAAAAAAAAAAAAAAAAAAAAAAAAAAAAAAAAAAAAAAAAAAAAAAAAAAAAAAAAAAAAAAAAAAAAAAAAAAA=",
          "dtype": "i1"
         },
         "xaxis": "x",
         "yaxis": "y"
        },
        {
         "bingroup": "x",
         "hovertemplate": "label=1<br>money_symbol_count=%{x}<br>count=%{y}<extra></extra>",
         "legendgroup": "1",
         "marker": {
          "color": "#EF553B",
          "opacity": 0.5,
          "pattern": {
           "shape": ""
          }
         },
         "name": "1",
         "nbinsx": 200,
         "orientation": "v",
         "showlegend": true,
         "type": "histogram",
         "x": {
          "bdata": "AAAAAAAAAAAAAAAAAAAAAAAAAAAAAAAAAAAAAAAAAAAAAAAAAAAAAAAAAAAAAAAAAAAAAAAAAAAAAAAAAAAAAAAAAAAAAAAAAAAAAAAAAAAAAAAAAAAAAAAAAAAAAAAAAAAAAAAAAAAAAAAAAAAAAAAAAAAAAAAAAAAAAAAAAAAAAAAAAAAAAAAAAAAAAAAAAAAAAAAAAAAAAAAAAAAAAAAAAAAAAAAAAAAAAAAAAAAAAAAAAAAAAAAAAAAAAAAAAAAAAAAAAAAAAAAAAAAAAAAAAAAAAAAAAAAAAAAAAAAAAAAAAAAAAAAAAAAAAAAAAAAAAAAAAAAAAAAAAAAAAAAAAAAAAAAAAAAAAAAAAAAAAAAAAAAAAAAAAAAAAAAAAAAAAAAAAAAAAAAAAAAAAAAAAAAAAAAAAAAAAAAAAAAAAAAAAAAAAAAAAAAAAAAAAAAAAAAAAAAAAAAAAAAAAAAAAAAAAAAAAAAAAAAAAAAAAAAAAAAAAAAAAAAAAAAAAAAAAAAAAAAAAAAAAAAAAAAAAAAAAAAAAAAAAAAAAAAAAAAAAAAAAAAAAAAAAAAAAAAAAAAAAAAAAAAAAAAAAAAAAAAAAAAAAAAAAAAAAAAAAAAAAAAAAAAAAAAAAAAAAAAAAAAAAAAAAAAAAAAAAAAAAAAAAAAAAAAAAAAAAAAAAAAAAAAAAAAAAAAAAAAAAAAAAAAAAAAAAAAAAAAAAAAAAAAAAAAAAAAAAAAAAAAAAAAAAAAAAAAAAAAAAAAAAAAAAAAAAAAAAAAAAAAAAAAAAAAAAAAAAAAAAAAAAAAAAAAAAAAAAAAAAAAAAAAAAAAAAAAAAAAAAAAAAAAAAAAAAAAAAAAAAAAAAAAAAAAAAAAAAAAAAAAAAAAAAAAAAAAAAAAAAAAAAAAAAAAAAAAAAAAAAAAAAAAAAAAAAAAAAAAAAAAAAAAAAAAA",
          "dtype": "i1"
         },
         "xaxis": "x",
         "yaxis": "y"
        }
       ],
       "layout": {
        "barmode": "overlay",
        "legend": {
         "title": {
          "text": "label"
         },
         "tracegroupgap": 0
        },
        "template": {
         "data": {
          "bar": [
           {
            "error_x": {
             "color": "#2a3f5f"
            },
            "error_y": {
             "color": "#2a3f5f"
            },
            "marker": {
             "line": {
              "color": "#E5ECF6",
              "width": 0.5
             },
             "pattern": {
              "fillmode": "overlay",
              "size": 10,
              "solidity": 0.2
             }
            },
            "type": "bar"
           }
          ],
          "barpolar": [
           {
            "marker": {
             "line": {
              "color": "#E5ECF6",
              "width": 0.5
             },
             "pattern": {
              "fillmode": "overlay",
              "size": 10,
              "solidity": 0.2
             }
            },
            "type": "barpolar"
           }
          ],
          "carpet": [
           {
            "aaxis": {
             "endlinecolor": "#2a3f5f",
             "gridcolor": "white",
             "linecolor": "white",
             "minorgridcolor": "white",
             "startlinecolor": "#2a3f5f"
            },
            "baxis": {
             "endlinecolor": "#2a3f5f",
             "gridcolor": "white",
             "linecolor": "white",
             "minorgridcolor": "white",
             "startlinecolor": "#2a3f5f"
            },
            "type": "carpet"
           }
          ],
          "choropleth": [
           {
            "colorbar": {
             "outlinewidth": 0,
             "ticks": ""
            },
            "type": "choropleth"
           }
          ],
          "contour": [
           {
            "colorbar": {
             "outlinewidth": 0,
             "ticks": ""
            },
            "colorscale": [
             [
              0,
              "#0d0887"
             ],
             [
              0.1111111111111111,
              "#46039f"
             ],
             [
              0.2222222222222222,
              "#7201a8"
             ],
             [
              0.3333333333333333,
              "#9c179e"
             ],
             [
              0.4444444444444444,
              "#bd3786"
             ],
             [
              0.5555555555555556,
              "#d8576b"
             ],
             [
              0.6666666666666666,
              "#ed7953"
             ],
             [
              0.7777777777777778,
              "#fb9f3a"
             ],
             [
              0.8888888888888888,
              "#fdca26"
             ],
             [
              1,
              "#f0f921"
             ]
            ],
            "type": "contour"
           }
          ],
          "contourcarpet": [
           {
            "colorbar": {
             "outlinewidth": 0,
             "ticks": ""
            },
            "type": "contourcarpet"
           }
          ],
          "heatmap": [
           {
            "colorbar": {
             "outlinewidth": 0,
             "ticks": ""
            },
            "colorscale": [
             [
              0,
              "#0d0887"
             ],
             [
              0.1111111111111111,
              "#46039f"
             ],
             [
              0.2222222222222222,
              "#7201a8"
             ],
             [
              0.3333333333333333,
              "#9c179e"
             ],
             [
              0.4444444444444444,
              "#bd3786"
             ],
             [
              0.5555555555555556,
              "#d8576b"
             ],
             [
              0.6666666666666666,
              "#ed7953"
             ],
             [
              0.7777777777777778,
              "#fb9f3a"
             ],
             [
              0.8888888888888888,
              "#fdca26"
             ],
             [
              1,
              "#f0f921"
             ]
            ],
            "type": "heatmap"
           }
          ],
          "histogram": [
           {
            "marker": {
             "pattern": {
              "fillmode": "overlay",
              "size": 10,
              "solidity": 0.2
             }
            },
            "type": "histogram"
           }
          ],
          "histogram2d": [
           {
            "colorbar": {
             "outlinewidth": 0,
             "ticks": ""
            },
            "colorscale": [
             [
              0,
              "#0d0887"
             ],
             [
              0.1111111111111111,
              "#46039f"
             ],
             [
              0.2222222222222222,
              "#7201a8"
             ],
             [
              0.3333333333333333,
              "#9c179e"
             ],
             [
              0.4444444444444444,
              "#bd3786"
             ],
             [
              0.5555555555555556,
              "#d8576b"
             ],
             [
              0.6666666666666666,
              "#ed7953"
             ],
             [
              0.7777777777777778,
              "#fb9f3a"
             ],
             [
              0.8888888888888888,
              "#fdca26"
             ],
             [
              1,
              "#f0f921"
             ]
            ],
            "type": "histogram2d"
           }
          ],
          "histogram2dcontour": [
           {
            "colorbar": {
             "outlinewidth": 0,
             "ticks": ""
            },
            "colorscale": [
             [
              0,
              "#0d0887"
             ],
             [
              0.1111111111111111,
              "#46039f"
             ],
             [
              0.2222222222222222,
              "#7201a8"
             ],
             [
              0.3333333333333333,
              "#9c179e"
             ],
             [
              0.4444444444444444,
              "#bd3786"
             ],
             [
              0.5555555555555556,
              "#d8576b"
             ],
             [
              0.6666666666666666,
              "#ed7953"
             ],
             [
              0.7777777777777778,
              "#fb9f3a"
             ],
             [
              0.8888888888888888,
              "#fdca26"
             ],
             [
              1,
              "#f0f921"
             ]
            ],
            "type": "histogram2dcontour"
           }
          ],
          "mesh3d": [
           {
            "colorbar": {
             "outlinewidth": 0,
             "ticks": ""
            },
            "type": "mesh3d"
           }
          ],
          "parcoords": [
           {
            "line": {
             "colorbar": {
              "outlinewidth": 0,
              "ticks": ""
             }
            },
            "type": "parcoords"
           }
          ],
          "pie": [
           {
            "automargin": true,
            "type": "pie"
           }
          ],
          "scatter": [
           {
            "fillpattern": {
             "fillmode": "overlay",
             "size": 10,
             "solidity": 0.2
            },
            "type": "scatter"
           }
          ],
          "scatter3d": [
           {
            "line": {
             "colorbar": {
              "outlinewidth": 0,
              "ticks": ""
             }
            },
            "marker": {
             "colorbar": {
              "outlinewidth": 0,
              "ticks": ""
             }
            },
            "type": "scatter3d"
           }
          ],
          "scattercarpet": [
           {
            "marker": {
             "colorbar": {
              "outlinewidth": 0,
              "ticks": ""
             }
            },
            "type": "scattercarpet"
           }
          ],
          "scattergeo": [
           {
            "marker": {
             "colorbar": {
              "outlinewidth": 0,
              "ticks": ""
             }
            },
            "type": "scattergeo"
           }
          ],
          "scattergl": [
           {
            "marker": {
             "colorbar": {
              "outlinewidth": 0,
              "ticks": ""
             }
            },
            "type": "scattergl"
           }
          ],
          "scattermap": [
           {
            "marker": {
             "colorbar": {
              "outlinewidth": 0,
              "ticks": ""
             }
            },
            "type": "scattermap"
           }
          ],
          "scattermapbox": [
           {
            "marker": {
             "colorbar": {
              "outlinewidth": 0,
              "ticks": ""
             }
            },
            "type": "scattermapbox"
           }
          ],
          "scatterpolar": [
           {
            "marker": {
             "colorbar": {
              "outlinewidth": 0,
              "ticks": ""
             }
            },
            "type": "scatterpolar"
           }
          ],
          "scatterpolargl": [
           {
            "marker": {
             "colorbar": {
              "outlinewidth": 0,
              "ticks": ""
             }
            },
            "type": "scatterpolargl"
           }
          ],
          "scatterternary": [
           {
            "marker": {
             "colorbar": {
              "outlinewidth": 0,
              "ticks": ""
             }
            },
            "type": "scatterternary"
           }
          ],
          "surface": [
           {
            "colorbar": {
             "outlinewidth": 0,
             "ticks": ""
            },
            "colorscale": [
             [
              0,
              "#0d0887"
             ],
             [
              0.1111111111111111,
              "#46039f"
             ],
             [
              0.2222222222222222,
              "#7201a8"
             ],
             [
              0.3333333333333333,
              "#9c179e"
             ],
             [
              0.4444444444444444,
              "#bd3786"
             ],
             [
              0.5555555555555556,
              "#d8576b"
             ],
             [
              0.6666666666666666,
              "#ed7953"
             ],
             [
              0.7777777777777778,
              "#fb9f3a"
             ],
             [
              0.8888888888888888,
              "#fdca26"
             ],
             [
              1,
              "#f0f921"
             ]
            ],
            "type": "surface"
           }
          ],
          "table": [
           {
            "cells": {
             "fill": {
              "color": "#EBF0F8"
             },
             "line": {
              "color": "white"
             }
            },
            "header": {
             "fill": {
              "color": "#C8D4E3"
             },
             "line": {
              "color": "white"
             }
            },
            "type": "table"
           }
          ]
         },
         "layout": {
          "annotationdefaults": {
           "arrowcolor": "#2a3f5f",
           "arrowhead": 0,
           "arrowwidth": 1
          },
          "autotypenumbers": "strict",
          "coloraxis": {
           "colorbar": {
            "outlinewidth": 0,
            "ticks": ""
           }
          },
          "colorscale": {
           "diverging": [
            [
             0,
             "#8e0152"
            ],
            [
             0.1,
             "#c51b7d"
            ],
            [
             0.2,
             "#de77ae"
            ],
            [
             0.3,
             "#f1b6da"
            ],
            [
             0.4,
             "#fde0ef"
            ],
            [
             0.5,
             "#f7f7f7"
            ],
            [
             0.6,
             "#e6f5d0"
            ],
            [
             0.7,
             "#b8e186"
            ],
            [
             0.8,
             "#7fbc41"
            ],
            [
             0.9,
             "#4d9221"
            ],
            [
             1,
             "#276419"
            ]
           ],
           "sequential": [
            [
             0,
             "#0d0887"
            ],
            [
             0.1111111111111111,
             "#46039f"
            ],
            [
             0.2222222222222222,
             "#7201a8"
            ],
            [
             0.3333333333333333,
             "#9c179e"
            ],
            [
             0.4444444444444444,
             "#bd3786"
            ],
            [
             0.5555555555555556,
             "#d8576b"
            ],
            [
             0.6666666666666666,
             "#ed7953"
            ],
            [
             0.7777777777777778,
             "#fb9f3a"
            ],
            [
             0.8888888888888888,
             "#fdca26"
            ],
            [
             1,
             "#f0f921"
            ]
           ],
           "sequentialminus": [
            [
             0,
             "#0d0887"
            ],
            [
             0.1111111111111111,
             "#46039f"
            ],
            [
             0.2222222222222222,
             "#7201a8"
            ],
            [
             0.3333333333333333,
             "#9c179e"
            ],
            [
             0.4444444444444444,
             "#bd3786"
            ],
            [
             0.5555555555555556,
             "#d8576b"
            ],
            [
             0.6666666666666666,
             "#ed7953"
            ],
            [
             0.7777777777777778,
             "#fb9f3a"
            ],
            [
             0.8888888888888888,
             "#fdca26"
            ],
            [
             1,
             "#f0f921"
            ]
           ]
          },
          "colorway": [
           "#636efa",
           "#EF553B",
           "#00cc96",
           "#ab63fa",
           "#FFA15A",
           "#19d3f3",
           "#FF6692",
           "#B6E880",
           "#FF97FF",
           "#FECB52"
          ],
          "font": {
           "color": "#2a3f5f"
          },
          "geo": {
           "bgcolor": "white",
           "lakecolor": "white",
           "landcolor": "#E5ECF6",
           "showlakes": true,
           "showland": true,
           "subunitcolor": "white"
          },
          "hoverlabel": {
           "align": "left"
          },
          "hovermode": "closest",
          "mapbox": {
           "style": "light"
          },
          "paper_bgcolor": "white",
          "plot_bgcolor": "#E5ECF6",
          "polar": {
           "angularaxis": {
            "gridcolor": "white",
            "linecolor": "white",
            "ticks": ""
           },
           "bgcolor": "#E5ECF6",
           "radialaxis": {
            "gridcolor": "white",
            "linecolor": "white",
            "ticks": ""
           }
          },
          "scene": {
           "xaxis": {
            "backgroundcolor": "#E5ECF6",
            "gridcolor": "white",
            "gridwidth": 2,
            "linecolor": "white",
            "showbackground": true,
            "ticks": "",
            "zerolinecolor": "white"
           },
           "yaxis": {
            "backgroundcolor": "#E5ECF6",
            "gridcolor": "white",
            "gridwidth": 2,
            "linecolor": "white",
            "showbackground": true,
            "ticks": "",
            "zerolinecolor": "white"
           },
           "zaxis": {
            "backgroundcolor": "#E5ECF6",
            "gridcolor": "white",
            "gridwidth": 2,
            "linecolor": "white",
            "showbackground": true,
            "ticks": "",
            "zerolinecolor": "white"
           }
          },
          "shapedefaults": {
           "line": {
            "color": "#2a3f5f"
           }
          },
          "ternary": {
           "aaxis": {
            "gridcolor": "white",
            "linecolor": "white",
            "ticks": ""
           },
           "baxis": {
            "gridcolor": "white",
            "linecolor": "white",
            "ticks": ""
           },
           "bgcolor": "#E5ECF6",
           "caxis": {
            "gridcolor": "white",
            "linecolor": "white",
            "ticks": ""
           }
          },
          "title": {
           "x": 0.05
          },
          "xaxis": {
           "automargin": true,
           "gridcolor": "white",
           "linecolor": "white",
           "ticks": "",
           "title": {
            "standoff": 15
           },
           "zerolinecolor": "white",
           "zerolinewidth": 2
          },
          "yaxis": {
           "automargin": true,
           "gridcolor": "white",
           "linecolor": "white",
           "ticks": "",
           "title": {
            "standoff": 15
           },
           "zerolinecolor": "white",
           "zerolinewidth": 2
          }
         }
        },
        "title": {
         "text": "Distribution of money_symbol_count by Label"
        },
        "xaxis": {
         "anchor": "y",
         "domain": [
          0,
          1
         ],
         "title": {
          "text": "money_symbol_count"
         }
        },
        "yaxis": {
         "anchor": "x",
         "domain": [
          0,
          1
         ],
         "title": {
          "text": "count"
         }
        }
       }
      }
     },
     "metadata": {},
     "output_type": "display_data"
    },
    {
     "data": {
      "application/vnd.plotly.v1+json": {
       "config": {
        "plotlyServerURL": "https://plot.ly"
       },
       "data": [
        {
         "bingroup": "x",
         "hovertemplate": "label=0<br>fire_symbol_count=%{x}<br>count=%{y}<extra></extra>",
         "legendgroup": "0",
         "marker": {
          "color": "#636efa",
          "opacity": 0.5,
          "pattern": {
           "shape": ""
          }
         },
         "name": "0",
         "nbinsx": 200,
         "orientation": "v",
         "showlegend": true,
         "type": "histogram",
         "x": {
          "bdata": "AAAAAAAAAAAAAAAAAAAAAAAAAAAAAAAAAAAAAAMAAAAAAAAAAAAAAAAAAAAAAAAAAAAAAAAAAAAAAAAAAAAAAAAAAAAAAAAAAAAAAAAAAAAAAAAAAAAAAAAAAAAAAAAAAAAAAQAAAAAAAAAAAAAAAAAAAAAAAAAAAAAAAAAAAAAAAAAAAAAAAAAAAAAAAAAAAAAAAgIAAAAAAAAAAAAAAwAAAAAAAAAAAAAAAAAAAAAAAAAAAAAAAAAAAAAAAAAAAAAAAAAAAAAAAAAAAAAAAAAAAAAAAAAAAAAAAAAAAAAAAAAAAAAAAAAAAAAAAAAAAAAAAAAAAAAAAAAAAAAAAAAAAAAAAAAAAAAAAAAAAAAAAAAAAAAAAAAAAAAAAAAAAAAAAAAAAAAAAAAAAAAAAAAAAAQAAAAAAAAAAAAAAAAAAAAAAAAAAAAAAAAAAAAAAAAAAAAAAAAAAAAAAAAAAAAAAAAAAAAAAAAAAAAAAAAAAAAAAAAAAAAAAAAAAAAAAAAAAAAAAAAAAAAAAAAAAAAAAAAAAAAAAAAAAAAAAAAAAAAAAAAAAAYAAAAAAAAAAAAAAAAAAAAAAAAAAAAAAAAAAAAAAAAAAAAAAAAAAAAAAAAAAAAAAAAAAAAAAAAAAAAAAAAAAAAAAAAAAAAAAAAAAAAAAAAAAAAAAAAAAAAAAAAAAAAAAAAAAAAAAAAAAAAAAAAAAAAAAAAAAAAAAAAAAAAAAwAAAAAAAAAAAAAAAAAAAAAAAAAAAAAAAAAAAAAAAAAAAAAAAAAAAAAAAAAAAAAAAAAAAAAAAAAAAAAAAAAAAAAAAAAAAAAAAAAAAAAAAAAAAAAAAAAAAAAAAAAAAAAAAAAAAAAAAAAAAAAAAAAAAAAAAAAAAAAAAAAAAAAAAAAAAAAAAAAAAAAAAAAAAAAAAAAAAAEAAAEAAAAAAAAAAAAAAAAAAAAAAAAAAAAAAAAAAAAAAAABAAAAAAAAAAAAAAAAAAAAAAAAAAAAAAAAAAAAAAAAAAAAAAAAAAAAAAAAAAAAAAEAAAAAAAAAAAAAAAAAAAAAAAAAAAAAAAAAAAAAAAAAAAAAAAAAAAAAAAAAAAAAAAAAAAAAAAAAAAAAAAAAAAAAAAAAAAAAAAAAAAACAgAAAAAAAAAAAAAAAAAAAAAAAAAAAAAAAAAAAAAAAAAAAAAAAAAAAAAAAAAAAAAAAAAAAAAAAAAAAAAAAAAAAAAAAAAAAAAAAAAAAAAAAAAAAAAAAAAAAAAAAAAAAAAAAAAAAAAAAAAAAAMAAAABAAAAAAAAAAAAAAAAAAAAAAAAAAAAAAAAAAAAAAAAAAAAAAAAAAAAAAAAAAAAAAAAAAAAAAAAAAAAAAAAAAAAAAAAAAAAAAAAAAAAAAAAAAAAAAAAAAAAAAAAAAAAAAAAAAAAAAAAAAAAAAAAAAAAAAAAAAAAAAAAAAAAAAAAAAAAAAAAAAAAAAAAAAAAAAAAAAAAAAAAAAAAAAAAAAAAAAAAAAAAAAAAAAAAAAAAAAAAAAAAAAAAAAAAAAAAAAAAAAAAAQAAAAAAAAAAAAAAAAAAAAAAAAAAAAAAAAAAAAAAAAAAAAAAAAAAAAAAAAAAAAAAAAAAAAAAAAAAAAAAAAAAAAAAAAAAAAAAAAAAAAAAAAAAAAAAAAAAAAAAAAAAAAAAAAAAAAAAAAAAAAAAAAAAAAAAAAAAAAAAAAAAAAAAAAAAAAAAAAAAAAAAAAAAAAAAAAAAAAAAAAAAAAAAAAAAAAAAAAAAAAAAAAAAAAAAAAAAAAEAAAAAAAAAAAAAAAAAAAAAAD0AAAAAAAAAAAAAAAAAAAAAAAAAAAAAAAAAAAAAAAAAAAAAAAAAAAAAAAAAAAAAAgAAAAAAAAAAAAAAAAAAAAAGAAAAAAAAAAIAAAAAAAAAAAAAAAAAAAAAAAAAAAAAAAAAAAAAAAAAAAAAAAAAAAAAAAAAAAAAAAAAAAAAAAAAAAAAAAAAAAAAAAAAAAAAAAAAAAAAAAAAAAAAAAAAAAAAAAAAAAAAAAAAAAAAAAAAAAAAAAAAAAAAAAAAAAAAAAAAAAAAAAAAAAAAAAAAAAAAAAAAAAAAAAAAAAAAAAAAAAAAAAAAAAAAAAAAAAAAAAAAAAAAAAAAAAAAAAAAAAAAAAAAAAAAAAAAAAAAAAAAAAAAAAAAAAAAAAAAAAAAAAAAAAAAAAAAAAAAAAAAAAAAAAAAAAAAAAAAAAAAAAAAAAIAAAAAAAAAAAAAAQAAAAAAAAAAAAAAAAAAAAAAAAAAAAAAAAQAAAAAAAAAAAAAAAAAAAAAAAAAAAAAAAAAAAAAAAAAAAAAAAAAAAAAAAAAAAAAAAAAAAAAAAAAAAAAAAAAAAAAAAAAAAAAAAAAAAEAAAAAAAAAAAAAAAAAAAABAAAAAAAAAAAAAAAAAAAAAAAAAAAAAAAAAAAAAAAAAAAAAAAAAAAAAAAAAAAAAAAAAAAAAAAAAAAAAAAAAAAAAAEAAAAAAAAAAAAAAAAAAAAAAAAAAAAAAAAAAAAAAAADAAAAAAAAAAAAAAAAAAAAAAAAAAAAAAAAAAAAAAAAAAAAAAAAAAAAAAAAAAAAAAAAAAAAAAAAAAAAAAAAAAAAAAAAAAAAAAAAAAAAAAAAAAAAAAAAAAAAAAAAAAAAAAAAAAAAAAAAAAAAAAAAAAAAAAAAAAAAAAAAAAAAAAAAAAAAAAAAAAAAAAAAAAAAAAABAAAAAAAAAAAAAAEAAAAAAAAAAAAAAAAAAAAAAAAAAAAAAAAAAAAAAAAAAAAAAAAAAAAAAAAAAAAAAAAAAAAAAAAAAAAAAAAAAAAAAAAAAAAAAAAAAAAAAAAAAAAAAAAAAAAAAAAAAAAAAAAAAAAAAAEAAAAAAAAAAAACAAAAAAAAAQAAAAAAAAAAAAABAAAAAAAAAAAAAAAAAAAAAAAAAAAAAAAAAAAAAAAAAAAAAAAAAAAAAAAAAAAAAAAAAAAAAAAAAAAAAAAAAAAAAAAAAAAAAAAAAAAAAAAAAAAAAAAAAAAAAAAAAAAAAAAAAAAAAAAAAAAAAAAAAAAAAAAAAAAAAAAAAAAAAAAAAAAAAAAAAAAAAAAAAAAAAAAAAAAAAAAAAAAAAAAAAAAAAAAAAAAAAAAAAAAAAAAAAAAAAAAAAAAAAAAAAAAAAAAAAAAAAAAAAAADAAAAAAAAAAAAAAAAAAAAAAAAAAAAAAAAAAAAAAAAAAAAAAAAAAAAAAAAAAAAAAAAAAAAAAAAAAAAAAAAAAAAAAAAAAAAAAAAAAAAAAEAAAAAAAAAAAAAAAAAAAAAAAAAAAAAAAMAAAAAAAAAAAAAAAAAAAAAAAAAAAAAAAAAAAAAAAAAAAAAAAAAAAAAAAAAAAAAAAABAAAAAAAAAAAAAAAAAAABAAAAAAAAAAAAAAAAAAAAAAAAAAAAAAAAAAAAAAAAAAAAAAAAAAAAAAAAAAAAAAAAAAAAAAAAAAAAAAAAAAAAAAAAAAAAAAAAAAAAAAAAAAAAAAAAAAAAAAAAAAAAAAAAAAAAAAAAAAAAAAAAAAAAAAAAAAAAAAAAAAAAAAAAAAAAAAAAAAAAAAAAAAAAAAAAAAAAAAAAAAABAAAAAAAAAAAAAAAAAAAAAAAAAAAAAAAAAAAAAAAAAAAAAAAAAAAAAAAAAAAAAAAAAAAAAAAAAAAAAAAAAAAAAAAAAAAAAAAAAAAAAAAAAAAAAAAAAAAAAAAAAAAAAAAAAAAAAAAAAAAAAAAAAAAAAAYAAAAAAAEAAAAAAAAAAAAAAAAAAAAAAAAAAAAAAAAAAAAAAAAAAAAAAAAAAAAAAAEAAAAAAAAAAAAAAAAAAAAAAAAAAAAAAAAAAAAAAAAAAAAAAAAAAAAAAAAAAAAAAAAAAAAAAAAAAAAAAAAAAAAAAAAAAAAAAAAAAAAAAAAAAAAAAAAAAAAAAAAAAAAAAAAAAAAAAAAAAAAAAAAMAAEAAAAAAAABAAAAAAAAAAAAAAAAAAAAAAAAAAAAAAAAAAAAAAAAAAAAAAAAAAAAAAAAAAAAAAAAAAAAAAAAAAAAAAAFAAAAAAAAAAAAAAAAAAAAAAAAAAAAAAAAAAAAAAAAAAAAAAAAAAAAAAAAAAAAAAAAAAAAAAAAAAAAAAAAAAAAAAAAAAAAAAAAAAAAAAAAAAAAAAAAAAAAAAAAAAAAAAAAAAAAAAAAAAAAAAAAAAAAAAAAAAAAAAAAAAAAAAAAAAAAAAAAAAAAAAAAAAAAAAAAAAAAAAAAAAAAAAAAAAAAAAAAAAAAAAAAAAAAAAAAAAAAAAAAAAAAAAAAAAAAAAAAAAAAAAAAAAAAAAAAAAAAAAAAAAAAAAAAAAAAAAAAAAAAAAAAAAAAAAAAAAAAAAAAAAAAAAAAAAAAAAAAAAAAAAAAAAAAAAAAAAAAAAAAAAAAAAAAAAAAAAAAAAAAAAAAAAAAAAAAAAAAAAAAAAAAAAAAAAAAAAAAAAAAAAAAAAABAAAAAAAAAAAAAAAAAAAAAAAAAAAAAAAAAAAAAAAAAAAAAAAAAAAAAAAAAAAAAAAAAAAAAAAAAAAAAAAAAAAAAAAAAAAAAAAAAAEAAAAAAAAAAAAAAAAAAAAAAAAAAAAAAAAAAAAAAAAAAAAAAAAAAAAAAAAAAAAAAAAAAAAAAAAAAAAAAAEAAAAAAAAAAAAAAAAAAAAAAAAAAAAAAAAAAAAAAAAAAAAAAAAAAAAAAAAAAAAAAAAAAAAAAAAAAAAAAAAAAAAAAAAAAAAAAAAAAAAAAAAAAAAAAAAAAAAAAAAAAAAAAAAAAAAAAAAAAAAAAAAAAAAAAAAAAAAAAAAAAAAAAAAAAAAAAAAAAAAAAAAAAAAAAAADAAAAAAAAAAAAAAAAAAAAAAAAAAAAAAAAAAEAAAAAAAAAAAAAAAAAAAAAAAAAAAAAAAAAAAAAAAAAAAAAAAAAAAAAAAAAAAAAAAAAAAAAAAAAAAAAAAAAAAAAAAAAAAAAAAAAAAAAAAAAAAAAAAAAAAAAAAAAAAAAAAEAAAAAAAAAAAAAAAAAAAAAAAAAAAAAAAAAAAAAAAAAAAAAAAAAAAAAAAAAAAAAAAAAAAAAAAAAAAAAAAAAAAAAAAAAAAABAAAAAAAAAAAAAAAAAAAAAAAAAAEAAAAAAAEAAAAAAAAAAAAAAAAAAAQAAAAAAAAAAAAAAAAAAAAAAAAAAAAAAAAAAAAAAAAAAAAAAAAAAAAAAAAAAAAAAAAAAAAAAAAAAAAAAAAAAAAAAAAAAAAAAAAAAAAAAAAAAAAAAAAAAAAAAAAAAAAAAAAAAAAAAAAAAAAAAAAAAAAAAAAABQAAAAAAAAAAAAAAAAAAAAAAAAAAAAAAAAAAAAAAAAAAAAAAAAAAAAAAAAAAAAAAAAAAAAAAAAAAAAAAAAAAAAAAAAAAAAAAAAAAAAAAAAAAAAAAAAAAAAAAAAAAAAAAAAAAAAAAAAAAAAAAAAAAAAAAAAAAAAAAAAAAAAAAAAAAAAAAAAAAAAAAAgAAAAAAAAAAAAAAAAAAAAAAAAAAAAAAAAAAAAAAAAAAAAAAAAAAAAAAAAAAAAAAAAAAAAAAAAAAAAAAAAAAAAAAAAAAAAAAAAAAAAAAAAAAAAAAAAAAAAAAAAAAAAAAAAAAAAAAAAAAAAAAAAAAAAAAAAAAAAQAAAAAAAAAAAAAAAAAAAAAAAAAAAAAAAAAAAAAAAAAAAAAAAAAAAAAAAAAAAAAAAAAAAAAAAAAAAAAAAAAAAAAAAAAAAAAAAAAAAAAAAAAAAAAAAAAAAAAAAAAAAAAAAAAAAABAAAAAQAAAAAAAAAAAAAAAAAAAAAAAAAAAAAAAAAAAAAAAAAAAAAAAAAAAAAAAAAAAAAAAAAAAAAAAAAAAAAAAAAAAAAAAQAAAAAAAAAAAAAAAAAAAAAAAAAAAAAAAAAAAAAAAAAAAAAAAAAAAAAAAAAAAAAAAAAAAAAAAAAAAAAAAAAAAAAAAAAAAAIAAAAAAAAAAAAAAAAAAAAAAAAAAAAAAAAAAAAAAAAAAAAAAAAAAAAAAAAAAAAAAAAAAAAAAAAAAAAAAAAAAAAAAAAAAAAAAAAAAAAAAAAAAAAAAAAAAAAAAAAAAAAAAAAAAAAAAAAAAQAAAAAAAAAAAAAAAAAAAAAAAAAAAAAAAAAAAAAAAAAAAAAAAAAAAAAAAAAAAAAAAAAAAAAAAAAAAAAAAAAAAAAAAAAAAAAAAAAAAAAAAAAAAAAAAAAAAAAAAAAAAAAAAAAAAAAAAAAAAAAAAAAAAAAAAAAAAAAAAAAAAAAAAAAAAAAAAAAAAAAAAAAAAAAAAAAAAAAAAAAAAAEAAAAAAAAAAAAAAAAAAAAAAAAAAAAAAAAAAAAAAAAAAAUAAAAAAAAAAAAAAAAAAAAAAAAAAAAAAAAAAAAAAAAAAAAAAAAAAAAAAAAAAAAAAAAAAAAAAAAAAAAAAAAAAAAAAAAAAAEAAAAAAAAAAgAAAAAAAAAAAAAAAAAAAAAAAAAAAAAAAAAAAAAAAAABAAAAAAAAAAAAAAAAAAAAAAAAAAAAAAAAAAAAAAAAAAAAAAAAAAAAAAAAAAAAAAAAAAAAAAAAAAAAAAAAAAAAAAAAAAAAAAAAAAAAAAAAAAAAAAAAAAAAAAAAAAAAAAAAAAAAAAAAAAAAAAAAAAAAAAAAAAAAAAAAAAAAAAAAAAAAAAAAAAAAAAAAAAAAAAAAAAAAAAAAAAAAAAAAAAAAAAAAAAAAAAAAAAAAAAAAAAAAAAAAAAAAAAAAAAAAAAAAAAAAAAAAAAAAAAAAAAAAAAAAAAAAAAAAAAAAAAAAAAAAAAAAAAAAAAAAAAAAAAAAAAAAAAAAAAAAAAAAAAAAAAAAAAAAAAAAAAAAAAAAAAAAAAAAAAAAAAAAAAAAAQAAAAAAAAAAAAAAAAAAAAAAAAAAAAAAAAAAAAAAAAAAAAAAAAAAAAAAAAAAAAAAAAAAAgAAAAAAAAAAAAAAAAAAAAAAAAAAAAAAAAAAAAAABgAAAAAAAAAAAAAAAAAAAAAAAAAAAAAAAAAAAAAAAAAAAAAAAAAAAAAAAAAAAAAAAAAAAAAAAAAAAAAAAAAAAAAAAAAAAAAAAAAAAAAAAAAAAAAAAAAAAAAAAAAAAAAAAAAAAAAAAAAAAAAAAAAAAAAAAAAAAAAAAAAAAAAAAAAAAAAAAAAAAAAAAAAAAAAAAAAAAAAAAAAAAAAAAAAAAAAAAAAAAAAAAAAAAAAAAAAAAAAAAAAAAAAAAAAAAAAAAAAAAAAAAAAAAAAAAAAAAAAAAAAAAAAAAAAAAAAAAAAAAAAAAAAAAAAAAAAAAAAAAAAAAAAAAAAAAAAAAAAAAAAAAAAAAAAAAAAAAAAAAAAAAAAAAAAAAAAAAAAAAAAAAAAAAAAAAAAAAAAAAAAAAAAAAAAAAAAAAAAAAAAAAAAAAAAAAAAAAAAAAAAAAAAAAAAAAAAAAAAAAAEAAAAAAAAAAAAAAAAAAAAAAAAEAAAAAAAAAAAAAAAAAAAAAAAAAQAAAAAAAAAAAAAAAAAAAAAAAAAAAAAAAAAAAAAAAAAAAAAAAAAAAAAAAAAAAAAAAAAAAAAAAAAAAAAAAAAAAAAAAAAAAAAAAAAAAQAAAAAAAAAAAAAAAAAAAAAAAAAAAAAAAAAAAAAAAAAAAAAAAAAAAAAAAAAAAAAAAAAAAAAAAAEAAAAAAAAAAAAAAAAAAAAAAAAAAAAAAAAAAAAAAAAAAAAAAAAAAAAAAAAAAAAAAAAAAAAAAAAAAAAAAAAAAAAAAAAAAAAAAAAAAAAAAAAAAAAAAAAAAAAAAAAAAAAAAAAAAAAAAAAAAAAAAAAAAAAAAAAAAAAAAAAAAAAAAAAAAAAAAAAAAAAAAAAAAAAAAAAAAAAAAAAAAAAAAAAAAAAAAAAAAAAAAAAAAAAAAAAAAAAAAAAAAAAAAAAAAAAAAAAAAAAAAAAAAAAAAAAAAAAAAAAAAAAAAAAAAAAAAAAAAAAAAAAAAAAAAAAAAAADAAAAAAAAAAAAAAAAAAAAAAAAAAAAAAAAAAAAAAAAAAAAAAAAAAAAAAAAAAAAAAAAAAAAAAAAAAAAAAAAAAAAAAAAAAAAAAAAAAAAAAAAAAAAAAAAAAAAAAAAAAAAAAAAAAAAAAAAAAAAAAAAAAAAAAAAAAAAAAAAAAAAAAAAAAAAAAAAAAAAAAAAAAAAAAAAAAAAAAAAAAAAAAAAAAAAAAAAAAAAAAAAAAAAAAAAAAAAAAAAAAAAAAAAAAAAAAAAAAAAAAAAAAAAAAAAAAAAAAAAAAEAAAAAAAAAAAAAAAAAAAAAAAAAAAAAAAAAAAAAAAAAAAAAAAAAAAAAAAAAAAAAAAAAAAADAAAAAAAAAAAAAAAAAAAAAAAAAAAAAAAAAAAAAAAAAAAAAAAAAAAAAAAAAAAAAAAAAAAAAAAAAAAAAAAAAAAAAAAAAAAAAAAAAAAAAAAAAAAAAAAAAAAAAAAAAAAAAAAAAAAAAAAAAAAAAAAAAAAAAAAAAAAAAAAAAAAAAAAAAAAAAAAAAAAAAAAAAAAAAAAAAAAAAAAAAAAAAAAAAAAAAAAAAAAAAAAAAAAAAAAAAAAAAAAAAAAAAAAAAAAAAAAAAAAAAAAAAAAAAAAAAAAAAAAAAAAAAAAAAAAAAAAAAAAAAAAAAAAAAAAAAAAAAAAAAAAAAAAAAAAAAAAAAAAAAAAAAAAAAAAAAQAAAAAAAAAAAAAAAAAAAAAAAAAAAAAAAAAAAAAAAAAAAAAAAAAAAAAAAAAAAAAAAAAAAAAAAAAAAAAAAAAAAAAAAAAAAAAAAAAAAAAAAAAAAAAAAAAAAAAAAAAAAAAAAAAAAAAAAAAAAAAAAAAAAAAAAAAAAAAAAAAAAAAAAAAAAAAAAAAAAAAAAAAAAAAAAAAAAAAAAAAAAAAAAAAAAAAAAAAAAAAAAAAAAAAAAAAAAAAAAAAAAAAAAAAAAAAAAAAAAAAAAAAAAAAAAAAAAAAAAAAAAAAAAAAAAAAAAAAAAAAAAAAAAAAAAAAAAAAAAAAAAAAAAAAAAAAAAAAAAAAAAAAAAAAAAAAAAAAAAAAAAAAAAAAAAAAAAAAAAAAAAAAAAAAAAAAAAAAAAAAAAAAAAAAAAAAAAAAAAAAAAAAAAAAAAAAAAAAAAAAAAAAEAAAAAAAAAAAAAAAAAAAAAAAAAAAAAAAAAAAAAAAAAAAAAAAAAAAAAAAAAAAAAAAAAAADAAAAAAAAAAAAAAAAAAAAAAAAAAAAAAAAAAACAAAAAAAAAAAAAAAAAAAAAAAAAAAAAAAAAAAAAAAAAAAAAAAAAAAAAAAAAAAAAAAAAAAAAAAAAAAAAAAAAAAAAAAAAAAAAAAAAAAAAAAAAAAAAAAAAAAAAAAAAAAAAAAAAAAAAAAAAAAAAAAABQAAAAAAAAAAAAAAAAAAAAAAAAAAAAAAAAAAAAAAAAABAAAAAAAAAAAAAAAAAAAAAAAAAAAAAAAAAAAAAAAAAAAAAAAAAAAAAAAAAAAAAAAAAAAAAAAAAAAAAAAAAAAAAAAAAAAAAAAAAAAAAAAAAAAAAAAAAAAAAAAAAAAAAAAAAAAAAAAAAAAAAAAAAAAAAAAAAAAAAAAAAAAAAAAAAAAAAAAAAAAAAAAAAAAAAAAAAAAAAAAAAAAAAAAAAAAAAAAAAAAAAAAAAAAAAAAAAAAAAAAAAAAAAAAAAAAAAAAAAAAAAAAAAAAAAAAAAAAAAAAAAAAAAAAAAAAAAAAAAAAAAAAAAAAAAAAAAAAAAAAAAAAAAAAAAAAAAAAAAAAAAAAAAQAAAAAAAAAAAAAAAAAAAAAAAAAAAAAAAAAAAAAAAAAAAAAAAAAAAAAAAAAAAAAAAAAAAAAAAAAAAAAAAAAAAAAAAAAAAAAAAAAAAAAAAAAAAAAAAAAAAAAAAAAAAAAAAAAAAAIAAAA=",
          "dtype": "i1"
         },
         "xaxis": "x",
         "yaxis": "y"
        },
        {
         "bingroup": "x",
         "hovertemplate": "label=1<br>fire_symbol_count=%{x}<br>count=%{y}<extra></extra>",
         "legendgroup": "1",
         "marker": {
          "color": "#EF553B",
          "opacity": 0.5,
          "pattern": {
           "shape": ""
          }
         },
         "name": "1",
         "nbinsx": 200,
         "orientation": "v",
         "showlegend": true,
         "type": "histogram",
         "x": {
          "bdata": "AAAAAAAAAAACAAAAAAAAAgIAAAAAAgAAAAAAAAICAAAAAAAAAAAAAgIAAAIAAAAAAAAAAAAAAAAAAAAAAAAAAAAAAAAAAAAAAAAAAgAAAAAAAgAAAAAAAgAAAAAAAAACAAAAAAAAAAAAAAAAAAAAAAIAAAEAAAAAAAAAAAAAAAAAAAACAAAAAAAAAgAAAAAAAAAAAAAAAAAAAgAAAAAAAAAAAAACAAAAAAAAAAAAAAAAAAAAAAACAgAAAAAAAAIAAAAAAAAAAAIAAAAAAAACAAAAAAAAAAAAAgAAAAIAAAAAAgAAAAIAAAAAAgICAAAAAwAAAAAAAAAAAAIAAAAAAgAAAgAAAAAAAAAAAgAAAAACAgIAAAAAAAAAAAAAAAIAAgAAAAAAAAAAAAAAAAAAAgAAAAAAAAACAgAAAAAAAAAAAgAAAAACAAAAAAICAAABAAAAAAAAAAACAAIAAAIAAAAAAAACAAAAAAACAgAAAAIAAgAAAAAAAAAAAAAAAgAAAAACAAAAAAAAAgAAAAAAAAAAAAACAAACAgAAAAAAAgIAAAAAAAAAAAAAAQAAAAQAAAAAAAAAAAAAAAAAAAIAAAAAAAAAAAAAAgAAAgIAAAACAAACAgAAAAAAAAAAAAAAAAAAAAIAAAAAAgAAAAIAAgAAAAAAAAAAAAAAAAAAAAAAAwAAAAAAAgAAAgAAAgAAAAAAAgAAAAAAAAAAAAAAAAAAAAAAAAAAAAAAAAAAAAIAAAADAAAAAAAAAgAAAAACAAAAAAAAAAEAAAAAAAAAAgACAgAAAAACAAACAAACAAAAAAAAAAAAAAAAAAAAAAADAAAAAgAAAAAAAgAAAAACAAAAAAAAAAAAAAAAAAACAAIAAAAAAAAAAAAAAgIAAAAAAAAAAAAAAAAAAAAAAAAAAAACAgAAAAEAAAAAAAAAAAAAAAAAAAAAAAAAAAAA",
          "dtype": "i1"
         },
         "xaxis": "x",
         "yaxis": "y"
        }
       ],
       "layout": {
        "barmode": "overlay",
        "legend": {
         "title": {
          "text": "label"
         },
         "tracegroupgap": 0
        },
        "template": {
         "data": {
          "bar": [
           {
            "error_x": {
             "color": "#2a3f5f"
            },
            "error_y": {
             "color": "#2a3f5f"
            },
            "marker": {
             "line": {
              "color": "#E5ECF6",
              "width": 0.5
             },
             "pattern": {
              "fillmode": "overlay",
              "size": 10,
              "solidity": 0.2
             }
            },
            "type": "bar"
           }
          ],
          "barpolar": [
           {
            "marker": {
             "line": {
              "color": "#E5ECF6",
              "width": 0.5
             },
             "pattern": {
              "fillmode": "overlay",
              "size": 10,
              "solidity": 0.2
             }
            },
            "type": "barpolar"
           }
          ],
          "carpet": [
           {
            "aaxis": {
             "endlinecolor": "#2a3f5f",
             "gridcolor": "white",
             "linecolor": "white",
             "minorgridcolor": "white",
             "startlinecolor": "#2a3f5f"
            },
            "baxis": {
             "endlinecolor": "#2a3f5f",
             "gridcolor": "white",
             "linecolor": "white",
             "minorgridcolor": "white",
             "startlinecolor": "#2a3f5f"
            },
            "type": "carpet"
           }
          ],
          "choropleth": [
           {
            "colorbar": {
             "outlinewidth": 0,
             "ticks": ""
            },
            "type": "choropleth"
           }
          ],
          "contour": [
           {
            "colorbar": {
             "outlinewidth": 0,
             "ticks": ""
            },
            "colorscale": [
             [
              0,
              "#0d0887"
             ],
             [
              0.1111111111111111,
              "#46039f"
             ],
             [
              0.2222222222222222,
              "#7201a8"
             ],
             [
              0.3333333333333333,
              "#9c179e"
             ],
             [
              0.4444444444444444,
              "#bd3786"
             ],
             [
              0.5555555555555556,
              "#d8576b"
             ],
             [
              0.6666666666666666,
              "#ed7953"
             ],
             [
              0.7777777777777778,
              "#fb9f3a"
             ],
             [
              0.8888888888888888,
              "#fdca26"
             ],
             [
              1,
              "#f0f921"
             ]
            ],
            "type": "contour"
           }
          ],
          "contourcarpet": [
           {
            "colorbar": {
             "outlinewidth": 0,
             "ticks": ""
            },
            "type": "contourcarpet"
           }
          ],
          "heatmap": [
           {
            "colorbar": {
             "outlinewidth": 0,
             "ticks": ""
            },
            "colorscale": [
             [
              0,
              "#0d0887"
             ],
             [
              0.1111111111111111,
              "#46039f"
             ],
             [
              0.2222222222222222,
              "#7201a8"
             ],
             [
              0.3333333333333333,
              "#9c179e"
             ],
             [
              0.4444444444444444,
              "#bd3786"
             ],
             [
              0.5555555555555556,
              "#d8576b"
             ],
             [
              0.6666666666666666,
              "#ed7953"
             ],
             [
              0.7777777777777778,
              "#fb9f3a"
             ],
             [
              0.8888888888888888,
              "#fdca26"
             ],
             [
              1,
              "#f0f921"
             ]
            ],
            "type": "heatmap"
           }
          ],
          "histogram": [
           {
            "marker": {
             "pattern": {
              "fillmode": "overlay",
              "size": 10,
              "solidity": 0.2
             }
            },
            "type": "histogram"
           }
          ],
          "histogram2d": [
           {
            "colorbar": {
             "outlinewidth": 0,
             "ticks": ""
            },
            "colorscale": [
             [
              0,
              "#0d0887"
             ],
             [
              0.1111111111111111,
              "#46039f"
             ],
             [
              0.2222222222222222,
              "#7201a8"
             ],
             [
              0.3333333333333333,
              "#9c179e"
             ],
             [
              0.4444444444444444,
              "#bd3786"
             ],
             [
              0.5555555555555556,
              "#d8576b"
             ],
             [
              0.6666666666666666,
              "#ed7953"
             ],
             [
              0.7777777777777778,
              "#fb9f3a"
             ],
             [
              0.8888888888888888,
              "#fdca26"
             ],
             [
              1,
              "#f0f921"
             ]
            ],
            "type": "histogram2d"
           }
          ],
          "histogram2dcontour": [
           {
            "colorbar": {
             "outlinewidth": 0,
             "ticks": ""
            },
            "colorscale": [
             [
              0,
              "#0d0887"
             ],
             [
              0.1111111111111111,
              "#46039f"
             ],
             [
              0.2222222222222222,
              "#7201a8"
             ],
             [
              0.3333333333333333,
              "#9c179e"
             ],
             [
              0.4444444444444444,
              "#bd3786"
             ],
             [
              0.5555555555555556,
              "#d8576b"
             ],
             [
              0.6666666666666666,
              "#ed7953"
             ],
             [
              0.7777777777777778,
              "#fb9f3a"
             ],
             [
              0.8888888888888888,
              "#fdca26"
             ],
             [
              1,
              "#f0f921"
             ]
            ],
            "type": "histogram2dcontour"
           }
          ],
          "mesh3d": [
           {
            "colorbar": {
             "outlinewidth": 0,
             "ticks": ""
            },
            "type": "mesh3d"
           }
          ],
          "parcoords": [
           {
            "line": {
             "colorbar": {
              "outlinewidth": 0,
              "ticks": ""
             }
            },
            "type": "parcoords"
           }
          ],
          "pie": [
           {
            "automargin": true,
            "type": "pie"
           }
          ],
          "scatter": [
           {
            "fillpattern": {
             "fillmode": "overlay",
             "size": 10,
             "solidity": 0.2
            },
            "type": "scatter"
           }
          ],
          "scatter3d": [
           {
            "line": {
             "colorbar": {
              "outlinewidth": 0,
              "ticks": ""
             }
            },
            "marker": {
             "colorbar": {
              "outlinewidth": 0,
              "ticks": ""
             }
            },
            "type": "scatter3d"
           }
          ],
          "scattercarpet": [
           {
            "marker": {
             "colorbar": {
              "outlinewidth": 0,
              "ticks": ""
             }
            },
            "type": "scattercarpet"
           }
          ],
          "scattergeo": [
           {
            "marker": {
             "colorbar": {
              "outlinewidth": 0,
              "ticks": ""
             }
            },
            "type": "scattergeo"
           }
          ],
          "scattergl": [
           {
            "marker": {
             "colorbar": {
              "outlinewidth": 0,
              "ticks": ""
             }
            },
            "type": "scattergl"
           }
          ],
          "scattermap": [
           {
            "marker": {
             "colorbar": {
              "outlinewidth": 0,
              "ticks": ""
             }
            },
            "type": "scattermap"
           }
          ],
          "scattermapbox": [
           {
            "marker": {
             "colorbar": {
              "outlinewidth": 0,
              "ticks": ""
             }
            },
            "type": "scattermapbox"
           }
          ],
          "scatterpolar": [
           {
            "marker": {
             "colorbar": {
              "outlinewidth": 0,
              "ticks": ""
             }
            },
            "type": "scatterpolar"
           }
          ],
          "scatterpolargl": [
           {
            "marker": {
             "colorbar": {
              "outlinewidth": 0,
              "ticks": ""
             }
            },
            "type": "scatterpolargl"
           }
          ],
          "scatterternary": [
           {
            "marker": {
             "colorbar": {
              "outlinewidth": 0,
              "ticks": ""
             }
            },
            "type": "scatterternary"
           }
          ],
          "surface": [
           {
            "colorbar": {
             "outlinewidth": 0,
             "ticks": ""
            },
            "colorscale": [
             [
              0,
              "#0d0887"
             ],
             [
              0.1111111111111111,
              "#46039f"
             ],
             [
              0.2222222222222222,
              "#7201a8"
             ],
             [
              0.3333333333333333,
              "#9c179e"
             ],
             [
              0.4444444444444444,
              "#bd3786"
             ],
             [
              0.5555555555555556,
              "#d8576b"
             ],
             [
              0.6666666666666666,
              "#ed7953"
             ],
             [
              0.7777777777777778,
              "#fb9f3a"
             ],
             [
              0.8888888888888888,
              "#fdca26"
             ],
             [
              1,
              "#f0f921"
             ]
            ],
            "type": "surface"
           }
          ],
          "table": [
           {
            "cells": {
             "fill": {
              "color": "#EBF0F8"
             },
             "line": {
              "color": "white"
             }
            },
            "header": {
             "fill": {
              "color": "#C8D4E3"
             },
             "line": {
              "color": "white"
             }
            },
            "type": "table"
           }
          ]
         },
         "layout": {
          "annotationdefaults": {
           "arrowcolor": "#2a3f5f",
           "arrowhead": 0,
           "arrowwidth": 1
          },
          "autotypenumbers": "strict",
          "coloraxis": {
           "colorbar": {
            "outlinewidth": 0,
            "ticks": ""
           }
          },
          "colorscale": {
           "diverging": [
            [
             0,
             "#8e0152"
            ],
            [
             0.1,
             "#c51b7d"
            ],
            [
             0.2,
             "#de77ae"
            ],
            [
             0.3,
             "#f1b6da"
            ],
            [
             0.4,
             "#fde0ef"
            ],
            [
             0.5,
             "#f7f7f7"
            ],
            [
             0.6,
             "#e6f5d0"
            ],
            [
             0.7,
             "#b8e186"
            ],
            [
             0.8,
             "#7fbc41"
            ],
            [
             0.9,
             "#4d9221"
            ],
            [
             1,
             "#276419"
            ]
           ],
           "sequential": [
            [
             0,
             "#0d0887"
            ],
            [
             0.1111111111111111,
             "#46039f"
            ],
            [
             0.2222222222222222,
             "#7201a8"
            ],
            [
             0.3333333333333333,
             "#9c179e"
            ],
            [
             0.4444444444444444,
             "#bd3786"
            ],
            [
             0.5555555555555556,
             "#d8576b"
            ],
            [
             0.6666666666666666,
             "#ed7953"
            ],
            [
             0.7777777777777778,
             "#fb9f3a"
            ],
            [
             0.8888888888888888,
             "#fdca26"
            ],
            [
             1,
             "#f0f921"
            ]
           ],
           "sequentialminus": [
            [
             0,
             "#0d0887"
            ],
            [
             0.1111111111111111,
             "#46039f"
            ],
            [
             0.2222222222222222,
             "#7201a8"
            ],
            [
             0.3333333333333333,
             "#9c179e"
            ],
            [
             0.4444444444444444,
             "#bd3786"
            ],
            [
             0.5555555555555556,
             "#d8576b"
            ],
            [
             0.6666666666666666,
             "#ed7953"
            ],
            [
             0.7777777777777778,
             "#fb9f3a"
            ],
            [
             0.8888888888888888,
             "#fdca26"
            ],
            [
             1,
             "#f0f921"
            ]
           ]
          },
          "colorway": [
           "#636efa",
           "#EF553B",
           "#00cc96",
           "#ab63fa",
           "#FFA15A",
           "#19d3f3",
           "#FF6692",
           "#B6E880",
           "#FF97FF",
           "#FECB52"
          ],
          "font": {
           "color": "#2a3f5f"
          },
          "geo": {
           "bgcolor": "white",
           "lakecolor": "white",
           "landcolor": "#E5ECF6",
           "showlakes": true,
           "showland": true,
           "subunitcolor": "white"
          },
          "hoverlabel": {
           "align": "left"
          },
          "hovermode": "closest",
          "mapbox": {
           "style": "light"
          },
          "paper_bgcolor": "white",
          "plot_bgcolor": "#E5ECF6",
          "polar": {
           "angularaxis": {
            "gridcolor": "white",
            "linecolor": "white",
            "ticks": ""
           },
           "bgcolor": "#E5ECF6",
           "radialaxis": {
            "gridcolor": "white",
            "linecolor": "white",
            "ticks": ""
           }
          },
          "scene": {
           "xaxis": {
            "backgroundcolor": "#E5ECF6",
            "gridcolor": "white",
            "gridwidth": 2,
            "linecolor": "white",
            "showbackground": true,
            "ticks": "",
            "zerolinecolor": "white"
           },
           "yaxis": {
            "backgroundcolor": "#E5ECF6",
            "gridcolor": "white",
            "gridwidth": 2,
            "linecolor": "white",
            "showbackground": true,
            "ticks": "",
            "zerolinecolor": "white"
           },
           "zaxis": {
            "backgroundcolor": "#E5ECF6",
            "gridcolor": "white",
            "gridwidth": 2,
            "linecolor": "white",
            "showbackground": true,
            "ticks": "",
            "zerolinecolor": "white"
           }
          },
          "shapedefaults": {
           "line": {
            "color": "#2a3f5f"
           }
          },
          "ternary": {
           "aaxis": {
            "gridcolor": "white",
            "linecolor": "white",
            "ticks": ""
           },
           "baxis": {
            "gridcolor": "white",
            "linecolor": "white",
            "ticks": ""
           },
           "bgcolor": "#E5ECF6",
           "caxis": {
            "gridcolor": "white",
            "linecolor": "white",
            "ticks": ""
           }
          },
          "title": {
           "x": 0.05
          },
          "xaxis": {
           "automargin": true,
           "gridcolor": "white",
           "linecolor": "white",
           "ticks": "",
           "title": {
            "standoff": 15
           },
           "zerolinecolor": "white",
           "zerolinewidth": 2
          },
          "yaxis": {
           "automargin": true,
           "gridcolor": "white",
           "linecolor": "white",
           "ticks": "",
           "title": {
            "standoff": 15
           },
           "zerolinecolor": "white",
           "zerolinewidth": 2
          }
         }
        },
        "title": {
         "text": "Distribution of fire_symbol_count by Label"
        },
        "xaxis": {
         "anchor": "y",
         "domain": [
          0,
          1
         ],
         "title": {
          "text": "fire_symbol_count"
         }
        },
        "yaxis": {
         "anchor": "x",
         "domain": [
          0,
          1
         ],
         "title": {
          "text": "count"
         }
        }
       }
      }
     },
     "metadata": {},
     "output_type": "display_data"
    },
    {
     "data": {
      "application/vnd.plotly.v1+json": {
       "config": {
        "plotlyServerURL": "https://plot.ly"
       },
       "data": [
        {
         "bingroup": "x",
         "hovertemplate": "label=0<br>special_char_ratio=%{x}<br>count=%{y}<extra></extra>",
         "legendgroup": "0",
         "marker": {
          "color": "#636efa",
          "opacity": 0.5,
          "pattern": {
           "shape": ""
          }
         },
         "name": "0",
         "nbinsx": 200,
         "orientation": "v",
         "showlegend": true,
         "type": "histogram",
         "x": {
          "bdata": "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",
          "dtype": "f8"
         },
         "xaxis": "x",
         "yaxis": "y"
        },
        {
         "bingroup": "x",
         "hovertemplate": "label=1<br>special_char_ratio=%{x}<br>count=%{y}<extra></extra>",
         "legendgroup": "1",
         "marker": {
          "color": "#EF553B",
          "opacity": 0.5,
          "pattern": {
           "shape": ""
          }
         },
         "name": "1",
         "nbinsx": 200,
         "orientation": "v",
         "showlegend": true,
         "type": "histogram",
         "x": {
          "bdata": "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",
          "dtype": "f8"
         },
         "xaxis": "x",
         "yaxis": "y"
        }
       ],
       "layout": {
        "barmode": "overlay",
        "legend": {
         "title": {
          "text": "label"
         },
         "tracegroupgap": 0
        },
        "template": {
         "data": {
          "bar": [
           {
            "error_x": {
             "color": "#2a3f5f"
            },
            "error_y": {
             "color": "#2a3f5f"
            },
            "marker": {
             "line": {
              "color": "#E5ECF6",
              "width": 0.5
             },
             "pattern": {
              "fillmode": "overlay",
              "size": 10,
              "solidity": 0.2
             }
            },
            "type": "bar"
           }
          ],
          "barpolar": [
           {
            "marker": {
             "line": {
              "color": "#E5ECF6",
              "width": 0.5
             },
             "pattern": {
              "fillmode": "overlay",
              "size": 10,
              "solidity": 0.2
             }
            },
            "type": "barpolar"
           }
          ],
          "carpet": [
           {
            "aaxis": {
             "endlinecolor": "#2a3f5f",
             "gridcolor": "white",
             "linecolor": "white",
             "minorgridcolor": "white",
             "startlinecolor": "#2a3f5f"
            },
            "baxis": {
             "endlinecolor": "#2a3f5f",
             "gridcolor": "white",
             "linecolor": "white",
             "minorgridcolor": "white",
             "startlinecolor": "#2a3f5f"
            },
            "type": "carpet"
           }
          ],
          "choropleth": [
           {
            "colorbar": {
             "outlinewidth": 0,
             "ticks": ""
            },
            "type": "choropleth"
           }
          ],
          "contour": [
           {
            "colorbar": {
             "outlinewidth": 0,
             "ticks": ""
            },
            "colorscale": [
             [
              0,
              "#0d0887"
             ],
             [
              0.1111111111111111,
              "#46039f"
             ],
             [
              0.2222222222222222,
              "#7201a8"
             ],
             [
              0.3333333333333333,
              "#9c179e"
             ],
             [
              0.4444444444444444,
              "#bd3786"
             ],
             [
              0.5555555555555556,
              "#d8576b"
             ],
             [
              0.6666666666666666,
              "#ed7953"
             ],
             [
              0.7777777777777778,
              "#fb9f3a"
             ],
             [
              0.8888888888888888,
              "#fdca26"
             ],
             [
              1,
              "#f0f921"
             ]
            ],
            "type": "contour"
           }
          ],
          "contourcarpet": [
           {
            "colorbar": {
             "outlinewidth": 0,
             "ticks": ""
            },
            "type": "contourcarpet"
           }
          ],
          "heatmap": [
           {
            "colorbar": {
             "outlinewidth": 0,
             "ticks": ""
            },
            "colorscale": [
             [
              0,
              "#0d0887"
             ],
             [
              0.1111111111111111,
              "#46039f"
             ],
             [
              0.2222222222222222,
              "#7201a8"
             ],
             [
              0.3333333333333333,
              "#9c179e"
             ],
             [
              0.4444444444444444,
              "#bd3786"
             ],
             [
              0.5555555555555556,
              "#d8576b"
             ],
             [
              0.6666666666666666,
              "#ed7953"
             ],
             [
              0.7777777777777778,
              "#fb9f3a"
             ],
             [
              0.8888888888888888,
              "#fdca26"
             ],
             [
              1,
              "#f0f921"
             ]
            ],
            "type": "heatmap"
           }
          ],
          "histogram": [
           {
            "marker": {
             "pattern": {
              "fillmode": "overlay",
              "size": 10,
              "solidity": 0.2
             }
            },
            "type": "histogram"
           }
          ],
          "histogram2d": [
           {
            "colorbar": {
             "outlinewidth": 0,
             "ticks": ""
            },
            "colorscale": [
             [
              0,
              "#0d0887"
             ],
             [
              0.1111111111111111,
              "#46039f"
             ],
             [
              0.2222222222222222,
              "#7201a8"
             ],
             [
              0.3333333333333333,
              "#9c179e"
             ],
             [
              0.4444444444444444,
              "#bd3786"
             ],
             [
              0.5555555555555556,
              "#d8576b"
             ],
             [
              0.6666666666666666,
              "#ed7953"
             ],
             [
              0.7777777777777778,
              "#fb9f3a"
             ],
             [
              0.8888888888888888,
              "#fdca26"
             ],
             [
              1,
              "#f0f921"
             ]
            ],
            "type": "histogram2d"
           }
          ],
          "histogram2dcontour": [
           {
            "colorbar": {
             "outlinewidth": 0,
             "ticks": ""
            },
            "colorscale": [
             [
              0,
              "#0d0887"
             ],
             [
              0.1111111111111111,
              "#46039f"
             ],
             [
              0.2222222222222222,
              "#7201a8"
             ],
             [
              0.3333333333333333,
              "#9c179e"
             ],
             [
              0.4444444444444444,
              "#bd3786"
             ],
             [
              0.5555555555555556,
              "#d8576b"
             ],
             [
              0.6666666666666666,
              "#ed7953"
             ],
             [
              0.7777777777777778,
              "#fb9f3a"
             ],
             [
              0.8888888888888888,
              "#fdca26"
             ],
             [
              1,
              "#f0f921"
             ]
            ],
            "type": "histogram2dcontour"
           }
          ],
          "mesh3d": [
           {
            "colorbar": {
             "outlinewidth": 0,
             "ticks": ""
            },
            "type": "mesh3d"
           }
          ],
          "parcoords": [
           {
            "line": {
             "colorbar": {
              "outlinewidth": 0,
              "ticks": ""
             }
            },
            "type": "parcoords"
           }
          ],
          "pie": [
           {
            "automargin": true,
            "type": "pie"
           }
          ],
          "scatter": [
           {
            "fillpattern": {
             "fillmode": "overlay",
             "size": 10,
             "solidity": 0.2
            },
            "type": "scatter"
           }
          ],
          "scatter3d": [
           {
            "line": {
             "colorbar": {
              "outlinewidth": 0,
              "ticks": ""
             }
            },
            "marker": {
             "colorbar": {
              "outlinewidth": 0,
              "ticks": ""
             }
            },
            "type": "scatter3d"
           }
          ],
          "scattercarpet": [
           {
            "marker": {
             "colorbar": {
              "outlinewidth": 0,
              "ticks": ""
             }
            },
            "type": "scattercarpet"
           }
          ],
          "scattergeo": [
           {
            "marker": {
             "colorbar": {
              "outlinewidth": 0,
              "ticks": ""
             }
            },
            "type": "scattergeo"
           }
          ],
          "scattergl": [
           {
            "marker": {
             "colorbar": {
              "outlinewidth": 0,
              "ticks": ""
             }
            },
            "type": "scattergl"
           }
          ],
          "scattermap": [
           {
            "marker": {
             "colorbar": {
              "outlinewidth": 0,
              "ticks": ""
             }
            },
            "type": "scattermap"
           }
          ],
          "scattermapbox": [
           {
            "marker": {
             "colorbar": {
              "outlinewidth": 0,
              "ticks": ""
             }
            },
            "type": "scattermapbox"
           }
          ],
          "scatterpolar": [
           {
            "marker": {
             "colorbar": {
              "outlinewidth": 0,
              "ticks": ""
             }
            },
            "type": "scatterpolar"
           }
          ],
          "scatterpolargl": [
           {
            "marker": {
             "colorbar": {
              "outlinewidth": 0,
              "ticks": ""
             }
            },
            "type": "scatterpolargl"
           }
          ],
          "scatterternary": [
           {
            "marker": {
             "colorbar": {
              "outlinewidth": 0,
              "ticks": ""
             }
            },
            "type": "scatterternary"
           }
          ],
          "surface": [
           {
            "colorbar": {
             "outlinewidth": 0,
             "ticks": ""
            },
            "colorscale": [
             [
              0,
              "#0d0887"
             ],
             [
              0.1111111111111111,
              "#46039f"
             ],
             [
              0.2222222222222222,
              "#7201a8"
             ],
             [
              0.3333333333333333,
              "#9c179e"
             ],
             [
              0.4444444444444444,
              "#bd3786"
             ],
             [
              0.5555555555555556,
              "#d8576b"
             ],
             [
              0.6666666666666666,
              "#ed7953"
             ],
             [
              0.7777777777777778,
              "#fb9f3a"
             ],
             [
              0.8888888888888888,
              "#fdca26"
             ],
             [
              1,
              "#f0f921"
             ]
            ],
            "type": "surface"
           }
          ],
          "table": [
           {
            "cells": {
             "fill": {
              "color": "#EBF0F8"
             },
             "line": {
              "color": "white"
             }
            },
            "header": {
             "fill": {
              "color": "#C8D4E3"
             },
             "line": {
              "color": "white"
             }
            },
            "type": "table"
           }
          ]
         },
         "layout": {
          "annotationdefaults": {
           "arrowcolor": "#2a3f5f",
           "arrowhead": 0,
           "arrowwidth": 1
          },
          "autotypenumbers": "strict",
          "coloraxis": {
           "colorbar": {
            "outlinewidth": 0,
            "ticks": ""
           }
          },
          "colorscale": {
           "diverging": [
            [
             0,
             "#8e0152"
            ],
            [
             0.1,
             "#c51b7d"
            ],
            [
             0.2,
             "#de77ae"
            ],
            [
             0.3,
             "#f1b6da"
            ],
            [
             0.4,
             "#fde0ef"
            ],
            [
             0.5,
             "#f7f7f7"
            ],
            [
             0.6,
             "#e6f5d0"
            ],
            [
             0.7,
             "#b8e186"
            ],
            [
             0.8,
             "#7fbc41"
            ],
            [
             0.9,
             "#4d9221"
            ],
            [
             1,
             "#276419"
            ]
           ],
           "sequential": [
            [
             0,
             "#0d0887"
            ],
            [
             0.1111111111111111,
             "#46039f"
            ],
            [
             0.2222222222222222,
             "#7201a8"
            ],
            [
             0.3333333333333333,
             "#9c179e"
            ],
            [
             0.4444444444444444,
             "#bd3786"
            ],
            [
             0.5555555555555556,
             "#d8576b"
            ],
            [
             0.6666666666666666,
             "#ed7953"
            ],
            [
             0.7777777777777778,
             "#fb9f3a"
            ],
            [
             0.8888888888888888,
             "#fdca26"
            ],
            [
             1,
             "#f0f921"
            ]
           ],
           "sequentialminus": [
            [
             0,
             "#0d0887"
            ],
            [
             0.1111111111111111,
             "#46039f"
            ],
            [
             0.2222222222222222,
             "#7201a8"
            ],
            [
             0.3333333333333333,
             "#9c179e"
            ],
            [
             0.4444444444444444,
             "#bd3786"
            ],
            [
             0.5555555555555556,
             "#d8576b"
            ],
            [
             0.6666666666666666,
             "#ed7953"
            ],
            [
             0.7777777777777778,
             "#fb9f3a"
            ],
            [
             0.8888888888888888,
             "#fdca26"
            ],
            [
             1,
             "#f0f921"
            ]
           ]
          },
          "colorway": [
           "#636efa",
           "#EF553B",
           "#00cc96",
           "#ab63fa",
           "#FFA15A",
           "#19d3f3",
           "#FF6692",
           "#B6E880",
           "#FF97FF",
           "#FECB52"
          ],
          "font": {
           "color": "#2a3f5f"
          },
          "geo": {
           "bgcolor": "white",
           "lakecolor": "white",
           "landcolor": "#E5ECF6",
           "showlakes": true,
           "showland": true,
           "subunitcolor": "white"
          },
          "hoverlabel": {
           "align": "left"
          },
          "hovermode": "closest",
          "mapbox": {
           "style": "light"
          },
          "paper_bgcolor": "white",
          "plot_bgcolor": "#E5ECF6",
          "polar": {
           "angularaxis": {
            "gridcolor": "white",
            "linecolor": "white",
            "ticks": ""
           },
           "bgcolor": "#E5ECF6",
           "radialaxis": {
            "gridcolor": "white",
            "linecolor": "white",
            "ticks": ""
           }
          },
          "scene": {
           "xaxis": {
            "backgroundcolor": "#E5ECF6",
            "gridcolor": "white",
            "gridwidth": 2,
            "linecolor": "white",
            "showbackground": true,
            "ticks": "",
            "zerolinecolor": "white"
           },
           "yaxis": {
            "backgroundcolor": "#E5ECF6",
            "gridcolor": "white",
            "gridwidth": 2,
            "linecolor": "white",
            "showbackground": true,
            "ticks": "",
            "zerolinecolor": "white"
           },
           "zaxis": {
            "backgroundcolor": "#E5ECF6",
            "gridcolor": "white",
            "gridwidth": 2,
            "linecolor": "white",
            "showbackground": true,
            "ticks": "",
            "zerolinecolor": "white"
           }
          },
          "shapedefaults": {
           "line": {
            "color": "#2a3f5f"
           }
          },
          "ternary": {
           "aaxis": {
            "gridcolor": "white",
            "linecolor": "white",
            "ticks": ""
           },
           "baxis": {
            "gridcolor": "white",
            "linecolor": "white",
            "ticks": ""
           },
           "bgcolor": "#E5ECF6",
           "caxis": {
            "gridcolor": "white",
            "linecolor": "white",
            "ticks": ""
           }
          },
          "title": {
           "x": 0.05
          },
          "xaxis": {
           "automargin": true,
           "gridcolor": "white",
           "linecolor": "white",
           "ticks": "",
           "title": {
            "standoff": 15
           },
           "zerolinecolor": "white",
           "zerolinewidth": 2
          },
          "yaxis": {
           "automargin": true,
           "gridcolor": "white",
           "linecolor": "white",
           "ticks": "",
           "title": {
            "standoff": 15
           },
           "zerolinecolor": "white",
           "zerolinewidth": 2
          }
         }
        },
        "title": {
         "text": "Distribution of special_char_ratio by Label"
        },
        "xaxis": {
         "anchor": "y",
         "domain": [
          0,
          1
         ],
         "title": {
          "text": "special_char_ratio"
         }
        },
        "yaxis": {
         "anchor": "x",
         "domain": [
          0,
          1
         ],
         "title": {
          "text": "count"
         }
        }
       }
      }
     },
     "metadata": {},
     "output_type": "display_data"
    },
    {
     "data": {
      "application/vnd.plotly.v1+json": {
       "config": {
        "plotlyServerURL": "https://plot.ly"
       },
       "data": [
        {
         "bingroup": "x",
         "hovertemplate": "label=0<br>number_ratio=%{x}<br>count=%{y}<extra></extra>",
         "legendgroup": "0",
         "marker": {
          "color": "#636efa",
          "opacity": 0.5,
          "pattern": {
           "shape": ""
          }
         },
         "name": "0",
         "nbinsx": 200,
         "orientation": "v",
         "showlegend": true,
         "type": "histogram",
         "x": {
          "bdata": "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",
          "dtype": "f8"
         },
         "xaxis": "x",
         "yaxis": "y"
        },
        {
         "bingroup": "x",
         "hovertemplate": "label=1<br>number_ratio=%{x}<br>count=%{y}<extra></extra>",
         "legendgroup": "1",
         "marker": {
          "color": "#EF553B",
          "opacity": 0.5,
          "pattern": {
           "shape": ""
          }
         },
         "name": "1",
         "nbinsx": 200,
         "orientation": "v",
         "showlegend": true,
         "type": "histogram",
         "x": {
          "bdata": "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",
          "dtype": "f8"
         },
         "xaxis": "x",
         "yaxis": "y"
        }
       ],
       "layout": {
        "barmode": "overlay",
        "legend": {
         "title": {
          "text": "label"
         },
         "tracegroupgap": 0
        },
        "template": {
         "data": {
          "bar": [
           {
            "error_x": {
             "color": "#2a3f5f"
            },
            "error_y": {
             "color": "#2a3f5f"
            },
            "marker": {
             "line": {
              "color": "#E5ECF6",
              "width": 0.5
             },
             "pattern": {
              "fillmode": "overlay",
              "size": 10,
              "solidity": 0.2
             }
            },
            "type": "bar"
           }
          ],
          "barpolar": [
           {
            "marker": {
             "line": {
              "color": "#E5ECF6",
              "width": 0.5
             },
             "pattern": {
              "fillmode": "overlay",
              "size": 10,
              "solidity": 0.2
             }
            },
            "type": "barpolar"
           }
          ],
          "carpet": [
           {
            "aaxis": {
             "endlinecolor": "#2a3f5f",
             "gridcolor": "white",
             "linecolor": "white",
             "minorgridcolor": "white",
             "startlinecolor": "#2a3f5f"
            },
            "baxis": {
             "endlinecolor": "#2a3f5f",
             "gridcolor": "white",
             "linecolor": "white",
             "minorgridcolor": "white",
             "startlinecolor": "#2a3f5f"
            },
            "type": "carpet"
           }
          ],
          "choropleth": [
           {
            "colorbar": {
             "outlinewidth": 0,
             "ticks": ""
            },
            "type": "choropleth"
           }
          ],
          "contour": [
           {
            "colorbar": {
             "outlinewidth": 0,
             "ticks": ""
            },
            "colorscale": [
             [
              0,
              "#0d0887"
             ],
             [
              0.1111111111111111,
              "#46039f"
             ],
             [
              0.2222222222222222,
              "#7201a8"
             ],
             [
              0.3333333333333333,
              "#9c179e"
             ],
             [
              0.4444444444444444,
              "#bd3786"
             ],
             [
              0.5555555555555556,
              "#d8576b"
             ],
             [
              0.6666666666666666,
              "#ed7953"
             ],
             [
              0.7777777777777778,
              "#fb9f3a"
             ],
             [
              0.8888888888888888,
              "#fdca26"
             ],
             [
              1,
              "#f0f921"
             ]
            ],
            "type": "contour"
           }
          ],
          "contourcarpet": [
           {
            "colorbar": {
             "outlinewidth": 0,
             "ticks": ""
            },
            "type": "contourcarpet"
           }
          ],
          "heatmap": [
           {
            "colorbar": {
             "outlinewidth": 0,
             "ticks": ""
            },
            "colorscale": [
             [
              0,
              "#0d0887"
             ],
             [
              0.1111111111111111,
              "#46039f"
             ],
             [
              0.2222222222222222,
              "#7201a8"
             ],
             [
              0.3333333333333333,
              "#9c179e"
             ],
             [
              0.4444444444444444,
              "#bd3786"
             ],
             [
              0.5555555555555556,
              "#d8576b"
             ],
             [
              0.6666666666666666,
              "#ed7953"
             ],
             [
              0.7777777777777778,
              "#fb9f3a"
             ],
             [
              0.8888888888888888,
              "#fdca26"
             ],
             [
              1,
              "#f0f921"
             ]
            ],
            "type": "heatmap"
           }
          ],
          "histogram": [
           {
            "marker": {
             "pattern": {
              "fillmode": "overlay",
              "size": 10,
              "solidity": 0.2
             }
            },
            "type": "histogram"
           }
          ],
          "histogram2d": [
           {
            "colorbar": {
             "outlinewidth": 0,
             "ticks": ""
            },
            "colorscale": [
             [
              0,
              "#0d0887"
             ],
             [
              0.1111111111111111,
              "#46039f"
             ],
             [
              0.2222222222222222,
              "#7201a8"
             ],
             [
              0.3333333333333333,
              "#9c179e"
             ],
             [
              0.4444444444444444,
              "#bd3786"
             ],
             [
              0.5555555555555556,
              "#d8576b"
             ],
             [
              0.6666666666666666,
              "#ed7953"
             ],
             [
              0.7777777777777778,
              "#fb9f3a"
             ],
             [
              0.8888888888888888,
              "#fdca26"
             ],
             [
              1,
              "#f0f921"
             ]
            ],
            "type": "histogram2d"
           }
          ],
          "histogram2dcontour": [
           {
            "colorbar": {
             "outlinewidth": 0,
             "ticks": ""
            },
            "colorscale": [
             [
              0,
              "#0d0887"
             ],
             [
              0.1111111111111111,
              "#46039f"
             ],
             [
              0.2222222222222222,
              "#7201a8"
             ],
             [
              0.3333333333333333,
              "#9c179e"
             ],
             [
              0.4444444444444444,
              "#bd3786"
             ],
             [
              0.5555555555555556,
              "#d8576b"
             ],
             [
              0.6666666666666666,
              "#ed7953"
             ],
             [
              0.7777777777777778,
              "#fb9f3a"
             ],
             [
              0.8888888888888888,
              "#fdca26"
             ],
             [
              1,
              "#f0f921"
             ]
            ],
            "type": "histogram2dcontour"
           }
          ],
          "mesh3d": [
           {
            "colorbar": {
             "outlinewidth": 0,
             "ticks": ""
            },
            "type": "mesh3d"
           }
          ],
          "parcoords": [
           {
            "line": {
             "colorbar": {
              "outlinewidth": 0,
              "ticks": ""
             }
            },
            "type": "parcoords"
           }
          ],
          "pie": [
           {
            "automargin": true,
            "type": "pie"
           }
          ],
          "scatter": [
           {
            "fillpattern": {
             "fillmode": "overlay",
             "size": 10,
             "solidity": 0.2
            },
            "type": "scatter"
           }
          ],
          "scatter3d": [
           {
            "line": {
             "colorbar": {
              "outlinewidth": 0,
              "ticks": ""
             }
            },
            "marker": {
             "colorbar": {
              "outlinewidth": 0,
              "ticks": ""
             }
            },
            "type": "scatter3d"
           }
          ],
          "scattercarpet": [
           {
            "marker": {
             "colorbar": {
              "outlinewidth": 0,
              "ticks": ""
             }
            },
            "type": "scattercarpet"
           }
          ],
          "scattergeo": [
           {
            "marker": {
             "colorbar": {
              "outlinewidth": 0,
              "ticks": ""
             }
            },
            "type": "scattergeo"
           }
          ],
          "scattergl": [
           {
            "marker": {
             "colorbar": {
              "outlinewidth": 0,
              "ticks": ""
             }
            },
            "type": "scattergl"
           }
          ],
          "scattermap": [
           {
            "marker": {
             "colorbar": {
              "outlinewidth": 0,
              "ticks": ""
             }
            },
            "type": "scattermap"
           }
          ],
          "scattermapbox": [
           {
            "marker": {
             "colorbar": {
              "outlinewidth": 0,
              "ticks": ""
             }
            },
            "type": "scattermapbox"
           }
          ],
          "scatterpolar": [
           {
            "marker": {
             "colorbar": {
              "outlinewidth": 0,
              "ticks": ""
             }
            },
            "type": "scatterpolar"
           }
          ],
          "scatterpolargl": [
           {
            "marker": {
             "colorbar": {
              "outlinewidth": 0,
              "ticks": ""
             }
            },
            "type": "scatterpolargl"
           }
          ],
          "scatterternary": [
           {
            "marker": {
             "colorbar": {
              "outlinewidth": 0,
              "ticks": ""
             }
            },
            "type": "scatterternary"
           }
          ],
          "surface": [
           {
            "colorbar": {
             "outlinewidth": 0,
             "ticks": ""
            },
            "colorscale": [
             [
              0,
              "#0d0887"
             ],
             [
              0.1111111111111111,
              "#46039f"
             ],
             [
              0.2222222222222222,
              "#7201a8"
             ],
             [
              0.3333333333333333,
              "#9c179e"
             ],
             [
              0.4444444444444444,
              "#bd3786"
             ],
             [
              0.5555555555555556,
              "#d8576b"
             ],
             [
              0.6666666666666666,
              "#ed7953"
             ],
             [
              0.7777777777777778,
              "#fb9f3a"
             ],
             [
              0.8888888888888888,
              "#fdca26"
             ],
             [
              1,
              "#f0f921"
             ]
            ],
            "type": "surface"
           }
          ],
          "table": [
           {
            "cells": {
             "fill": {
              "color": "#EBF0F8"
             },
             "line": {
              "color": "white"
             }
            },
            "header": {
             "fill": {
              "color": "#C8D4E3"
             },
             "line": {
              "color": "white"
             }
            },
            "type": "table"
           }
          ]
         },
         "layout": {
          "annotationdefaults": {
           "arrowcolor": "#2a3f5f",
           "arrowhead": 0,
           "arrowwidth": 1
          },
          "autotypenumbers": "strict",
          "coloraxis": {
           "colorbar": {
            "outlinewidth": 0,
            "ticks": ""
           }
          },
          "colorscale": {
           "diverging": [
            [
             0,
             "#8e0152"
            ],
            [
             0.1,
             "#c51b7d"
            ],
            [
             0.2,
             "#de77ae"
            ],
            [
             0.3,
             "#f1b6da"
            ],
            [
             0.4,
             "#fde0ef"
            ],
            [
             0.5,
             "#f7f7f7"
            ],
            [
             0.6,
             "#e6f5d0"
            ],
            [
             0.7,
             "#b8e186"
            ],
            [
             0.8,
             "#7fbc41"
            ],
            [
             0.9,
             "#4d9221"
            ],
            [
             1,
             "#276419"
            ]
           ],
           "sequential": [
            [
             0,
             "#0d0887"
            ],
            [
             0.1111111111111111,
             "#46039f"
            ],
            [
             0.2222222222222222,
             "#7201a8"
            ],
            [
             0.3333333333333333,
             "#9c179e"
            ],
            [
             0.4444444444444444,
             "#bd3786"
            ],
            [
             0.5555555555555556,
             "#d8576b"
            ],
            [
             0.6666666666666666,
             "#ed7953"
            ],
            [
             0.7777777777777778,
             "#fb9f3a"
            ],
            [
             0.8888888888888888,
             "#fdca26"
            ],
            [
             1,
             "#f0f921"
            ]
           ],
           "sequentialminus": [
            [
             0,
             "#0d0887"
            ],
            [
             0.1111111111111111,
             "#46039f"
            ],
            [
             0.2222222222222222,
             "#7201a8"
            ],
            [
             0.3333333333333333,
             "#9c179e"
            ],
            [
             0.4444444444444444,
             "#bd3786"
            ],
            [
             0.5555555555555556,
             "#d8576b"
            ],
            [
             0.6666666666666666,
             "#ed7953"
            ],
            [
             0.7777777777777778,
             "#fb9f3a"
            ],
            [
             0.8888888888888888,
             "#fdca26"
            ],
            [
             1,
             "#f0f921"
            ]
           ]
          },
          "colorway": [
           "#636efa",
           "#EF553B",
           "#00cc96",
           "#ab63fa",
           "#FFA15A",
           "#19d3f3",
           "#FF6692",
           "#B6E880",
           "#FF97FF",
           "#FECB52"
          ],
          "font": {
           "color": "#2a3f5f"
          },
          "geo": {
           "bgcolor": "white",
           "lakecolor": "white",
           "landcolor": "#E5ECF6",
           "showlakes": true,
           "showland": true,
           "subunitcolor": "white"
          },
          "hoverlabel": {
           "align": "left"
          },
          "hovermode": "closest",
          "mapbox": {
           "style": "light"
          },
          "paper_bgcolor": "white",
          "plot_bgcolor": "#E5ECF6",
          "polar": {
           "angularaxis": {
            "gridcolor": "white",
            "linecolor": "white",
            "ticks": ""
           },
           "bgcolor": "#E5ECF6",
           "radialaxis": {
            "gridcolor": "white",
            "linecolor": "white",
            "ticks": ""
           }
          },
          "scene": {
           "xaxis": {
            "backgroundcolor": "#E5ECF6",
            "gridcolor": "white",
            "gridwidth": 2,
            "linecolor": "white",
            "showbackground": true,
            "ticks": "",
            "zerolinecolor": "white"
           },
           "yaxis": {
            "backgroundcolor": "#E5ECF6",
            "gridcolor": "white",
            "gridwidth": 2,
            "linecolor": "white",
            "showbackground": true,
            "ticks": "",
            "zerolinecolor": "white"
           },
           "zaxis": {
            "backgroundcolor": "#E5ECF6",
            "gridcolor": "white",
            "gridwidth": 2,
            "linecolor": "white",
            "showbackground": true,
            "ticks": "",
            "zerolinecolor": "white"
           }
          },
          "shapedefaults": {
           "line": {
            "color": "#2a3f5f"
           }
          },
          "ternary": {
           "aaxis": {
            "gridcolor": "white",
            "linecolor": "white",
            "ticks": ""
           },
           "baxis": {
            "gridcolor": "white",
            "linecolor": "white",
            "ticks": ""
           },
           "bgcolor": "#E5ECF6",
           "caxis": {
            "gridcolor": "white",
            "linecolor": "white",
            "ticks": ""
           }
          },
          "title": {
           "x": 0.05
          },
          "xaxis": {
           "automargin": true,
           "gridcolor": "white",
           "linecolor": "white",
           "ticks": "",
           "title": {
            "standoff": 15
           },
           "zerolinecolor": "white",
           "zerolinewidth": 2
          },
          "yaxis": {
           "automargin": true,
           "gridcolor": "white",
           "linecolor": "white",
           "ticks": "",
           "title": {
            "standoff": 15
           },
           "zerolinecolor": "white",
           "zerolinewidth": 2
          }
         }
        },
        "title": {
         "text": "Distribution of number_ratio by Label"
        },
        "xaxis": {
         "anchor": "y",
         "domain": [
          0,
          1
         ],
         "title": {
          "text": "number_ratio"
         }
        },
        "yaxis": {
         "anchor": "x",
         "domain": [
          0,
          1
         ],
         "title": {
          "text": "count"
         }
        }
       }
      }
     },
     "metadata": {},
     "output_type": "display_data"
    },
    {
     "data": {
      "application/vnd.plotly.v1+json": {
       "config": {
        "plotlyServerURL": "https://plot.ly"
       },
       "data": [
        {
         "bingroup": "x",
         "hovertemplate": "label=0<br>stylized_char_ratio=%{x}<br>count=%{y}<extra></extra>",
         "legendgroup": "0",
         "marker": {
          "color": "#636efa",
          "opacity": 0.5,
          "pattern": {
           "shape": ""
          }
         },
         "name": "0",
         "nbinsx": 200,
         "orientation": "v",
         "showlegend": true,
         "type": "histogram",
         "x": {
          "bdata": "AAAAAAAAAAAAAAAAAAAAAAAAAAAAAAAAAAAAAAAAAAAAAAAAAAAAAAAAAAAAAAAAAAAAAAAAAAAAAAAAAAAAAAAAAAAAAAAAAAAAAAAAAAAAAAAAAAAAAAAAAAAAAAAAAAAAAAAAAAAAAAAAAAAAAAAAAAAAAAAAAAAAAAAAAAAAAAAAAAAAAAAAAAAAAAAAAAAAAAAAAAAAAAAAAAAAAAAAAAAAAAAAAAAAAAAAAAAAAAAAAAAAAAAAAAAAAAAAAAAAAAAAAAAAAAAAAAAAAAAAAAAAAAAAAAAAAAAAAAAAAAAAAAAAAAAAAAAAAAAAAAAAAAAAAAAAAAAAAAAAAAAAAAAAAAAAAAAAAAAAAAAAAAAAAAAAAAAAAAAAAAAAAAAAAAAAAAAAAAAAAAAAAAAAAAAAAAAAAAAAAAAAAAAAAAAAAAAAAAAAAAAAAAAAAAAAAAAAAAAAAAAAAAAAAAAAAAAAAAAAAAAAAAAAAAAAAAAAAAAAAAAAAAAAAAAAAAAAAAAAAAAAAAAAAAAAAAAAAAAAAAAAAAAAAAAAAAAAAAAAAAAAAAAAAAAAAAAAAAAAAAAAAAAAAAAAAAAAAAAAAAAAAAAAAAAAAAAAAAAAAAAAAAAAAAAAAAAAAAAAAAAAAAAAAAAAAAAAAAAAAAAAAAAAAAAAAAAAAAAAAAAAAAAAAAAAAAAAAAAAAAAAAAAAAAAAAAAAAAAAAAAAAAAAAAAAAAAAAAAAAAAAAAAAAAAAAAAAAAAAAAAAAAAAAAAAAAAAAAAAAAAAAAAAAAAAAAAAAAAAAAAAAAAAAAAAAAAAAAAAAAAAAAAAAAAAAAAAAAAAAAAAAAAAAAAAAAAAAAAAAAAAAAAAAAAAAAAAAAAAAAAAAAAAAAAAAAAAAAAAAAAAAAAAAAAAAAAAAAAAAAAAAAAAAAAAAAAAAAAAAAAAAAAAAAAAAAAAAAAAAAAAAAAAAAAAAAAAAAAAAAAAAAAAAAAAAAAAAAAAAAAAAAAAAAAAAAAAAAAAAAAAAAAAAAAAAAAAAAAAAAAAAAAAAAAAAAAAAAAAAAAAAAAAAAAAAAAAAAAAAAAAAAAAAAAAAAAAAAAAAAAAAAAAAAAAAAAAAAAAAAAAAAAAAAAAAAAAAAAAAAAAAAAAAAAAAAAAAAAAAAAAAAAAAAAAAAAAAAAAAAAAAAAAAAAAAAAAAAAAAAAAAAAAAAAAAAAAAAAAAAAAAAAAAAAAAAAAAAAAAAAAAAAAAAAAAAAAAAAAAAAAAAAAAAAAAAAAAAAAAAAAAAAAAAAAAAAAAAAAAAAAAAAAAAAAAAAAAAAAAAAAAAAAAAAAAAAAAAAAAAAAAAAAAAAAAAAAAAAAAAAAAAAAAAAAAAAAAAAAAAAAAAAAAAAAAAAAAAAAAAAAAAAAAAAAAAAAAAAAAAAAAAAAAAAAAAAAAAAAAAAAAAAAAAAAAAAAAAAAAAAAAAAAAAAAAAAAAAAAAAAAAAAAAAAAAAAAAAAAAAAAAAAAAAAAAAAAAAAAAAAAAAAAAAAAAAAAAAAAAAAAAAAAAAAAAAAAAAAAAAAAAAAAAAAAAAAAAAAAAAAAAAAAAAAAAAAAAAAAAAAAAAAAAAAAAAAAAAAAAAAAAAAAAAAAAAAAAAAAAAAAAAAAAAAAAAAAAAAAAAAAAAAAAAAAAAAAAAAAAAAAAAAAAAAAAAAAAAAAAAAAAAAAAAAAAAAAAAAAAAAAAAAAAAAAAAAAAAAAAAAAAAAAAAAAAAAAAAAAAAAAAAAAAAAAAAAAAAAAAAAAAAAAAAAAAAAAAAAAAAAAAAAAAAAAAAAAAAAAAAAAAAAAAAAAAAAAAAAAAAAAAAAAAAAAAAAAAAAAAAAAAAAAAAAAAAAAAAAAAAAAAAAAAAAAAAAAAAAAAAAAAAAAAAAAAAAAAAAAAAAAAAAAAAAAAAAAAAAAAAAAAAAAAAAAAAAAAAAAAAAAAAAAAAAAAAAAAAAAAAAAAAAAAAAAAAAAAAAAAAAAAAAAAAAAAAAAAAAAAAAAAAAAAAAAAAAAAAAAAAAAAAAAAAAAAAAAAAAAAAAAAAAAAAAAAAAAAAAAAAAAAAAAAAAAAAAAAAAAAAAAAAAAAAAAAAAAAAAAAAAAAAAAAAAAAAAAAAAAAAAAAAAAAAAAAAAAAAAAAAAAAAAAAAAAAAAAAAAAAAAAAAAAAAAAAAAAAAAAAAAAAAAAAAAAAAAAAAAAAAAAAAAAAAAAAAAAAAAAAAAAAAAAAAAAAAAAAAAAAAAAAAAAAAAAAAAAAAAAAAAAAAAAAAAAAAAAAAAAAAAAAAAAAAAAAAAAAAAAAAAAAAAAAAAAAAAAAAAAAAAAAAAAAAAAAAAAAAAAAAAAAAAAAAAAAAAAAAAAAAAAAAAAAAAAAAAAAAAAAAAAAAAAAAAAAAAAAAAAAAAAAAAAAAAAAAAAAAAAAAAAAAAAAAAAAAAAAAAAAAAAAAAAAAAAAAAAAAAAAAAAAAAAAAAAAAAAAAAAAAAAAAAAAAAAAAAAAAAAAAAAAAAAAAAAAAAAAAAAAAAAAAAAAAAAAAAAAAAAAAAAAAAAAAAAAAAAAAAAAAAAAAAAAAAAAAAAAAAAAAAAAAAAAAAAAAAAAAAAAAAAAAAAAAAAAAAAAAAAAAAAAAAAAAAAAAAAAAAAAAAAAAAAAAAAAAAAAAAAAAAAAAAAAAAAAAAAAAAAAAAAAAAAAAAAAAAAAAAAAAAAAAAAAAAAAAAAAAAAAAAAAAAAAAAAAAAAAAAAAAAAAAAAAAAAAAAAAAAAAAAAAAAAAAAAAAAAAAAAAAAAAAAAAAAAAAAAAAAAAAAAAAAAAAAAAAAAAAAAAAAAAAAAAAAAAAAAAAAAAAAAAAAAAAAAAAAAAAAAAAAAAAAAAAAAAAAAAAAAAAAAAAAAAAAAAAAAAAAAAAAAAAAAAAAAAAAAAAAAAAAAAAAAAAAAAAAAAAAAAAAAAAAAAAAAAAAAAAAAAAAAAAAAAAAAAAAAAAAAAAAAAAAAAAAAAAAAAAAAAAAAAAAAAAAAAAAAAAAAAAAAAAAAAAAAAAAAAAAAAAAAAAAAAAAAAAAAAAAAAAAAAAAAAAAAAAAAAAAAAAAAAAAAAAAAAAAAAAAAAAAAAAAAAAAAAAAAAAAAAAAAAAAAAAAAAAAAAAAAAAAAAAAAAAAAAAAAAAAAAAAAAAAAAAAAAAAAAAAAAAAAAAAAAAAAAAAAAAAAAAAAAAAAAAAAAAAAAAAAAAAAAAAAAAAAAAAAAAAAAAAAAAAAAAAAAAAAAAAAAAAAAAAAAAAAAAAAAAAAAAAAAAAAAAAAAAAAAAAAAAAAAAAAAAAAAAAAAAAAAAAAAAAAAAAAAAAAAAAAAAAAAAAAAAAAAAAAAAAAAAAAAAAAAAAAAAAAAAAAAAAAAAAAAAAAAAAAAAAAAAAAAAAAAAAAAAAAAAAAAAAAAAAAAAAAAAAAAAAAAAAAAAAAAAAAAAAAAAAAAAAAAAAAAAAAAAAAAAAAAAAAAAAAAAAAAAAAAAAAAAAAAAAAAAAAAAAAAAAAAAAAAAAAAAAAAAAAAAAAAAAAAAAAAAAAAAAAAAAAAAAAAAAAAAAAAAAAAAAAAAAAAAAAAAAAAAAAAAAAAAAAAAAAAAAAAAAAAAAAAAAAAAAAAAAAAAAAAAAAAAAAAAAAAAAAAAAAAAAAAAAAAAAAAAAAAAAAAAAAAAAAAAAAAAAAAAAAAAAAAAAAAAAAAAAAAAAAAAAAAAAAAAAAAAAAAAAAAAAAAAAAAAAAAAAAAAAAAAAAAAAAAAAAAAAAAAAAAAAAAAAAAAAAAAAAAAAAAAAAAAAAAAAAAAAAAAAAAAAAAAAAAAAAAAAAAAAAAAAAAAAAAAAAAAAAAAAAAAAAAAAAAAAAAAAAAAAAAAAAAAAAAAAAAAAAAAAAAAAAAAAAAAAAAAAAAAAAAAAAAAAAAAAAAAAAAAAAAAAAAAAAAAAAAAAAAAAAAAAAAAAAAAAAAAAAAAAAAAAAAAAAAAAAAAAAAAAAAAAAAAAAAAAAAAAAAAAAAAAAAAAAAAAAAAAAAAAAAAAAAAAAAAAAAAAAAAAAAAAAAAAAAAAAAAAAAAAAAAAAAAAAAAAAAAAAAAAAAAAAAAAAAAAAAAAAAAAAAAAAAAAAAAAAAAAAAAAAAAAAAAAAAAAAAAAAAAAAAAAAAAAAAAAAAAAAAAAAAAAAAAAAAAAAAAAAAAAAAAAAAAAAAAAAAAAAAAAAAAAAAAAAAAAAAAAAAAAAAAAAAAAAAAAAAAAAAAAAAAAAAAAAAAAAAAAAAAAAAAAAAAAAAAAAAAAAAAAAAAAAAAAAAAAAAAAAAAAAAAAAAAAAAAAAAAAAAAAAAAAAAAAAAAAAAAAAAAAAAAAAAAAAAAAAAAAAAAAAAAAAAAAAAAAAAAAAAAAAAAAAAAAAAAAAAAAAAAAAAAAAAAAAAAAAAAAAAAAAAAAAAAAAAAAAAAAAAAAAAAAAAAAAAAAAAAAAAAAAAAAAAAAAAAAAAAAAAAAAAAAAAAAAAAAAAAAAAAAAAAAAAAAAAAAAAAAAAAAAAAAAAAAAAAAAAAAAAAAAAAAAAAAAAAAAAAAAAAAAAAAAAAAAAAAAAAAAAAAAAAAAAAAAAAAAAAAAAAAAAAAAAAAAAAAAAAAAAAAAAAAAAAAAAAAAAAAAAAAAAAAAAAAAAAAAAAAAAAAAAAAAAAAAAAAAAAAAAAAAAAAAAAAAAAAAAAAAAAAAAAAAAAAAAAAAAAAAAAAAAAAAAAAAAAAAAAAAAAAAAAAAAAAAAAAAAAAAAAAAAAAAAAAAAAAAAAAAAAAAAAAAAAAAAAAAAAAAAAAAAAAAAAAAAAAAAAAAAAAAAAAAAAAAAAAAAAAAAAAAAAAAAAAAAAAAAAAAAAAAAAAAAAAAAAAAAAAAAAAAAAAAAAAAAAAAAAAAAAAAAAAAAAAAAAAAAAAAAAAAAAAAAAAAAAAAAAAAAAAAAAAAAAAAAAAAAAAAAAAAAAAAAAAAAAAAAAAAAAAAAAAAAAAAAAAAAAAAAAAAAAAAAAAAAAAAAAAAAAAAAAAAAAAAAAAAAAAAAAAAAAAAAAAAAAAAAAAAAAAAAAAAAAAAAAAAAAAAAAAAAAAAAAAAAAAAAAAAAAAAAAAAAAAAAAAAAAAAAAAAAAAAAAAAAAAAAAAAAAAAAAAAAAAAAAAAAAAAAAAAAAAAAAAAAAAAAAAAAAAAAAAAAAAAAAAAAAAAAAAAAAAAAAAAAAAAAAAAAAAAAAAAAAAAAAAAAAAAAAAAAAAAAAAAAAAAAAAAAAAAAAAAAAAAAAAAAAAAAAAAAAAAAAAAAAAAAAAAAAAAAAAAAAAAAAAAAAAAAAAAAAAAAAAAAAAAAAAAAAAAAAAAAAAAAAAAAAAAAAAAAAAAAAAAAAAAAAAAAAAAAAAAAAAAAAAAAAAAAAAAAAAAAAAAAAAAAAAAAAAAAAAAAAAAAAAAAAAAAAAAAAAAAAAAAAAAAAAAAAAAAAAAAAAAAAAAAAAAAAAAAAAAAAAAAAAAAAAAAAAAAAAAAAAAAAAAAAAAAAAAAAAAAAAAAAAAAAAAAAAAAAAAAAAAAAAAAAAAAAAAAAAAAAAAAAAAAAAAAAAAAAAAAAAAAAAAAAAAAAAAAAAAAAAAAAAAAAAAAAAAAAAAAAAAAAAAAAAAAAAAAAAAAAAAAAAAAAAAAAAAAAAAAAAAAAAAAAAAAAAAAAAAAAAAAAAAAAAAAAAAAAAAAAAAAAAAAAAAAAAAAAAAAAAAAAAAAAAAAAAAAAAAAAAAAAAAAAAAAAAAAAAAAAAAAAAAAAAAAAAAAAAAAAAAAAAAAAAAAAAAAAAAAAAAAAAAAAAAAAAAAAAAAAAAAAAAAAAAAAAAAAAAAAAAAAAAAAAAAAAAAAAAAAAAAAAAAAAAAAAAAAAAAAAAAAAAAAAAAAAAAAAAAAAAAAAAAAAAAAAAAAAAAAAAAAAAAAAAAAAAAAAAAAAAAAAAAAAAAAAAAAAAAAAAAAAAAAAAAAAAAAAAAAAAAAAAAAAAAAAAAAAAAAAAAAAAAAAAAAAAAAAAAAAAAAAAAAAAAAAAAAAAAAAAAAAAAAAAAAAAAAAAAAAAAAAAAAAAAAAAAAAAAAAAAAAAAAAAAAAAAAAAAAAAAAAAAAAAAAAAAAAAAAAAAAAAAAAAAAAAAAAAAAAAAAAAAAAAAAAAAAAAAAAAAAAAAAAAAAAAAAAAAAAAAAAAAAAAAAAAAAAAAAAAAAAAAAAAAAAAAAAAAAAAAAAAAAAAAAAAAAAAAAAAAAAAAAAAAAAAAAAAAAAAAAAAAAAAAAAAAAAAAAAAAAAAAAAAAAAAAAAAAAAAAAAAAAAAAAAAAAAAAAAAAAAAAAAAAAAAAAAAAAAAAAAAAAAAAAAAAAAAAAAAAAAAAAAAAAAAAAAAAAAAAAAAAAAAAAAAAAAAAAAAAAAAAAAAAAAAAAAAAAAAAAAAAAAAAAAAAAAAAAAAAAAAAAAAAAAAAAAAAAAAAAAAAAAAAAAAAAAAAAAAAAAAAAAAAAAAAAAAAAAAAAAAAAAAAAAAAAAAAAAAAAAAAAAAAAAAAAAAAAAAAAAAAAAAAAAAAAAAAAAAAAAAAAAAAAAAAAAAAAAAAAAAAAAAAAAAAAAAAAAAAAAAAAAAAAAAAAAAAAAAAAAAAAAAAAAAAAAAAAAAAAAAAAAAAAAAAAAAAAAAAAAAAAAAAAAAAAAAAAAAAAAAAAAAAAAAAAAAAAAAAAAAAAAAAAAAAAAAAAAAAAAAAAAAAAAAAAAAAAAAAAAAAAAAAAAAAAAAAAAAAAAAAAAAAAAAAAAAAAAAAAAAAAAAAAAAAAAAAAAAAAAAAAAAAAAAAAAAAAAAAAAAAAAAAAAAAAAAAAAAAAAAAAAAAAAAAAAAAAAAAAAAAAAAAAAAAAAAAAAAAAAAAAAAAAAAAAAAAAAAAAAAAAAAAAAAAAAAAAAAAAAAAAAAAAAAAAAAAAAAAAAAAAAAAAAAAAAAAAAAAAAAAAAAAAAAAAAAAAAAAAAAAAAAAAAAAAAAAAAAAAAAAAAAAAAAAAAAAAAAAAAAAAAAAAAAAAAAAAAAAAAAAAAAAAAAAAAAAAAAAAAAAAAAAAAAAAAAAAAAAAAAAAAAAAAAAAAAAAAAAAAAAAAAAAAAAAAAAAAAAAAAAAAAAAAAAAAAAAAAAAAAAAAAAAAAAAAAAAAAAAAAAAAAAAAAAAAAAAAAAAAAAAAAAAAAAAAAAAAAAAAAAAAAAAAAAAAAAAAAAAAAAAAAAAAAAAAAAAAAAAAAAAAAAAAAAAAAAAAAAAAAAAAAAAAAAAAAAAAAAAAAAAAAAAAAAAAAAAAAAAAAAAAAAAAAAAAAAAAAAAAAAAAAAAAAAAAAAAAAAAAAAAAAAAAAAAAAAAAAAAAAAAAAAAAAAAAAAAAAAAAAAAAAAAAAAAAAAAAAAAAAAAAAAAAAAAAAAAAAAAAAAAAAAAAAAAAAAAAAAAAAAAAAAAAAAAAAAAAAAAAAAAAAAAAAAAAAAAAAAAAAAAAAAAAAAAAAAAAAAAAAAAAAAAAAAAAAAAAAAAAAAAAAAAAAAAAAAAAAAAAAAAAAAAAAAAAAAAAAAAAAAAAAAAAAAAAAAAAAAAAAAAAAAAAAAAAAAAAAAAAAAAAAAAAAAAAAAAAAAAAAAAAAAAAAAAAAAAAAAAAAAAAAAAAAAAAAAAAAAAAAAAAAAAAAAAAAAAAAAAAAAAAAAAAAAAAAAAAAAAAAAAAAAAAAAAAAAAAAAAAAAAAAAAAAAAAAAAAAAAAAAAAAAAAAAAAAAAAAAAAAAAAAAAAAAAAAAAAAAAAAAAAAAAAAAAAAAAAAAAAAAAAAAAAAAAAAAAAAAAAAAAAAAAAAAAAAAAAAAAAAAAAAAAAAAAAAAAAAAAAAAAAAAAAAAAAAAAAAAAAAAAAAAAAAAAAAAAAAAAAAAAAAAAAAAAAAAAAAAAAAAAAAAAAAAAAAAAAAAAAAAAAAAAAAAAAAAAAAAAAAAAAAAAAAAAAAAAAAAAAAAAAAAAAAAAAAAAAAAAAAAAAAAAAAAAAAAAAAAAAAAAAAAAAAAAAAAAAAAAAAAAAAAAAAAAAAAAAAAAAAAAAAAAAAAAAAAAAAAAAAAAAAAAAAAAAAAAAAAAAAAAAAAAAAAAAAAAAAAAAAAAAAAAAAAAAAAAAAAAAAAAAAAAAAAAAAAAAAAAAAAAAAAAAAAAAAAAAAAAAAAAAAAAAAAAAAAAAAAAAAAAAAAAAAAAAAAAAAAAAAAAAAAAAAAAAAAAAAAAAAAAAAAAAAAAAAAAAAAAAAAAAAAAAAAAAAAAAAAAAAAAAAAAAAAAAAAAAAAAAAAAAAAAAAAAAAAAAAAAAAAAAAAAAAAAAAAAAAAAAAAAAAAAAAAAAAAAAAAAAAAAAAAAAAAAAAAAAAAAAAAAAAAAAAAAAAAAAAAAAAAAAAAAAAAAAAAAAAAAAAAAAAAAAAAAAAAAAAAAAAAAAAAAAAAAAAAAAAAAAAAAAAAAAAAAAAAAAAAAAAAAAAAAAAAAAAAAAAAAAAAAAAAAAAAAAAAAAAAAAAAAAAAAAAAAAAAAAAAAAAAAAAAAAAAAAAAAAAAAAAAAAAAAAAAAAAAAAAAAAAAAAAAAAAAAAAAAAAAAAAAAAAAAAAAAAAAAAAAAAAAAAAAAAAAAAAAAAAAAAAAAAAAAAAAAAAAAAAAAAAAAAAAAAAAAAAAAAAAAAAAAAAAAAAAAAAAAAAAAAAAAAAAAAAAAAAAAAAAAAAAAAAAAAAAAAAAAAAAAAAAAAAAAAAAAAAAAAAAAAAAAAAAAAAAAAAAAAAAAAAAAAAAAAAAAAAAAAAAAAAAAAAAAAAAAAAAAAAAAAAAAAAAAAAAAAAAAAAAAAAAAAAAAAAAAAAAAAAAAAAAAAAAAAAAAAAAAAAAAAAAAAAAAAAAAAAAAAAAAAAAAAAAAAAAAAAAAAAAAAAAAAAAAAAAAAAAAAAAAAAAAAAAAAAAAAAAAAAAAAAAAAAAAAAAAAAAAAAAAAAAAAAAAAAAAAAAAAAAAAAAAAAAAAAAAAAAAAAAAAAAAAAAAAAAAAAAAAAAAAAAAAAAAAAAAAAAAAAAAAAAAAAAAAAAAAAAAAAAAAAAAAAAAAAAAAAAAAAAAAAAAAAAAAAAAAAAAAAAAAAAAAAAAAAAAAAAAAAAAAAAAAAAAAAAAAAAAAAAAAAAAAAAAAAAAAAAAAAAAAAAAAAAAAAAAAAAAAAAAAAAAAAAAAAAAAAAAAAAAAAAAAAAAAAAAAAAAAAAAAAAAAAAAAAAAAAAAAAAAAAAAAAAAAAAAAAAAAAAAAAAAAAAAAAAAAAAAAAAAAAAAAAAAAAAAAAAAAAAAAAAAAAAAAAAAAAAAAAAAAAAAAAAAAAAAAAAAAAAAAAAAAAAAAAAAAAAAAAAAAAAAAAAAAAAAAAAAAAAAAAAAAAAAAAAAAAAAAAAAAAAAAAAAAAAAAAAAAAAAAAAAAAAAAAAAAAAAAAAAAAAAAAAAAAAAAAAAAAAAAAAAAAAAAAAAAAAAAAAAAAAAAAAAAAAAAAAAAAAAAAAAAAAAAAAAAAAAAAAAAAAAAAAAAAAAAAAAAAAAAAAAAAAAAAAAAAAAAAAAAAAAAAAAAAAAAAAAAAAAAAAAAAAAAAAAAAAAAAAAAAAAAAAAAAAAAAAAAAAAAAAAAAAAAAAAAAAAAAAAAAAAAAAAAAAAAAAAAAAAAAAAAAAAAAAAAAAAAAAAAAAAAAAAAAAAAAAAAAAAAAAAAAAAAAAAAAAAAAAAAAAAAAAAAAAAAAAAAAAAAAAAAAAAAAAAAAAAAAAAAAAAAAAAAAAAAAAAAAAAAAAAAAAAAAAAAAAAAAAAAAAAAAAAAAAAAAAAAAAAAAAAAAAAAAAAAAAAAAAAAAAAAAAAAAAAAAAAAAAAAAAAAAAAAAAAAAAAAAAAAAAAAAAAAAAAAAAAAAAAAAAAAAAAAAAAAAAAAAAAAAAAAAAAAAAAAAAAAAAAAAAAAAAAAAAAAAAAAAAAAAAAAAAAAAAAAAAAAAAAAAAAAAAAAAAAAAAAAAAAAAAAAAAAAAAAAAAAAAAAAAAAAAAAAAAAAAAAAAAAAAAAAAAAAAAAAAAAAAAAAAAAAAAAAAAAAAAAAAAAAAAAAAAAAAAAAAAAAAAAAAAAAAAAAAAAAAAAAAAAAAAAAAAAAAAAAAAAAAAAAAAAAAAAAAAAAAAAAAAAAAAAAAAAAAAAAAAAAAAAAAAAAAAAAAAAAAAAAAAAAAAAAAAAAAAAAAAAAAAAAAAAAAAAAAAAAAAAAAAAAAAAAAAAAAAAAAAAAAAAAAAAAAAAAAAAAAAAAAAAAAAAAAAAAAAAAAAAAAAAAAAAAAAAAAAAAAAAAAAAAAAAAAAAAAAAAAAAAAAAAAAAAAAAAAAAAAAAAAAAAAAAAAAAAAAAAAAAAAAAAAAAAAAAAAAAAAAAAAAAAAAAAAAAAAAAAAAAAAAAAAAAAAAAAAAAAAAAAAAAAAAAAAAAAAAAAAAAAAAAAAAAAAAAAAAAAAAAAAAAAAAAAAAAAAAAAAAAAAAAAAAAAAAAAAAAAAAAAAAAAAAAAAAAAAAAAAAAAAAAAAAAAAAAAAAAAAAAAAAAAAAAAAAAAAAAAAAAAAAAAAAAAAAAAAAAAAAAAAAAAAAAAAAAAAAAAAAAAAAAAAAAAAAAAAAAAAAAAAAAAAAAAAAAAAAAAAAAAAAAAAAAAAAAAAAAAAAAAAAAAAAAAAAAAAAAAAAAAAAAAAAAAAAAAAAAAAAAAAAAAAAAAAAAAAAAAAAAAAAAAAAAAAAAAAAAAAAAAAAAAAAAAAAAAAAAAAAAAAAAAAAAAAAAAAAAAAAAAAAAAAAAAAAAAAAAAAAAAAAAAAAAAAAAAAAAAAAAAAAAAAAAAAAAAAAAAAAAAAAAAAAAAAAAAAAAAAAAAAAAAAAAAAAAAAAAAAAAAAAAAAAAAAAAAAAAAAAAAAAAAAAAAAAAAAAAAAAAAAAAAAAAAAAAAAAAAAAAAAAAAAAAAAAAAAAAAAAAAAAAAAAAAAAAAAAAAAAAAAAAAAAAAAAAAAAAAAAAAAAAAAAAAAAAAAAAAAAAAAAAAAAAAAAAAAAAAAAAAAAAAAAAAAAAAAAAAAAAAAAAAAAAAAAAAAAAAAAAAAAAAAAAAAAAAAAAAAAAAAAAAAAAAAAAAAAAAAAAAAAAAAAAAAAAAAAAAAAAAAAAAAAAAAAAAAAAAAAAAAAAAAAAAAAAAAAAAAAAAAAAAAAAAAAAAAAAAAAAAAAAAAAAAAAAAAAAAAAAAAAAAAAAAAAAAAAAAAAAAAAAAAAAAAAAAAAAAAAAAAAAAAAAAAAAAAAAAAAAAAAAAAAAAAAAAAAAAAAAAAAAAAAAAAAAAAAAAAAAAAAAAAAAAAAAAAAAAAAAAAAAAAAAAAAAAAAAAAAAAAAAAAAAAAAAAAAAAAAAAAAAAAAAAAAAAAAAAAAAAAAAAAAAAAAAAAAAAAAAAAAAAAAAAAAAAAAAAAAAAAAAAAAAAAAAAAAAAAAAAAAAAAAAAAAAAAAAAAAAAAAAAAAAAAAAAAAAAAAAAAAAAAAAAAAAAAAAAAAAAAAAAAAAAAAAAAAAAAAAAAAAAAAAAAAAAAAAAAAAAAAAAAAAAAAAAAAAAAAAAAAAAAAAAAAAAAAAAAAAAAAAAAAAAAAAAAAAAAAAAAAAAAAAAAAAAAAAAAAAAAAAAAAAAAAAAAAAAAAAAAAAAAAAAAAAAAAAAAAAAAAAAAAAAAAAAAAAAAAAAAAAAAAAAAAAAAAAAAAAAAAAAAAAAAAAAAAAAAAAAAAAAAAAAAAAAAAAAAAAAAAAAAAAAAAAAAAAAAAAAAAAAAAAAAAAAAAAAAAAAAAAAAAAAAAAAAAAAAAAAAAAAAAAAAAAAAAAAAAAAAAAAAAAAAAAAAAAAAAAAAAAAAAAAAAAAAAAAAAAAAAAAAAAAAAAAAAAAAAAAAAAAAAAAAAAAAAAAAAAAAAAAAAAAAAAAAAAAAAAAAAAAAAAAAAAAAAAAAAAAAAAAAAAAAAAAAAAAAAAAAAAAAAAAAAAAAAAAAAAAAAAAAAAAAAAAAAAAAAAAAAAAAAAAAAAAAAAAAAAAAAAAAAAAAAAAAAAAAAAAAAAAAAAAAAAAAAAAAAAAAAAAAAAAAAAAAAAAAAAAAAAAAAAAAAAAAAAAAAAAAAAAAAAAAAAAAAAAAAAAAAAAAAAAAAAAAAAAAAAAAAAAAAAAAAAAAAAAAAAAAAAAAAAAAAAAAAAAAAAAAAAAAAAAAAAAAAAAAAAAAAAAAAAAAAAAAAAAAAAAAAAAAAAAAAAAAAAAAAAAAAAAAAAAAAAAAAAAAAAAAAAAAAAAAAAAAAAAAAAAAAAAAAAAAAAAAAAAAAAAAAAAAAAAAAAAAAAAAAAAAAAAAAAAAAAAAAAAAAAAAAAAAAAAAAAAAAAAAAAAAAAAAAAAAAAAAAAAAAAAAAAAAAAAAAAAAAAAAAAAAAAAAAAAAAAAAAAAAAAAAAAAAAAAAAAAAAAAAAAAAAAAAAAAAAAAAAAAAAAAAAAAAAAAAAAAAAAAAAAAAAAAAAAAAAAAAAAAAAAAAAAAAAAAAAAAAAAAAAAAAAAAAAAAAAAAAAAAAAAAAAAAAAAAAAAAAAAAAAAAAAAAAAAAAAAAAAAAAAAAAAAAAAAAAAAAAAAAAAAAAAAAAAAAAAAAAAAAAAAAAAAAAAAAAAAAAAAAAAAAAAAAAAAAAAAAAAAAAAAAAAAAAAAAAAAAAAAAAAAAAAAAAAAAAAAAAAAAAAAAAAAAAAAAAAAAAAAAAAAAAAAAAAAAAAAAAAAAAAAAAAAAAAAAAAAAAAAAAAAAAAAAAAAAAAAAAAAAAAAAAAAAAAAAAAAAAAAAAAAAAAAAAAAAAAAAAAAAAAAAAAAAAAAAAAAAAAAAAAAAAAAAAAAAAAAAAAAAAAAAAAAAAAAAAAAAAAAAAAAAAAAAAAAAAAAAAAAAAAAAAAAAAAAAAAAAAAAAAAAAAAAAAAAAAAAAAAAAAAAAAAAAAAAAAAAAAAAAAAAAAAAAAAAAAAAAAAAAAAAAAAAAAAAAAAAAAAAAAAAAAAAAAAAAAAAAAAAAAAAAAAAAAAAAAAAAAAAAAAAAAAAAAAAAAAAAAAAAAAAAAAAAAAAAAAAAAAAAAAAAAAAAAAAAAAAAAAAAAAAAAAAAAAAAAAAAAAAAAAAAAAAAAAAAAAAAAAAAAAAAAAAAAAAAAAAAAAAAAAAAAAAAAAAAAAAAAAAAAAAAAAAAAAAAAAAAAAAAAAAAAAAAAAAAAAAAAAAAAAAAAAAAAAAAAAAAAAAAAAAAAAAAAAAAAAAAAAAAAAAAAAAAAAAAAAAAAAAAAAAAAAAAAAAAAAAAAAAAAAAAAAAAAAAAAAAAAAAAAAAAAAAAAAAAAAAAAAAAAAAAAAAAAAAAAAAAAAAAAAAAAAAAAAAAAAAAAAAAAAAAAAAAAAAAAAAAAAAAAAAAAAAAAAAAAAAAAAAAAAAAAAAAAAAAAAAAAAAAAAAAAAAAAAAAAAAAAAAAAAAAAAAAAAAAAAAAAAAAAAAAAAAAAAAAAAAAAAAAAAAAAAAAAAAAAAAAAAAAAAAAAAAAAAAAAAAAAAAAAAAAAAAAAAAAAAAAAAAAAAAAAAAAAAAAAAAAAAAAAAAAAAAAAAAAAAAAAAAAAAAAAAAAAAAAAAAAAAAAAAAAAAAAAAAAAAAAAAAAAAAAAAAAAAAAAAAAAAAAAAAAAAAAAAAAAAAAAAAAAAAAAAAAAAAAAAAAAAAAAAAAAAAAAAAAAAAAAAAAAAAAAAAAAAAAAAAAAAAAAAAAAAAAAAAAAAAAAAAAAAAAAAAAAAAAAAAAAAAAAAAAAAAAAAAAAAAAAAAAAAAAAAAAAAAAAAAAAAAAAAAAAAAAAAAAAAAAAAAAAAAAAAAAAAAAAAAAAAAAAAAAAAAAAAAAAAAAAAAAAAAAAAAAAAAAAAAAAAAAAAAAAAAAAAAAAAAAAAAAAAAAAAAAAAAAAAAAAAAAAAAAAAAAAAAAAAAAAAAAAAAAAAAAAAAAAAAAAAAAAAAAAAAAAAAAAAAAAAAAAAAAAAAAAAAAAAAAAAAAAAAAAAAAAAAAAAAAAAAAAAAAAAAAAAAAAAAAAAAAAAAAAAAAAAAAAAAAAAAAAAAAAAAAAAAAAAAAAAAAAAAAAAAAAAAAAAAAAAAAAAAAAAAAAAAAAAAAAAAAAAAAAAAAAAAAAAAAAAAAAAAAAAAAAAAAAAAAAAAAAAAAAAAAAAAAAAAAAAAAAAAAAAAAAAAAAAAAAAAAAAAAAAAAAAAAAAAAAAAAAAAAAAAAAAAAAAAAAAAAAAAAAAAAAAAAAAAAAAAAAAAAAAAAAAAAAAAAAAAAAAAAAAAAAAAAAAAAAAAAAAAAAAAAAAAAAAAAAAAAAAAAAAAAAAAAAAAAAAAAAAAAAAAAAAAAAAAAAAAAAAAAAAAAAAAAAAAAAAAAAAAAAAAAAAAAAAAAAAAAAAAAAAAAAAAAAAAAAAAAAAAAAAAAAAAAAAAAAAAAAAAAAAAAAAAAAAAAAAAAAAAAAAAAAAAAAAAAAAAAAAAAAAAAAAAAAAAAAAAAAAAAAAAAAAAAAAAAAAAAAAAAAAAAAAAAAAAAAAAAAAAAAAAAAAAAAAAAAAAAAAAAAAAAAAAAAAAAAAAAAAAAAAAAAAAAAAAAAAAAAAAAAAAAAAAAAAAAAAAAAAAAAAAAAAAAAAAAAAAAAAAAAAAAAAAAAAAAAAAAAAAAAAAAAAAAAAAAAAAAAAAAAAAAAAAAAAAAAAAAAAAAAAAAAAAAAAAAAAAAAAAAAAAAAAAAAAAAAAAAAAAAAAAAAAAAAAAAAAAAAAAAAAAAAAAAAAAAAAAAAAAAAAAAAAAAAAAAAAAAAAAAAAAAAAAAAAAAAAAAAAAAAAAAAAAAAAAAAAAAAAAAAAAAAAAAAAAAAAAAAAAAAAAAAAAAAAAAAAAAAAAAAAAAAAAAAAAAAAAAAAAAAAAAAAAAAAAAAAAAAAAAAAAAAAAAAAAAAAAAAAAAAAAAAAAAAAAAAAAAAAAAAAAAAAAAAAAAAAAAAAAAAAAAAAAAAAAAAAAAAAAAAAAAAAAAAAAAAAAAAAAAAAAAAAAAAAAAAAAAAAAAAAAAAAAAAAAAAAAAAAAAAAAAAAAAAAAAAAAAAAAAAAAAAAAAAAAAAAAAAAAAAAAAAAAAAAAAAAAAAAAAAAAAAAAAAAAAAAAAAAAAAAAAAAAAAAAAAAAAAAAAAAAAAAAAAAAAAAAAAAAAAAAAAAAAAAAAAAAAAAAAAAAAAAAAAAAAAAAAAAAAAAAAAAAAAAAAAAAAAAAAAAAAAAAAAAAAAAAAAAAAAAAAAAAAAAAAAAAAAAAAAAAAAAAAAAAAAAAAAAAAAAAAAAAAAAAAAAAAAAAAAAAAAAAAAAAAAAAAAAAAAAAAAAAAAAAAAAAAAAAAAAAAAAAAAAAAAAAAAAAAAAAAAAAAAAAAAAAAAAAAAAAAAAAAAAAAAAAAAAAAAAAAAAAAAAAAAAAAAAAAAAAAAAAAAAAAAAAAAAAAAAAAAAAAAAAAAAAAAAAAAAAAAAAAAAAAAAAAAAAAAAAAAAAAAAAAAAAAAAAAAAAAAAAAAAAAAAAAAAAAAAAAAAAAAAAAAAAAAAAAAAAAAAAAAAAAAAAAAAAAAAAAAAAAAAAAAAAAAAAAAAAAAAAAAAAAAAAAAAAAAAAAAAAAAAAAAAAAAAAAAAAAAAAAAAAAAAAAAAAAAAAAAAAAAAAAAAAAAAAAAAAAAAAAAAAAAAAAAAAAAAAAAAAAAAAAAAAAAAAAAAAAAAAAAAAAAAAAAAAAAAAAAAAAAAAAAAAAAAAAAAAAAAAAAAAAAAAAAAAAAAAAAAAAAAAAAAAAAAAAAAAAAAAAAAAAAAAAAAAAAAAAAAAAAAAAAAAAAAAAAAAAAAAAAAAAAAAAAAAAAAAAAAAAAAAAAAAAAAAAAAAAAAAAAAAAAAAAAAAAAAAAAAAAAAAAAAAAAAAAAAAAAAAAAAAAAAAAAAAAAAAAAAAAAAAAAAAAAAAAAAAAAAAAAAAAAAAAAAAAAAAAAAAAAAADwPwAAAAAAAAAAAAAAAAAAAAAAAAAAAAAAAAAAAAAAAAAAAAAAAAAAAAAAAAAAAAAAAAAAAAAAAAAAAAAAAAAAAAAAAAAAAAAAAAAAAAAAAAAAAAAAAAAAAAAAAAAAAAAAAAAAAAAAAAAAAAAAAAAAAAAAAAAAAAAAAAAAAAAAAAAAAAAAAAAAAAAAAAAAAAAAAAAAAAAAAAAAAAAAAAAAAAAAAAAAAAAAAAAAAAAAAAAAAAAAAAAAAAAAAAAAAAAAAAAAAAAAAAAAAAAAAAAAAAAAAAAAAAAAAAAAAAAAAAAAAAAAAAAAAAAAAAAAAAAAAAAAAAAAAAAAAAAAAAAAAAAAAAAAAAAAAAAAAAAAAAAAAAAAAAAAAAAAAAAAAAAAAAAAAAAAAAAAAAAAAAAAAAAAAAAAAAAAAAAAAAAAAAAAAAAAAAAAAAAAAAAAAAAAAAAAAAAAAAAAAAAAAAAAAAAAAAAAAAAAAAAAAAAAAAAAAAAAAAAAAAAAAAAAAAAAAAAAAAAAAAAAAAAAAAAAAAAAAAAAAAAAAAAAAAAAAAAAAAAAAAAAAAAAAAAAAAAAAAAAAAAAAAAAAAAAAAAAAAAAAAAAAAAAAAAAAAAAAAAAAAAAAAAAAAAAAAAAAAAAAAAAAAAAAAAAAAAAAAAAAAAAAAAAAAAAAAAAAAAAAAAAAAAAAAAAAAAAAAAAAAAAAAAAAAAAAAAAAAAAAAAAAAAAAAAAAAAAAAAAAAAAAAAAAAAAAAAAAAAAAAAAAAAAAAAAAAAAAAAAAAAAAAAAAAAAAAAAAAAAAAAAAAAAAAAAAAAAAAAAAAAAAAAAAAAAAAAAAAAAAAAAAAAAAAAAAAAAAAAAAAAAAAAAAAAAAAAAAAAAAAAAAAAAAAAAAAAAAAAAAAAAAAAAAAAAAAAAAAAAAAAAAAAAAAAAAAAAAAAAAAAAAAAAAAAAAAAAAAAAAAAAAAAAAAAAAAAAAAAAAAAAAAAAAAAAAAAAAAAAAAAAAAAAAAAAAAAAAAAAAAAAAAAAAAAAAAAAAAAAAAAAAAAAAAAAAAAAAAAAAAAAAAAAAAAAAAAAAAAAAAAAAAAAAAAAAAAAAAAAAAAAAAAAAAAAAAAAAAAAAAAAAAAAAAAAAAAAAAAAAAAAAAAAAAAAAAAAAAAAAAAAAAAAAAAAAAAAAAAAAAAAAAAAAAAAAAAAAAAAAAAAAAAAAAAAAAAAAAAAAAAAAAAAAAAAAAAAAAAAAAAAAAAAAAAAAAAAAAAAAAAAAAAAAAAAAAAAAAAAAAAAAAAAAAAAAAAAAAAAAAAAAAAAAAAAAAAAAAAAAAAAAAAAAAAAAAAAAAAAAAAAAAAAAAAAAAAAAAAAAAAAAAAAAAAAAAAAAAAAAAAAAAAAAAAAAAAAAAAAAAAAAAAAAAAAAAAAAAAAAAAAAAAAAAAAAAAAAAAAAAAAAAAAAAAAAAAAAAAAAAAAAAAAAAAAAAAAAAAAAAAAAAAAAAAAAAAAAAAAAAAAAAAAAAAAAAAAAAAAAAAAAAAAAAAAAAAAAAAAAAAAAAAAAAAAAAAAAAAAAAAAAAAAAAAAAAAAAAAAAAAAAAAAAAAAAAAAAAAAAAAAAAAAAAAAAAAAAAAAAAAAAAAAAAAAAAAAAAAAAAAAAAAAAAAAAAAAAAAAAAAAAAAAAAAAAAAAAAAAAAAAAAAAAAAAAAAAAAAAAAAAAAAAAAAAAAAAAAAAAAAAAAAAAAAAAAAAAAAAAAAAAAAAAAAAAAAAAAAAAAAAAAAAAAAAAAAAAAAAAAAAAAAAAAAAAAAAAAAAAAAAAAAAAAAAAAAAAAAAAAAAAAAAAAAAAAAAAAAAAAAAAAAAAAAAAAAAAAAAAAAAAAAAAAAAAAAAAAAAAAAAAAAAAAAAAAAAAAAAAAAAAAAAAAAAAAAAAAAAAAAAAAAAAAAAAAAAAAAAAAAAAAAAAAAAAAAAAAAAAAAAAAAAAAAAAAAAAAAAAAAAAAAAAAAAAAAAAAAAAAAAAAAAAAAAAAAAAAAAAAAAAAAAAAAAAAAAAAAAAAAAAAAAAAAAAAAAAAAAAAAAAAAAAAAAAAAAAAAAAAAAAAAAAAAAAAAAAAAAAAAAAAAAAAAAAAAAAAAAAAAAAAAAAAAAAAAAAAAAAAAAAAAAAAAAAAAAAAAAAAAAAAAAAAAAAAAAAAAAAAAAAAAAAAAAAAAAAAAAAAAAAAAAAAAAAAAAAAAAAAAAAAAAAAAAAAAAAAAAAAAAAAAAAAAAAAAAAAAAAAAAAAAAAAAAAAAAAAAAAAAAAAAAAAAAAAAAAAAAAAAAAAAAAAAAAAAAAAAAAAAAAAAAAAAAAAAAAAAAAAAAAAAAAAAAAAAAAAAAAAAAAAAAAAAAAAAAAAAAAAAAAAAAAAAAAAAAAAAAAAAAAAAAAAAAAAAAAAAAAAAAAAAAAAAAAAAAAAAAAAAAAAAAAAAAAAAAAAAAAAAAAAAAAAAAAAAAAAAAAAAAAAAAAAAAAAAAAAAAAAAAAAAAAAAAAAAAAAAAAAAAAAAAAFdHm/cpLrk/AAAAAAAAAAAAAAAAAAAAAAAAAAAAAAAAAAAAAAAAAAAAAAAAAAAAAAAAAAAAAAAAAAAAAAAAAAAAAAAAAAAAAAAAAAAAAAAAAAAAAAAAAAAAAAAAAAAAAAAAAAAAAAAAAAAAAAAAAAAAAAAAAAAAAAAAAAAAAAAAAAAAAAAAAAAAAAAAAAAAAAAAAAAAAAAAAAAAAAAAAAAAAAAAAAAAAAAAAAAAAAAAAAAAAAAAAAAAAAAAAAAAAAAAAAAAAAAAAAAAAAAAAAAAAAAAAAAAAAAAAAAAAAAAAAAAAAAAAAAAAAAAAAAAAAAAAAAAAAAAAAAAAAAAAAAAAAAAAAAAAAAAAAAAAAAAAAAAAAAAAAAAAAAAAAAAAAAAAAAAAAAAAAAAAAAAAAAAAAAAAAAAAAAAAAAAAAAAAAAAAAAAAAAAAAAAAAAAAAAAAAAAAAAAAAAAAAAAAAAAAAAAAAAAAAAAAAAAAAAAAAAAAAAAAAAAAAAAAAAAAAAAAAAAAAAAAAAAAAAAAAAAAAAAAAAAAAAAAAAAAAAAAAAAAAAAAAAAAAAAAAAAAAAAAAAAAAAAAAAAAAAAAAAAAAAAAAAAAAAAAAAAAAAAAAAAAAAAAAAAAAAAAAAAAAAAAAAAAAAAAAAAAAAAAAAAAAAAAAAAAAAAAAAAAAAAAAAAAAAAAAAAAAAAAAAAAAAAAAAAAAAAAAAAAAAAAAAAAAAAAAAAAAAAAAAAAAAAAAAAAAAAAAAAAAAAAAAAAAAAAAAAAAAAAAAAAAAAAAAAAAAAAAAAAAAAAAAAAAAAAAAAAAAAAAAAAAAAAAAAAAAAAAAAAAAAAAAAAAAAAAAAAAAAAAAAAAAAAAAAAAAAAAAAAAAAAAAAAAAAAAAAAAAAAAAAAAAAAAAAAAAAAAAAAAAAAAAAAAAAAAAAAAAAAAAAAAAAAAAAAAAAAAAAAAAAAAAAAAAAAAAAAAAAAAAAAAAAAAAAAAAAAAAAAAAAAAAAAAAAAAAAAAAAAAAAAAAAAAAAAAAAAAAAAAAAAAAAAAAAAAAAAAAAAAAAAAAAAAAAAAAAAAAAAAAAAAAAAAAAAAAAAAAAAAAAAAAAAAAAAAAAAAAAAAAAAAAAAAAAAAAAAAAAAAAAAAAAAAAAAAAAAAAAAAAAAAAAAAAAAAAAAAAAAAAAAAAAAAAAAAAAAAAAAAAAAAAAAAAAAAAAAAAAAAAAAAAAAAAAAAAAAAAAAAAAAAAAAAAAAAAAAAAAAAAAAAAAAAAAAAAAAAAAAAAAAAAAAAAAAAAAAAAAAAAAAAAAAAAAAAAAAAAAAAAAAAAAAAAAAAAAAAAAAAAAAAAAAAAAAAAAAAAAAAAAAAAAAAAAAAAAAAAAAAAAAAAAAAAAAAAAAAAAAAAAAAAAAAAAAAAAAAAAAAAAAAAAAAAAAAAAAAAAAAAAAAAAAAAAAAAAAAAAAAAAAAAAAAAAAAAAAAAAAAAAAAAAAAAAAAAAAAAAAAAAAAAAAAAAAAAAAAAAAAAAAAAAAAAAAAAAAAAAAAAAAAAAAAAAAAAAAAAAAAAAAAAAAAAAAAAAAAAAAAAAAAAAAAAAAAAAAAAAAAAAAAAAAAAAAAAAAAAAAAAAAAAAAAAAAAAAAAAAAAAAAAAAAAAAAAAAAAAAAAAAAAAAAAAAAAAAAAAAAAAAAAAAAAAAAAAAAAAAAAAAAAAAAAAAAAAAAAAAAAAAAAAAAAAAAAAAAAAAAAAAAAAAAAAAAAAAAAAAAAAAAAAAAAAAAAAAAAAAAAAAAAAAAAAAAAAAAAAAAAAAAAAAAAAAAAAAAAAAAAAAAAAAAAAAAAAAAAAAAAAAAAAAAAAAAAAAAAAAAAAAAAAAAAAAAAAAAAAAAAAAAAAAAAAAAAAAAAAAAAAAAAAAAAAAAAAAAAAAAAAAAAAAAAAAAAAAAAAAAAAAAAAAAAAAAAAAAAAAAAAAAAAAAAAAAAAAAAAAAAAAAAAAAAAAAAAAAAAAAAAAAAAAAAAAAAAAAAAAAAAAAAAAAAAAAAAAAAAAAAAAAAAAAAAAAAAAAAAAAAAAAAAAAAAAAAAAAAAAAAAAAAAAAAAAAAAAAAAAAAAAAAAAAAAAAAAAAAAAAAAAAAAAAAAAAAAAAAAAAAAAAAAAAAAAAAAAAAAAAAAAAAAAAAAAAAAAAAAAAAAAAAAAAAAAAAAAAAAAAAAAAAAAAAAAAAAAAAAAAAAAAAAAAAAAAAAAAAAAAAAAAAAAAAAAAAAAAAAAAAAAAAAAAAAAAAAAAAAAAAAAAAAAAAAAAAAAAAAAAAAAAAAAAAAAAAAAAAAAAAAAAAAAAAAAAAAAAAAAAAAAAAAAAAAAAAAAAAAAAAAAAAAAAAAAAAAAAAAAAAAAAAAAAAAAAAAAAAAAAAAAAAAAAAAAAAAAAAAAAAAAAAAAAAAAAAAAAAAAAAAAAAAAAAAAAAAAAAAAAAAAAAAAAAAAAAAAAAAAAAAAAAAAAAAAAAAAAAAAAAAAAAAAAAAAAAAAAAAAAAAAAAAAAAAAAAAAAAAAAAAAAAAAAAAAAAAAAAAAAAAAAAAAAAAAAAAAAAAAAAAAAAAAAAAAAAAAAAAAAAAAAAAAAAAAAAAAAAAAAAAAAAAAAAAAAAAAAAAAAAAAAAAAAAAAAAAAAAAAAAAAAAAAAAAAAAAAAAAAAAAAAAAAAAAAAAAAAAAAAAAAAAAAAAAAAAAAAAAAAAAAAAAAAAAAAAAAAAAAAAAAAAAAAAAAAAAAAAAAAAAAAAAAAAAAAAAAAAAAAAAAAAAAAAAAAAAAAAAAAAAAAAAAAAAAAAAAAAAAAAAAAAAAAAAAAAAAAAAAAAAAAAAAAAAAAAAAAAAAAAAAAAAAAAAAAAAAAAAAAAAAAAAAAAAAAAAAAAAAAAAAAAAAAAAAAAAAAAAAAAAAAAAAAAAAAAAAAAAAAAAAAAAAAAAAAAAAAAAAAAAAAAAAAAAAAAAAAAAAAAAAAAAAAAAAAAAAAAAAAAAAAAAAAAAAAAAAAAAAAAAAAAAAAAAAAAAAAAAAAAAAAAAAAAAAAAAAAAAAAAAAAAAAAAAAAAAAAAAAAAAAAAAAAAAAAAAAAAAAAAAAAAAAAAAAAAAAAAAAAAAAAAAAAAAAAAAAAAAAAAAAAAAAAAAAAAAAAAAAAAAAAAAAAAAAAAAAAAAAAAAAAAAAAAAAAAAAAAAAAAAAAAAAAAAAAAAAAAAAAAAAAAAAAAAAAAAAAAAAAAAAAAAAAAAAAAAAAAAAAAAAAAAAAAAAAAAAAAAAAAAAAAAAAAAAAAAAAAAAAAAAAAAAAAAAAAAAAAAAAAAAAAAAAAAAAAAAAAAAAAAAAAAAAAAAAAAAAAAAAAAAAAAAAAAAAAAAAAAAAAAAAAAAAAAAAAAAAAAAAAAAAAAAAAAAAAAAAAAAAAAAAAAAAAAAAAAAAAAAAAAAAAAAAAAAAAAAAAAAAAAAAAAAAAAAAAAAAAAAAAAAAAAAAAAAAAAAAAAAAAAAAAAAAAAAAAAAAAAAAAAAAAAAAAAAAAAAAAAAAAAAAAAAAAAAAAAAAAAAAAAAAAAAAAAAAAAAAAAAAAAAAAAAAAAAAAAAAAAAAAAAAAAAAAAAAAAAAAAAAAAAAAAAAAAAAAAAAAAAAAAAAAAAAAAAAAAAAAAAAAAAAAAAAAAAAAAAAAAAAAAAAAAAAAAAAAAAAAAAAAAAAAAAAAAAAAAAAAAAAAAAAAAAAAAAAAAAAAAAAAAAAAAAAAAAAAAAAAAAAAAAAAAAAAAAAAAAAAAAAAAAAAAAAAAAAAAAAAAAAAAAAAAAAAAAAAAAAAAAAAAAAAAAAAAAAAAAAAAAAAAAAAAAAAAAAAAAAAAAAAAAAAAAAAAAAAAAAAAAAAAAAAAAAAAAAAAAAAAAAAAAAAAAAAAAAAAAAAAAAAAAAAAAAAAAAAAAAAAAAAAAAAAAAAAAAAAAAAAAAAAAAAAAAAAAAAAAAAAAAAAAAAAAAAAAAAAAAAAAAAAAAAAAAAAAAAAAAAAAAAAAAAAAAAAAAAAAAAAAAAAAAAAAAAAAAAAAAAAAAAAAAAAAAAAAAAAAAAAAAAAAAAAAAAAAAAAAAAAAAAAAAAAAAAAAAAAAAAAAAAAAAAAAAAAAAAAAAAAAAAAAAAAAAAAAAAAAAAAAAAAAAAAAAAAAAAAAAAAAAAAAAAAAAAAAAAAAAAAAAAAAAAAAAAAAAAAAAAAAAAAAAAAAAAAAAAAAAAAAAAAAAAAAAAAAAAAAAAAAAAAAAAAAAAAAAAAAAAAAAAAAAAAAAAAAAAAAAAAAAAAAAAAAAAAAAAAAAAAAAAAAAAAAAAAAAAAAAAAAAAAAAAAAAAAAAAAAAAAAAAAAAAAAAAAAAAAAAAAAAAAAAAAAAAAAAAAAAAAAAAAAAAAAAAAAAAAAAAAAAAAAAAAAAAAAAAAAAAAAAAAAAAAAAAAAAAAAAAAAAAAAAAAAAAAAAAAAAAAAAAAAAAAAAAAAAAAAAAAAAAAAAAAAAAAAAAAAAAAAAAAAAAAAAAAAAAAAAAAAAAAAAAAAAAAAAAAAAAAAAAAAAAAAAAAAAAAAAAAAAAAAAAAAAAAAAAAAAAAAAAAAAAAAAAAAAAAAAAAAAAAAAAAAAAAAAAAAAAAAAAAAAAAAAAAAAAAAAAAAAAAAAAAAAAAAAAAAAAAAAAAAAAAAAAAAAAAAAAAAAAAAAAAAAAAAAAAAAAAAAAAAAAAAAAAAAAAAAAAAAAAAAAAAAAAAAAAAAAAAAAAAAAAAAAAAAAAAAAAAAAAAAAAAAAAAAAAAAAAAAAAAAAAAAAAAAAAAAAAAAAAAAAAAAAAAAAAAAAAAAAAAAAAAAAAAAAAAAAAAAAAAAAAAAAAAAAAAAAAAAAAAAAAAAAAAAAAAAAAAAAAAAAAAAAAAAAAAAAAAAAAAAAAAAAAAAAAAAAAAAAAAAAAAAAAAAAAAAAAAAAAAAAAAAAAAAAAAAAAAAAAAAAAAAAAAAAAAAAAAAAAAAAAAAAAAAAAAAAAAAAAAAAAAAAAAAAAAAAAAAAAAAAAAAAAAAAAAAAAAAAAAAAAAAAAAAAAAAAAAAAAAAAAAAAAAAAAAAAAAAAAAAAAAAAAAAAAAAAAAAAAAAAAAAAAAAAAAAAAAAAAAAAAAAAAAAAAAAAAAAAAAAAAAAAAAAAAAAAAAAAAAAAAAAAAAAAAAAAAAAAAAAAAAAAAAAAAAAAAAAAAAAAAAAAAAAAAAAAAAAAAAAAAAAAAAAAAAAAAAAAAAAAAAAAAAAAAAAAAAAAAAAAAAAAAAAAAAAAAAAAAAAAAAAAAAAAAAAAAAAAAAAAAAAAAAAAAAAAAAAAAAAAAAAAAAAAAAAAAAAAAAAAAAAAAAAAAAAAAAAAAAAAAAAAAAAAAAAAAAAAAAAAAAAAAAAAAAAAAAAAAAAAAAAAAAAAAAAAAAAAAAAAAAAAAAAAAAAAAAAAAAAAAAAAAAAAAAAAAAAAAAAAAAAAAAAAAAAAAAAAAAAAAAAAAAAAAAAAAAAAAAAAAAAAAAAAAAAAAAAAAAAAAAAAAAAAAAAAAAAAAAAAAAAAAAAAAAAAAAAAAAAAAAAAAAAAAAAAAAAAAAAAAAAAAAAAAAAAAAAAAAAAAAAAAAAAAAAAAAAAAAAAAAAAAAAAAAAAAAAAAAAAAAAAAAAAAAAAAAAAAAAAAAAAAAAAAAAAAAAAAAAAAAAAAAAAAAAAAAAAAAAAAAAAAAAAAAAAAAAAAAAAAAAAAAAAAAAAAAAAAAAAAAAAAAAAAAAAAAAAAAAAAAAAAAAAAAAAAAAAAAAAAAAAAAAAAAAAAAAAAAAAAAAAAAAAAAAAAAAAAAAAAAAAAAAAAAAAAAAAAAAAAAAAAAAAAAAAAAAAAAAAAAAAAAAAAAAAAAAAAAAAAAAAAAAAAAAAAAAAAAAAAAAAAAAAAAAAAAAAAAAAAAAAAAAAAAAAAAAAAAAAAAAAAAAAAAAAAAAAAAAAAAAAAAAAAAAAAAAAAAAAAAAAAAAAAAAAAAAAAAAAAAAAAAAAAAAAAAAAAAAAAAAAAAAAAAAAAAAAAAAAAAAAAAAAAAAAAAAAAAAAAAAAAAAAAAAAAAAAAAAAAAAAAAAAAAAAAAAAAAAAAAAAAAAAAAAAAAAAAAAAAAAAAAAAAAAAAAAAAAAAAAAAAAAAAAAAAAAAAAAAAAAAAAAAAAAAAAAAAAAAAAAAAAAAAAAAAAAAAAAAAAAAAAAAAAAAAAAAAAAAAAAAAAAAAAAAAAAAAAAAAAAAAAAAAAAAAAAAAAAAAAAAAAAAAAAAAAAAAAAAAAAAAAAAAAAAAAAAAAAAAAAAAAAAAAAAAAAAAAAAAAAAAAAAAAAAAAAAAAAAAAAAAAAAAAAAAAAAAAAAAAAAAAAAAAAAAAAAAAAAAAAAAAAAAAAAAAAAAAAAAAAAAAAAAAAAAAAAAAAAAAAAAAAAAAAAAAAAAAAAAAAAAAAAAAAAAAAAAAAAAAAAAAAAAAAAAAAAAAAAAAAAAAAAAAAAAAAAAAAAAAAAAAAAAAAAAAAAAAAAAAAAAAAAAAAAAAAAAAAAAAAAAAAAAAAAAAAAAAAAAAAAAAAAAAAAAAAAAAAAAAAAAAAAAAAAAAAAAAAAAAAAAAAAAAAAAAAAAAAAAAAAAAAAAAAAAAAAAAAAAAAAAAAAAAAAAAAAAAAAAAAAAAAAAAAAAAAAAAAAAAAAAAAAAAAAAAAAAAAAAAAAAAAAAAAAAAAAAAAAAAAAAAAAAAAAAAAAAAAAAAAAAAAAAAAAAAAAAAAAAAAAAAAAAAAAAAAAAAAAAAAAAAAAAAAAAAAAAAAAAAAAAAAAAAAAAAAAAAAAAAAAAAAAAAAAAAAAAAAAAAAAAAAAAAAAAAAAAAAAAAAAAAAAAAAAAAAAAAAAAAAAAAAAAAAAAAAAAAAAAAAAAAAAAAAAAAAAAAAAAAAAAAAAAAAAAAAAAAAAAAAAAAAAAAAAAAAAAAAAAAAAAAAAAAAAAAAAAAAAAAAAAAAAAAAAAAAAAAAAAAAAAAAAAAAAAAAAAAAAAAAAAAAAAAAAAAAAAAAAAAAAAAAAAAAAAAAAAAAAAAAAAAAAAAAAAAAAAAAAAAAAAAAAAAAAAAAAAAAAAAAAAAAAAAAAAAAAAAAAAAAAAAAAAAAAAAAAAAAAAAAAAAAAAAAAAAAAAAAAAAAAAAAAAAAAAAAAAAAAAAAAAAAAAAAAAAAAAAAAAAAAAAAAAAAAAAAAAAAAAAAAAAAAAAAAAAAAAAAAAAAAAAAAAAAAAAAAAAAAAAAAAAAAAAAAAAAAAAAAAAAAAAAAAAAAAAAAAAAAAAAAAAAAAAAAAAAAAAAAAAAAAAAAAAAAAAAAAAAAAAAAAAAAAAAAAAAAAAAAAAAAAAAAAAAAAAAAAAAAAAAAAAAAAAAAAAAAAAAAAAAAAAAAAAAAAAAAAAAAAAAAAAAAAAAAAAAAAAAAAAAAAAAAAAAAAAAAAAAAAAAAAAAAAAAAAAAAAAAAAAAAAAAAAAAAAAAAAAAAAAAAAAAAAAAAAAAAAAAAAAAAAAAAAAAAAAAAAAAAAAAAAAAAAAAAAAAAAAAAAAAAAAAAAAAAAAAAAAAAAAAAAAAAAAAAAAAAAAAAAAAAAAAAAAAAAAAAAAAAAAAAAAAAAAAAAAAAAAAAAAAAAAAAAAAAAAAAAAAAAAAAAAAAAAAAAAAAAAAAAAAAAAAAAAAAAAAAAAAAAAAAAAAAAAAAAAAAAAAAAAAAAAAAAAAAAAAAAAAAAAAAAAAAAAAAAAAAAAAAAAAAAAAAAAAAAAAAAAAAAAAAAAAAAAAAAAAAAAAAAAAAAAAAAAAAAAAAAAAAAAAAAAAAAAAAAAAAAAAAAAAAAAAAAAAAAAAAAAAAAAAAAAAAAAAAAAAAAAAAAAAAAAAAAAAAAAAAAAAAAAAAAAAAAAAAAAAAAAAAAAAAAAAAAAAAAAAAAAAAAAAAAAAAAAAAAAAAAAAAAAAAAAAAAAAAAAAAAAAAAAAAAAAAAAAAAAAAAAAAAAAAAAAAAAAAAAAAAAAAAAAAAAAAAAAAAAAAAAAAAAAAAAAAAAAAAAAAAAAAAAAAAAAAAAAAAAAAAAAAAAAAAAAAAAAAAAAAAAAAAAAAAAAAAAAAAAAAAAAAAAAAAAAAAAAAAAAAAAAAAAAAAAAAAAAAAAAAAAAAAAAAAAAAAAAAAAAAAAAAAAAAAAAAAAAAAAAAAAAAAAAAAAAAAAAAAAAAAAAAAAAAAAAAAAAAAAAAAAAAAAAAAAAAAAAAAAAAAAAAAAAAAAAAAAAAAAAAAAAAAAAAAAAAAAAAAAAAAAAAAAAAAAAAAAAAAAAAAAAAAAAAAAAAAAAAAAAAAAAAAAAAAAAAAAAAAAAAAAAAAAAAAAAAAAAAAAAAAAAAAAAAAAAAAAAAAAAAAAAAAAAAAAAAAAAAAAAAAAAAAAAAAAAAAAAAAAAAAAAAAAAAAAAAAAAAAAAAAAAAAAAAAAAAAAAAAAAAAAAAAAAAAAAAAAAAAAAAAAAAAAAAAAAAAAAAAAAAAAAAAAAAAAAAAAAAAAAAAAAAAAAAAAAAAAAAAAAAAAAAAAAAAAAAAAAAAAAAAAAAAAAAAAAAAAAAAAAAAAAAAAAAAAAAAAAAAAAAAAAAAAAAAAAAAAAAAAAAAAAAAAAAAAAAAAAAAAAAAAAAAAAAAAAAAAAAAAAAAAAAAAAAAAAAAAAAAAAAAAAAAAAAAAAAAAAAAAAAAAAAAAAAAAAAAAAAAAAAAAAAAAAAAAAAAAAAAAAAAAAAAAAAAAAAAAAAAAAAAAAAAAAAAAAAAAAAAAAAAAAAAAAAAAAAAAAAAAAAAAAAAAAAAAAAAAAAAAAAAAAAAAAAAAAAAAAAAAAAAAAAAAAAAAAAAAAAAAAAAAAAAAAAAAAAAAAAAAAAAAAAAAAAAAAAAAAAAAAAAAAAAAAAAAAAAAAAAAAAAAAAAAAAAAAAAAAAAAAAAAAAAAAAAAAAAAAAAAAAAAAAAAAAAAAAAAAAAAAAAAAAAAAAAAAAAAAAAAAAAAAAAAAAAAAAAAAAAAAAAAAAAAAAAAAAAAAAAAAAAAAAAAAAAAAAAAAAAAAAAAAAAAAAAAAAAAAAAAAAAAAAAAAAAAAAAAAAAAAAAAAAAAAAAAAAAAAAAAAAAAAAAAAAAAAAAAAAAAAAAAAAAAAAAAAAAAAAAAAAAAAAAAAAAAAAAAAAAAAAAAAAAAAAAAAAAAAAAAAAAAAAAAAAAAAAAAAAAAAAAAAAAAAAAAAAAAAAAAAAAAAAAAAAAAAAAAAAAAAAAAAAAAAAAAAAAAAAAAAAAAAAAAAAAAAAAAAAAAAAAAAAAAAAAAAAAAAAAAAAAAAAAAAAAAAAAAAAAAAAAAAAAAAAAAAAAAAAAAAAAAAAAAAAAAAAAAAAAAAAAAAAAAAAAAAAAAAAAAAAAAAAAAAAAAAAAAAAAAAAAAAAAAAAAAAAAAAAAAAAAAAAAAAAAAAAAAAAAAAAAAAAAAAAAAAAAAAAAAAAAAAAAAAAAAAAAAAAAAAAAAAAAAAAAAAAAAAAAAAAAAAAAAAAAAAAAAAAAAAAAAAAAAAAAAAAAAAAAAAAAAAAAAAAAAAAAAAAAAAAAAAAAAAAAAAAAAAAAAAAAAAAAAAAAAAAAAAAAAAAAAAAAAAAAAAAAAAAAAAAAAAAAAAAAAAAAAAAAAAAAAAAAAAAAAAAAAAAAAAAAAAAAAAAAAAAAAAAAAAAAAAAAAAAAAAAAAAAAAAAAAAAAAAAAAAAAAAAAAAAAAAAAAAAAAAAAAAAAAAAAAAAAAAAAAAAAAAAAAAAAAAAAAAAAAAAAAAAAAAAAAAAAAAAAAAAAAAAAAAAAAAAAAAAAAAAAAAAAAAAAAAAAAAAAAAAAAAAAAAAAAAAAAAAAAAAAAAAAAAAAAAAAAAAAAAAAAAAAAAAAAAAAAAAAAAAAAAAAAAAAAAAAAAAAAAAAAAAAAAAAAAAAAAAAAAAAAAAAAAAAAAAAAAAAAAAAAAAAAAAAAAAAAAAAAAAAAAAAAAAAAAAAAAAAAAAAAAAAAAAAAAAAAAAAAAAAAAAAAAAAAAAAAAAAAAAAAAAAAAAAAAAAAAAAAAAAAAAAAAAAAAAAAAAAAAAAAAAAAAAAAAAAAAAAAAAAAAAAAAAAAAAAAAAAAAAAAAAAAAAAAAAAAAAAAAAAAAAAAAAAAAAAAAAAAAAAAAAAAAAAAAAAAAAAAAAAAAAAAAAAAAAAAAAAAAAAAAAAAAAAAAAAAAAAAAAAAAAAAAAAAAAAAAAAAAAAAAAAAAAAAAAAAAAAAAAAAAAAAAAAAAAAAAAAAAAAAAAAAAAAAAAAAAAAAAAAAAAAAAAAAAAAAAAAAAAAAAAAAAAAAAAAAAAAAAAAAAAAAAAAAAAAAAAAAAAAAAAAAAAAAAAAAAAAAAAAAAAAAAAAAAAAAAAAAAAAAAAAAAAAAAAAAAAAAAAAAAAAAAAAAAAAAAAAAAAAAAAAAAAAAAAAAAAAAAAAAAAAAAAAAAAAAAAAAAAAAAAAAAAAAAAAAAAAAAAAAAAAAAAAAAAAAAAAAAAAAAAAAAAAAAAAAAAAAAAAAAAAAAAAAAAAAAAAAAAAAAAAAAAAAAAAAAAAAAAAAAAAAAAAAAAAAAAAAAAAAAAAAAAAAAAAAAAAAAAAAAAAAAAAAAAAAAAAAAAAAAAAAAAAAAAAAAAAAAAAAAAAAAAAAAAAAAAAAAAAAAAAAAAAAAAAAAAAAAAAAAAAAAAAAAAAAAAAAAAAAAAAAAAAAAAAAAAAAAAAAAAAAAAAAAAAAAAAAAAAAAAAAAAAAAAAAAAAAAAAAAAAAAAAAAAAAAAAAAAAAAAAAAAAAAAAAAAAAAAAAAAAAAAAAAAAAAAAAAAAAAAAAAAAAAAAAAAAAAAAAAAAAAAAAAAAAAAAAAAAAAAAAAAAAAAAAAAAAAAAAAAAAAAAAAAAAAAAAAAAAAAAAAAAAAAAAAAAAAAAAAAAAAAAAAAAAAAAAAAAAAAAAAAAAAAAAAAAAAAAAAAAAAAAAAAAAAAAAAAAAAAAAAAAAAAAAAAAAAAAAAAAAAAAAAAAAAAAAAAAAAAAAAAAAAAAAAAAAAAAAAAAAAAAAAAAAAAAAAAAAAAAAAAAAAAAAAAAAAAAAAAAAAAAAAAAAAAAAAAAAAAAAAAAAAAAAAAAAAAAAAAAAAAAAAAAAAAAAAAAAAAAAAAAAAAAAAAAAAAAAAAAAAAAAAAAAAAAAAAAAAAAAAAAAAAAAAAAAAAAAAAAAAAAAAAAAAAAAAAAAAAAAAAAAAAAAAAAAAAAAAAAAAAAAAAAAAAAAAAAAAAAAAAAAAAAAAAAAAAAAAAAAAAAAAAAAAAAAAAAAAAAAAAAAAAAAAAAAAAAAAAAAAAAAAAAAAAAAAAAAAAAAAAAAAAAAAAAAAAAAAAAAAAAAAAAAAAAAAAAAAAAAAAAAAAAAAAAAAAAAAAAAAAAAAAAAAAAAAAAAAAAAAAAAAAAAAAAAAAAAAAAAAAAAAAAAAAAAAAAAAAAAAAAAAAAAAAAAAAAAAAAAAAAAAAAAAAAAAAAAAAAAAAAAAAAAAAAAAAAAAAAAAAAAAAAAAAAAAAAAAAAAAAAAAAAAAAAAAAAAAAAAAAAAAAAAAAAAAAAAAAAAAAAAAAAAAAAAAAAAAAAAAAAAAAAAAAAAAAAAAAAAAAAAAAAAAAAAAAAAAAAAAAAAAAAAAAAAAAAAAAAAAAAAAAAAAAAAAAAAAAAAAAAAAAAAAAAAAAAAAAAAAAAAAAAAAAAAAAAAAAAAAAAAAAAAAAAAAAAAAAAAAAAAAAAAAAAAAAAAAAAAAAAAAAAAAAAAAAAAAAAAAAAAAAAAAAAAAAAAAAAAAAAAAAAAAAAAAAAAAAAAAAAAAAAAAAAAAAAAAAAAAAAAAAAAAAAAAAAAAAAAAAAAAAAAAAAAAAAAAAAAAAAAAAAAAAAAAAAAAAAAAAAAAAAAAAAAAAAAAAAAAAAAAAAAAAAAAAAAAAAAAAAAAAAAAAAAAAAAAAAAAAAAAAAAAAAAAAAAAAAAAAAAAAAAAAAAAAAAAAAAAAAAAAAAAAAAAAAAAAAAAAAAAAAAAAAAAAAAAAAAAAAAAAAAAAAAAAAAAAAAAAAAAAAAAAAAAAAAAAAAAAAAAAAAAAAAAAAAAAAAAAAAAAAAAAAAAAAAAAAAAAAAAAAAAAAAAAAAAAAAAAAAAAAAAAAAAAAAAAAAAAAAAAAAAAAAAAAAAAAAAAAAAAAAAAAAAAAAAAAAAAAAAAAAAAAAAAAAAAAAAAAAAAAAAAAAAAAAAAAAAAAAAAAAAAAAAAAAAAAAAAAAAAAAAAAAAAAAAAAAAAAAAAAAAAAAAAAAAAAAAAAAAAAAAAAAAAAAAAAAAAAAAAAAAAAAAAAAAAAAAAAAAAAAAAAAAAAAAAAAAAAAAAAAAAAAAAAAAAAAAAAAAAAAAAAAAAAAAAAAAAAAAAAAAAAAAAAAAAAAAAAAAAAAAAAAAAAAAAAAAAAAAAAAAAAAAAAAAAAAAAAAAAAAAAAAAAAAAAAAAAAAAAAAAAAAAAAAAAAAAAAAAAAAAAAAAAAAAAAAAAAAAAAAAAAAAAAAAAAAAAAAAAAAAAAAAAAAAAAAAAAAAAAAAAAAAAAAAAAAAAAAAAAAAAAAAAAAAAAAAAAAAAAAAAAAAAAAAAAAAAAAAAAAAAAAAAAAAAAAAAAAAAAAAAAAAAAAAAAAAAAAAAAAAAAAAAAAAAAAAAAAAAAAAAAAAAAAAAAAAAAAAAAAAAAAAAAAAAAAAAAAAAAAAAAAAAAAAAAAAAAAAAAAAAAAAAAAAAAAAAAAAAAAAAAAAAAAAAAAAAAAAAAAAAAAAAAAAAAAAAAAAAAAAAAAAAAAAAAAAAAAAAAAAAAAAAAAAAAAAAAAAAAAAAAAAAAAAAAAAAAAAAAAAAAAAAAAAAAAAAAAAAAAAAAAAAAAAAAAAAAAAAAAAAAAAAAAAAAAAAAAAAAAAAAAAAAAAAAAAAAAAAAAAAAAAAAAAAAAAAAAAAAAAAAAAAAAAAAAAAAAAAAAAAAAAAAAAAAAAAAAAAAAAAAAAAAAAAAAAAAAAAAAAAAAAAAAAAAAAAAAAAAAAAAAAAAAAAAAAAAAAAAAAAAAAAAAAAAAAAAAAAAAAAAAAAAAAAAAAAAAAAAAAAAAAAAAAAAAAAAAAAAAAAAAAAAAAAAAAAAAAAAAAAAAAAAAAAAAAAAAAAAAAAAAAAAAAAAAAAAAAAAAAAAAAAAAAAAAAAAAAAAAAAAAAAAAAAAAAAAAAAAAAAAAAAAAAAAAAAAAAAAAAAAAAAAAAAAAAAAAAAAAAAAAAAAAAAAAAAAAAAAAAAAAAAAAAAAAAAAAAAAAAAAAAAAAAAAAAAAAAAAAAAAAAAAAAAAAAAAAAAAAAAAAAAAAAAAAAAAAAAAAAAAAAAAAAAAAAAAAAAAAAAAAAAAAAAAAAAAAAAAAAAAAAAAAAAAAAAAAAAAAAAAAAAAAAAAAAAAAAAAAAAAAAAAAAAAAAAAAAAAAAAAAAAAAAAAAAAAAAAAAAAAAAAAAAAAAAAAAAAAAAAAAAAAAAAAAAAAAAAAAAAAAAAAAAAAAAAAAAAAAAAAAAAAAAAAAAAAAAAAAAAAAAAAAAAAAAAAAAAAAAAAAAAAAAAAAAAAAAAAAAAAAAAAAAAAAAAAAAAAAAAAAAAAAAAAAAAAAAAAAAAAAAAAAAAAAAAAAAAAAAAAAAAAAAAAAAAAAAAAAAAAAAAAAAAAAAAAAAAAAAAAAAAAAAAAAAAAAAAAAAAAAAAAAAAAAAAAAAAAAAAAAAAAAAAAAAAAAAAAAAAAAAAAAAAAAAAAAAAAAAAAAAAAAAAAAAAAAAAAAAAAAAAAAAAAAAAAAAAAAAAAAAAAAAAAAAAAAAAAAAAAAAAAAAAAAAAAAAAAAAAAAAAAAAAAAAAAAAAAAAAAAAAAAAAAAAAAAAAAAAAAAAAAAAAAAAAAAAAAAAAAAAAAAAAAAAAAAAAAAAAAAAAAAAAAAAAAAAAAAAAAAAAAAAAAAAAAAAAAAAAAAAAAAAAAAAAAAAAAAAAAAAAAAAAAAAAAAAAAAAAAAAAAAAAAAAAAAAAAAAAAAAAAAAAAAAAAAAAAAAAAAAAAAAAAAAAAAAAAAAAAAAAAAAAAAAAAAAAAAAAAAAAAAAAAAAAAAAAAAAAAAAAAAAAAAAAAAAAAAAAAAAAAAAAAAAAAAAAAAAAAAAAAAAAAAAAAAAAAAAAAAAAAAAAAAAAAAAAAAAAAAAAAAAAAAAAAAAAAAAAAAAAAAAAAAAAAAAAAAAAAAAAAAAAAAAAAAAAAAAAAAAAAAAAAAAAAAAAAAAAAAAAAAAAAAAAAAAAAAAAAAAAAAAAAAAAAAAAAAAAAAAAAAAAAAAAAAAAAAAAAAAAAAAAAAAAAAAAAAAAAAAAAAAAAAAAAAAAAAAAAAAAAAAAAAAAAAAAAAAAAAAAAAAAAAAAAAAAAAAAAAAAAAAAAAAAAAAAAAAAAAAAAAAAAAAAAAAAAAAAAAAAAAAAAAAAAAAAAAAAAAAAAAAAAAAAAAAAAAAAAAAAAAAAAAAAAAAAAAAAAAAAAAAAAAAAAAAAAAAAAAAAAAAAAAAAAAAAAAAAAAAAAAAAAAAAAAAAAAAAAAAAAAAAAAAAAAAAAAAAAAAAAAAAAAAAAAAAAAAAAAAAAAAAAAAAAAAAAAAAAAAAAAAAAAAAAAAAAAAAAAAAAAAAAAAAAAAAAAAAAAAAAAAAAAAAAAAAAAAAAAAAAAAAAAAAAAAAAAAAAAAAAAAAAAAAAAAAAAAAAAAAAAAAAAAAAAAAAAAAAAAAAAAAAAAAAAAAAAAAAAAAAAAAAAAAAAAAAAAAAAAAAAAAAAAAAAAAAAAAAAAAAAAAAAAAAAAAAAAAAAAAAAAAAAAAAAAAAAAAAAAAAAAAAAAAAAAAAAAAAAAAAAAAAAAAAAAAAAAAAAAAAAAAAAAAAAAAAAAAAAAAAAAAAAAAAAAAAAAAAAAAAAAAAAAAAAAAAAAAAAAAAAAAAAAAAAAAAAAAAAAAAAAAAAAAAAAAAAAAAAAAAAAAAAAAAAAAAAAAAAAAAAAAAAAAAAAAAAAAAAAAAAAAAAAAAAAAAAAAAAAAAAAAAAAAAAAAAAAAAAAAAAAAAAAAAAAAAAAAAAAAAAAAAAAAAAAAAAAAAAAAAAAAAAAAAAAAAAAAAAAAAAAAAAAAAAAAAAAAAAAAAAAAAAAAAAAAAAAAAAAAAAAAAAAAAAAAAAAAAAAAAAAAAAAAAAAAAAAAAAAAAAAAAAAAAAAAAAAAAAAAAAAAAAAAAAAAAAAAAAAAAAAAAAAAAAAAAAAAAAAAAAAAAAAAAAAAAAAAAAAAAAAAAAAAAAAAAAAAAAAAAAAAAAAAAAAAAAAAAAAAAAAAAAAAAAAAAAAAAAAAAAAAAAAAAAAAAAAAAAAAAAAAAAAAAAAAAAAAAAAAAAAAAAAAAAAAAAAAAAAAAAAAAAAAAAAAAAAAAAAAAAAAAAAAAAAAAAAAAAAAAAAAAAAAAAAAAAAAAAAAAAAAAAAAAAAAAAAAAAAAAAAAAAAAAAAAAAAAAAAAAAAAAAAAAAAAAAAAAAAAAAAAAAAAAAAAAAAAAAAAAAAAAAAAAAAAAAAAAAAAAAAAAAAAAAAAAAAAAAAAAAAAAAAAAAAAAAAAAAAAAAAAAAAAAAAAAAAAAAAAAAAAAAAAAAAAAAAAAAAAAAAAAAAAAAAAAAAAAAAAAAAAAAAAAAAAAAAAAAAAAAAAAAAAAAAAAAAAAAAAAAAAAAAAAAAAAAAAAAAAAAAAAAAAAAAAAAAAAAAAAAAAAAAAAAAAAAAAAAAAAAAAAAAAAAAAAAAAAAAAAAAAAAAAAAAAAAAAAAAAAAAAAAAAAAAAAAAAAAAAAAAAAAAAAAAAAAAAAAAAAAAAAAAAAAAAAAAAAAAAAAAAAAAAAAAAAAAAAAAAAAAAAAAAAAAAAAAAAAAAAAAAAAAAAAAAAAAAAAAAAAAAAAAAAAAAAAAAAAAAAAAAAAAAAAAAAAAAAAAAAAAAAAAAAAAAAAAAAAAAAAAAAAAAAAAAAAAAAAAAAAAAAAAAAAAAAAAAAAAAAAAAAAAAAAAAAAAAAAAAAAAAAAAAAAAAAAAAAAAAAAAAAAAAAAAAAAAAAAAAAAAAAAAAAAAAAAAAAAAAAAAAAAAAAAAAAAAAAAAAAAAAAAAAAAAAAAAAAAAAAAAAAAAAAAAAAAAAAAAAAAAAAAAAAAAAAAAAAAAAAAAAAAAAAAAAAAAAAAAAAAAAAAAAAAAAAAAAAAAAAAAAAAAAAAAAAAAAAAAAAAAAAAAAAAAAAAAAAAAAAAAAAAAAAAAAAAAAAAAAAAAAAAAAAAAAAAAAAAAAAAAAAAAAAAAAAAAAAAAAAAAAAAAAAAAAAAAAAAAAAAAAAAAAAAAAAAAAAAAAAAAAAAAAAAAAAAAAAAAAAAAAAAAAAAAAAAAAAAAAAAAAAAAAAAAAAAAAAAAAAAAAAAAAAAAAAAAAAAAAAAAAAAAAAAAAAAAAAAAAAAAAAAAAAAAAAAAAAAAAAAAAAAAAAAAAAAAAAAAAAAAAAAAAAAAAAAAAAAAAAAAAAAAAAAAAAAAAAAAAAAAAAAAAAAAAAAAAAAAAAAAAAAAAAAAAAAAAAAAAAAAAAAAAAAAAAAAAAAAAAAAAAAAAAAAAAAAAAAAAAAAAAAAAAAAAAAAAAAAAAAAAAAAAAAAAAAAAAAAAAAAAAAAAAAAAAAAAAAAAAAAAAAAAAAAAAAAAAAAAAAAAAAAAAAAAAAAAAAAAAAAAAAAAAAAAAAAAAAAAAAAAAAAAAAAAAAAAAAAAAAAAAAAAAAAAAAAAAAAAAAAAAAAAAAAAAAAAAAAAAAAAAAAAAAAAAAAAAAAAAAAAAAAAAAAAAAAAAAAAAAAAAAAAAAAAAAAAAAAAAAAAAAAAAAAAAAAAAAAAAAAAAAAAAAAAAAAAAAAAAAAAAAAAAAAAAAAAAAAAAAAAAAAAAAAAAAAAAAAAAAAAAAAAAAAAAAAAAAAAAAAAAAAAAAAAAAAAAAAAAAAAAAAAAAAAAAAAAAAAAAAAAAAAAAAAAAAAAAAAAAAAAAAAAAAAAAAAAAAAAAAAAAAAAAAAAAAAAAAAAAAAAAAAAAAAAAAAAAAAAAAAAAAAAAAAAAAAAAAAAAAAAAAAAAAAAAAAAAAAAAAAAAAAAAAAAAAAAAAAAAAAAAAAAAAAAAAAAAAAAAAAAAAAAAAAAAAAAAAAAAAAAAAAAAAAAAAAAAAAAAAAAAAAAAAAAAAAAAAAAAAAAAAAAAAAAAAAAAAAAAAAAAAAAAAAAAAAAAAAAAAAAAAAAAAAAAAAAAAAAAAAAAAAAAAAAAAAAAAAAAAAAAAAAAAAAAAAAAAAAAAAAAAAAAAAAAAAAAAAAAAAAAAAAAAAAAAAAAAAAAAAAAAAAAAAAAAAAAAAAAAAAAAAAAAAAAAAAAAAAAAAAAAAAAAAAAAAAAAAAAAAAAAAAAAAAAAAAAAAAAAAAAAAAAAAAAAAAAAAAAAAAAAAAAAAAAAAAAAAAAAAAAAAAAAAAAAAAAAAAAAAAAAAAAAAAAAAAAAAAAAAAAAAAAAAAAAAAAAAAAAAAAAAAAAAAAAAAAAAAAAAAAAAAAAAAAAAAAAAAAAAAAAAAAAAAAAAAAAAAAAAAAAAAAAAAAAAAAAAAAAAAAAAAAAAAAAAAAAAAAAAAAAAAAAAAAAAAAAAAAAAAAAAAAAAAAAAAAAAAAAAAAAAAAAAAAAAAAAAAAAAAAAAAAAAAAAAAAAAAAAAAAAAAAAAAAAAAAAAAAAAAAAAAAAAAAAAAAAAAAAAAAAAAAAAAAAAAAAAAAAAAAAAAAAAAAAAAAAAAAAAAAAAAAAAAAAAAAAAAAAAAAAAAAAAAAAAAAAAAAAAAAAAAAAAAAAAAAAAAAAAAAAAAAAAAAAAAAAAAAAAAAAAAAAAAAAAAAAAAAAAAAAAAAAAAAAAAAAAAAAAAAAAAAAAAAAAAAAAAAAAAAAAAAAAAAAAAAAAAAAAAAAAAAAAAAAAAAAAAAAAAAAAAAAAAAAAAAAAAAAAAAAAAAAAAAAAAAAAAAAAAAAAAAAAAAAAAAAAAAAAAAAAAAAAAAAAAAAAAAAAAAAAAAAAAAAAAAAAAAAAAAAAAAAAAAAAAAAAAAAAAAAAAAAAAAAAAAAAAAAAAAAAAAAAAAAAAAAAAAAAAAAAAAAAAAAAAAAAAAAAAAAAAAAAAAAAAAAAAAAAAAAAAAAAAAAAAAAAAAAAAAAAAAAAAAAAAAAAAAAAAAAAAAAAAAAAAAAAAAAAAAAAAAAAAAAAAAAAAAAAAAAAAAAAAAAAAAAAAAAAAAAAAAAAAAAAAAAAAAAAAAAAAAAAAAAAAAAAAAAAAAAAAAAAAAAAAAAAAAAAAAAAAAAAAAAAAAAAAAAAAAAAAAAAAAAAAAAAAAAAAAAAAAAAAAAAAAAAAAAAAAAAAAAAAAAAAAAAAAAAAAAAAAAAAAAAAAAAAAAAAAAAAAAAAAAAAAAAAAAAAAAAAAAAAAAAAAAAAAAAAAAAAAAAAAAAAAAAAAAAAAAAAAAAAAAAAAAAAAAAAAAAAAAAAAAAAAAAAAAAAAAAAAAAAAAAAAAAAAAAAAAAAAAAAAAAAAAAAAAAAAAAAAAAAAAAAAAAAAAAAAAAAAAAAAAAAAAAAAAAAAAAAAAAAAAAAAAAAAAAAAAAAAAAAAAAAAAAAAAAAAAAAAAAAAAAAAAAAAAAAAAAAAAAAAAAAAAAAAAAAAAAAAAAAAAAAAAAAAAAAAAAAAAAAAAAAAAAAAAAAAAAAAAAAAAAAAAAAAAAAAAAAAAAAAAAAAAAAAAAAAAAAAAAAAAAAAAAAAAAAAAAAAAAAAAAAAAAAAAAAAAAAAAAAAAAAAAAAAAAAAAAAAAAAAAAAAAAAAAAAAAAAAAAAAAAAAAAAAAAAAAAAAAAAAAAAAAAAAAAAAAAAAAAAAAAAAAAAAAAAAAAAAAAAAAAAAAAAAAAAAAAAAAAAAAAAAAAAAAAAAAAAAAAAAAAAAAAAAAAAAAAAAAAAAAAAAAAAAAAAAAAAAAAAAAAAAAAAAAAAAAAAAAAAAAAAAAAAAAAAAAAAAAAAAAAAAAAAAAAAAAAAAAAAAAAAAAAAAAAAAAAAAAAAAAAAAAAAAAAAAAAAAAAAAAAAAAAAAAAAAAAAAAAAAAAAAAAAAAAAAAAAAAAAAAAAAAAAAAAAAAAAAAAAAAAAAAAAAAAAAAAAAAAAAAAAAAAAAAAAAAAAAAAAAAAAAAAAAAAAAAAAAAAAAAAAAAAAAAAAAAAAAAAAAAAAAAAAAAAAAAAAAAAAAAAAAAAAAAAAAAAAAAAAAAAAAAAAAAAAAAAAAAAAAAAAAAAAAAAAAAAAAAAAAAAAAAAAAAAAAAAAAAAAAAAAAAAAAAAAAAAAAAAAAAAAAAAAAAAAAAAAAAAAAAAAAAAAAAAAAAAAAAAAAAAAAAAAAAAAAAAAAAAAAAAAAAAAAAAAAAAAAAAAAAAAAAAAAAAAAAAAAAAAAAAAAAAAAAAAAAAAAAAAAAAAAAAAAAAAAAAAAAAAAAAAAAAAAAAAAAAAAAAAAAAAAAAAAAAAAAAAAAAAAAAAAAAAAAAAAAAAAAAAAAAAAAAAAAAAAAAAAAAAAAAAAAAAAAAAAAAAAAAAAAAAAAAAAAAAAAAAAAAAAAAAAAAAAAAAAAAAAAAAAAAAAAAAAAAAAAAAAAAAAAAAAAAAAAAAAAAAAAAAAAAAAAAAAAAAAAAAAAAAAAAAAAAAAAAAAAAAAAAAAAAAAAAAAAAAAAAAAAAAAAAAAAAAAAAAAAAAAAAAAAAAAAAAAAAAAAAAAAAAAAAAAAAAAAAAAAAAAAAAAAAAAAAAAAAAAAAAAAAAAAAAAAAAAAAAAAAAAAAAAAAAAAAAAAAAAAAAAAAAAAAAAAAAAAAAAAAAAAAAAAAAAAAAAAAAAAAAAAAAAAAAAAAAAAAAAAAAAAAAAAAAAAAAAAAAAAAAAAAAAAAAAAAAAAAAAAAAAAAAAAAAAAAAAAAAAAAAAAAAAAAAAAAAAAAAAAAAAAAAAAAAAAAAAAAAAAAAAAAAAAAAAAAAAAAAAAAAAAAAAAAAAAAAAAAAAAAAAAAAAAAAAAAAAAAAAAAAAAAAAAAAAAAAAAAAAAAAAAAAAAAAAAAAAAAAAAAAAAAAAAAAAAAAAAAAAAAAAAAAAAAAAAAAAAAAAAAAAAAAAAAAAAAAAAAAAAAAAAAAAAAAAAAAAAAAAAAAAAAAAAAAAAAAAAAAAAAAAAAAAAAAAAAAAAAAAAAAAAAAAAAAAAAAAAAAAAAAAAAAAAAAAAAAAAAAAAAAAAAAAAAAAAAAAAAAAAAAAAAAAAAAAAAAAAAAAAAAAAAAAAAAAAAAAAAAAAAAAAAAAAAAAAAAAAAAAAAAAAAAAAAAAAAAAAAAAAAAAAAAAAAAAAAAAAAAAAAAAAAAAAAAAAAAAAAAAAAAAAAAAAAAAAAAAAAAAAAAAAAAAAAAAAAAAAAAAAAAAAAAAAAAAAAAAAAAAAAAAAAAAAAAAAAAAAAAAAAAAAAAAAAAAAAAAAAAAAAAAAAAAAAAAAAAAAAAAAAAAAAAAAAAAAAAAAAAAAAAAAAAAAAAAAAAAAAAAAAAAAAAAAAAAAAAAAAAAAAAAAAAAAAAAAAAAAAAAAAAAAAAAAAAAAAAAAAAAAAAAAAAAAAAAAAAAAAAAAAAAAAAAAAAAAAAAAAAAAAAAAAAAAAAAAAAAAAAAAAAAAAAAAAAAAAAAAAAAAAAAAAAAAAAAAAAAAAAAAAAAAAAAAAAAAAAAAAAAAAAAAAAAAAAAAAAAAAAAAAAAAAAAAAAAAAAAAAAAAAAAAAAAAAAAAAAAAAAAAAAAAAAAAAAAAAAAAAAAAAAAAAAAAAAAAAAAAAAAAAAAAAAAAAAAAAAAAAAAAAAAAAAAAAAAAAAAAAAAAAAAAAAAAAAAAAAAAAAAAAAAAAAAAAAAAAAAAAAAAAAAAAAAAAAAAAAAAAAAAAAAAAAAAAAAAAAAAAAAAAAAAAAAAAAAAAAAAAAAAAAAAAAAAAAAAAAAAAAAAAAAAAAAAAAAAAAAAAAAAAAAAAAAAAAAAAAAAAAAAAAAAAAAAAAAAAAAAAAAAAAAAAAAAAAAAAAAAAAAAAAAAAAAAAAAAAAAAAAAAAAAAAAAAAAAAAAAAAAAAAAAAAAAAAAAAAAAAAAAAAAAAAAAAAAAAAAAAAAAAAAAAAAAAAAAAAAAAAAAAAAAAAAAAAAAAAAAAAAAAAAAAAAAAAAAAAAAAAAAAAAAAAAAAAAAAAAAAAAAAAAAAAAAAAAAAAAAAAAAAAAAAAAAAAAAAAAAAAAAAAAAAAAAAAAAAAAAAAAAAAAAAAAAAAAAAAAAAAAAAAAAAAAAAAAAAAAAAAAAAAAAAAAAAAAAAAAAAAAAAAAAAAAAAAAAAAAAAAAAAAAAAAAAAAAAAAAAAAAAAAAAAAAAAAAAAAAAAAAAAAAAAAAAAAAAAAAAAAAAAAAAAAAAAAAAAAAAAAAAAAAAAAAAAAAAAAAAAAAAAAAAAAAAAAAAAAAAAAAAAAAAAAAAAAAAAAAAAAAAAAAAAAAAAAAAAAAAAAAAAAAAAAAAAAAAAAAAAAAAAAAAAAAAAAAAAAAAAAAAAAAAAAAAAAAAAAAAAAAAAAAAAAAAAAAAAAAAAAAAAAAAAAAAAAAAAAAAAAAAAAAAAAAAAAAAAAAAAAAAAAAAAAAAAAAAAAAAAAAAAAAAAAAAAAAAAAAAAAAAAAAAAAAAAAAAAAAAAAAAAAAAAAAAAAAAAAAAAAAAAAAAAAAAAAAAAAAAAAAAAAAAAAAAAAAAAAAAAAAAAAAAAAAAAAAAAAAAAAAAAAAAAAAAAAAAAAAAAAAAAAAAAAAAAAAAAAAAAAAAAAAAAAAAAAAAAAAAAAAAAAAAAAAAAAAAAAAAAAAAAAAAAAAAAAAAAAAAAAAAAAAAAAAAAAAAAAAAAAAAAAAAAAAAAAAAAAAAAAAAAAAAAAAAAAAAAAAAAAAAAAAAAAAAAAAAAAAAAAAAAAAAAAAAAAAAAAAAAAAAAAAAAAAAAAAAAAAAAAAAAAAAAAAAAAAAAAAAAAAAAAAAAAAAAAAAAAAAAAAAAAAAAAAAAAAAAAAAAAAAAAAAAAAAAAAAAAAAAAAAAAAAAAAAAAAAAAAAAAAAAAAAAAAAAAAAAAAAAAAAAAAAAAAAAAAAAAAAAAAAAAAAAAAAAAAAAAAAAAAAAAAAAAAAAAAAAAAAAAAAAAAAAAAAAAAAAAAAAAAAAAAAAAAAAAAAAAAAAAAAAAAAAAAAAAAAAAAAAAAAAAAAAAAAAAAAAAAAAAAAAAAAAAAAAAAAAAAAAAAAAAAAAAAAAAAAAAAAAAAAAAAAAAAAAAAAAAAAAAAAAAAAAAAAAAAAAAAAAAAAAAAAAAAAAAAAAAAAAAAAAAAAAAAAAAAAAAAAAAAAAAAAAAAAAAAAAAAAAAAAAAAAAAAAAAAAAAAAAAAAAAAAAAAAAAAAAAAAAAAAAAAAAAAAAAAAAAAAAAAAAAAAAAAAAAAAAAAAAAAAAAAAAAAAAAAAAAAAAAAAAAAAAAAAAAAAAAAAAAAAAAAAAAAAAAAAAAAAAAAAAAAAAAAAAAAAAAAAAAAAAAAAAAAAAAAAAAAAAAAAAAAAAAAAAAAAAAAAAAAAAAAAAAAAAAAAAAAAAAAAAAAAAAAAAAAAAAAAAAAAAAAAAAAAAAAAAAAAAAAAAAAAAAAAAAAAAAAAAAAAAAAAAAAAAAAAAAAAAAAAAAAAAAAAAAAAAAAAAAAAAAAAAAAAAAAAAAAAAAAAAAAAAAAAAAAAAAAAAAAAAAAAAAAAAAAAAAAAAAAAAAAAAAAAAAAAAAAAAAAAAAAAAAAAAAAAAAAAAAAAAAAAAAAAAAAAAAAAAAAAAAAAAAAAAAAAAAAAAAAAAAAAAAAAAAAAAAAAAAAAAAAAAAAAAAAAAAAAAAAAAAAAAAAAAAAAAAAAAAAAAAAAAAAAAAAAAAAAAAAAAAAAAAAAAAAAAAAAAAAAAAAAAAAAAAAAAAAAAAAAAAAAAAAAAAAAAAAAAAAAAAAAAAAAAAAAAAAAAAAAAAAAAAAAAAAAAAAAAAAAAAAAAAAAAAAAAAAAAAAAAAAAAAAAAAAAAAAAAAAAAAAAAAAAAAAAAAAAAAAAAAAAAAAAAAAAAAAAAAAAAAAAAAAAAAAAAAAAAAAAAAAAAAAAAAAAAAAAAAAAAAAAAAAAAAAAAAAAAAAAAAAAAAAAAAAAAAAAAAAAAAAAAAAAAAAAAAAAAAAAAAAAAAAAAAAAAAAAAAAAAAAAAAAAAAAAAAAAAAAAAAAAAAAAAAAAAAAAAAAAAAAAAAAAAAAAAAAAAAAAAAAAAAAAAAAAAAAAAAAAAAAAAAAAAAAAAAAAAAAAAAAAAAAAAAAAAAAAAAAAAAAAAAAAAAAAAAAAAAAAAAAAAAAAAAAAAAAAAAAAAAAAAAAAAAAAAAAAAAAAAAAAAAAAAAAAAAAAAAAAAAAAAAAAAAAAAAAAAAAAAAAAAAAAAAAAAAAAAAAAAAAAAAAAAAAAAAAAAAAAAAAAAAAAAAAAAAAAAAAAAAAAAAAAAAAAAAAAAAAAAAAAAAAAAAAAAAAAAAAAAAAAAAAAAAAAAAAAAAAAAAAAAAAAAAAAAAAAAAAAAAAAAAAAAAAAAAAAAAAAAAAAAAAAAAAAAAAAAAAAAAAAAAAAAAAAAAAAAAAAAAAAAAAAAAAAAAAAAAAAAAAAAAAAAAAAAAAAAAAAAAAAAAAAAAAAAAAAAAAAAAAAAAAAAAAAAAAAAAAAAAAAAAAAAAAAAAAAAAAAAAAAAAAAAAAAAAAAAAAAAAAAAAAAAAAAAAAAAAAAAAAAAAAAAAAAAAAAAAAAAAAAAAAAAAAAAAAAAAAAAAAAAAAAAAAAAAAAAAAAAAAAAAAAAAAAAAAAAAAAAAAAAAAAAAAAAAAAAAAAAAAAAAAAAAAAAAAAAAAAAAAAAAAAAAAAAAAAAAAAAAAAAAAAAAAAAAAAAAAAAAAAAAAAAAAAAAAAAAAAAAAAAAAAAAAAAAAAAAAAAAAAAAAAAAAAAAAAAAAAAAAAAAAAAAAAAAAAAAAAAAAAAAAAAAAAAAAAAAAAAAAAAAAAAAAAAAAAAAAAAAAAAAAAAAAAAAAAAAAAAAAAAAAAAAAAAAAAAAAAAAAAAAAAAAAAAAAAAAAAAAAAAAAAAAAAAAAAAAAAAAAAAAAAAAAAAAAAAAAAAAAAAAAAAAAAAAAAAAAAAAAAAAAAAAAAAAAAAAAAAAAAAAAAAAAAAAAAAAAAAAAAAAAAAAAAAAAAAAAAAAAAAAAAAAAAAAAAAAAAAAAAAAAAAAAAAAAAAAAAAAAAAAAAAAAAAAAAAAAAAAAAAAAAAAAAAAAAAAAAAAAAAAAAAAAAAAAAAAAAAAAAAAAAAAAAAAAAAAAAAAAAAAAAAAAAAAAAAAAAAAAAAAAAAAAAAAAAAAAAAAAAAAAAAAAAAAAAAAAAAAAAAAAAAAAAAAAAAAAAAAAAAAAAAAAAAAAAAAAAAAAAAAAAAAAAAAAAAAAAAAAAAAAAAAAAAAAAAAAAAAAAAAAAAAAAAAAAAAAAAAAAAAAAAAAAAAAAAAAAAAAAAAAAAAAAAAAAAAAAAAAAAAAAAAAAAAAAAAAAAAAAAAAAAAAAAAAAAAAAAAAAAAAAAAAAAAAAAAAAAAAAAAAAAAAAAAAAAAAAAAAAAAAAAAAAAAAAAAAAAAAAAAAAAAAAAAAAAAAAAAAAAAAAAAAAAAAAAAAAAAAAAAAAAAAAAAAAAAAAAAAAAAAAAAAAAAAAAAAAAAAAAAAAAAAAAAAAAAAAAAAAAAAAAAAAAAAAAAAAAAAAAAAAAAAAAAAAAAAAAAAAAAAAAAAAAAAAAAAAAAAAAAAAAAAAAAAAAAAAAAAAAAAAAAAAAAAAAAAAAAAAAAAAAAAAAAAAAAAAAAAAAAAAAAAAAAAAAAAAAAAAAAAAAAAAAAAAAAAAAAAAAAAAAAAAAAAAAAAAAAAAAAAAAAAAAAAAAAAAAAAAAAAAAAAAAAAAAAAAAAAAAAAAAAAAAAAAAAAAAAAAAAAAAAAAAAAAAAAAAAAAAAAAAAAAAAAAAAAAAAAAAAAAAAAAAAAAAAAAAAAAAAAAAAAAAAAAAAAAAAAAAAAAAAAAAAAAAAAAAAAAAAAAAAAAAAAAAAAAAAAAAAAAAAAAAAAAAAAAAAAAAAAAAAAAAAAAAAAAAAAAAAAAAAAAAAAAAAAAAAAAAAAAAAAAAAAAAAAAAAAAAAAAAAAAAAAAAAAAAAAAAAAAAAAAAAAAAAAAAAAAAAAAAAAAAAAAAAAAAAAAAAAAAAAAAAAAAAAAAAAAAAAAAAAAAAAAAAAAAAAAAAAAAAAAAAAAAAAAAAAAAAAAAAAAAAAAAAAAAAAAAAAAAAAAAAAAAAAAAAAAAAAAAAAAAAAAAAAAAAAAAAAAAAAAAAAAAAAAAAAAAAAAAAAAAAAAAAAAAAAAAAAAAAAAAAAAAAAAAAAAAAAAAAAAAAAAAAAAAAAAAAAAAAAAAAAAAAAAAAAAAAAAAAAAAAAAAAAAAAAAAAAAAAAAAAAAAAAAAAAAAAAAAAAAAAAAAAAAAAAAAAAAAAAAAAAAAAAAAAAAAAAAAAAAAAAAAAAAAAAAAAAAAAAAAAAAAAAAAAAAAAAAAAAAAAAAAAAAAAAAAAAAAAAAAAAAAAAAAAAAAAAAAAAAAAAAAAAAAAAAAAAAAAAAAAAAAAAAAAAAAAAAAAAAAAAAAAAAAAAAAAAAAAAAAAAAAAAAAAAAAAAAAAAAAAAAAAAAAAAAAAAAAAAAAAAAAAAAAAAAAAAAAAAAAAAAAAAAAAAAAAAAAAAAAAAAAAAAAAAAAAAAAAAAAAAAAAAAAAAAAAAAAAAAAAAAAAAAAAAAAAAAAAAAAAAAAAAAAAAAAAAAAAAAAAAAAAAAAAAAAAAAAAAAAAAAAAAAAAAAAAAAAAAAAAAAAAAAAAAAAAAAAAAAAAAAAAAAAAAAAAAAAAAAAAAAAAAAAAAAAAAAAAAAAAAAAAAAAAAAAAAAAAAAAAAAAAAAAAAAAAAAAAAAAAAAAAAAAAAAAAAAAAAAAAAAAAAAAAAAAAAAAAAAAAAAAAAAAAAAAAAAAAAAAAAAAAAAAAAAAAAAAAAAAAAAAAAAAAAAAAAAAAAAAAAAAAAAAAAAAAAAAAAAAAAAAAAAAAAAAAAAAAAAAAAAAAAAAAAAAAAAAAAAAAAAAAAAAAAAAAAAAAAAAAAAAAAAAAAAAAAAAAAAAAAAAAAAAAAAAAAAAAAAAAAAAAAAAAAAAAAAAAAAAAAAAAAAAAAAAAAAAAAAAAAAAAAAAAAAAAAAAAAAAAAAAAAAAAAAAAAAAAAAAAAAAAAAAAAAAAAAAAAAAAAAAAAAAAAAAAAAAAAAAAAAAAAAAAAAAAAAAAAAAAAAAAAAAAAAAAAAAAAAAAAAAAAAAAAAAAAAAAAAAAAAAAAAAAAAAAAAAAAAAAAAAAAAAAAAAAAAAAAAAAAAAAAAAAAAAAAAAAAAAAAAAAAAAAAAAAAAAAAAAAAAAAAAAAAAAAAAAAAAAAAAAAAAAAAAAAAAAAAAAAAAAAAAAAAAAAAAAAAAAAAAAAAAAAAAAAAAAAAAAAAAAAAAAAAAAAAAAAAAAAAAAAAAAAAAAAAAAAAAAAAAAAAAAAAAAAAAAAAAAAAAAAAAAAAAAAAAAAAAAAAAAAAAAAAAAAAAAAAAAAAAAAAAAAAAAAAAAAAAAAAAAAAAAAAAAAAAAAAAAAAAAAAAAAAAAAAAAAAAAAAAAAAAAAAAAAAAAAAAAAAAAAAAAAAAAAAAAAAAAAAAAAAAAAAAAAAAAAAAAAAAAAAAAAAAAAAAAAAAAAAAAAAAAAAAAAAAAAAAAAAAAAAAAAAAAAAAAAAAAAAAAAAAAAAAAAAAAAAAAAAAAAAAAAAAAAAAAAAAAAAAAAAAAAAAAAAAAAAAAAAAAAAAAAAAAAAAAAAAAAAAAAAAAAAAAAAAAAAAAAAAAAAAAAAAAAAAAAAAAAAAAAAAAAAAAAAAAAAAAAAAAAAAAAAAAAAAAAAAAAAAAAAAAAAAAAAAAAAAAAAAAAAAAAAAAAAAAAAAAAAAAAAAAAAAAAAAAAAAAAAAAAAAAAAAAAAAAAAAAAAAAAAAAAAAAAAAAAAAAAAAAAAAAAAAAAAAJrSX0F5C6z8AAAAAAAAAAAAAAAAAAAAAAAAAAAAAAAAAAAAAAAAAAAAAAAAAAAAAAAAAAAAAAAAAAAAAAAAAAAAAAAAAAAAAAAAAAAAAAAAAAAAAAAAAAAAAAAAAAAAAAAAAAAAAAAAAAAAAAAAAAAAAAAAAAAAAAAAAAAAAAAAAAAAAAAAAAAAAAAAAAAAAAAAAAAAAAAAAAAAAAAAAAAAAAAAAAAAAAAAAAAAAAAAAAAAAAAAAAAAAAAAAAAAAAAAAAAAAAAAAAAAAAAAAAAAAAAAAAAAAAAAAAAAAAAAAAAAAAAAAAAAAAAAAAAAAAAAAAAAAAAAAAAAAAAAAAAAAAAAAAAAAAAAAAAAAAAAAAAAAAAAAAAAAAAAAAAAAAAAAAAAAAAAAAAAAAAAAAAAAAAAAAAAAAAAAAAAAAAAAAAAAAAAAAAAAAAAAAAAAAAAAAAAAAAAAAAAAAAAAAAAAAAAAAAAAAAAAAAAAAAAAAAAAAAAAAAAAAAAAAAAAAAAAAAAAAAAAAAAAAAAAAAAAAAAAAAAAAAAAAAAAAAAAAAAAAAAAAAAAAAAAAAAAAAAAAAAAAAAAAAAAAAAAAAAAAAAAAAAAAAAAAAAAAAAAAAAAAAAAAAAAAAAAAAAAAAAAAAAAAAAAAAAAAAAAAAAAAAAAAAAAAAAAAAAAAAAAAAAAAAAAAAAAAAAAAAAAAAAAAAAAAAAAAAAAAAAAAAAAAAAAAAAAAAAAAAAAAAAAAAAAAAAAAAAAAAAAAAAAAAAAAAAAAAAAAAAAAAAAAAAAAAAAAAAAAAAAAAAAAAAAAAAAAAAAAAAAAAAAAAAAAAAAAAAAAAAAAAAAAAAAAAAAAAAAAAAAAAAAAAAAAAAAAAAAAAAAAAAAAAAAAAAAAAAAAAAAAAAAAAAAAAAAAAAAAAAAAAAAAAAAAAAAAAAAAAAAAAAAAAAAAAAAAAAAAAAAAAAAAAAAAAAAAAAAAAAAAAAAAAAAAAAAAAAAAAAAAAAAAAAAAAAAAAAAAAAAAAAAAAAAAAAAAAAAAAAAAAAAAAAAAAAAAAAAAAAAAAAAAAAAAAAAAAAAAAAAAAAAAAAAAAAAAAAAAAAAAAAAAAAAAAAAAAAAAAAAAAAAAAAAAAAAAAAAAAAAAAAAAAAAAAAAAAAAAAAAAAAAAAAAAAAAAAAAAAAAAAAAAAAAAAAAAAAAAAAAAAAAAAAAAAAAAAAAAAAAAAAAAAAAAAAAAAAAAAAAAAAAAAAAAAAAAAAAAAAAAAAAAAAAAAAAAAAAAAAAAAAAAAAAAAAAAAAAAAAAAAAAAAAAAAAAAAAAAAAAAAAAAADsPwAAAAAAAAAAAAAAAAAAAAAAAAAAAAAAAAAAAAAAAAAAAAAAAAAAAAAAAAAAAAAAAAAAAAAAAAAAAAAAAAAAAAAAAAAAAAAAAAAAAAAAAAAAAAAAAAAAAAAAAAAAAAAAAAAAAAAAAAAAAAAAAAAAAAAAAAAAAAAAAAAAAAAAAAAAAAAAAAAAAAAAAAAAAAAAAAAAAAAAAAAAAAAAAAAAAAAAAAAAAAAAAAAAAAAAAAAAAAAAAAAAAAAAAAAAAAAAAAAAAAAAAAAAAAAAAAAAAAAAAAAAAAAAAAAAAAAAAAAAAAAAAAAAAAAAAAAAAAAAAAAAAAAAAAAAAAAAAAAAAAAAAAAAAAAAAAAAAAAAAAAAAAAAAAAAAAAAAAAAAAAAAAAAAAAAAAAAAAAAAAAAAAAAAAAAAAAAAAAAAAAAAAAAAAAAAAAAAAAAAAAAAAAAAAAAAAAAAAAAAAAAAAAAAAAAAAAAAAAAAAAAAAAAAAAAAAAAAAAAAAAAAAAAAAAAAAAAAAAAAAAAAAAAAAAAAAAAAAAAAAAAAAAAAAAAAAAAAAAAAAAAAAAAAAAAAAAAAAAAAAAAAAAAAAAAAAAAAAAAAAAAAAAAAAAAAAAAAAAAAAAAAAAAAAAAAAAAAAAAAAAAAAAAAAAAAAAAAAAAAAAAAAAAAAAAAAAAAAAAAAAAAAAAAAAAAAAAAAAAAAAAAAAAAAAAAAAAAAAAAAAAAAAAAAAAAAAAAAAAAAAAAAAAAAAAAAAAAAAAAAAAAAAAAAAAAAAAAAAAAAAAAAAAAAAAAAAAAAAAAAAAAAAAAAAAAAAAAAAAAAAAAAAAAAAAAAAAAAAAAAAAAAAAAAAAAAAAAAAAAAAAAAAAAAAAAAAAAAAAAAAAAAAAAAAAAAAAAAAAAAAAAAAAAAAAAAAAAAAAAAAAAAAAAAAAAAAAAAAAAAAAAAAAAAAAAAAAAAAAAAAAAAAAAAAAAAAAAAAAAAAAAAAAAAAAAAAAAAAAAAAAAAAAAAAAAAAAAAAAAAAAAAAAAAAAAAAAAAAAAAAAAAAAAAAAAAAAAAAAAAAAAAAAAAAAAAAAAAAAAAAAAAAAAAAAAAAAAAAAAAAAAAAAAAAAAAAAAAAAAAAAAAAAAAAAAAAAAAAAAAAAAAAAAAAAAAAAAAAAAAAAAAAAAAAAAAAAAAAAAAAAAAAAAAAAAAAAAAAAAAAAAAAAAAAAAAAAAAAAAAAAAAAAAAAAAAAAAAAAAAAAAAAAAAAAAAAAAAAAAAAAAAAAAAAAAAAAAAAAAAAAAAAAAAAAAAAAAAAAAAAAAAAAAAAAAAAAAAAAAAAAAAAAAAAAAAAAAAAAAAAAAAAAAAAAAAAAAAAAAAAAAAAAAAAAAAAAAAAAAAAAAAAAAAAAAAAAAAAAAAAAAAAAAAAAAAAAAAAAAAAAAAAAAAAAAAAAAAAAAAAAAAAAAAAAAAAAAAAAAAAAAAAAAAAAAAAAAAAAAAAAAAAAAAAAAAAAAAAAAAAAAAAAAAAAAAAAAAAAAAAAAAAAAAAAAAAAAAAAAAAAAAAAAAAAAAAAAAAAAAAAAAAAAAAAAAAAAAAAAAAAAAAAAAAAAAAAAAAAAAAAAAAAAAAAAAAAAAAAAAAAAAAAAAAAAAAAAAAAAAAAAAAAAAAAAAAAAAAAAAAAAAAAAAAAAAAAAAAAAAAAAAAAAAAAAAAAAAAAAAAAAAAAAAAAAAAAAAAAAAAAAAAAAAAAAAAAAAAAAAAAAAAAAAAAAAAAAAAAAAAAAAAAAAAAAAAAAAAAAAAAAAAAAAAAAAAAAAAAAAAAAAAAAAAAAAAAAAAAAAAAAAAAAAAAAAAAAAAAAAAAAAAAAAAAAAAAAAAAAAAAAAAAAAAAAAAAAAAAAAAAAAAAAAAAAAAAAAAAAAAAAAAAAAAAAAAAAAAAAAAAAAAAAAAAAAAAAAAAAAAAAAAAAAAAAAAAAAAAAAAAAAAAAAAAAAAAAAAAAAAAAAAAAAAAAAAAAAAAAAAAAAAAAAAAAAAAAAAAAAAAAAAAAAAAAAAAAAAAAAAAAAAAAAAAAAAAAAAAAAAAAAAAAAAAAAAAAAAAAAAAAAAAAAAAAAAAAAAAAAAAAAAAAAAAAAAAAAAAAAAAAAAAAAAAAAAAAAAAAAAAAAAAAAAAAAAAAAAAAAAAAAAAAAAAAAAAAAAAAAAAAAAAAAAAAAAAAAAAAAAAAAAAAAAAAAAAAAAAAAAAAAAAAAAAAAAAAAAAAAAAAAAAAAAAAAAAAAAAAAAAAAAAAAAAAAAAAAAAAAAAAAAAAAAAAAAAAAAAAAAAAAAAAAAAAAAAAAAAAAAAAAAAAAAAAAAAAAAAAAAAAAAAAAAAAAAAAAAAAAAAAAAAAAAAAAAAAAAAAAAAAAAAAAAAAAAAAAAAAAAAAAAAAAAAAAAAAAAAAAAAAAAAAAAAAAAAAAAAAAAAAAAAAAAAAAAAAAAAAAAAAAAAAAAAAAAAAAAAAAAAAAAAAAAAAAAAAAAAAAAAAAAAAAAAAAAAAAAAAAAAAAAAAAAAAAAAAAAAAAAAAAAAAAAAAAAAAAAAAAAAAAAAAAAAAAAAAAAAAAAAAAAAAAAAAAAAAAAAAAAAAAAAAAAAAAAAAAAAAAAAAAAAAAAAAAAAAAAAAAAAAAAAAAAAAAAAAAAAAAAAAAAAAAAAAAAAAAAAAAAAAAAAAAAAAAAAAAAAAAAAAAAAAAAAAAAAAAAAAAAAAAAAAAAAAAAAAAAAAAAAAAAAAAAAAAAAAAAAAAAAAAAAAAAAAAAAAAAAAAAAAAAAAAAAAAAAAAAAAAAAAAAAAAAAAAAAAAAAAAAAAAAAAAAAAAAAAAAAAAAAAAAAAAAAAAAAAAAAAAAAAAAAAAAAAAAAAAAAAAAAAAAAAAAAAAAAAAAAAAAAAAAAAAAAAAAAAAAAAAAAAAAAAAAAAAAAAAAAAAAAAAAAAAAAAAAAAAAAAAAAAAAAAAAAAAAAAAAAAAAAAAAAAAAAAAAAAAAAAAAAAAAAAAAAAAAAAAAAAAAAAAAAAAAAAAAAAAAAAAAAAAAAAAAAAAAAAAAAAAAAAAAAAAAAAAAAAAAAAAAAAAAAAAAAAAAAAAAAAAAAAAAAAAAAAAAAAAAAAAAAAAAAAAAAAAAAAAAAAAAAAAAAAAAAAAAAAAAAAAAAAAAAAAAAAAAAAAAAAAAAAAAAAAAAAAAAAAAAAAAAAAAAAAAAAAAAAAAAAAAAAAAAAAAAAAAAAAAAAAAAAAAAAAAAAAAAAAAAAAAAAAAAAAAAAAAAAAAAAAAAAAAAAAAAAAAAAAAAAAAAAAAAAAAAAAAAAAAAAAAAAAAAAAAAAAAAAAAAAAAAAAAAAAAAAAAAAAAAAAAAAAAAAAAAAAAAAAAAAAAAAAAAAAAAAAAAAAAAAAAAAAAAAAAAAAAAAAAAAAAAAAAAAAAAAAAAAAAAAAAAAAAAAAAAAAAAAAAAAAAAAAAAAAAAAAAAAAAAAAAAAAAAAAAAAAAAAAAAAAAAAAAAAAAAAAAAAAAAAAAAAAAAAAAAAAAAAAAAAAAAAAAAAAAAAAAAAAAAAAAAAAAAAAAAAAAAAAAAAAAAAAAAAAAAAAAAAAAAAAAAAAAAAAAAAAAAAAAAAAAAAAAAAAAAAAAAAAAAAAAAAAAAAAAAAAAAAAAAAAAAAAAAAAAAAAAAAAAAAAAAAAAAAAAAAAAAAAAAAAAAAAAAAAAAAAAAAAAAAAAAAAAAAAAAAAAAAAAAAAAAAAAAAAAAAAAAAAAAAAAAAAAAAAAAAAAAAAAAAAAAAAAAAAAAAAAAAAAAAAAAAAAAAAAAAAAAAAAAAAAAAAAAAAAAAAAAAAAAAAAAAAAAAAAAAAAAAAAAAAAAAAAAAAAAAAAAAAAAAAAAAAAAAAAAAAAAAAAAAAAAAAAAAAAAAAAAAAAAAAAAAAAAAAAAAAAAAAAAAAAAAAAAAAAAAAAAAAAAAAAAAAAAAAAAAAAAAAAAAAAAAAAAAAAAAAAAAAAAAAAAAAAAAAAAAAAAAAAAAAAAAAAAAAAAAAAAAAAAAAAAAAAAAAAAAAAAAAAAAAAAAAAAAAAAAAAAAAAAAAAAAAAAAAAAAAAAAAAAAAAAAAAAAAAAAAAAAAAAAAAAAAAAAAAAAAAAAAAAAAAAAAAAAAAAAAAAAAAAAAAAAAAAAAAAAAAAAAAAAAAAAAAAAAAAAAAAAAAAAAAAAAAAAAAAAAAAAAAAAAAAAAAAAAAAAAAAAAAAAAAAAAAAAAAAAAAAAAAAAAAAAAAAAAAAAAAAAAAAAAAAAAAAAAAAAAAAAAAAAAAAAAAAAAAAAAAAAAAAAAAAAAAAAAAAAAAAAAAAAAAAAAAAAAAAAAAAAAAAAAAAAAAAAAAAAAAAAAAAAAAAAAAAAAAAAAAAAAAAAAAAAAAAAAAAAAAAAAAAAAAAAAAAAAAAAAAAAAAAAAAAAAAAAAAAAAAAAAAAAAAAAAAAAAAAAAAAAAAAAAAAAAAAAAAAAAAAAAAAAAAAAAAAAAAAAAAAAAAAAAAAAAAAAAAAAAAAAAAAAAAAAAAAAAAAAAAAAAAAAAAAAAAAAAAAAAAAAAAAAAAAAAAAAAAAAAAAAAAAAAAAAAAAAAAAAAAAAAAAAAAAAAAAAAAAAAAAAAAAAAAAAAAAAAAAAAAAAAAAAAAAAAAAAAAAAAAAAAAAAAAAAAAAAAAAAAAAAAAAAAAAAAAAAAAAAAAAAAAAAAAAAAAAAAAAAAAAAAAAAAAAAAAAAAAAAAAAAAAAAAAAAAAAAAAAAAAAAAAAAAAAAAAAAAAAAAAAAAAAAAAAAAAAAAAAAAAAAAAAAAAAAAAAAAAAAAAAAAAAAAAAAAAAAAAAAAAAAAAAAAAAAAAAAAAAAAAAAAAAAAAAAAAAAAAAAAAAAAAAAAAAAAAAAAAAAAAAAAAAAAAAAAAAAAAAAAAAAAAAAAAAAAAAAAAAAAAAAAAAAAAAAAAAAAAAAAAAAAAAAAAAAAAAAAAAAAAAAAAAAAAAAAAAAAAAAAAAAAAAAAAAAAAAAAAAAAAAAAAAAAAAAAAAAAAAAAAAAAAAAAAAAAAAAAAAAAAAAAAAAAAAAAAAAAAAAAAAAAAAAAAAAAAAAAAAAAAAAAAAAAAAAAAAAAAAAAAAAAAAAAAAAAAAAAAAAAAAAAAAAAAAAAAAAAAAAAAAAAAAAAAAAAAAAAAAAAAAAAAAAAAAAAAAAAAAAAAAAAAAAAAAAAAAAAAAAAAAAAAAAAAAAAAAAAAAAAAAAAAAAAAAAAAAAAAAAAAAAAAAAAAAAAAAAAAAAAAAAAAAAAAAAAAAAAAAAAAAAAAAAAAAAAAAAAAAAAAAAAAAAAAAAAAAAAAAAAAAAAAAAAAAAAAAAAAAAAAAAAAAAAAAAAAAAAAAAAAAAAAAAAAAAAAAAAAAAAAAAAAAAAAAAAAAAAAAAAAAAAAAAAAAAAAAAAAAAAAAAAAAAAAAAAAAAAAAAAAAAAAAAAAAAAAAAAAAAAAAAAAAAAAAAAAAAAAAAAAAAAAAAAAAAAAAAAAAAAAAAAAAAAAAAAAAAAAAAAAAAAAAAAAAAAAAAAAAAAAAAAAAAAAAAAAAAAAAAAAAAAAAAAAAAAAAAAAAAAAAAAAAAAAAAAAAAAAAAAAAAAAAAAAAAAAAAAAAAAAAAAAAAAAAAAAAAAAAAAAAAAAAAAAAAAAAAAAAAAAAAAAAAAAAAAAAAAAAAAAAAAAAAAAAAAAAAAAAAAAAAAAAAAAAAAAAAAAAAAAAAAAAAAAAAAAAAAAAAAAAAAAAAAAAAAAAAAAAAAAAAAAAAAAAAAAAAAAAAAAAAAAAAAAAAAAAAAAAAAAAAAAAAAAAAAAAAAAAAAAAAAAAAAAAAAAAAAAAAAAAAAAAAAAAAAAAAAAAAAAAAAAAAAAAAAAAAAAAAAAAAAAAAAAAAAAAAAAAAAAAAAAAAAAAAAAAAAAAAAAAAAAAAAAAAAAAAAAAAAAAAAAAAAAAAAAAAAAAAAAAAAAAAAAAAAAAAAAAAAAAAAAAAAAAAAAAAAAAAAAAAAAAAAAAAAAAAAAAAAAAAAAAAAAAAAAAAAAAAAAAAAAAAAAAAAAAAAAAAAAAAAAAAAAAAAAAAAAAAAAAAAAAAAAAAAAAAAAAAAAAAAAAAAAAAAAAAAAAAAAAAAAAAAAAAAAAAAAAAAAAAAAAAAAAAAAAAAAAAAAAAAAAAAAAAAAAAAAAAAAAAAAAAAAAAAAAAAAAAAAAAAAAAAAAAAAAAAAAAAAAAAAAAAAAAAAAAAAAAAAAAAAAAAAAAAAAAAAAAAAAAAAAAAAAAAAAAAAAAAAAAAAAAAAAAAAAAAAAAAAAAAAAAAAAAAAAAAAAAAAAAAAAAAAAAAAAAAAAAAAAAAAAAAAAAAAAAAAAAAAAAAAAAAAAAAAAAAAAAAAAAAAAAAAAAAAAAAAAAAAAAAAAAAAAAAAAAAAAAAAAAAAAAAAAAAAAAAAAAAAAAAAAAAAAAAAAAAAAAAAAAAAAAAAAAAAAAAAAAAAAAAAAAAAAAAAAAAAAAAAAAAAAAAAAAAAAAAAAAAAAAAAAAAAAAAAAAAAAAAAAAAAAAAAAAAAAAAAAAAAAAAAAAAAAAAAAAAAAAAAAAAAAAAAAAAAAAAAAAAAAAAAAAAAAAAAAAAAAAAAAAAAAAAAAAAAAAAAAAAAAAAAAAAAAAAAAAAAAAAAAAAAAAAAAAAAAAAAAAAAAAAAAAAAAAAAAAAAAAAAAAAAAAAAAAAAAAAAAAAAAAAAAAAAAAAAAAAAAAAAAAAAAAAAAAAAAAAAAAAAAAAAAAAAAAAAAAAAAAAAAAAAAAAAAAAAAAAAAAAAAAAAAAAAAAAAAAAAAAAAAAAAAAAAAAAAAAAAAAAAAAAAAAAAAAAAAAAAAAAAAAAAAAAAAAAAAAAAAAAAAAAAAAAAAAAAAAAAAAAAAAAAAAAAAAAAAAAAAAAAAAAAAAAAAAAAAAAAAAAAAAAAAAAAAAAAAAAAAAAAAAAAAAAAAAAAAAAAAAAAAAAAAAAAAAAAAAAAAAAAAAAAAAAAAAAAAAAAAAAAAAAAAAAAAAAAAAAAAAAAAAAAAAAAAAAAAAAAAAAAAAAAAAAAAAAAAAAAAAAAAAAAAAAAAAAAAAAAAAAAAAAAAAAAAAAAAAAAAAAAAAAAAAAAAAAAAAAAAAAAAAAAAAAAAAAAAAAAAAAAAAAAAAAAAAAAAAAAAAAAAAAAAAAAAAAAAAAAAAAAAAAAAAAAAAAAAAAAAAAAAAAAAAAAAAAAAAAAAAAAAAAAAAAAAAAAAAAAAAAAAAAAAAAAAAAAAAAAAAAAAAAAAAAAAAAAAAAAAAAAAAAAAAAAAAAAAAAAAAAAAAAAAAAAAAAAAAAAAAAAAAAAAAAAAAAAAAAAAAAAAAAAAAAAAAAAAAAAAAAAAAAAAAAAAAAAAAAAAAAAAAAAAAAAAAAAAAAAAAAAAAAAAAAAAAAAAAAAAAAAAAAAAAAAAAAAAAAAAAAAAAAAAAAAAAAAAAAAAAAAAAAAAAAAAAAAAAAAAAAAAAAAAAAAAAAAAAAAAAAAAAAAAAAAAAAAAAAAAAAAAAAAAAAAAAAAAAAAAAAAAAAAAAAAAAAAAAAAAAAAAAAAAAAAAAAAAAAAAAAAAAAAAAAAAAAAAAAAAAAAAAAAAAAAAAAAAAAAAAAAAAAAAAAAAAAAAAAAAAAAAAAAAAAAAAAAAAAAAAAAAAAAAAAAAAAAAAAAAAAAAAAAAAAAAAAAAAAAAAAAAAAAAAAAAAAAAAAAAAAAAAAAAAAAAAAAAAAAAAAAAAAAAAAAAAAAAAAAAAAAAAAAAAAAAAAAAAAAAAAAAAAAAAAAAAAAAAAAAAAAAAAAAAAAAAAAAAAAAAAAAAAAAAAAAAAAAAAAAAAAAAAAAAAAAAAAAAAAAAAAAAAAAAAAAAAAAAAAAAAAAAAAAAAAAAAAAAAAAAAAAAAAAAAAAAAAAAAAAAAAAAAAAAAAAAAAAAAAAAAAAAAAAAAAAAAAAAAAAAAAAAAAAAAAAAAAAAAAAAAAAAAAAAAAAAAAAAAAAAAAAAAAAAAAAAAAAAAAAAAAAAAAAAAAAAAAAAAAAAAAAAAAAAAAAAAAAAAAAAAAAAAAAAAAAAAAAAAAAAAAAAAAAAAAAAAAAAAAAAAAAAAAAAAAAAAAAAAAAAAAAAAAAAAAAAAAAAAAAAAAAAAAAAAAAAAAAAAAAAAAAAAAAAAAAAAAAAAAAAAAAAAAAAAAAAAAAAAAAAAAAAAAAAAAAAAAAAAAAAAAAAAAAAAAAAAAAAAAAAAAAAAAAAAAAAAAAAAAAAAAAAAAAAAAAAAAAAAAAAAAAAAAAAAAAAAAAAAAAAAAAAAAAAAAAAAAAAAAAAAAAAAAAAAAAAAAAAAAAAAAAAAAAAAAAAAAAAAAAAAAAAAAAAAAAAAAAAAAAAAAAAAAAAAAAAAAAAAAAAAAAAAAAAAAAAAAAAAAAAAAAAAAAAAAAAAAAAAAAAAAAAAAAAAAAAAAAAAAAAAAAAAAAAAAAAAAAAAAAAAAAAAAAAAAAAAAAAAAAAAAAAAAAAAAAAAAAAAAAAAAAAAAAAAAAAAAAAAAAAAAAAAAAAAAAAAAAAAAAAAAAAAAAAAAAAAAAAAAAAAAAAAAAAAAAAAAAAAAAAAAAAAAAAAAAAAAAAAAAAAAAAAAAAAAAAAAAAAAAAAAAAAAAAAAAAAAAAAAAAAAAAAAAAAAAAAAAAAAAAAAAAAAAAAAAAAAAAAAAAAAAAAAAAAAAAAAAAAAAAAAAAAAAAAAAAAAAAAAAAAAAAAAAAAAAAAAAAAAAAAAAAAAAAAAAAAAAAAAAAAAAAAAAAAAAAAAAAAAAAAAAAAAAAAAAAAAAAAAAAAAAAAAAAAAAAAAAAAAAAAAAAAAAAAAAAAAAAAAAAAAAAAAAAAAAAAAAAAAAAAAAAAAAAAAAAAAAAAAAAAAAAAAAAAAAAAAAAAAAAAAAAAAAAAAAAAAAAAAAAAAAAAAAAAAAAAAAAAAAAAAAAAAAAAAAAAAAAAAAAAAAAAAAAAAAAAAAAAAAAAAAAAAAAAAAAAAAAAAAAAAAAAAAAAAAAAAAAAAAAAAAAAAAAAAAAAAAAAAAAAAAAAAAAAAAAAAAAAAAAAAAAAAAAAAAAAAAAAAAAAAAAAAAAAAAAAAAAAAAAAAAAAAAAAAAAAAAAAAAAAAAAAAAAAAAAAAAAAAAAAAAAAAAAAAAAAAAAAAAAAAAAAAAAAAAAAAAAAAAAAAAAAAAAAAAAAAAAAAAAAAAAAAAAAAAAAAAAAAAAAAAAAAAAAAAAAAAAAAAAAAAAAAAAAAAAAAAAAAAAAAAAAAAAAAAAAAAAAAAAAAAAAAAAAAAAAAAAAAAAAAAAAAAAAAAAAAAAAAAAAAAAAAAAAAAAAAAAAAAAAAAAAAAAAAAAAAAAAAAAAAAAAAAAAAAAAAAAAAAAAAAAAAAAAAAAAAAAAAAAAAAAAAAAAAAAAAAAAAAAAAAAAAAAAAAAAAAAAAAAAAAAAAAAAAAAAAAAAAAAAAAAAAAAAAAAAAAAAAAAAAAAAAAAAAAAAAAAAAAAAAAAAAAAAAAAAAAAAAAAAAAAAAAAAAAAAAAAAAAAAAAAAAAAAAAAAAAAAAAAAAAAAAAAAAAAAAAAAAAAAAAAAAAAAAAAAAAAAAAAAAAAAAAAAAAAAAAAAAAAAAAAAAAAAAAAAAAAAAAAAAAAAAAAAAAAAAAAAAAAAAAAAAAAAAAAAAAAAAAAAAAAAAAAAAAAAAAAAAAAAAAAAAAAAAAAAAAAAAAAAAAAAAAAAAAAAAAAAAAAAAAAAAAAAAAAAAAAAAAAAAAAAAAAAAAAAAAAAAAAAAAAAAAAAAAAAAAAAAAAAAAAAAAAAAAAAAAAAAAAAAAAAAAAAAAAAAAAAAAAAAAAAAAAAAAAAAAAAAAAAAAAAAAAAAAAAAAAAAAAAAAAAAAAAAAAAAAAAAAAAAAAAAAAAAAAAAAAAAAAAAAAAAAAAAAAAAAAAAAAAAAAAAAAAAAAAAAAAAAAAAAAAAAAAAAAAAAAAAAAAAAAAAAAAAAAAAAAAAAAAAAAAAAAAAAAAAAAAAAAAAAAAAAAAAAAAAAAAAAAAAAAAAAAAAAAAAAAAAAAAAAAAAAAAAAAAAAAAAAAAAAAAAAAAAAAAAAAAAAAAAAAAAAAAAAAAAAAAAAAAAAAAAAAAAAAAAAAAAAAAAAAAAAAAAAAAAAAAAAAAAAAAAAAAAAAAAAAAAAAAAAAAAAAAAAAAAAAAAAAAAAAAAAAAAAAAAAAAAAAAAAAAAAAAAAAAAAAAAAAAAAAAAAAAAAAAAAAAAAAAAAAAAAAAAAAAAAAAAAAAAAAAAAAAAAAAAAAAAAAAAAAAAAAAAAAAAAAAAAAAAAAAAAAAAAAAAAAAAAAAAAAAAAAAAAAAAAAAAAAAAAAAAAAAAAAAAAAAAAAAAAAAAAAAAAAAAAAAAAAAAAAAAAAAAAAAAAAAAAAAAAAAAAAAAAAAAAAAAAAAAAAAAAAAAAAAAAAAAAAAAAAAAAAAAAAAAAAAAAAAAAAAAAAAAAAAAAAAAAAAAAAAAAAAAAAAAAAAAAAAAAAAAAAAAAAAAAAAAAAAAAAAAAAAAAAAAAAAAAAAAAAAAAAAAAAAAAAAAAAAAAAAAAAAAAAAAAAAAAAAAAAAAAAAAAAAAAAAAAAAAAAAAAAAAAAAAAAAAAAAAAAAAAAAAAAAAAAAAAAAAAAAAAAAAAAAAAAAAAAAAAAAAAAAAAAAAAAAAAAAAAAAAAAAAAAAAAAAAAAAAAAAAAAAAAAAAAAAAAAAAAAAAAAAAAAAAAAAAAAAAAAAAAAAAAAAAAAAAAAAAAAAAAAAAAAAAAAAAAAAAAAAAAAAAAAAAAAAAAAAAAAAAAAAAAAAAAAAAAAAAAAAAAAAAAAAAAAAAAAAAAAAAAAAAAAAAAAAAAAAAAAAAAAAAAAAAAAAAAAAAAAAAAAAAAAAAAAAAAAAAAAAAAAAAAAAAAAAAAAAAAAAAAAAAAAAAAAAAAAAAAAAAAAAAAAAAAAAAAAAAAAAAAAAAAAAAAAAAAAAAAAAAAAAAAAAAAAAAAAAAAAAAAAAAAAAAAAAAAAAAAAAAAAAAAAAAAAAAAAAAAAAAAAAAAAAAAAAAAAAAAAAAAAAAAAAAAAAAAAAAAAAAAAAAAAAAAAAAAAAAAAAAAAAAAAAAAAAAAAAAAAAAAAAAAAAAAAAAAAAAAAAAAAAAAAAAAAAAAAAAAAAAAAAAAAAAAAAAAAAAAAAAAAAAAAAAAAAAAAAAAAAAAAAAAAAAAAAAAAAAAAAAAAAAAAAAAAAAAAAAAAAAAAAAAAAAAAAAAAAAAAAAAAAAAAAAAAAAAAAAAAAAAAAAAAAAAAAAAAAAAAAAAAAAAAAAAAAAAAAAAAAAAAAAAAAAAAAAAAAAAAAAAAAAAAAAAAAAAAAAAAAAAAAAAAAAAAAAAAAAAAAAAAAAAAAAAAAAAAAAAAAAAAAAAAAAAAAAAAAAAAAAAAAAAAAAAAAAAAAAAAAAAAAAAAAAAAAAAAAAAAAAAAAAAAAAAAAAAAAAAAAAAAAAAAAAAAAAAAAAAAAAAAAAAAAAAAAAAAAAAAAAAAAAAAAAAAAAAAAAAAAAAAAAAAAAAAAAAAAAAAAAAAAAAAAAAAAAAAAAAAAAAAAAAAAAAAAAAAAAAAAAAAAAAAAAAAAAAAAAAAAAAAAAAAAAAAAAAAAAAAAAAAAAAAAAAAAAAAAAAAAAAAAAAAAAAAAAAAAAAAAAAAAAAAAAAAAAAAAAAAAAAAAAAAAAAAAAAAAAAAAAAAAAAAAAAAAAAAAAAAAAAAAAAAAAAAAAAAAAAAAAAAAAAAAAAAAAAAAAAAAAAAAAAAAAAAAAAAAAAAAAAAAAAAAAAAAAAAAAAAAAAAAAAAAAAAAAAAAAAAAAAAAAAAAAAAAAAAAAAAAAAAAAAAAAAAAAAAAAAAAAAAAAAAAAAAAAAAAAAAAAAAAAAAAAAAAAAAAAAAAAAAAAAAAAAAAAAAAAAAAAAAAAAAAAAAAAAAAAAAAAAAAAAAAAAAAAAAAAAAAAAAAAAAAAAAAAAAAAAAAAAAAAAAAAAAAAAAAAAAAAAAAAAAAAAAAAAAAAAAAAAAAAAAAAAAAAAAAAAAAAAAAAAAAAAAAAAAAAAAAAAAAAAAAAAAAAAAAAAAAAAAAAAAAAAAAAAAAAAAAAAAAAAAAAAAAAAAAAAAAAAAAAAAAAAAAAAAAAAAAAAAAAAAAAAAAAAAAAAAAAAAAAAAAAAAAAAAAAAAAAAAAAAAAAAAAAAAAAAAAAAAAAAAAAAAAAAAAAAAAAAAAAAAAAAAAAAAAAAAAAAAAAAAAAAAAAAAAAAAAAAAAAAAAAAAAAAAAAAAAAAAAAAAAAAAAAAAAAAAAAAAAAAAAAAAAAAAAAAAAAAAAAAAAAAAAAAAAAAAAAAAAAAAAAAAAAAAAAAAAAAAAAAAAAAAAAAAAAAAAAAAAAAAAAAAAAAAAAAAAAAAAAAAAAAAAAAAAAAAAAAAAAAAAAAAAAAAAAAAAAAAAAAAAAAAAAAAAAAAAAAAAAAAAAAAAAAAAAAAAAAAAAAAAAAAAAAAAAAAAAAAAAAAAAAAAAAAAAAAAAAAAAAAAAAAAAAAAAAAAAAAAAAAAAAAAAAAAAAAAAAAAAAAAAAAAAAAAAAAAAAAAAAAAAAAAAAAAAAAAAAAAAAAAAAAAAAAAAAAAAAAAAAAAAAAAAAAAAAAAAAAAAAAAAAAAAAAAAAAAAAAAAAAAAAAAAAAAAAAAAAAAAAAAAAAAAAAAAAAAAAAAAAAAAAAAAAAAAAAAAAAAAAAAAAAAAAAAAAAAAAAAAAAAAAAAAAAAAAAAAAAAAAAAAAAAAAAAAAAAAAAAAAAAAAAAAAAAAAAAAAAAAAAAAAAAAAAAAAAAAAAAAAAAAAAAAAAAAAAAAAAAAAAAAAAAAAAAAAAAAAAAAAAAAAAAAAAAAAAAAAAAAAAAAAAAAAAAAAAAAAAAAAAAAAAAAAAAAAAAAAAAAAAAAAAAAAAAAAAAAAAAAAAAAAAAAAAAAAAAAAAAAAAAAAAAAAAAAAAAAAAAAAAAAAAAAAAAAAAAAAAAAAAAAAAAAAAAAAAAAAAAAAAAAAAAAAAAAAAAAAAAAAAAAAAAAAAAAAAAAAAAAAAAAAAAAAAAAAAAAAAAAAAAAAAAAAAAAAAAAAAAAAAAAAAAAAAAAAAAAAAAAAAAAAAAAAAAAAAAAAAAAAAAAAAAAAAAAAAAAAAAAAAAAAAAAAAAAAAAAAAAAAAAAAAAAAAAAAAAAAAAAAAAAAAAAAAAAAAAAAAAAAAAAAAAAAAAAAAAAAAAAAAAAAAAAAAAAAAAAAAAAAAAAAAAAAAAAAAAAAAAAAAAAAAAAAAAAAAAAAAAAAAAAAAAAAAAAAAAAAAAAAAAAAAAAAAAAAAAAAAAAAAAAAAAAAAAAAAAAAAAAAAAAAAAAAAAAAAAAAAAAAAAAAAAAAAAAAAAAAAAAAAAAAAAAAAAAAAAAAAAAAAAAAAAAAAAAAAAAAAAAAAAAAAAAAAAAAAAAAAAAAAAAAAAAAAAAAAAAAAAAAAAAAAAAAAAAAAAAAAAAAAAAAAAAAAAAAAAAAAAAAAAAAAAAAAAAAAAAAAAAAAAAAAAAAAAAAAAAAAAAAAAAAAAAAAAAAAAAAAAAAAAAAAAAAAAAAAAAAAAAAAAAAAAAAAAAAAAAAAAAAAAAAAAAAAAAAAAAAAAAAAAAAAAAAAAAAAAAAAAAAAAAAAAAAAAAAAAAAAAAAAAAAAAAAAAAAAAAAAAAAAAAAAAAAAAAAAAAAAAAAAAAAAAAAAAAAAAAAAAAAAAAAAAAAAAAAAAAAAAAAAAAAAAAAAAAAAAAAAAAAAAAAAAAAAAAAAAAAAAAAAAAAAAAAAAAAAAAAAAAAAAAAAAAAAAAAAAAAAAAAAAAAAAAAAAAAAAAAAAAAAAAAAAAAAAAAAAAAAAAAAAAAAAAAAAAAAAAAAAAAAAAAAAAAAAAAAAAAAAAAAAAAAAAAAAAAAAAAAAAAAAAAAAAAAAAAAAAAAAAAAAAAAAAAAAAAAAAAAAAAAAAAAAAAAAAAAAAAAAAAAAAAAAAAAAAAAAAAAAAAAAAAAAAAAAAAAAAAAAAAAAAAAAAAAAAAAAAAAAAAAAAAAAAAAAAAAAAAAAAAAAAAAAAAAAAAAAAAAAAAAAAAAAAAAAAAAAAAAAAAAAAAAAAAAAAAAAAAAAAAAAAAAAAAAAAAAAAAAAAAAAAAAAAAAAAAAAAAAAAAAAAAAAAAAAAAAAAAAAAAAAAAAAAAAAAAAAAAAAAAAAAAAAAAAAAAAAAAAAAAAAAAAAAAAAAAAAAAAAAAAAAAAAAAAAAAAAAAAAAAAAAAAAAAAAAAAAAAAAAAAAAAAAAAAAAAAAAAAAAAAAAAAAAAAAAAAAAAAAAAAAAAAAAAAAAAAAAAAAAAAAAAAAAAAAAAAAAAAAAAAAAAAAAAAAAAAAAAAAAAAAAAAAAAAAAAAAAAAAAAAAAAAAAAAAAAAAAAAAAAAAAAAAAAAAAAAAAAAAAAAAAAAAAAAAAAAAAAAAAAAAAAAAAAAAAAAAAAAAAAAAAAAAAAAAAAAAAAAAAAAAAAAAAAAAAAAAAAAAAAAAAAAAAAAAAAAAAAAAAAAAAAAAAAAAAAAAAAAAAAAAAAAAAAAAAAAAAAAAAAAAAAAAAAAAAAAAAAAAAAAAAAAAAAAAAAAAAAAAAAq6qqqqqq6j8AAAAAAAAAAAAAAAAAAAAAAAAAAAAAAAAAAAAAAAAAAAAAAAAAAAAAAAAAAAAAAAAAAAAAAAAAAAAAAAAAAAAAAAAAAAAAAAAAAAAAAAAAAAAAAAAAAAAAAAAAAAAAAAAAAAAAAAAAAAAAAAAAAAAAAAAAAAAAAAAAAAAAAAAAAAAAAAAAAAAAAAAAAAAAAAAAAAAAAAAAAAAAAAAAAAAAAAAAAAAAAAAAAAAAAAAAAAAAAAAAAAAAAAAAAAAAAAAAAAAAAAAAAAAAAAAAAAAAAAAAAAAAAAAAAAAAAAAAAAAAAAAAAAAAAAAAAAAAAAAAAAAAAAAAAAAAAAAAAAAAAAAAAAAAAAAAAAAAAAAAAAAAAAAAAAAAAAAAAAAAAAAAAAAAAAAAAAAAAAAAAAAAAAAAAAAAAAAAAAAAAAAAAAAAAAAAAAAAAAAAAAAAAAAAAAAAAAAAAAAAAAAAAAAAAAAAAAAAAAAAAAAAAAAAAAAAAAAAAAAAAAAAAAAAAAAAAAAAAAAAAAAAAAAAAAAAAAAAAAAAAAAAAAAAAAAAAAAAAAAAAAAAAAAAAAAAAAAAAAAAAAAAAAAAAAAAAAAAAAAAAAAAAAAAAAAAAAAAAAAAAAAAAAAAAAAAAAAAAAAAAAAAAAAAAAAAAAAAAAAAAAAAAAAAAAAAAAAAAAAAAAAAAAAAAAAAAAAAAAAAAAAAAAAAAAAAAAAAAAAAAAAAAAAAAAAAAAAAAAAAAAAAAAAAAAAAAAAAAAAAAAAAAAAAAAAAAAAAAAAAAAAAAAAAAAAAAAAAAAAAAAAAAAAAAAAAAAAAAAAAAAAAAAAAAAAAAAAAAAAAAAAAAAAAAAAAAAAAAAAAAAAAAAAAAAAAAAAAAAAAAAAAAAAAAAAAAAAAAAAAAAAAAAAAAAAAAAAAAAAAAAAAAAAAAAAAAAAAAAAAAAAAAAAAAAAAAAAAAAAAAAAAAAAAAAAAAAAAAAAAAAAAAAAAAAAAAAAAAAAAAAAAAAAAAAAAAAAAAAAAAAAAAAAAAAAAAAAAAAAAAAAAAAAAAAAAAAAAAAAAAAAAAAAAAAAAAAAAAAAAAAAAAAAAAAAAAAAAAAAAAAAAAAAAAAAAAAAAAAAAAAAAAAAAAAAAAAAAAAAAAAAAAAAAAAAAAAAAAAAAAAAAAAAAAAAAAAAAAAAAAAAAAAAAAAAAAAAAAAAAAAAAAAAAAAAAAAAAAAAAAAAAAAAAAAAAAAAAAAAAAAAAAAAAAAAAAAAAAAAAAAAAAAAAAAAAAAAAAAAAAAAAAAAAAAAAAAAAAAAAAAAAAAAAAAAAAAAAAAAAAAAAAAAAAAAAAAAAAAAAAAAAAAAAAAAAAAAAAAAAAAAAAAAAAAAAAAAAAAAAAAAAAAAAAAAAAAAAAAAAAAAAAAAAAAAAAAAAAAAAAAAAAAAAAAAAAAAAAAAAAAAAAAAAAAAAAAAAAAAAAAAAAAAAAAAAAAAAAAAAAAAAAAAAAAAAAAAAAAAAAAAAAAAAAAAAAAAAAAAAAAAAAAAAAAAAAAAAAAAAAAAAAAAAAAAAAAAAAAAAAAAAAAAAAAAAAAAAAAAAAAAAAAAAAAAAAAAAAAAAAAAAAAAAAAAAAAAAAAAAAAAAAAAAAAAAAAAAAAAAAAAAAAAAAAAAAAAAAAAAAAAAAAAAAAAAAAAAAAAAAAAAAAAAAAAAAAAAAAAAAAAAAAAAAAAAAAAAAAAAAAAAAAAAAAAAAAAAAAAAAAAAAAAAAAAAAAAAAAAAAAAAAAAAAAAAAAAAAAAAAAAAAAAAAAAAAAAAAAAAAAAAAAAAAAAAAAAAAAAAAAAAAAAAAAAAAAAAAAAAAAAAAAAAAAAAAAAAAAAAAAAAAAAAAAAAAAAAAAAAAAAAAAAAAAAAAAAAAAAAAAAAAAAAAAAAAAAAAAAAAAAAAAAAAAAAAAAAAAAAAAAAAAAAAAAAAAAAAAAAAAAAAAAAAAAAAAAAAAAAAAAAAAAAAAAAAAAAAAAAAAAAAAAAAAAAAAAAAAAAAAAAAAAAAAAAAAAAAAAAAAAAAAAAAAAAAAAAAAAAAAAAAAAAAAAAAAAAAAAAAAAAAAAAAAAAAAAAAAAAAAAAAAAAAAAAAAAAAAAAAAAAAAAAAAAAAAAAAAAAAAAAAAAAAAAAAAAAAAAAAAAAAAAAAAAAAAAAAAAAAAAAAAAAAAAAAAAAAAAAAAAAAAAAAAAAAAAAAAAAAAAAAAAAAAAAAAAAAAAAAAAAAAAAAAAAAAAAAAAAAAAAAAAAAAAAAAAAAAAAAAAAAAAAAAAAAAAAAAAAAAAAAAAAAAAAAAAAAAAAAAAAAAAAAAAAAAAAAAAAAAAAAAAAAAAAAAAAAAAAAAAAAAAAAAAAAAAAAAAAAAAAAAAAAAAAAAAAAAAAAAAAAAAAAAAAAAAAAAAAAAAAAAAAAAAAAAAAAAAAAAAAAAAAAAAAAAAAAAAAAAAAAAAAAAAAAAAAAAAAAAAAAAAAAAAAAAAAAAAAAAAAAAAAAAAAAAAAAAAAAAAAAAAAAAAAAAAAAAAAAAAAAAAAAAAAAAAAAAAAAAAAAAAAAAAAAAAAAAAAAAAAAAAAAAAAAAAAAAAAAAAAAAAAAAAAAAAAAAAAAAAAAAAAAAAAAAAAAAAAAAAAAAAAAAAAAAAAAAAAAAAAAAAAAAAAAAAAAAAAAAAAAAAAAAAAAAAAAAAAAAAAAAAAAAAAAAAAAAAAAAAAAAAAAAAAAAAAAAAAAAAAAAAAAAAAAAAAAAAAAAAAAAAAAAAAAAAAAAAAAAAAAAAAAAAAAAAAAAAAAAAAAAAAAAAAAAAAAAAAAAAAAAAAAAAAAAAAAAAAAAAAAAAAAAAAAAAAAAAAAAAAAAAAAAAAAAAAAAAAAAAAAAAAAAAAAAAAAAAAAAAAAAAAAAAAAAAAAAAAAAAAAAAAAAAAAAAAAAAAAAAAAAAAAAAAAAAAAAAAAAAAAAAAAAAAAAAAAAAAAAAAAAAAAAAAAAAAAAAAAAAAAAAAAAAAAAAAAAAAAAAAAAAAAAAAAAAAAAAAAAAAAAAAAAAAAAAAAAAAAAAAAAAAAAAAAAAAAAAAAAAAAAAAAAAAAAAAAAAAAAAAAAAAAAAAAAAAAAAAAAAAAAAAAAAAAAAAAAAAAAAAAAAAAAAAAAAAAAAAAAAAAAAAAAAAAAAAAAAAAAAAAAAAAAAAAAAAAAAAAAAAAAAAAAAAAAAAAAAAAAAAAAAAAAAAAAAAAAAAAAAAAAAAAAAAAAAAAAAAAAAAAAAAAAAAAAAAAAAAAAAAAAAAAAAAAAAAAAAAAAAAAAAAAAAAAAAAAAAAAAAAAAAAAAAAAAAAAAAAAAAAAAAAAAAAAAAAAAAAAAAAAAAAAAAAAAAAAAAAAAAAAAAAAAAAAAAAAAAAAAAAAAAAAAAAAAAAAAAAAAAAAAAAAAAAAAAAAAAAAAAAAAAAAAAAAAAAAAAAAAAAAAAAAAAAAAAAAAAAAAAAAAAAAAAAAAAAAAAAAAAAAAAAAAAAAAAAAAAAAAAAAAAAAAAAAAAAAAAAAAAAAAAAAAAAAAAAAAAAAAAAAAAAAAAAAAAAAAAAAAAAAAAAAAAAAAAAAAAAAAAAAAAAAAAAAAAAAAAAAAAAAAAAAAAAAAAAAAAAAAAAAAAAAAAAAAAAAAAAAAAAAAAAAAAAAAAAAAAAAAAAAAAAAAAAAAAAAAAAAAAAAAAAAAAAAAAAAAAAAAAAAAAAAAAAAAAAAAAAAAAAAAAAAAAAAAAAAAAAAAAAAAAAAAAAAAAAAAAAAAAAAAAAAAAAAAAAAAAAAAAAAAAAAAAAAAAAAAAAAAAAAAAAAAAAAAAAAAAAAAAAAAAAAAAAAAAAAAAAAAAAAAAAAAAAAAAAAAAAAAAAAAAAAAAAAAAAAAAAAAAAAAAAAAAAAAAAAAAAAAAAAAAAAAAAAAAAAAAAAAAAAAAAAAAAAAAAAAAAAAAAAAAAAAAAAAAAAAAAAAAAAAAAAAAAAAAAAAAAAAAAAAAAAAAAAAAAAAAAAAAAAAAAAAAAAAAAAAAAAAAAAAAAAAAAAAAAAAAAAAAAAAAAAAAAAAAAAAAAAAAAAAAAAAAAAAAAAAAAAAAAAAAAAAAAAAAAAAAAAAAAAAAAAAAAAAAAAAAAAAAAAAAAAAAAAAAAAAAAAAAAAAAAAAAAAAAAAAAAAAAAAAAAAAAAAAAAAAAAAAAAAAAAAAAAAAAAAAAAAAAAAAAAAAAAAAAAAAAAAAAAAAAAAAAAAAAAAAAAAAAAAAAAAAAAAAAAAAAAAAAAAAAAAAAAAAAAAAAAAAAAAAAAAAAAAAAAAAAAAAAAAAAAAAAAAAAAAAAAAAAAAAAAAAAAAAAAAAAAAAAAAAAAAAAAAAAAAAAAAAAAAAAAAAAAAAAAAAAAAAAAAAAAAAAAAAAAAAAAAAAAAAAAAAAAAAAAAAAAAAAAAAAAAAAAAAAAAAAAAAAAAAAAAAAAAAAAAAAAAAAAAAAAAAAAAAAAAAAAAAAAAAAAAAAAAAAAAAAAAAAAAAAAAAAAAAAAAAAAAAAAAAAAAAAAAAAAAAAAAAAAAAAAAAAAAAAAAAAAAAAAAAAAAAAAAAAAAAAAAAAAAAAAAAAAAAAAAAAAAAAAAAAAAAAAAAAAAAAAAAAAAAAAAAAAAAAAAAAAAAAAAAAAAAAAAAAAAAAAAAAAAAAAAAAAAAAAAAAAAAAAAAAAAAAAAAAAAAAAAAAAAAAAAAAAAAAAAAAAAAAAAAAAAAAAAAAAAAAAAAAAAAAAAAAAAAAAAAAAAAAAAAAAAAAAAAAAAAAAAAAAAAAAAAAAAAAAAAAAAAAAAAAAAAAAAAAAAAAAAAAAAAAAAAAAAAAAAAAAAAAAAAAAAAAAAAAAAAAAAAAAAAAAAAAAAAAAAAAAAAAAAAAAAAAAAAAAAAAAAAAAAAAAAAAAAAAAAAAAAAAAAAAAAAAAAAAAAAAAAAAAAAAAAAAAAAAAAAAAAAAAAAAAAAAAAAAAAAAAAAAAAAAAAAAAAAAAAAAAAAAAAAAAAAAAAAAAAAAAAAAAAAAAAAAAAAAAAAAAAAAAAAAAAAAAAAAAAAAAAAAAAAAAAAAAAAAAAAAAAAAAAAAAAAAAAAAAAAAAAAAAAAAAAAAAAAAAAAAAAAAAAAAAAAAAAAAAAAAAAAAAAAAAAAAAAAAAAAAAAAAAAAAAAAAAAAAAAAAAAAAAAAAAAAAAAAAAAAAAAAAAAAAAAAAAAAAAAAAAAAAAAAAAAAAAAAAAAAAAAAAAAAAAAAAAAAAAAAAAAAAAAAAAAAAAAAAAAAAAAAAAAAAAAAAAAAAAAAAAAAAAAAAAAAAAAAAAAAAAAAAAAAAAAAAAAAAAAAAAAAAAAAAAAAAAAAAAAAAAAAAAAAAAAAAAAAAAAAAAAAAAAAAAAAAAAAAAAAAAAAAAAAAAAAAAAAAAAAAAAAAAAAAAAAAAAAAAAAAAAAAAAAAAAAAAAAAAAAAAAAAAAAAAAAAAAAAAAAAAAAAAAAAAAAAAAAAAAAAAAAAAAAAAAAAAAAAAAAAAAAAAAAAAAAAAAAAAAAAAAAAAAAAAAAAAAAAAAAAAAAAAAAAAAAAAAAAAAAAAAAAAAAAAAAAAAAAAAAAAAAAAAAAAAAAAAAAAAAAAAAAAAAAAAAAAAAAAAAAAAAAAAAAAAAAAAAAAAAAAAAAAAAAAAAAAAAAAAAAAAAAAAAAAAAAAAAAAAAAAAAAAAAAAAAAAAAAAAAAAAAAAAAAAAAAAAAAAAAAAAAAAAAAAAAAAAAAAAAAAAAAAAAAAAAAAAAAAAAAAAAAAAAAAAAAAAAAAAAAAAAAAAAAAAAAAAAAAAAAAAAAAAAAAAAAAAAAAAAAAAAAAAAAAAAAAAAAAAAAAAAAAAAAAAAAAAAAAAAAAAAAAAAAAAAAAAAAAAAAAAAAAAAAAAAAAAAAAAAAAAAAAAAAAAAAAAAAAAAAAAAAAAAAAAAAAAAAAAAAAAAAAAAAAAAAAAAAAAAAAAAAAAAAAAAAAAAAAAAAAAAAAAAAAAAAAAAAAAAAAAAAAAAAAAAAAAAAAAAAAAAAAAAAAAAAAAAAAAAAAAAAAAAAAAAAAAAAAAAAAAAAAAAAAAAAAAAAAAAAAAAAAAAAAAAAAAAAAAAAAAAAAAAAAAAAAAAAAAAAAAAAAAAAAAAAAAAAAAAAAAAAAAAAAAAAAAAAAAAAAAAAAAAAAAAAAAAAAAAAAAAAAAAAAAAAAAAAAAAAAAAAAAAAAAAAAAAAAAAAAAAAAAAAAAAAAAAAAAAAAAAAAAAAAAAAAAAAAAAAAAAAAAAAAAAAAAAAAAAAAAAAAAAAAAAAAAAAAAAAAAAAAAAAAAAAAAAAAAAAAAAAAAAAAAAAAAAAAAAAAAAAAAAAAAAAAAAAAAAAAAAAAAAAAAAAAAAAAAAAAAAAAAAAAAAAAAAAAAAAAAAAAAAAAAAAAAAAAAAAAAAAAAAAAAAAAAAAAAAAAAAAAAAAAAAAAAAAAAAAAAAAAAAAAAAAAAAAAAAAAAAAAAAAAAAAAAAAAAAAAAAAAAAAAAAAAAAAAAAAAAAAAAAAAAAAAAAAAAAAAAAAAAAAAAAAAAAAAAAAAAAAAAAAAAAAAAAAAAAAAAAAAAAAAAAAAAAAAAAAAAAAAAAAAAAAAAAAAAAAAAAAAAAAAAAAAAAAAAAAAAAAAAAAAAAAAAAAAAAAAAAAAAAAAAAAAAAAAAAAAAAAAAAAAAAAAAAAAAAAAAAAAAAAAAAAAAAAAAAAAAAAAAAAAAAAAAAAAAAAAAAAAAAAAAAAAAAAAAAAAAAAAAAAAAAAAAAAAAAAAAAAAAAAAAAAAAAAAAAAAAAAAAAAAAAAAAAAAAAAAAAAAAAAAAAAAAAAAAAAAAAAAAAAAAAAAAAAAAAAAAAAAAAAAAAAAAAAAAAAAAAAAAAAAAAAAAAAAAAAAAAAAAAAAAAAAAAAAAAAAAAAAAAAAAAAAAAAAAAAAAAAAAAAAAAAAAAAAAAAAAAAAAAAAAAAAAAAAAAAAAAAAAAAAAAAAAAAAAAAAAAAAAAAAAAAAAAAAAAAAAAAAAAAAAAAAAAAAAAAAAAAAAAAAAAAAAAAAAAAAAAAAAAAAAAAAAAAAAAAAAAAAAAAAAAAAAAAAAAAAAAAAAAAAAAAAAAAAAAAAAAAAAAAAAAAAAAAAAAAAAAAAAAAAAAAAAAAAAAAAAAAAAAAAAAAAAAAAAAAAAAAAAAAAAAAAAAAAAAAAAAAAAAAAAAAAAAAAAAAAAAAAAAAAAAAAAAAAAAAAAAAAAAAAAAAAAAAAAAAAAAAAAAAAAAAAAAAAAAAAAAAAAAAAAAAAAAAAAAAAAAAAAAAAAAAAAAAAAAAAAAAAAAAAAAAAAAAAAAAAAAAAAAAAAAAAAAAAAAAAAAAAAAAAAAAAAAAAAAAAAAAAAAAAAAAAAAAAAAAAAAAAAAAAAAAAAAAAAAAAAAAAAAAAAAAAAAAAAAAAAAAAAAAAAAAAAAAAAAAAAAAAAAAAAAAAAAAAAAAAAAAAAAAAAAAAAAAAAAAAAAAAAAAAAAAAAAAAAAAAAAAAAAAAAAAAAAAAAAAAAAAAAAAAAAAAAAAAAAAAAAAAAAAAAAAAAAAAAAAAAAAAAAAAAAAAAAAAAAAAAAAAAAAAAAAAAAAAAAAAAAAAAAAAAAAAAAAAAAAAAAAAAAAAAAAAAAAAAAAAAAAAAAAAAAAAAAAAAAAAAAAAAAAAAAAAAAAAAAAAAAAAAAAAAAAAAAAAAAAAAAAAAAAAAAAAAAAAAAAAAAAAAAAAAAAAAAAAAAAAAAAAAAAAAAAAAAAAAAAAAAAAAAAAAAAAAAAAAAAAAAAAAAAAAAAAAAAAAAAAAAAAAAAAAAAAAAAAAAAAAAAAAAAAAAAAAAAAAAAAAAAAAAAAAAAAAAAAAAAAAAAAAAAAAAAAAAAAAAAAAAAAAAAAAAAAAAAAAAAAAAAAAAAAAAAAAAAAAAAAAAAAAAAAAAAAAAAAAAAAAAAAAAAAAAAAAAAAAAAAAAAAAAAAAAAAAAAAAAAAAAAAAAAAAAAAAAAAAAAAAAAAAAAAAAAAAAAAAAAAAAAAAAAAAAAAAAAAAAAAAAAAAAAAAAAAAAAAAAAAAAAAAAAAAAAAAAAAAAAAAAAAAAAAAAAAAAAAAAAAAAAAAAAAAAAAAAAAAAAAAAAAAAAAAAAAAAAAAAAAAAAAAAAAAAAAAAAAAAAAAAAAAAAAAAAAAAAAAAAAAAAAAAAAAAAAAAAAAAAAAAAAAAAAAAAAAAAAAAAAAAAAAAAAAAAAAAAAAAAAAAAAAAAAAAAAAAAAAAAAAAAAAAAAAAAAAAAAAAAAAAAAAAAAAAAAAAAAAAAAAAAAAAAAAAAAAAAAAAAAAAAAAAAAAAAAAAAAAAAAAAAAAAAAAAAAAAAAAAAAAAAAAAAAAAAAAAAAAAAAAAAAAAAAAAAAAAAAAAAAAAAAAAAAAAAAAAAAAAAAAAAAAAAAAAAAAAAAAAAAAAAAAAAAAAAAAAAAAAAAAAAAAAAAAAAAAAAAAAAAAAAAAAAAAAAAAAAAAAAAAAAAAAAAAAAAAAAAAAAAAAAAAAAAAAAAAAAAAAAAAAAAAAAAAAAAAAAAAAAAAAAAAAAAAAAAAAAAAAAAAAAAAAAAAAAAAAAAAAAAAAAAAAAAAAAAAAAAAAAAAAAAAAAAAAAAAAAAAAAAAAAAAAAAAAAAAAAAAAAAAAAAAAAAAAAAAAAAAAAAAAAAAAAAAAAAAAAAAAAAAAAAAAAAAAAAAAAAAAAAAAAAAAAAAAAAAAAAAAAAAAAAAAAAAAAAAAAAAAAAAAAAAAAAAAAAAAAAAAAAAAAAAAAAAAAAAAAAAAAAAAAAAAAAAAAAAAAAAAAAAAAAAAAAAAAAAAAAAAAAAAAAAAAAAAAAAAAAAAAAAAAAAAAAAAAAAAAAAAAAAAAAAAAAAAAAAAAAAAAAAAAAAAAAAAAAAAAAAAAAAAAAAAAAAAAAAAAAAAAAAAAAAAAAAAAAAAAAAAAAAAAAAAAAAAAAAAAAAAAAAAAAAAAAAAAAAAAAAAAAAAAAAAAAAAAAAAAAAAAAAAAAAAAAAAAAAAAAAAAAAAAAAAAAAAAAAAAAAAAAAAAAAAAAAAAAAAAAAAAAAAAAAAAAAAAAAAAAAAAAAAAAAAAAAAAAAAAAAAAAAAAAAAAAAAAAAAAAAAAAAAAAAAAAAAAAAAAAAAAAAAAAAAAAAAAAAAAAAAAAAAAAAAAAAAAAAAAAAAAAAAAAAAAAAAAAAAAAAAAAAAAAAAAAAAAAAAAAAAAAAAAAAAAAAAAAAAAAAAAAAAAAAAAAAAAAAAAAAAAAAAAAAAAAAAAAAAAAAAAAAAAAAAAAAAAAAAAAAAAAAAAAAAAAAAAAAAAAAAAAAAAAAAAAAAAAAAAAAAAAAAAAAAAAAAAAAAAAAAAAAAAAAAAAAAAAAAAAAAAAAAAAAAAAAAAAAAAAAAAAAAAAAAAAAAAAAAAAAAAAAAAAAAAAAAAAAAAAAAAAAAAAAAAAAAAAAAAAAAAAAAAAAAAAAAAAAAAAAAAAAAAAAAAAAAAAAAAAAAAAAAAAAAAAAAAAAAAAAAAAAAAAAAAAAAAAAAAAAAAAAAAAAAAAAAAAAAAAAAAAAAAAAAAAAAAAAAAAAAAAAAAAAAAAAAAAAAAAAAAAAAAAAAAAAAAAAAAAAAAAAAAAAAAAAAAAAAAAAAAAAAAAAAAAAAAAAAAAAAAAAAAAAAAAAAAAAAAAAAAAAAAAAAAAAAAAAAAAAAAAAAAAAAAAAAAAAAAAAAAAAAAAAAAAAAAAAAAAAAAAAAAAAAAAAAAAAAAAAAAAAAAAAAAAAAAAAAAAAAAAAAAAAAAAAAAAAAAAAAAAAAAAAAAAAAAAAAAAAAAAAAAAAAAAAAAAAAAAAAAAAAAAAAAAAAAAAAAAAAAAAAAAAAAAAAAAAAAAAAAAAAAAAAAAAAAAAAAAAAAAAAAAAAAAAAAAAAAAAAAAAAAAAAAAAAAAAAAAAAAAAAAAAAAAAAAAAAAAAAAAAAAAAAAAAAAAAAAAAAAAAAAAAAAAAAAAAAAAAAAAAAAAAAAAAAAAAAAAAAAAAAAAAAAAAAAAAAAAAAAAAAAAAAAAAAAAAAAAAAAAAAAAAAAAAAAAAAAAAAAAAAAAAAAAAAAAAAAAAAAAAAAAAAAAAAAAAAAAAAAAAAAAAAAAAAAAAAAAAAAAAAAAAAAAAAAAAAAAAAAAAAAAAAAAAAAAAAAAAAAAAAAAAAAAAAAAAAAAAAAAAAAAAAAAAAAAAAAAAAAAAAAAAAAAAAAAAAAAAAAAAAAAAAAAAAAAAAAAAAAAAAAAAAAAAAAAAAAAAAAAAAAAAAAAAAAAAAAAAAAAAAAAAAAAAAAAAAAAAAAAAAAAAAAAAAAAAAAAAAAAAAAAAAAAAAAAAAAAAAAAAAAAAAAAAAAAAAAAAAAAAAAAAAAAAAAAAAAAAAAAAAAAAAAAAAAAAAAAAAAAAAAAAAAAAAAAAAAAAAAAAAAAAAAAAAAAAAAAAAAAAAAAAAAAAAAAAAAAAAAAAAAAAAAAAAAAAAAAAAAAAAAAAAAAAAAAAAAAAAAAAAAAAAAAAAAAAAAAAAAAAAAAAAAAAAAAAAAAAAAAAAAAAAAAAAAAAAAAAAAAAAAAAAAAAAAAAAAAAAAAAAAAAAAAAAAAAAAAAAAAAAAAAAAAAAAAAAAAAAAAAAAAAAAAAAAAAAAAAAAAAAAAAAAAAAAAAAAAAAAAAAAAAAAAAAAAAAAAAAAAAAAAAAAAAAAAAAAAAAAAAAAAAAAAAAAAAAAAAAAAAAAAAAAAAAAAAAAAAAAAAAAAAAAAAAAAAAAAAAAAAAAAAAAAAAAAAAAAAAAAAAAAAAAAAAAAAAAAAAAAAAAAAAAAAAAAAAAAAAAAAAAAAAAAAAAAAAAAAAAAAAAAAAAAAAAAAAAAAAAAAAAAAAAAAAAAAAAAAAAAAAAAAAAAAAAAAAAAAAAAAAAAAAAAAAAAAAAAAAAAAAAAAAAAAAAAAAAAAAAAAAAAAAAAAAAAAAAAAAAAAAAAAAAAAAAAAAAAAAAAAAAAAAAAAAAAAAAAAAAAAAAAAAAAAAAAAAAAAAAAAAAAAAAAAAAAAAAAAAAAAAAAAAAAAAAAAAAAAAAAAAAAAAAAAAAAAAAAAAAAAAAAAAAAAAAAAAAAAAAAAAAAAAAAAAAAAAAAAAAAAAAAAAAAAAAAAAAAAAAAAAAAAAAAAAAAAAAAAAAAAAAAAAAAAAAAAAAAAAAAAAAAAAAAAAAAAAAAAAAAAAAAAAAAAAAAAAAAAAAAAAAAAAAAAAAAAAAAAAAAAAAAAAAAAAAAAAAAAAAAAAAAAAAAAAAAAAAAAAAAAAAAAAAAAAAAAAAAAAAAAAAAAAAAAAAAAAAAAAAAAAAAAAAAAAAAAAAAAAAAAAAAAAAAAAAAAAAAAAAAAAAAAAAAAAAAAAAAAAAAAAAAAAAAAAAAAAAAAAAAAAAAAAAAAAAAAAAAAAAAAAAAAAAAAAAAAAAAAAAAAAAAAAAAAAAAAAAAAAAAAAAAAAAAAAAAAAAAAAAAAAAAAAAAAAAAAAAAAAAAAAAAAAAAAAAAAAAAAAAAAAAAAAAAAAAAAAAAAAAAAAAAAAAAAAAAAAAAAAAAAAAAAAAAAAAAAAAAAAAAAAAAAAAAAAAAAAAAAAAAAAAAAAAAAAAAAAAAAAAAAAAAAAAAAAAAAAAAAAAAAAAAAAAAAAAAAAAAAAAAAAAAAAAAAAAAAAAAAAAAAAAAAAAAAAAAAAAAAAAAAAAAAAAAAAAAAAAAAAAAAAAAAAAAAAAAAAAAAAAAAAAAAAAAAAAAAAAAAAAAAAAAAAAAAAAAAAAAAAAAAAAAAAAAAAAAAAAAAAAAAAAAAAAAAAAAAAAAAAAAAAAAAAAAAAAAAAAAAAAAAAAAAAAAAAAAAAAAAAAAAAAAAAAAAAAAAAAAAAAAAAAAAAAAAAAAAAAAAAAAAAAAAAAAAAAAAAAAAAAAAAAAAAAAAAAAAAAAAAAAAAAAAAAAAAAAAAAAAAAAAAAAAAAAAAAAAAAAAAAAAAAAAAAAAAAAAAAAAAAAAAAAAAAAAAAAAAAAAAAAAAAAAAAAAAAAAAAAAAAAAAAAAAAAAAAAAAAAAAAAAAAAAAAAAAAAAAAAAAAAAAAAAAAAAAAAAAAAAAAAAAAAAAAAAAAAAAAAAAAAAAAAAAAAAAAAAAAAAAAAAAAAAAAAAAAAAAAAAAAAAAAAAAAAAAAAAAAAAAAAAAAAAAAAAAAAAAAAAAAAAAAAAAAAAAAAAAAAAAAAAAAAAAAAAAAAAAAAAAAAAAAAAAAAAAAAAAAAAAAAAAAAAAAAAAAAAAAAAAAAAAAAAAAAAAAAAAAAAAAAAAAAAAAAAAAAAAAAAAAAAAAAAAAAAAAAAAAAAAAAAAAAAAAAAAAAAAAAAAAAAAAAAAAAAAAAAAAAAAAAAAAAAAAAAAAAAAAAAAAAAAAAAAAAAAAAAAAAAAAAAAAAAAAAAAAAAAAAAAAAAAAAAAAAAAAAAAAAAAAAAAAAAAAAAAAAAAAAAAAAAAAAAAAAAAAAAAAAAAAAAAAAAAAAAAAAAAAAAAAAAAAAAAAAAAAAAAAAAAAAAAAAAAAAAAAAAAAAAAAAAAAAAAAAAAAAAAAAAAAAAAAAAAAAAAAAAAAAAAAAAAAAAAAAAAAAAAAAAAAAAAAAAAAAAAAAAAAAAAAAAAAAAAAAAAAAAAAAAAAAAAAAAAAAAAAAAAAAAAAAAAAAAAAAAAAAAAAAAAAAAAAAAAAAAAAAAAAAAAAAAAAAAAAAAAAAAAAAAAAAAAAAAAAAAAAAAAAAAAAAAAAAAAAAAAAAAAAAAAAAAAAAAAAAAAAAAAAAAAAAAAAAAAAAAAAAAAAAAAAAAAAAAAAAAAAAAAAAAAAAAAAAAAAAAAAAAAAAAAAAAAAAAAAAAAAAAAAAAAAAAAAAAAAAAAAAAAAAAAAAAAAAAAAAAAAAAAAAAAAAAAAAAAAAAAAAAAAAAAAAAAAAAAAAAAAAAAAAAAAAAAAAAAAAAAAAAAAAAAAAAAAAAAAAAAAAAAAAAAAAAAAAAAAAAAAAAAAAAAAAAAAAAAAAAAAAAAAAAAAAAAAAAAAAAAAAAAAAAAAAAAAAAAAAAAAAAAAAAAAAAAAAAAAAAAAAAAAAAAAAAAAAAAAAAAAAAAAAAAAAAAAAAAAAAAAAAAAAAAAAAAAAAAAAAAAAAAAAAAAAAAAAAAAAAAAAAAAAAAAAAAAAAAAAAAAAAAAAAAAAAAAAAAAAAAAAAAAAAAAAAAAAAAAAAAAAAAAAAAAAAAAAAAAAAAAAAAAAAAAAAAAAAAAAAAAAAAAAAAAAAAAAAAAAAAAAAAAAAAAAAAAAAAAAAAAAAAAAAAAAAAAAAAAAAAAAAAAAAAAAAAAAAAAAAAAAAAAAAAAAAAAAAAAAAAAAAAAAAAAAAAAAAAAAAAAAAAAAAAAAAAAAAAAAAAAAAAAAAAAAAAAAAAAAAAAAAAAAAAAAAAAAAAAAAAAAAAAAAAAAAAAAAAAAAAAAAAAAAAAAAAAAAAAAAAAAAAAAAAAAAAAAAAAAAAAAAAAAAAAAAAAAAAAAAAAAAAAAAAAAAAAAAAAAAAAAAAAAAAAAAAAAAAAAAAAAAAAAAAAAAAAAAAAAAAAAAAAAAAAAAAAAAAAAAAAAAAAAAAAAAAAAAAAAAAAAAAAAAAAAAAAAAAAAAAAAAAAAAAAAAAAAAAAAAAAAAAAAAAAAAAAAAAAAAAAAAAAAAAAAAAAAAAAAAAAAAAAAAAAAAAAAAAAAAAAAAAAAAAAAAAAAAAAAAAAAAAAAAAAAAAAAAAAAAAAAAAAAAAAAAAAAAAAAAAAAAAAAAAAAAAAAAAAAAAAAAAAAAAAAAAAAAAAAAAAAAAAAAAAAAAAAAAAAAAAAAAAAAAAAAAAAAAAAAAAAAAAAAAAAAAAAAAAAAAAAAAAAAAAAAAAAAAAAAAAAAAAAAAAAAAAAAAAAAAAAAAAAAAAAAAAAAAAAAAAAAAAAAAAAAAAAAAAAAAAAAAAAAAAAAAAAAAAAAAAAAAAAAAAAAAAAAAAAAAAAAAAAAAAAAAAAAAAAAAAAAAAAAAAAAAAAAAAAAAAAAAAAAAAAAAAAAAAAAAAAAAAAAAAAAAAAAAAAAAAAAAAAAAAAAAAAAAAAAAAAAAAAAAAAAAAAAAAAAAAAAAAAAAAAAAAAAAAAAAAAAAAAAAAAAAAAAAAAAAAAAAAAAAAAAAAAAAAAAAAAAAAAAAAAAAAAAAAAAAAAAAAAAAAAAAAAAAAAAAAAAAAAAAAAAAAAAAAAAAAAAAAAAAAAAAAAAAAAAAAAAAAAAAAAAAAAAAAAAAAAAAAAAAAAAAAAAAAAAAAAAAAAAAAAAAAAAAAAAAAAAAAAAAAAAAAAAAAAAAAAAAAAAAAAAAAAAAAAAAAAAAAAAAAAAAAAAAAAAAAAAAAAAAAAAAAAAAAAAAAAAAAAAAAAAAAAAAAAAAAAAAAAAAAAAAAAAAAAAAAAAAAAAAAAAAAAAAAAAAAAAAAAAAAAAAAAAAAAAAAAAAAAAAAAAAAAAAAAAAAAAAAAAAAAAAAAAAAAAAAAAAAAAAAAAAAAAAAAAAAAAAAAAAAAAAAAAAAAAAAAAAAAAAAAAAAAAAAAAAAAAAAAAAAAAAAAAAAAAAAAAAAAAAAAAAAAAAAAAAAAAAAAAAAAAAAAAAAAAAAAAAAAAAAAAAAAAAAAAAAAAAAAAAAAAAAAAAAAAAAAAAAAAAAAAAAAAAAAAAAAAAAAAAAAAAAAAAAAAAAAAAAAAAAAAAAAAAAAAAAAAAAAAAAAAAAAAAAAAAAAAAAAAAAAAAAAAAAAAAAAAAAAAAAAAAAAAAAAAAAAAAAAAAAAAAAAAAAAAAAAAAAAAAAAAAAAAAAAAAAAAAAAAAAAAAAAAAAAAAAAAAAAAAAAAAAAAAAAAAAAAAAAAAAAAAAAAAAAAAAAAAAAAAAAAAAAAAAAAAAAAAAAAAAAAAAAAAAAAAAAAAAAAAAAAAAAAAAAAAAAAAAAAAAAAAAAAAAAAAAAAAAAAAAAAAAAAAAAAAAAAAAAAAAAAAAAAAAAAAAAAAAAAAAAAAAAAAAAAAAAAAAAAAAAAAAAAAAAAAAAAAAAAAAAAAAAAAAAAAAAAAAAAAAAAAAAAAAAAAAAAAAAAAAAAAAAAAAAAAAAAAAAAAAAAAAAAAAAAAAAAAAAAAAAAAAAAAAAAAAAAAAAAAAAAAAAAAAAAAAAAAAAAAAAAAAAAAAAAAAAAAAAAAAAAAAAAAAAAAAAAAAAAAAAAAAAAAAAAAAAAAAAAAAAAAAAAAAAAAAAAAAAAAAAAAAAAAAAAAAAAAAAAAAAAAAAAAAAAAAAAAAAAAAAAAAAAAAAAAAAAAAAAAAAAAAAAAAAAAAAAAAAAAAAAAAAAAAAAAAAAAAAAAAAAAAAAAAAAAAAAAAAAAAAAAAAAAAAAAAAAAAAAAAAAAAAAAAAAAAAAAAAAAAAAAAAAAAAAAAAAAAAAAAAAAAAAAAAAAAAAAAAAAAAAAAAAAAAAAAAAAAAAAAAAAAAAAAAAAAAAAAAAAAAAAAAAAAAAAAAAAAAAAAAAAAAAAAAAAAAAAAAAAAAAAAAAAAAAAAAAAAAAAAAAAAAAAAAAAAAAAAAAAAAAAAAAAAAAAAAAAAAAAAAAAAAAAAAAAAAAAAAAAAAAAAAAAAAAAAAAAAAAAAAAAAAAAAAAAAAAAAAAAAAAAAAAAAAAAAAAAAAAAAAAAAAAAAAAAAAAAAAAAAAAAAAAAAAAAAAAAAAAAAAAAAAAAAAAAAAAAAAAAAAAAAAAAAAAAAAAAAAAAAAAAAAAAAAAAAAAAAAAAAAAAAAAAAAAAAAAAAAAAAAAAAAAAAAAAAAAAAAAAAAAAAAAAAAAAAAAAAAAAAAAAAAAAAAAAAAAAAAAAAAAAAAAAAAAAAAAAAAAAAAAAAAAAAAAAAAAAAAAAAAAAAAAAAAAAAAAAAAAAAAAAAAAAAAAAAAAAAAAAAAAAAAAAAAAAAAAAAAAAAAAAAAAAAAAAAAAAAAAAAAAAAAAAAAAAAAAAAAAAAAAAAAAAAAAAAAAAAAAAAAAAAAAAAAAAAAAAAAAAAAAAAAAAAAAAAAAAAAAAAAAAAAAAAAAAAAAAAAAAAAAAAAAAAAAAAAAAAAAAAAAAAAAAAAAAAAAAAAAAAAAAAAAAAAAAAAAAAAAAAAAAAAAAAAAAAAAAAAAAAAAAAAAAAAAAAAAAAAAAAAAAAAAAAAAAAAAAAAAAAAAAAAAAAAAAAAAAAAAAAAAAAAAAAAAAAAAAAAAAAAAAAAAAAAAAAAAAAAAAAAAAAAAAAAAAAAAAAAAAAAAAAAAAAAAAAAAAAAAAAAAAAAAAAAAAAAAAAAAAAAAAAAAAAAAAAAAAAAAAAAAAAAAAAAAAAAAAAAAAAAAAAAAAAAAAAAAAAAAAAAAAAAAAAAAAAAAAAAAAAAAAAAAAAAAAAAAAAAAAAAAAAAAAAAAAAAAAAAAAAAAAAAAAAAAAAAAAAAAAAAAAAAAAAAAAAAAAAAAAAAAAAAAAAAAAAAAAAAAAAAAAAAAAAAAAAAAAAAAAAAAAAAAAAAAAAAAAAAAAAAAAAAAAAAAAAAAAAAAAAAAAAAAAAAAAAAAAAAAAAAAAAAAAAAAAAAAAAAAAAAAAAAAAAAAAAAAAAAAAAAAAAAAAAAAAAAAAAAAAAAAAAAAAAAAAAAAAAAAAAAAAAAAAAAAAAAAAAAAAAAAAAAAAAAAAAAAAAAAAAAAAAAAAAAAAAAAAAAAAAAAAAAAAAAAAAAAAAAAAAAAAAAAAAAAAAAAAAAAAAAAAAAAAAAAAAAAAAAAAAAAAAAAAAAAAAAAAAAAAAAAAAAAAAAAAAAAAAAAAAAAAAAAAAAAAAAAAAAAAAAAAAAAAAAAAAAAAAAAAAAAAAAAAAAAAAAAAAAAAAAAAAAAAAAAAAAAAAAAAAAAAAAAAAAAAAAAAAAAAAAAAAAAAAAAAAAAAAAAAAAAAAAAAAAAAAAAAAAAAAAAAAAAAAAAAAAAAAAAAAAAAAAAAAAAAAAAAAAAAAAAAAAAAAAAAAAAAAAAAAAAAAAAAAAAAAAAAAAAAAAAAAAAAAAAAAAAAAAAAAAAAAAAAAAAAAAAAAAAAAAAAAAAAAAAAAAAAAAAAAAAAAAAAAAAAAAAAAAAAAAAAAAAAAAAAAAAAAAAAAAAAAAAAAAAAAAAAAAAAAAAAAAAAAAAAAAAAAAAAAAAAAAAAAAAAAAAAAAAAAAAAAAAAAAAAAAAAAAAAAAAAAAAAAAAAAAAAAAAAAAAAAAAAAAAAAAAAAAAAAAAAAAAAAAAAAAAAAAAAAAAAAAAAAAAAAAAAAAAAAAAAAAAAAAAAAAAAAAAAAAAAAAAAAAAA==",
          "dtype": "f8"
         },
         "xaxis": "x",
         "yaxis": "y"
        },
        {
         "bingroup": "x",
         "hovertemplate": "label=1<br>stylized_char_ratio=%{x}<br>count=%{y}<extra></extra>",
         "legendgroup": "1",
         "marker": {
          "color": "#EF553B",
          "opacity": 0.5,
          "pattern": {
           "shape": ""
          }
         },
         "name": "1",
         "nbinsx": 200,
         "orientation": "v",
         "showlegend": true,
         "type": "histogram",
         "x": {
          "bdata": "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",
          "dtype": "f8"
         },
         "xaxis": "x",
         "yaxis": "y"
        }
       ],
       "layout": {
        "barmode": "overlay",
        "legend": {
         "title": {
          "text": "label"
         },
         "tracegroupgap": 0
        },
        "template": {
         "data": {
          "bar": [
           {
            "error_x": {
             "color": "#2a3f5f"
            },
            "error_y": {
             "color": "#2a3f5f"
            },
            "marker": {
             "line": {
              "color": "#E5ECF6",
              "width": 0.5
             },
             "pattern": {
              "fillmode": "overlay",
              "size": 10,
              "solidity": 0.2
             }
            },
            "type": "bar"
           }
          ],
          "barpolar": [
           {
            "marker": {
             "line": {
              "color": "#E5ECF6",
              "width": 0.5
             },
             "pattern": {
              "fillmode": "overlay",
              "size": 10,
              "solidity": 0.2
             }
            },
            "type": "barpolar"
           }
          ],
          "carpet": [
           {
            "aaxis": {
             "endlinecolor": "#2a3f5f",
             "gridcolor": "white",
             "linecolor": "white",
             "minorgridcolor": "white",
             "startlinecolor": "#2a3f5f"
            },
            "baxis": {
             "endlinecolor": "#2a3f5f",
             "gridcolor": "white",
             "linecolor": "white",
             "minorgridcolor": "white",
             "startlinecolor": "#2a3f5f"
            },
            "type": "carpet"
           }
          ],
          "choropleth": [
           {
            "colorbar": {
             "outlinewidth": 0,
             "ticks": ""
            },
            "type": "choropleth"
           }
          ],
          "contour": [
           {
            "colorbar": {
             "outlinewidth": 0,
             "ticks": ""
            },
            "colorscale": [
             [
              0,
              "#0d0887"
             ],
             [
              0.1111111111111111,
              "#46039f"
             ],
             [
              0.2222222222222222,
              "#7201a8"
             ],
             [
              0.3333333333333333,
              "#9c179e"
             ],
             [
              0.4444444444444444,
              "#bd3786"
             ],
             [
              0.5555555555555556,
              "#d8576b"
             ],
             [
              0.6666666666666666,
              "#ed7953"
             ],
             [
              0.7777777777777778,
              "#fb9f3a"
             ],
             [
              0.8888888888888888,
              "#fdca26"
             ],
             [
              1,
              "#f0f921"
             ]
            ],
            "type": "contour"
           }
          ],
          "contourcarpet": [
           {
            "colorbar": {
             "outlinewidth": 0,
             "ticks": ""
            },
            "type": "contourcarpet"
           }
          ],
          "heatmap": [
           {
            "colorbar": {
             "outlinewidth": 0,
             "ticks": ""
            },
            "colorscale": [
             [
              0,
              "#0d0887"
             ],
             [
              0.1111111111111111,
              "#46039f"
             ],
             [
              0.2222222222222222,
              "#7201a8"
             ],
             [
              0.3333333333333333,
              "#9c179e"
             ],
             [
              0.4444444444444444,
              "#bd3786"
             ],
             [
              0.5555555555555556,
              "#d8576b"
             ],
             [
              0.6666666666666666,
              "#ed7953"
             ],
             [
              0.7777777777777778,
              "#fb9f3a"
             ],
             [
              0.8888888888888888,
              "#fdca26"
             ],
             [
              1,
              "#f0f921"
             ]
            ],
            "type": "heatmap"
           }
          ],
          "histogram": [
           {
            "marker": {
             "pattern": {
              "fillmode": "overlay",
              "size": 10,
              "solidity": 0.2
             }
            },
            "type": "histogram"
           }
          ],
          "histogram2d": [
           {
            "colorbar": {
             "outlinewidth": 0,
             "ticks": ""
            },
            "colorscale": [
             [
              0,
              "#0d0887"
             ],
             [
              0.1111111111111111,
              "#46039f"
             ],
             [
              0.2222222222222222,
              "#7201a8"
             ],
             [
              0.3333333333333333,
              "#9c179e"
             ],
             [
              0.4444444444444444,
              "#bd3786"
             ],
             [
              0.5555555555555556,
              "#d8576b"
             ],
             [
              0.6666666666666666,
              "#ed7953"
             ],
             [
              0.7777777777777778,
              "#fb9f3a"
             ],
             [
              0.8888888888888888,
              "#fdca26"
             ],
             [
              1,
              "#f0f921"
             ]
            ],
            "type": "histogram2d"
           }
          ],
          "histogram2dcontour": [
           {
            "colorbar": {
             "outlinewidth": 0,
             "ticks": ""
            },
            "colorscale": [
             [
              0,
              "#0d0887"
             ],
             [
              0.1111111111111111,
              "#46039f"
             ],
             [
              0.2222222222222222,
              "#7201a8"
             ],
             [
              0.3333333333333333,
              "#9c179e"
             ],
             [
              0.4444444444444444,
              "#bd3786"
             ],
             [
              0.5555555555555556,
              "#d8576b"
             ],
             [
              0.6666666666666666,
              "#ed7953"
             ],
             [
              0.7777777777777778,
              "#fb9f3a"
             ],
             [
              0.8888888888888888,
              "#fdca26"
             ],
             [
              1,
              "#f0f921"
             ]
            ],
            "type": "histogram2dcontour"
           }
          ],
          "mesh3d": [
           {
            "colorbar": {
             "outlinewidth": 0,
             "ticks": ""
            },
            "type": "mesh3d"
           }
          ],
          "parcoords": [
           {
            "line": {
             "colorbar": {
              "outlinewidth": 0,
              "ticks": ""
             }
            },
            "type": "parcoords"
           }
          ],
          "pie": [
           {
            "automargin": true,
            "type": "pie"
           }
          ],
          "scatter": [
           {
            "fillpattern": {
             "fillmode": "overlay",
             "size": 10,
             "solidity": 0.2
            },
            "type": "scatter"
           }
          ],
          "scatter3d": [
           {
            "line": {
             "colorbar": {
              "outlinewidth": 0,
              "ticks": ""
             }
            },
            "marker": {
             "colorbar": {
              "outlinewidth": 0,
              "ticks": ""
             }
            },
            "type": "scatter3d"
           }
          ],
          "scattercarpet": [
           {
            "marker": {
             "colorbar": {
              "outlinewidth": 0,
              "ticks": ""
             }
            },
            "type": "scattercarpet"
           }
          ],
          "scattergeo": [
           {
            "marker": {
             "colorbar": {
              "outlinewidth": 0,
              "ticks": ""
             }
            },
            "type": "scattergeo"
           }
          ],
          "scattergl": [
           {
            "marker": {
             "colorbar": {
              "outlinewidth": 0,
              "ticks": ""
             }
            },
            "type": "scattergl"
           }
          ],
          "scattermap": [
           {
            "marker": {
             "colorbar": {
              "outlinewidth": 0,
              "ticks": ""
             }
            },
            "type": "scattermap"
           }
          ],
          "scattermapbox": [
           {
            "marker": {
             "colorbar": {
              "outlinewidth": 0,
              "ticks": ""
             }
            },
            "type": "scattermapbox"
           }
          ],
          "scatterpolar": [
           {
            "marker": {
             "colorbar": {
              "outlinewidth": 0,
              "ticks": ""
             }
            },
            "type": "scatterpolar"
           }
          ],
          "scatterpolargl": [
           {
            "marker": {
             "colorbar": {
              "outlinewidth": 0,
              "ticks": ""
             }
            },
            "type": "scatterpolargl"
           }
          ],
          "scatterternary": [
           {
            "marker": {
             "colorbar": {
              "outlinewidth": 0,
              "ticks": ""
             }
            },
            "type": "scatterternary"
           }
          ],
          "surface": [
           {
            "colorbar": {
             "outlinewidth": 0,
             "ticks": ""
            },
            "colorscale": [
             [
              0,
              "#0d0887"
             ],
             [
              0.1111111111111111,
              "#46039f"
             ],
             [
              0.2222222222222222,
              "#7201a8"
             ],
             [
              0.3333333333333333,
              "#9c179e"
             ],
             [
              0.4444444444444444,
              "#bd3786"
             ],
             [
              0.5555555555555556,
              "#d8576b"
             ],
             [
              0.6666666666666666,
              "#ed7953"
             ],
             [
              0.7777777777777778,
              "#fb9f3a"
             ],
             [
              0.8888888888888888,
              "#fdca26"
             ],
             [
              1,
              "#f0f921"
             ]
            ],
            "type": "surface"
           }
          ],
          "table": [
           {
            "cells": {
             "fill": {
              "color": "#EBF0F8"
             },
             "line": {
              "color": "white"
             }
            },
            "header": {
             "fill": {
              "color": "#C8D4E3"
             },
             "line": {
              "color": "white"
             }
            },
            "type": "table"
           }
          ]
         },
         "layout": {
          "annotationdefaults": {
           "arrowcolor": "#2a3f5f",
           "arrowhead": 0,
           "arrowwidth": 1
          },
          "autotypenumbers": "strict",
          "coloraxis": {
           "colorbar": {
            "outlinewidth": 0,
            "ticks": ""
           }
          },
          "colorscale": {
           "diverging": [
            [
             0,
             "#8e0152"
            ],
            [
             0.1,
             "#c51b7d"
            ],
            [
             0.2,
             "#de77ae"
            ],
            [
             0.3,
             "#f1b6da"
            ],
            [
             0.4,
             "#fde0ef"
            ],
            [
             0.5,
             "#f7f7f7"
            ],
            [
             0.6,
             "#e6f5d0"
            ],
            [
             0.7,
             "#b8e186"
            ],
            [
             0.8,
             "#7fbc41"
            ],
            [
             0.9,
             "#4d9221"
            ],
            [
             1,
             "#276419"
            ]
           ],
           "sequential": [
            [
             0,
             "#0d0887"
            ],
            [
             0.1111111111111111,
             "#46039f"
            ],
            [
             0.2222222222222222,
             "#7201a8"
            ],
            [
             0.3333333333333333,
             "#9c179e"
            ],
            [
             0.4444444444444444,
             "#bd3786"
            ],
            [
             0.5555555555555556,
             "#d8576b"
            ],
            [
             0.6666666666666666,
             "#ed7953"
            ],
            [
             0.7777777777777778,
             "#fb9f3a"
            ],
            [
             0.8888888888888888,
             "#fdca26"
            ],
            [
             1,
             "#f0f921"
            ]
           ],
           "sequentialminus": [
            [
             0,
             "#0d0887"
            ],
            [
             0.1111111111111111,
             "#46039f"
            ],
            [
             0.2222222222222222,
             "#7201a8"
            ],
            [
             0.3333333333333333,
             "#9c179e"
            ],
            [
             0.4444444444444444,
             "#bd3786"
            ],
            [
             0.5555555555555556,
             "#d8576b"
            ],
            [
             0.6666666666666666,
             "#ed7953"
            ],
            [
             0.7777777777777778,
             "#fb9f3a"
            ],
            [
             0.8888888888888888,
             "#fdca26"
            ],
            [
             1,
             "#f0f921"
            ]
           ]
          },
          "colorway": [
           "#636efa",
           "#EF553B",
           "#00cc96",
           "#ab63fa",
           "#FFA15A",
           "#19d3f3",
           "#FF6692",
           "#B6E880",
           "#FF97FF",
           "#FECB52"
          ],
          "font": {
           "color": "#2a3f5f"
          },
          "geo": {
           "bgcolor": "white",
           "lakecolor": "white",
           "landcolor": "#E5ECF6",
           "showlakes": true,
           "showland": true,
           "subunitcolor": "white"
          },
          "hoverlabel": {
           "align": "left"
          },
          "hovermode": "closest",
          "mapbox": {
           "style": "light"
          },
          "paper_bgcolor": "white",
          "plot_bgcolor": "#E5ECF6",
          "polar": {
           "angularaxis": {
            "gridcolor": "white",
            "linecolor": "white",
            "ticks": ""
           },
           "bgcolor": "#E5ECF6",
           "radialaxis": {
            "gridcolor": "white",
            "linecolor": "white",
            "ticks": ""
           }
          },
          "scene": {
           "xaxis": {
            "backgroundcolor": "#E5ECF6",
            "gridcolor": "white",
            "gridwidth": 2,
            "linecolor": "white",
            "showbackground": true,
            "ticks": "",
            "zerolinecolor": "white"
           },
           "yaxis": {
            "backgroundcolor": "#E5ECF6",
            "gridcolor": "white",
            "gridwidth": 2,
            "linecolor": "white",
            "showbackground": true,
            "ticks": "",
            "zerolinecolor": "white"
           },
           "zaxis": {
            "backgroundcolor": "#E5ECF6",
            "gridcolor": "white",
            "gridwidth": 2,
            "linecolor": "white",
            "showbackground": true,
            "ticks": "",
            "zerolinecolor": "white"
           }
          },
          "shapedefaults": {
           "line": {
            "color": "#2a3f5f"
           }
          },
          "ternary": {
           "aaxis": {
            "gridcolor": "white",
            "linecolor": "white",
            "ticks": ""
           },
           "baxis": {
            "gridcolor": "white",
            "linecolor": "white",
            "ticks": ""
           },
           "bgcolor": "#E5ECF6",
           "caxis": {
            "gridcolor": "white",
            "linecolor": "white",
            "ticks": ""
           }
          },
          "title": {
           "x": 0.05
          },
          "xaxis": {
           "automargin": true,
           "gridcolor": "white",
           "linecolor": "white",
           "ticks": "",
           "title": {
            "standoff": 15
           },
           "zerolinecolor": "white",
           "zerolinewidth": 2
          },
          "yaxis": {
           "automargin": true,
           "gridcolor": "white",
           "linecolor": "white",
           "ticks": "",
           "title": {
            "standoff": 15
           },
           "zerolinecolor": "white",
           "zerolinewidth": 2
          }
         }
        },
        "title": {
         "text": "Distribution of stylized_char_ratio by Label"
        },
        "xaxis": {
         "anchor": "y",
         "domain": [
          0,
          1
         ],
         "title": {
          "text": "stylized_char_ratio"
         }
        },
        "yaxis": {
         "anchor": "x",
         "domain": [
          0,
          1
         ],
         "title": {
          "text": "count"
         }
        }
       }
      }
     },
     "metadata": {},
     "output_type": "display_data"
    },
    {
     "data": {
      "application/vnd.plotly.v1+json": {
       "config": {
        "plotlyServerURL": "https://plot.ly"
       },
       "data": [
        {
         "bingroup": "x",
         "hovertemplate": "label=0<br>char_count=%{x}<br>count=%{y}<extra></extra>",
         "legendgroup": "0",
         "marker": {
          "color": "#636efa",
          "opacity": 0.5,
          "pattern": {
           "shape": ""
          }
         },
         "name": "0",
         "nbinsx": 200,
         "orientation": "v",
         "showlegend": true,
         "type": "histogram",
         "x": {
          "bdata": "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",
          "dtype": "i2"
         },
         "xaxis": "x",
         "yaxis": "y"
        },
        {
         "bingroup": "x",
         "hovertemplate": "label=1<br>char_count=%{x}<br>count=%{y}<extra></extra>",
         "legendgroup": "1",
         "marker": {
          "color": "#EF553B",
          "opacity": 0.5,
          "pattern": {
           "shape": ""
          }
         },
         "name": "1",
         "nbinsx": 200,
         "orientation": "v",
         "showlegend": true,
         "type": "histogram",
         "x": {
          "bdata": "HgA9ABoARAAgADcALAA2ADYAAwArADQADwBUAC4AKAA4ACEAOgAyACgAQQAbADoAOAAyAB0AKQAaAC0ANgArADQAWQAXACwAHQAlACMAJAAxADcANgA2ADEAJgBCAEgAQQBCAD8AIwAxAEEARAAkAEQAOQBJAC8ANAA+AC8ANQA/ADcAWQAwADoAKQArADUAHQAuAD4ALwA4ACgAMgA5ADEAIwAoAC8ALwAJABQAMgBDACoAPAAkAE8ANwAfAB8AQQAPAEAANgAnACgAMQAgADQAIQA9AC4ALAAnACMAIAAtADkALgAuACoAQwA6ADAANwAdADIAKAArADUAJwAUABMAIwAkADAAMwAeADMASQAbADQAQQBEAD4ANAAyAEoAKABAACYAMABHACgALgAvADEAKwA5ACUAIQArACMAMgAaAD8ANgBPAEEAKQAvAD0AKQA5ABUAGgAsAJ0APQAbAD0ALQA5ABkAGQAbAC8AKgAtAEkALQA2ACMAOQAsAEAAMQA5ADwANQBLACMALwA5ACYANgAyABoAMAAXACEAPgA6ACIAQAAuAB4AOQAeADMAMwA4AEMAKgAwADAAKAAxABUALQBFADAAPAAvAC8AJQAyADkAIwA2ADIAQgAtADYAPAA+ADIALAAjACsAPQAJAEoALAAwACEAPgBBACQAKQA2ABgAIgAmACQARgAbAC8ALgArADsAOQATACcAPwBHADAAIwAnACIAJwAwADoAVQA3AEIAPwAhAC8AMgApACcARQA0AEQAJQAmAC8AQQAiACkAJQAwADAALwA6AEYANwA+ABYAQAAmADAAQgAXACIAHwBBAB4AHQA3AD4AIQAoAD4AQQBDADkAQQAvADAALAA1ACgAMgAzACwAMAAkADQAPgA8ADQAOwAvABIAIwAzABkAOgAtAB4AGwA0ABIAQQAOADkANAAiACUAKwAXADcAIwBFAC4AKAAlAA4ALgAxABsAOABIACMAOAAxABcACQAiACAANQBHAD4AKQAzADMAKgAgACkAFgAeABkAQwBSABYALAAzADoAHwAmADIATQAPACkAPgAeABsAPwAlAC4AJAAoAC8ALwAeACcALwA3ADAAHQAhAEAALgBAACwAQAAoAB0AMQAyADEAJwBYACYAOwAwAD8AMAAnACIAUQAqADAAOAA2AEUANgArAEAARAAxADMAHAA9AEIAFwArADQANAA3AC8APAAfAD8ANQBFACAAOwAgADYAHgA2ACkACwA0AFUANwAwAC4AKgAYAEwANAAbADEALwAtACgAUQAlADUAOQA1AD0ALwAmAC4AJQAzADYAFwA0ADoANQAtAD4ARAAfADAALwAsADMAQQAwADUAPAALABwANwAmAD0AKQAwAB0AJQAzABUAJwAvADIAMQAuACwALgAyACYAMQAvACUAMQAmADsAQQA/ADYAQAAaADEAJAAqACsAMgBEADMANQA2AB8ASwAkABsALAA2ACEAOgAjAD4AJQA1ABwACgBMACkAPwAgAB4AIQA6ACwAOQAyACcAQgA7AEIAIwAuADAAKwA/AB0AJwA5ACUANgAVADIAHgATABwANwA1ACQAJAAaABwAIwAsADcAPwAaAC4AHgAyACoAMwAUACQAVwAtACEANQA8ACkAPgA7ADkAJABCACMAPQA1ABMALgAWAC0ANQA9ABYAKAAgACUAOQA6ADEAOQAqADUAHgAVAFEAIgApACsALwAuACIAKAAaADQAOAA6AFcAHgAdAA4ALgA0ADoAIwA8AD4AIgAqACEAMwAqAEYALgBIAC0ALAAxACUAOgA2ACYALgAoABIAJwA5ADMALwAkAC4AJwASACkAUAAgAC4ANwAXADAAOAAjAEEAIwAoACEADAAiADoAMwA8ACIASQArAD8A",
          "dtype": "i2"
         },
         "xaxis": "x",
         "yaxis": "y"
        }
       ],
       "layout": {
        "barmode": "overlay",
        "legend": {
         "title": {
          "text": "label"
         },
         "tracegroupgap": 0
        },
        "template": {
         "data": {
          "bar": [
           {
            "error_x": {
             "color": "#2a3f5f"
            },
            "error_y": {
             "color": "#2a3f5f"
            },
            "marker": {
             "line": {
              "color": "#E5ECF6",
              "width": 0.5
             },
             "pattern": {
              "fillmode": "overlay",
              "size": 10,
              "solidity": 0.2
             }
            },
            "type": "bar"
           }
          ],
          "barpolar": [
           {
            "marker": {
             "line": {
              "color": "#E5ECF6",
              "width": 0.5
             },
             "pattern": {
              "fillmode": "overlay",
              "size": 10,
              "solidity": 0.2
             }
            },
            "type": "barpolar"
           }
          ],
          "carpet": [
           {
            "aaxis": {
             "endlinecolor": "#2a3f5f",
             "gridcolor": "white",
             "linecolor": "white",
             "minorgridcolor": "white",
             "startlinecolor": "#2a3f5f"
            },
            "baxis": {
             "endlinecolor": "#2a3f5f",
             "gridcolor": "white",
             "linecolor": "white",
             "minorgridcolor": "white",
             "startlinecolor": "#2a3f5f"
            },
            "type": "carpet"
           }
          ],
          "choropleth": [
           {
            "colorbar": {
             "outlinewidth": 0,
             "ticks": ""
            },
            "type": "choropleth"
           }
          ],
          "contour": [
           {
            "colorbar": {
             "outlinewidth": 0,
             "ticks": ""
            },
            "colorscale": [
             [
              0,
              "#0d0887"
             ],
             [
              0.1111111111111111,
              "#46039f"
             ],
             [
              0.2222222222222222,
              "#7201a8"
             ],
             [
              0.3333333333333333,
              "#9c179e"
             ],
             [
              0.4444444444444444,
              "#bd3786"
             ],
             [
              0.5555555555555556,
              "#d8576b"
             ],
             [
              0.6666666666666666,
              "#ed7953"
             ],
             [
              0.7777777777777778,
              "#fb9f3a"
             ],
             [
              0.8888888888888888,
              "#fdca26"
             ],
             [
              1,
              "#f0f921"
             ]
            ],
            "type": "contour"
           }
          ],
          "contourcarpet": [
           {
            "colorbar": {
             "outlinewidth": 0,
             "ticks": ""
            },
            "type": "contourcarpet"
           }
          ],
          "heatmap": [
           {
            "colorbar": {
             "outlinewidth": 0,
             "ticks": ""
            },
            "colorscale": [
             [
              0,
              "#0d0887"
             ],
             [
              0.1111111111111111,
              "#46039f"
             ],
             [
              0.2222222222222222,
              "#7201a8"
             ],
             [
              0.3333333333333333,
              "#9c179e"
             ],
             [
              0.4444444444444444,
              "#bd3786"
             ],
             [
              0.5555555555555556,
              "#d8576b"
             ],
             [
              0.6666666666666666,
              "#ed7953"
             ],
             [
              0.7777777777777778,
              "#fb9f3a"
             ],
             [
              0.8888888888888888,
              "#fdca26"
             ],
             [
              1,
              "#f0f921"
             ]
            ],
            "type": "heatmap"
           }
          ],
          "histogram": [
           {
            "marker": {
             "pattern": {
              "fillmode": "overlay",
              "size": 10,
              "solidity": 0.2
             }
            },
            "type": "histogram"
           }
          ],
          "histogram2d": [
           {
            "colorbar": {
             "outlinewidth": 0,
             "ticks": ""
            },
            "colorscale": [
             [
              0,
              "#0d0887"
             ],
             [
              0.1111111111111111,
              "#46039f"
             ],
             [
              0.2222222222222222,
              "#7201a8"
             ],
             [
              0.3333333333333333,
              "#9c179e"
             ],
             [
              0.4444444444444444,
              "#bd3786"
             ],
             [
              0.5555555555555556,
              "#d8576b"
             ],
             [
              0.6666666666666666,
              "#ed7953"
             ],
             [
              0.7777777777777778,
              "#fb9f3a"
             ],
             [
              0.8888888888888888,
              "#fdca26"
             ],
             [
              1,
              "#f0f921"
             ]
            ],
            "type": "histogram2d"
           }
          ],
          "histogram2dcontour": [
           {
            "colorbar": {
             "outlinewidth": 0,
             "ticks": ""
            },
            "colorscale": [
             [
              0,
              "#0d0887"
             ],
             [
              0.1111111111111111,
              "#46039f"
             ],
             [
              0.2222222222222222,
              "#7201a8"
             ],
             [
              0.3333333333333333,
              "#9c179e"
             ],
             [
              0.4444444444444444,
              "#bd3786"
             ],
             [
              0.5555555555555556,
              "#d8576b"
             ],
             [
              0.6666666666666666,
              "#ed7953"
             ],
             [
              0.7777777777777778,
              "#fb9f3a"
             ],
             [
              0.8888888888888888,
              "#fdca26"
             ],
             [
              1,
              "#f0f921"
             ]
            ],
            "type": "histogram2dcontour"
           }
          ],
          "mesh3d": [
           {
            "colorbar": {
             "outlinewidth": 0,
             "ticks": ""
            },
            "type": "mesh3d"
           }
          ],
          "parcoords": [
           {
            "line": {
             "colorbar": {
              "outlinewidth": 0,
              "ticks": ""
             }
            },
            "type": "parcoords"
           }
          ],
          "pie": [
           {
            "automargin": true,
            "type": "pie"
           }
          ],
          "scatter": [
           {
            "fillpattern": {
             "fillmode": "overlay",
             "size": 10,
             "solidity": 0.2
            },
            "type": "scatter"
           }
          ],
          "scatter3d": [
           {
            "line": {
             "colorbar": {
              "outlinewidth": 0,
              "ticks": ""
             }
            },
            "marker": {
             "colorbar": {
              "outlinewidth": 0,
              "ticks": ""
             }
            },
            "type": "scatter3d"
           }
          ],
          "scattercarpet": [
           {
            "marker": {
             "colorbar": {
              "outlinewidth": 0,
              "ticks": ""
             }
            },
            "type": "scattercarpet"
           }
          ],
          "scattergeo": [
           {
            "marker": {
             "colorbar": {
              "outlinewidth": 0,
              "ticks": ""
             }
            },
            "type": "scattergeo"
           }
          ],
          "scattergl": [
           {
            "marker": {
             "colorbar": {
              "outlinewidth": 0,
              "ticks": ""
             }
            },
            "type": "scattergl"
           }
          ],
          "scattermap": [
           {
            "marker": {
             "colorbar": {
              "outlinewidth": 0,
              "ticks": ""
             }
            },
            "type": "scattermap"
           }
          ],
          "scattermapbox": [
           {
            "marker": {
             "colorbar": {
              "outlinewidth": 0,
              "ticks": ""
             }
            },
            "type": "scattermapbox"
           }
          ],
          "scatterpolar": [
           {
            "marker": {
             "colorbar": {
              "outlinewidth": 0,
              "ticks": ""
             }
            },
            "type": "scatterpolar"
           }
          ],
          "scatterpolargl": [
           {
            "marker": {
             "colorbar": {
              "outlinewidth": 0,
              "ticks": ""
             }
            },
            "type": "scatterpolargl"
           }
          ],
          "scatterternary": [
           {
            "marker": {
             "colorbar": {
              "outlinewidth": 0,
              "ticks": ""
             }
            },
            "type": "scatterternary"
           }
          ],
          "surface": [
           {
            "colorbar": {
             "outlinewidth": 0,
             "ticks": ""
            },
            "colorscale": [
             [
              0,
              "#0d0887"
             ],
             [
              0.1111111111111111,
              "#46039f"
             ],
             [
              0.2222222222222222,
              "#7201a8"
             ],
             [
              0.3333333333333333,
              "#9c179e"
             ],
             [
              0.4444444444444444,
              "#bd3786"
             ],
             [
              0.5555555555555556,
              "#d8576b"
             ],
             [
              0.6666666666666666,
              "#ed7953"
             ],
             [
              0.7777777777777778,
              "#fb9f3a"
             ],
             [
              0.8888888888888888,
              "#fdca26"
             ],
             [
              1,
              "#f0f921"
             ]
            ],
            "type": "surface"
           }
          ],
          "table": [
           {
            "cells": {
             "fill": {
              "color": "#EBF0F8"
             },
             "line": {
              "color": "white"
             }
            },
            "header": {
             "fill": {
              "color": "#C8D4E3"
             },
             "line": {
              "color": "white"
             }
            },
            "type": "table"
           }
          ]
         },
         "layout": {
          "annotationdefaults": {
           "arrowcolor": "#2a3f5f",
           "arrowhead": 0,
           "arrowwidth": 1
          },
          "autotypenumbers": "strict",
          "coloraxis": {
           "colorbar": {
            "outlinewidth": 0,
            "ticks": ""
           }
          },
          "colorscale": {
           "diverging": [
            [
             0,
             "#8e0152"
            ],
            [
             0.1,
             "#c51b7d"
            ],
            [
             0.2,
             "#de77ae"
            ],
            [
             0.3,
             "#f1b6da"
            ],
            [
             0.4,
             "#fde0ef"
            ],
            [
             0.5,
             "#f7f7f7"
            ],
            [
             0.6,
             "#e6f5d0"
            ],
            [
             0.7,
             "#b8e186"
            ],
            [
             0.8,
             "#7fbc41"
            ],
            [
             0.9,
             "#4d9221"
            ],
            [
             1,
             "#276419"
            ]
           ],
           "sequential": [
            [
             0,
             "#0d0887"
            ],
            [
             0.1111111111111111,
             "#46039f"
            ],
            [
             0.2222222222222222,
             "#7201a8"
            ],
            [
             0.3333333333333333,
             "#9c179e"
            ],
            [
             0.4444444444444444,
             "#bd3786"
            ],
            [
             0.5555555555555556,
             "#d8576b"
            ],
            [
             0.6666666666666666,
             "#ed7953"
            ],
            [
             0.7777777777777778,
             "#fb9f3a"
            ],
            [
             0.8888888888888888,
             "#fdca26"
            ],
            [
             1,
             "#f0f921"
            ]
           ],
           "sequentialminus": [
            [
             0,
             "#0d0887"
            ],
            [
             0.1111111111111111,
             "#46039f"
            ],
            [
             0.2222222222222222,
             "#7201a8"
            ],
            [
             0.3333333333333333,
             "#9c179e"
            ],
            [
             0.4444444444444444,
             "#bd3786"
            ],
            [
             0.5555555555555556,
             "#d8576b"
            ],
            [
             0.6666666666666666,
             "#ed7953"
            ],
            [
             0.7777777777777778,
             "#fb9f3a"
            ],
            [
             0.8888888888888888,
             "#fdca26"
            ],
            [
             1,
             "#f0f921"
            ]
           ]
          },
          "colorway": [
           "#636efa",
           "#EF553B",
           "#00cc96",
           "#ab63fa",
           "#FFA15A",
           "#19d3f3",
           "#FF6692",
           "#B6E880",
           "#FF97FF",
           "#FECB52"
          ],
          "font": {
           "color": "#2a3f5f"
          },
          "geo": {
           "bgcolor": "white",
           "lakecolor": "white",
           "landcolor": "#E5ECF6",
           "showlakes": true,
           "showland": true,
           "subunitcolor": "white"
          },
          "hoverlabel": {
           "align": "left"
          },
          "hovermode": "closest",
          "mapbox": {
           "style": "light"
          },
          "paper_bgcolor": "white",
          "plot_bgcolor": "#E5ECF6",
          "polar": {
           "angularaxis": {
            "gridcolor": "white",
            "linecolor": "white",
            "ticks": ""
           },
           "bgcolor": "#E5ECF6",
           "radialaxis": {
            "gridcolor": "white",
            "linecolor": "white",
            "ticks": ""
           }
          },
          "scene": {
           "xaxis": {
            "backgroundcolor": "#E5ECF6",
            "gridcolor": "white",
            "gridwidth": 2,
            "linecolor": "white",
            "showbackground": true,
            "ticks": "",
            "zerolinecolor": "white"
           },
           "yaxis": {
            "backgroundcolor": "#E5ECF6",
            "gridcolor": "white",
            "gridwidth": 2,
            "linecolor": "white",
            "showbackground": true,
            "ticks": "",
            "zerolinecolor": "white"
           },
           "zaxis": {
            "backgroundcolor": "#E5ECF6",
            "gridcolor": "white",
            "gridwidth": 2,
            "linecolor": "white",
            "showbackground": true,
            "ticks": "",
            "zerolinecolor": "white"
           }
          },
          "shapedefaults": {
           "line": {
            "color": "#2a3f5f"
           }
          },
          "ternary": {
           "aaxis": {
            "gridcolor": "white",
            "linecolor": "white",
            "ticks": ""
           },
           "baxis": {
            "gridcolor": "white",
            "linecolor": "white",
            "ticks": ""
           },
           "bgcolor": "#E5ECF6",
           "caxis": {
            "gridcolor": "white",
            "linecolor": "white",
            "ticks": ""
           }
          },
          "title": {
           "x": 0.05
          },
          "xaxis": {
           "automargin": true,
           "gridcolor": "white",
           "linecolor": "white",
           "ticks": "",
           "title": {
            "standoff": 15
           },
           "zerolinecolor": "white",
           "zerolinewidth": 2
          },
          "yaxis": {
           "automargin": true,
           "gridcolor": "white",
           "linecolor": "white",
           "ticks": "",
           "title": {
            "standoff": 15
           },
           "zerolinecolor": "white",
           "zerolinewidth": 2
          }
         }
        },
        "title": {
         "text": "Distribution of char_count by Label"
        },
        "xaxis": {
         "anchor": "y",
         "domain": [
          0,
          1
         ],
         "title": {
          "text": "char_count"
         }
        },
        "yaxis": {
         "anchor": "x",
         "domain": [
          0,
          1
         ],
         "title": {
          "text": "count"
         }
        }
       }
      }
     },
     "metadata": {},
     "output_type": "display_data"
    },
    {
     "data": {
      "application/vnd.plotly.v1+json": {
       "config": {
        "plotlyServerURL": "https://plot.ly"
       },
       "data": [
        {
         "bingroup": "x",
         "hovertemplate": "label=0<br>word_count=%{x}<br>count=%{y}<extra></extra>",
         "legendgroup": "0",
         "marker": {
          "color": "#636efa",
          "opacity": 0.5,
          "pattern": {
           "shape": ""
          }
         },
         "name": "0",
         "nbinsx": 200,
         "orientation": "v",
         "showlegend": true,
         "type": "histogram",
         "x": {
          "bdata": "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",
          "dtype": "i2"
         },
         "xaxis": "x",
         "yaxis": "y"
        },
        {
         "bingroup": "x",
         "hovertemplate": "label=1<br>word_count=%{x}<br>count=%{y}<extra></extra>",
         "legendgroup": "1",
         "marker": {
          "color": "#EF553B",
          "opacity": 0.5,
          "pattern": {
           "shape": ""
          }
         },
         "name": "1",
         "nbinsx": 200,
         "orientation": "v",
         "showlegend": true,
         "type": "histogram",
         "x": {
          "bdata": "CQ8FDgUPBgsPAQsMAw0IDA4ECwwGEQYODQwGBwUJCAYHDgMGBQoHDQ0HCA4NCxAQDg8MBQwOCQcODg8MDQgHDQsNEQoNBQcIBA0LDQsLBQ0LDAoLDAMEDQ8LDwUPBgUHDgILCwUGCgYHBg0GBgcFBg0MCAkKDw8LCgULCQwJBwMEBAUNDAUMDgMNDw4PDAgPCgsGChAHBwcHDQwGBAcMDQkODw0RBwwKCQ4ECAkZCgQOBwkEBAUNDAwRBwoGDgwOCA8JBw8HBw8GBwgECAMMDg4JDwsFDAkNDg0HBg0IBwcDDQ4KDg0HBQwODA8JDw0NCgwICAwFDgMOCg0JCQ8GDQYDBwYFDAcMDgoNDwMGCgsMDAwFBgwNDgoOCwUIDAwGEQwPBwcFDgUMCgoLDAkPDw4DDQoIDwUMCw8FBQ4NBQgQDw4ODgsOBw4KCw8ICQUHEAoOCwcEBwkFEAgFBw8DDgILEAYGCwQPCw4OBwUCBw0FDhAMCgoFAwwFCAkPDQgJCAUNBQcFDg0EDAsMBgYKDwIHDwUFDQYOBgoFDQUGDg8LBAUOCw0ICwUJCQsGBhAFDAcNDAwFEQsLDQwPDQwNDwwOCQ0LBAULDg0LDAwPDBEFCwwOCw4MAw4PDAoNCgUQDQQMBg4KDwUNDwsNBgwOBw0OBA4ODAwNEAoGDQcNDwgNDAMFEAYNDQwEDAoEDQ0MDQkHCQ0MDA8ICAYPCg0IDAQHBgoGDg4ODggDDgYHCQ4KDAYJBg0GAhAKEAYEBQ8MDQwGEAoOBwkLBxAJDA0GDgMOBgQFEA4NCgYGCAwJEAQNBgsMDAUGEQwLDA0KDwYJChAGEA0DDAQMEAwDCwQMDQgHCQcJBQQRCQsFBwsGCQsOCAsOBQgDBwwLBwkKBQ0JDAYPBwsGCgsFCgoECAYDCQ0OCQYGBgMHDgQIBwUMDQsOBgoKAgoPCwYFDg0M",
          "dtype": "i1"
         },
         "xaxis": "x",
         "yaxis": "y"
        }
       ],
       "layout": {
        "barmode": "overlay",
        "legend": {
         "title": {
          "text": "label"
         },
         "tracegroupgap": 0
        },
        "template": {
         "data": {
          "bar": [
           {
            "error_x": {
             "color": "#2a3f5f"
            },
            "error_y": {
             "color": "#2a3f5f"
            },
            "marker": {
             "line": {
              "color": "#E5ECF6",
              "width": 0.5
             },
             "pattern": {
              "fillmode": "overlay",
              "size": 10,
              "solidity": 0.2
             }
            },
            "type": "bar"
           }
          ],
          "barpolar": [
           {
            "marker": {
             "line": {
              "color": "#E5ECF6",
              "width": 0.5
             },
             "pattern": {
              "fillmode": "overlay",
              "size": 10,
              "solidity": 0.2
             }
            },
            "type": "barpolar"
           }
          ],
          "carpet": [
           {
            "aaxis": {
             "endlinecolor": "#2a3f5f",
             "gridcolor": "white",
             "linecolor": "white",
             "minorgridcolor": "white",
             "startlinecolor": "#2a3f5f"
            },
            "baxis": {
             "endlinecolor": "#2a3f5f",
             "gridcolor": "white",
             "linecolor": "white",
             "minorgridcolor": "white",
             "startlinecolor": "#2a3f5f"
            },
            "type": "carpet"
           }
          ],
          "choropleth": [
           {
            "colorbar": {
             "outlinewidth": 0,
             "ticks": ""
            },
            "type": "choropleth"
           }
          ],
          "contour": [
           {
            "colorbar": {
             "outlinewidth": 0,
             "ticks": ""
            },
            "colorscale": [
             [
              0,
              "#0d0887"
             ],
             [
              0.1111111111111111,
              "#46039f"
             ],
             [
              0.2222222222222222,
              "#7201a8"
             ],
             [
              0.3333333333333333,
              "#9c179e"
             ],
             [
              0.4444444444444444,
              "#bd3786"
             ],
             [
              0.5555555555555556,
              "#d8576b"
             ],
             [
              0.6666666666666666,
              "#ed7953"
             ],
             [
              0.7777777777777778,
              "#fb9f3a"
             ],
             [
              0.8888888888888888,
              "#fdca26"
             ],
             [
              1,
              "#f0f921"
             ]
            ],
            "type": "contour"
           }
          ],
          "contourcarpet": [
           {
            "colorbar": {
             "outlinewidth": 0,
             "ticks": ""
            },
            "type": "contourcarpet"
           }
          ],
          "heatmap": [
           {
            "colorbar": {
             "outlinewidth": 0,
             "ticks": ""
            },
            "colorscale": [
             [
              0,
              "#0d0887"
             ],
             [
              0.1111111111111111,
              "#46039f"
             ],
             [
              0.2222222222222222,
              "#7201a8"
             ],
             [
              0.3333333333333333,
              "#9c179e"
             ],
             [
              0.4444444444444444,
              "#bd3786"
             ],
             [
              0.5555555555555556,
              "#d8576b"
             ],
             [
              0.6666666666666666,
              "#ed7953"
             ],
             [
              0.7777777777777778,
              "#fb9f3a"
             ],
             [
              0.8888888888888888,
              "#fdca26"
             ],
             [
              1,
              "#f0f921"
             ]
            ],
            "type": "heatmap"
           }
          ],
          "histogram": [
           {
            "marker": {
             "pattern": {
              "fillmode": "overlay",
              "size": 10,
              "solidity": 0.2
             }
            },
            "type": "histogram"
           }
          ],
          "histogram2d": [
           {
            "colorbar": {
             "outlinewidth": 0,
             "ticks": ""
            },
            "colorscale": [
             [
              0,
              "#0d0887"
             ],
             [
              0.1111111111111111,
              "#46039f"
             ],
             [
              0.2222222222222222,
              "#7201a8"
             ],
             [
              0.3333333333333333,
              "#9c179e"
             ],
             [
              0.4444444444444444,
              "#bd3786"
             ],
             [
              0.5555555555555556,
              "#d8576b"
             ],
             [
              0.6666666666666666,
              "#ed7953"
             ],
             [
              0.7777777777777778,
              "#fb9f3a"
             ],
             [
              0.8888888888888888,
              "#fdca26"
             ],
             [
              1,
              "#f0f921"
             ]
            ],
            "type": "histogram2d"
           }
          ],
          "histogram2dcontour": [
           {
            "colorbar": {
             "outlinewidth": 0,
             "ticks": ""
            },
            "colorscale": [
             [
              0,
              "#0d0887"
             ],
             [
              0.1111111111111111,
              "#46039f"
             ],
             [
              0.2222222222222222,
              "#7201a8"
             ],
             [
              0.3333333333333333,
              "#9c179e"
             ],
             [
              0.4444444444444444,
              "#bd3786"
             ],
             [
              0.5555555555555556,
              "#d8576b"
             ],
             [
              0.6666666666666666,
              "#ed7953"
             ],
             [
              0.7777777777777778,
              "#fb9f3a"
             ],
             [
              0.8888888888888888,
              "#fdca26"
             ],
             [
              1,
              "#f0f921"
             ]
            ],
            "type": "histogram2dcontour"
           }
          ],
          "mesh3d": [
           {
            "colorbar": {
             "outlinewidth": 0,
             "ticks": ""
            },
            "type": "mesh3d"
           }
          ],
          "parcoords": [
           {
            "line": {
             "colorbar": {
              "outlinewidth": 0,
              "ticks": ""
             }
            },
            "type": "parcoords"
           }
          ],
          "pie": [
           {
            "automargin": true,
            "type": "pie"
           }
          ],
          "scatter": [
           {
            "fillpattern": {
             "fillmode": "overlay",
             "size": 10,
             "solidity": 0.2
            },
            "type": "scatter"
           }
          ],
          "scatter3d": [
           {
            "line": {
             "colorbar": {
              "outlinewidth": 0,
              "ticks": ""
             }
            },
            "marker": {
             "colorbar": {
              "outlinewidth": 0,
              "ticks": ""
             }
            },
            "type": "scatter3d"
           }
          ],
          "scattercarpet": [
           {
            "marker": {
             "colorbar": {
              "outlinewidth": 0,
              "ticks": ""
             }
            },
            "type": "scattercarpet"
           }
          ],
          "scattergeo": [
           {
            "marker": {
             "colorbar": {
              "outlinewidth": 0,
              "ticks": ""
             }
            },
            "type": "scattergeo"
           }
          ],
          "scattergl": [
           {
            "marker": {
             "colorbar": {
              "outlinewidth": 0,
              "ticks": ""
             }
            },
            "type": "scattergl"
           }
          ],
          "scattermap": [
           {
            "marker": {
             "colorbar": {
              "outlinewidth": 0,
              "ticks": ""
             }
            },
            "type": "scattermap"
           }
          ],
          "scattermapbox": [
           {
            "marker": {
             "colorbar": {
              "outlinewidth": 0,
              "ticks": ""
             }
            },
            "type": "scattermapbox"
           }
          ],
          "scatterpolar": [
           {
            "marker": {
             "colorbar": {
              "outlinewidth": 0,
              "ticks": ""
             }
            },
            "type": "scatterpolar"
           }
          ],
          "scatterpolargl": [
           {
            "marker": {
             "colorbar": {
              "outlinewidth": 0,
              "ticks": ""
             }
            },
            "type": "scatterpolargl"
           }
          ],
          "scatterternary": [
           {
            "marker": {
             "colorbar": {
              "outlinewidth": 0,
              "ticks": ""
             }
            },
            "type": "scatterternary"
           }
          ],
          "surface": [
           {
            "colorbar": {
             "outlinewidth": 0,
             "ticks": ""
            },
            "colorscale": [
             [
              0,
              "#0d0887"
             ],
             [
              0.1111111111111111,
              "#46039f"
             ],
             [
              0.2222222222222222,
              "#7201a8"
             ],
             [
              0.3333333333333333,
              "#9c179e"
             ],
             [
              0.4444444444444444,
              "#bd3786"
             ],
             [
              0.5555555555555556,
              "#d8576b"
             ],
             [
              0.6666666666666666,
              "#ed7953"
             ],
             [
              0.7777777777777778,
              "#fb9f3a"
             ],
             [
              0.8888888888888888,
              "#fdca26"
             ],
             [
              1,
              "#f0f921"
             ]
            ],
            "type": "surface"
           }
          ],
          "table": [
           {
            "cells": {
             "fill": {
              "color": "#EBF0F8"
             },
             "line": {
              "color": "white"
             }
            },
            "header": {
             "fill": {
              "color": "#C8D4E3"
             },
             "line": {
              "color": "white"
             }
            },
            "type": "table"
           }
          ]
         },
         "layout": {
          "annotationdefaults": {
           "arrowcolor": "#2a3f5f",
           "arrowhead": 0,
           "arrowwidth": 1
          },
          "autotypenumbers": "strict",
          "coloraxis": {
           "colorbar": {
            "outlinewidth": 0,
            "ticks": ""
           }
          },
          "colorscale": {
           "diverging": [
            [
             0,
             "#8e0152"
            ],
            [
             0.1,
             "#c51b7d"
            ],
            [
             0.2,
             "#de77ae"
            ],
            [
             0.3,
             "#f1b6da"
            ],
            [
             0.4,
             "#fde0ef"
            ],
            [
             0.5,
             "#f7f7f7"
            ],
            [
             0.6,
             "#e6f5d0"
            ],
            [
             0.7,
             "#b8e186"
            ],
            [
             0.8,
             "#7fbc41"
            ],
            [
             0.9,
             "#4d9221"
            ],
            [
             1,
             "#276419"
            ]
           ],
           "sequential": [
            [
             0,
             "#0d0887"
            ],
            [
             0.1111111111111111,
             "#46039f"
            ],
            [
             0.2222222222222222,
             "#7201a8"
            ],
            [
             0.3333333333333333,
             "#9c179e"
            ],
            [
             0.4444444444444444,
             "#bd3786"
            ],
            [
             0.5555555555555556,
             "#d8576b"
            ],
            [
             0.6666666666666666,
             "#ed7953"
            ],
            [
             0.7777777777777778,
             "#fb9f3a"
            ],
            [
             0.8888888888888888,
             "#fdca26"
            ],
            [
             1,
             "#f0f921"
            ]
           ],
           "sequentialminus": [
            [
             0,
             "#0d0887"
            ],
            [
             0.1111111111111111,
             "#46039f"
            ],
            [
             0.2222222222222222,
             "#7201a8"
            ],
            [
             0.3333333333333333,
             "#9c179e"
            ],
            [
             0.4444444444444444,
             "#bd3786"
            ],
            [
             0.5555555555555556,
             "#d8576b"
            ],
            [
             0.6666666666666666,
             "#ed7953"
            ],
            [
             0.7777777777777778,
             "#fb9f3a"
            ],
            [
             0.8888888888888888,
             "#fdca26"
            ],
            [
             1,
             "#f0f921"
            ]
           ]
          },
          "colorway": [
           "#636efa",
           "#EF553B",
           "#00cc96",
           "#ab63fa",
           "#FFA15A",
           "#19d3f3",
           "#FF6692",
           "#B6E880",
           "#FF97FF",
           "#FECB52"
          ],
          "font": {
           "color": "#2a3f5f"
          },
          "geo": {
           "bgcolor": "white",
           "lakecolor": "white",
           "landcolor": "#E5ECF6",
           "showlakes": true,
           "showland": true,
           "subunitcolor": "white"
          },
          "hoverlabel": {
           "align": "left"
          },
          "hovermode": "closest",
          "mapbox": {
           "style": "light"
          },
          "paper_bgcolor": "white",
          "plot_bgcolor": "#E5ECF6",
          "polar": {
           "angularaxis": {
            "gridcolor": "white",
            "linecolor": "white",
            "ticks": ""
           },
           "bgcolor": "#E5ECF6",
           "radialaxis": {
            "gridcolor": "white",
            "linecolor": "white",
            "ticks": ""
           }
          },
          "scene": {
           "xaxis": {
            "backgroundcolor": "#E5ECF6",
            "gridcolor": "white",
            "gridwidth": 2,
            "linecolor": "white",
            "showbackground": true,
            "ticks": "",
            "zerolinecolor": "white"
           },
           "yaxis": {
            "backgroundcolor": "#E5ECF6",
            "gridcolor": "white",
            "gridwidth": 2,
            "linecolor": "white",
            "showbackground": true,
            "ticks": "",
            "zerolinecolor": "white"
           },
           "zaxis": {
            "backgroundcolor": "#E5ECF6",
            "gridcolor": "white",
            "gridwidth": 2,
            "linecolor": "white",
            "showbackground": true,
            "ticks": "",
            "zerolinecolor": "white"
           }
          },
          "shapedefaults": {
           "line": {
            "color": "#2a3f5f"
           }
          },
          "ternary": {
           "aaxis": {
            "gridcolor": "white",
            "linecolor": "white",
            "ticks": ""
           },
           "baxis": {
            "gridcolor": "white",
            "linecolor": "white",
            "ticks": ""
           },
           "bgcolor": "#E5ECF6",
           "caxis": {
            "gridcolor": "white",
            "linecolor": "white",
            "ticks": ""
           }
          },
          "title": {
           "x": 0.05
          },
          "xaxis": {
           "automargin": true,
           "gridcolor": "white",
           "linecolor": "white",
           "ticks": "",
           "title": {
            "standoff": 15
           },
           "zerolinecolor": "white",
           "zerolinewidth": 2
          },
          "yaxis": {
           "automargin": true,
           "gridcolor": "white",
           "linecolor": "white",
           "ticks": "",
           "title": {
            "standoff": 15
           },
           "zerolinecolor": "white",
           "zerolinewidth": 2
          }
         }
        },
        "title": {
         "text": "Distribution of word_count by Label"
        },
        "xaxis": {
         "anchor": "y",
         "domain": [
          0,
          1
         ],
         "title": {
          "text": "word_count"
         }
        },
        "yaxis": {
         "anchor": "x",
         "domain": [
          0,
          1
         ],
         "title": {
          "text": "count"
         }
        }
       }
      }
     },
     "metadata": {},
     "output_type": "display_data"
    },
    {
     "data": {
      "application/vnd.plotly.v1+json": {
       "config": {
        "plotlyServerURL": "https://plot.ly"
       },
       "data": [
        {
         "bingroup": "x",
         "hovertemplate": "label=0<br>avg_word_length=%{x}<br>count=%{y}<extra></extra>",
         "legendgroup": "0",
         "marker": {
          "color": "#636efa",
          "opacity": 0.5,
          "pattern": {
           "shape": ""
          }
         },
         "name": "0",
         "nbinsx": 200,
         "orientation": "v",
         "showlegend": true,
         "type": "histogram",
         "x": {
          "bdata": "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",
          "dtype": "f8"
         },
         "xaxis": "x",
         "yaxis": "y"
        },
        {
         "bingroup": "x",
         "hovertemplate": "label=1<br>avg_word_length=%{x}<br>count=%{y}<extra></extra>",
         "legendgroup": "1",
         "marker": {
          "color": "#EF553B",
          "opacity": 0.5,
          "pattern": {
           "shape": ""
          }
         },
         "name": "1",
         "nbinsx": 200,
         "orientation": "v",
         "showlegend": true,
         "type": "histogram",
         "x": {
          "bdata": "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",
          "dtype": "f8"
         },
         "xaxis": "x",
         "yaxis": "y"
        }
       ],
       "layout": {
        "barmode": "overlay",
        "legend": {
         "title": {
          "text": "label"
         },
         "tracegroupgap": 0
        },
        "template": {
         "data": {
          "bar": [
           {
            "error_x": {
             "color": "#2a3f5f"
            },
            "error_y": {
             "color": "#2a3f5f"
            },
            "marker": {
             "line": {
              "color": "#E5ECF6",
              "width": 0.5
             },
             "pattern": {
              "fillmode": "overlay",
              "size": 10,
              "solidity": 0.2
             }
            },
            "type": "bar"
           }
          ],
          "barpolar": [
           {
            "marker": {
             "line": {
              "color": "#E5ECF6",
              "width": 0.5
             },
             "pattern": {
              "fillmode": "overlay",
              "size": 10,
              "solidity": 0.2
             }
            },
            "type": "barpolar"
           }
          ],
          "carpet": [
           {
            "aaxis": {
             "endlinecolor": "#2a3f5f",
             "gridcolor": "white",
             "linecolor": "white",
             "minorgridcolor": "white",
             "startlinecolor": "#2a3f5f"
            },
            "baxis": {
             "endlinecolor": "#2a3f5f",
             "gridcolor": "white",
             "linecolor": "white",
             "minorgridcolor": "white",
             "startlinecolor": "#2a3f5f"
            },
            "type": "carpet"
           }
          ],
          "choropleth": [
           {
            "colorbar": {
             "outlinewidth": 0,
             "ticks": ""
            },
            "type": "choropleth"
           }
          ],
          "contour": [
           {
            "colorbar": {
             "outlinewidth": 0,
             "ticks": ""
            },
            "colorscale": [
             [
              0,
              "#0d0887"
             ],
             [
              0.1111111111111111,
              "#46039f"
             ],
             [
              0.2222222222222222,
              "#7201a8"
             ],
             [
              0.3333333333333333,
              "#9c179e"
             ],
             [
              0.4444444444444444,
              "#bd3786"
             ],
             [
              0.5555555555555556,
              "#d8576b"
             ],
             [
              0.6666666666666666,
              "#ed7953"
             ],
             [
              0.7777777777777778,
              "#fb9f3a"
             ],
             [
              0.8888888888888888,
              "#fdca26"
             ],
             [
              1,
              "#f0f921"
             ]
            ],
            "type": "contour"
           }
          ],
          "contourcarpet": [
           {
            "colorbar": {
             "outlinewidth": 0,
             "ticks": ""
            },
            "type": "contourcarpet"
           }
          ],
          "heatmap": [
           {
            "colorbar": {
             "outlinewidth": 0,
             "ticks": ""
            },
            "colorscale": [
             [
              0,
              "#0d0887"
             ],
             [
              0.1111111111111111,
              "#46039f"
             ],
             [
              0.2222222222222222,
              "#7201a8"
             ],
             [
              0.3333333333333333,
              "#9c179e"
             ],
             [
              0.4444444444444444,
              "#bd3786"
             ],
             [
              0.5555555555555556,
              "#d8576b"
             ],
             [
              0.6666666666666666,
              "#ed7953"
             ],
             [
              0.7777777777777778,
              "#fb9f3a"
             ],
             [
              0.8888888888888888,
              "#fdca26"
             ],
             [
              1,
              "#f0f921"
             ]
            ],
            "type": "heatmap"
           }
          ],
          "histogram": [
           {
            "marker": {
             "pattern": {
              "fillmode": "overlay",
              "size": 10,
              "solidity": 0.2
             }
            },
            "type": "histogram"
           }
          ],
          "histogram2d": [
           {
            "colorbar": {
             "outlinewidth": 0,
             "ticks": ""
            },
            "colorscale": [
             [
              0,
              "#0d0887"
             ],
             [
              0.1111111111111111,
              "#46039f"
             ],
             [
              0.2222222222222222,
              "#7201a8"
             ],
             [
              0.3333333333333333,
              "#9c179e"
             ],
             [
              0.4444444444444444,
              "#bd3786"
             ],
             [
              0.5555555555555556,
              "#d8576b"
             ],
             [
              0.6666666666666666,
              "#ed7953"
             ],
             [
              0.7777777777777778,
              "#fb9f3a"
             ],
             [
              0.8888888888888888,
              "#fdca26"
             ],
             [
              1,
              "#f0f921"
             ]
            ],
            "type": "histogram2d"
           }
          ],
          "histogram2dcontour": [
           {
            "colorbar": {
             "outlinewidth": 0,
             "ticks": ""
            },
            "colorscale": [
             [
              0,
              "#0d0887"
             ],
             [
              0.1111111111111111,
              "#46039f"
             ],
             [
              0.2222222222222222,
              "#7201a8"
             ],
             [
              0.3333333333333333,
              "#9c179e"
             ],
             [
              0.4444444444444444,
              "#bd3786"
             ],
             [
              0.5555555555555556,
              "#d8576b"
             ],
             [
              0.6666666666666666,
              "#ed7953"
             ],
             [
              0.7777777777777778,
              "#fb9f3a"
             ],
             [
              0.8888888888888888,
              "#fdca26"
             ],
             [
              1,
              "#f0f921"
             ]
            ],
            "type": "histogram2dcontour"
           }
          ],
          "mesh3d": [
           {
            "colorbar": {
             "outlinewidth": 0,
             "ticks": ""
            },
            "type": "mesh3d"
           }
          ],
          "parcoords": [
           {
            "line": {
             "colorbar": {
              "outlinewidth": 0,
              "ticks": ""
             }
            },
            "type": "parcoords"
           }
          ],
          "pie": [
           {
            "automargin": true,
            "type": "pie"
           }
          ],
          "scatter": [
           {
            "fillpattern": {
             "fillmode": "overlay",
             "size": 10,
             "solidity": 0.2
            },
            "type": "scatter"
           }
          ],
          "scatter3d": [
           {
            "line": {
             "colorbar": {
              "outlinewidth": 0,
              "ticks": ""
             }
            },
            "marker": {
             "colorbar": {
              "outlinewidth": 0,
              "ticks": ""
             }
            },
            "type": "scatter3d"
           }
          ],
          "scattercarpet": [
           {
            "marker": {
             "colorbar": {
              "outlinewidth": 0,
              "ticks": ""
             }
            },
            "type": "scattercarpet"
           }
          ],
          "scattergeo": [
           {
            "marker": {
             "colorbar": {
              "outlinewidth": 0,
              "ticks": ""
             }
            },
            "type": "scattergeo"
           }
          ],
          "scattergl": [
           {
            "marker": {
             "colorbar": {
              "outlinewidth": 0,
              "ticks": ""
             }
            },
            "type": "scattergl"
           }
          ],
          "scattermap": [
           {
            "marker": {
             "colorbar": {
              "outlinewidth": 0,
              "ticks": ""
             }
            },
            "type": "scattermap"
           }
          ],
          "scattermapbox": [
           {
            "marker": {
             "colorbar": {
              "outlinewidth": 0,
              "ticks": ""
             }
            },
            "type": "scattermapbox"
           }
          ],
          "scatterpolar": [
           {
            "marker": {
             "colorbar": {
              "outlinewidth": 0,
              "ticks": ""
             }
            },
            "type": "scatterpolar"
           }
          ],
          "scatterpolargl": [
           {
            "marker": {
             "colorbar": {
              "outlinewidth": 0,
              "ticks": ""
             }
            },
            "type": "scatterpolargl"
           }
          ],
          "scatterternary": [
           {
            "marker": {
             "colorbar": {
              "outlinewidth": 0,
              "ticks": ""
             }
            },
            "type": "scatterternary"
           }
          ],
          "surface": [
           {
            "colorbar": {
             "outlinewidth": 0,
             "ticks": ""
            },
            "colorscale": [
             [
              0,
              "#0d0887"
             ],
             [
              0.1111111111111111,
              "#46039f"
             ],
             [
              0.2222222222222222,
              "#7201a8"
             ],
             [
              0.3333333333333333,
              "#9c179e"
             ],
             [
              0.4444444444444444,
              "#bd3786"
             ],
             [
              0.5555555555555556,
              "#d8576b"
             ],
             [
              0.6666666666666666,
              "#ed7953"
             ],
             [
              0.7777777777777778,
              "#fb9f3a"
             ],
             [
              0.8888888888888888,
              "#fdca26"
             ],
             [
              1,
              "#f0f921"
             ]
            ],
            "type": "surface"
           }
          ],
          "table": [
           {
            "cells": {
             "fill": {
              "color": "#EBF0F8"
             },
             "line": {
              "color": "white"
             }
            },
            "header": {
             "fill": {
              "color": "#C8D4E3"
             },
             "line": {
              "color": "white"
             }
            },
            "type": "table"
           }
          ]
         },
         "layout": {
          "annotationdefaults": {
           "arrowcolor": "#2a3f5f",
           "arrowhead": 0,
           "arrowwidth": 1
          },
          "autotypenumbers": "strict",
          "coloraxis": {
           "colorbar": {
            "outlinewidth": 0,
            "ticks": ""
           }
          },
          "colorscale": {
           "diverging": [
            [
             0,
             "#8e0152"
            ],
            [
             0.1,
             "#c51b7d"
            ],
            [
             0.2,
             "#de77ae"
            ],
            [
             0.3,
             "#f1b6da"
            ],
            [
             0.4,
             "#fde0ef"
            ],
            [
             0.5,
             "#f7f7f7"
            ],
            [
             0.6,
             "#e6f5d0"
            ],
            [
             0.7,
             "#b8e186"
            ],
            [
             0.8,
             "#7fbc41"
            ],
            [
             0.9,
             "#4d9221"
            ],
            [
             1,
             "#276419"
            ]
           ],
           "sequential": [
            [
             0,
             "#0d0887"
            ],
            [
             0.1111111111111111,
             "#46039f"
            ],
            [
             0.2222222222222222,
             "#7201a8"
            ],
            [
             0.3333333333333333,
             "#9c179e"
            ],
            [
             0.4444444444444444,
             "#bd3786"
            ],
            [
             0.5555555555555556,
             "#d8576b"
            ],
            [
             0.6666666666666666,
             "#ed7953"
            ],
            [
             0.7777777777777778,
             "#fb9f3a"
            ],
            [
             0.8888888888888888,
             "#fdca26"
            ],
            [
             1,
             "#f0f921"
            ]
           ],
           "sequentialminus": [
            [
             0,
             "#0d0887"
            ],
            [
             0.1111111111111111,
             "#46039f"
            ],
            [
             0.2222222222222222,
             "#7201a8"
            ],
            [
             0.3333333333333333,
             "#9c179e"
            ],
            [
             0.4444444444444444,
             "#bd3786"
            ],
            [
             0.5555555555555556,
             "#d8576b"
            ],
            [
             0.6666666666666666,
             "#ed7953"
            ],
            [
             0.7777777777777778,
             "#fb9f3a"
            ],
            [
             0.8888888888888888,
             "#fdca26"
            ],
            [
             1,
             "#f0f921"
            ]
           ]
          },
          "colorway": [
           "#636efa",
           "#EF553B",
           "#00cc96",
           "#ab63fa",
           "#FFA15A",
           "#19d3f3",
           "#FF6692",
           "#B6E880",
           "#FF97FF",
           "#FECB52"
          ],
          "font": {
           "color": "#2a3f5f"
          },
          "geo": {
           "bgcolor": "white",
           "lakecolor": "white",
           "landcolor": "#E5ECF6",
           "showlakes": true,
           "showland": true,
           "subunitcolor": "white"
          },
          "hoverlabel": {
           "align": "left"
          },
          "hovermode": "closest",
          "mapbox": {
           "style": "light"
          },
          "paper_bgcolor": "white",
          "plot_bgcolor": "#E5ECF6",
          "polar": {
           "angularaxis": {
            "gridcolor": "white",
            "linecolor": "white",
            "ticks": ""
           },
           "bgcolor": "#E5ECF6",
           "radialaxis": {
            "gridcolor": "white",
            "linecolor": "white",
            "ticks": ""
           }
          },
          "scene": {
           "xaxis": {
            "backgroundcolor": "#E5ECF6",
            "gridcolor": "white",
            "gridwidth": 2,
            "linecolor": "white",
            "showbackground": true,
            "ticks": "",
            "zerolinecolor": "white"
           },
           "yaxis": {
            "backgroundcolor": "#E5ECF6",
            "gridcolor": "white",
            "gridwidth": 2,
            "linecolor": "white",
            "showbackground": true,
            "ticks": "",
            "zerolinecolor": "white"
           },
           "zaxis": {
            "backgroundcolor": "#E5ECF6",
            "gridcolor": "white",
            "gridwidth": 2,
            "linecolor": "white",
            "showbackground": true,
            "ticks": "",
            "zerolinecolor": "white"
           }
          },
          "shapedefaults": {
           "line": {
            "color": "#2a3f5f"
           }
          },
          "ternary": {
           "aaxis": {
            "gridcolor": "white",
            "linecolor": "white",
            "ticks": ""
           },
           "baxis": {
            "gridcolor": "white",
            "linecolor": "white",
            "ticks": ""
           },
           "bgcolor": "#E5ECF6",
           "caxis": {
            "gridcolor": "white",
            "linecolor": "white",
            "ticks": ""
           }
          },
          "title": {
           "x": 0.05
          },
          "xaxis": {
           "automargin": true,
           "gridcolor": "white",
           "linecolor": "white",
           "ticks": "",
           "title": {
            "standoff": 15
           },
           "zerolinecolor": "white",
           "zerolinewidth": 2
          },
          "yaxis": {
           "automargin": true,
           "gridcolor": "white",
           "linecolor": "white",
           "ticks": "",
           "title": {
            "standoff": 15
           },
           "zerolinecolor": "white",
           "zerolinewidth": 2
          }
         }
        },
        "title": {
         "text": "Distribution of avg_word_length by Label"
        },
        "xaxis": {
         "anchor": "y",
         "domain": [
          0,
          1
         ],
         "title": {
          "text": "avg_word_length"
         }
        },
        "yaxis": {
         "anchor": "x",
         "domain": [
          0,
          1
         ],
         "title": {
          "text": "count"
         }
        }
       }
      }
     },
     "metadata": {},
     "output_type": "display_data"
    }
   ],
   "source": [
    "import plotly.express as px\n",
    "\n",
    "# Identify numeric features (excluding 'label')\n",
    "numeric_features = splits['train'].select_dtypes(include='number').columns.tolist()\n",
    "numeric_features = [col for col in numeric_features if col != 'label']\n",
    "\n",
    "# Visualize count of each numeric feature, split by label using Plotly\n",
    "for feature in numeric_features:\n",
    "    fig = px.histogram(\n",
    "        splits['train'],\n",
    "        x=feature,\n",
    "        color='label',\n",
    "        barmode='overlay',\n",
    "        nbins=200,\n",
    "        title=f\"Distribution of {feature} by Label\"\n",
    "    )\n",
    "    fig.show()"
   ]
  },
  {
   "cell_type": "code",
   "execution_count": null,
   "id": "a7e15b1e",
   "metadata": {},
   "outputs": [],
   "source": []
  },
  {
   "cell_type": "code",
   "execution_count": 11,
   "id": "3879dbaa",
   "metadata": {},
   "outputs": [
    {
     "data": {
      "text/html": [
       "<div>\n",
       "<style scoped>\n",
       "    .dataframe tbody tr th:only-of-type {\n",
       "        vertical-align: middle;\n",
       "    }\n",
       "\n",
       "    .dataframe tbody tr th {\n",
       "        vertical-align: top;\n",
       "    }\n",
       "\n",
       "    .dataframe thead th {\n",
       "        text-align: right;\n",
       "    }\n",
       "</style>\n",
       "<table border=\"1\" class=\"dataframe\">\n",
       "  <thead>\n",
       "    <tr style=\"text-align: right;\">\n",
       "      <th></th>\n",
       "      <th>comment</th>\n",
       "      <th>label</th>\n",
       "      <th>comment_clean</th>\n",
       "      <th>has_math_alnum</th>\n",
       "      <th>money_symbol_count</th>\n",
       "      <th>fire_symbol_count</th>\n",
       "      <th>special_char_ratio</th>\n",
       "      <th>number_ratio</th>\n",
       "      <th>stylized_char_ratio</th>\n",
       "      <th>char_count</th>\n",
       "      <th>word_count</th>\n",
       "      <th>avg_word_length</th>\n",
       "      <th>is_very_short</th>\n",
       "    </tr>\n",
       "  </thead>\n",
       "  <tbody>\n",
       "    <tr>\n",
       "      <th>0</th>\n",
       "      <td>aamiin ya rabb</td>\n",
       "      <td>0</td>\n",
       "      <td>aamiin ya rabb</td>\n",
       "      <td>False</td>\n",
       "      <td>0</td>\n",
       "      <td>0</td>\n",
       "      <td>0.000000</td>\n",
       "      <td>0.000000</td>\n",
       "      <td>0.0</td>\n",
       "      <td>14</td>\n",
       "      <td>3</td>\n",
       "      <td>4.666667</td>\n",
       "      <td>False</td>\n",
       "    </tr>\n",
       "    <tr>\n",
       "      <th>1</th>\n",
       "      <td>terima kasih mengajak jalan2 virtual raja ampa...</td>\n",
       "      <td>0</td>\n",
       "      <td>terima kasih mengajak jalan2 virtual raja ampa...</td>\n",
       "      <td>False</td>\n",
       "      <td>0</td>\n",
       "      <td>0</td>\n",
       "      <td>0.014493</td>\n",
       "      <td>0.014493</td>\n",
       "      <td>0.0</td>\n",
       "      <td>69</td>\n",
       "      <td>11</td>\n",
       "      <td>6.272727</td>\n",
       "      <td>False</td>\n",
       "    </tr>\n",
       "    <tr>\n",
       "      <th>2</th>\n",
       "      <td>bener prabu</td>\n",
       "      <td>0</td>\n",
       "      <td>bener prabu</td>\n",
       "      <td>False</td>\n",
       "      <td>0</td>\n",
       "      <td>0</td>\n",
       "      <td>0.000000</td>\n",
       "      <td>0.000000</td>\n",
       "      <td>0.0</td>\n",
       "      <td>11</td>\n",
       "      <td>2</td>\n",
       "      <td>5.500000</td>\n",
       "      <td>False</td>\n",
       "    </tr>\n",
       "    <tr>\n",
       "      <th>3</th>\n",
       "      <td>tonton video ya hehe</td>\n",
       "      <td>0</td>\n",
       "      <td>tonton video ya hehe</td>\n",
       "      <td>False</td>\n",
       "      <td>0</td>\n",
       "      <td>0</td>\n",
       "      <td>0.000000</td>\n",
       "      <td>0.000000</td>\n",
       "      <td>0.0</td>\n",
       "      <td>20</td>\n",
       "      <td>4</td>\n",
       "      <td>5.000000</td>\n",
       "      <td>False</td>\n",
       "    </tr>\n",
       "    <tr>\n",
       "      <th>4</th>\n",
       "      <td>coach nova plis suruh pda bljr sepak penalti a...</td>\n",
       "      <td>0</td>\n",
       "      <td>coach nova plis suruh pda bljr sepak penalti a...</td>\n",
       "      <td>False</td>\n",
       "      <td>0</td>\n",
       "      <td>0</td>\n",
       "      <td>0.015152</td>\n",
       "      <td>0.015152</td>\n",
       "      <td>0.0</td>\n",
       "      <td>66</td>\n",
       "      <td>13</td>\n",
       "      <td>5.076923</td>\n",
       "      <td>False</td>\n",
       "    </tr>\n",
       "    <tr>\n",
       "      <th>...</th>\n",
       "      <td>...</td>\n",
       "      <td>...</td>\n",
       "      <td>...</td>\n",
       "      <td>...</td>\n",
       "      <td>...</td>\n",
       "      <td>...</td>\n",
       "      <td>...</td>\n",
       "      <td>...</td>\n",
       "      <td>...</td>\n",
       "      <td>...</td>\n",
       "      <td>...</td>\n",
       "      <td>...</td>\n",
       "      <td>...</td>\n",
       "    </tr>\n",
       "    <tr>\n",
       "      <th>8166</th>\n",
       "      <td>keren sih terimakasih papua 🔥🔥</td>\n",
       "      <td>0</td>\n",
       "      <td>keren sih terimakasih papua 🔥🔥</td>\n",
       "      <td>False</td>\n",
       "      <td>0</td>\n",
       "      <td>2</td>\n",
       "      <td>0.066667</td>\n",
       "      <td>0.000000</td>\n",
       "      <td>0.0</td>\n",
       "      <td>30</td>\n",
       "      <td>5</td>\n",
       "      <td>6.000000</td>\n",
       "      <td>False</td>\n",
       "    </tr>\n",
       "    <tr>\n",
       "      <th>8167</th>\n",
       "      <td>fulll ngakakkk asw</td>\n",
       "      <td>0</td>\n",
       "      <td>full ngakakk asw</td>\n",
       "      <td>False</td>\n",
       "      <td>0</td>\n",
       "      <td>0</td>\n",
       "      <td>0.000000</td>\n",
       "      <td>0.000000</td>\n",
       "      <td>0.0</td>\n",
       "      <td>18</td>\n",
       "      <td>3</td>\n",
       "      <td>6.000000</td>\n",
       "      <td>False</td>\n",
       "    </tr>\n",
       "    <tr>\n",
       "      <th>8168</th>\n",
       "      <td>yep bang ngelantur samping gue ketakutan gue a...</td>\n",
       "      <td>0</td>\n",
       "      <td>yep bang ngelantur samping gue ketakutan gue a...</td>\n",
       "      <td>False</td>\n",
       "      <td>0</td>\n",
       "      <td>0</td>\n",
       "      <td>0.000000</td>\n",
       "      <td>0.000000</td>\n",
       "      <td>0.0</td>\n",
       "      <td>68</td>\n",
       "      <td>11</td>\n",
       "      <td>6.181818</td>\n",
       "      <td>False</td>\n",
       "    </tr>\n",
       "    <tr>\n",
       "      <th>8169</th>\n",
       "      <td>menang hoki korsel nyerang goal sayang korsel ...</td>\n",
       "      <td>0</td>\n",
       "      <td>menang hoki korsel nyerang goal sayang korsel ...</td>\n",
       "      <td>False</td>\n",
       "      <td>0</td>\n",
       "      <td>0</td>\n",
       "      <td>0.000000</td>\n",
       "      <td>0.000000</td>\n",
       "      <td>0.0</td>\n",
       "      <td>80</td>\n",
       "      <td>11</td>\n",
       "      <td>7.272727</td>\n",
       "      <td>False</td>\n",
       "    </tr>\n",
       "    <tr>\n",
       "      <th>8170</th>\n",
       "      <td>teh botol sosro ahlinya teh bo kusumat0t0ahlin...</td>\n",
       "      <td>1</td>\n",
       "      <td>teh botol sosro ahlinya teh bo kusumat0t0ahlin...</td>\n",
       "      <td>False</td>\n",
       "      <td>0</td>\n",
       "      <td>0</td>\n",
       "      <td>0.047619</td>\n",
       "      <td>0.047619</td>\n",
       "      <td>0.0</td>\n",
       "      <td>63</td>\n",
       "      <td>12</td>\n",
       "      <td>5.250000</td>\n",
       "      <td>False</td>\n",
       "    </tr>\n",
       "  </tbody>\n",
       "</table>\n",
       "<p>8171 rows × 13 columns</p>\n",
       "</div>"
      ],
      "text/plain": [
       "                                                comment  label  \\\n",
       "0                                        aamiin ya rabb      0   \n",
       "1     terima kasih mengajak jalan2 virtual raja ampa...      0   \n",
       "2                                           bener prabu      0   \n",
       "3                                  tonton video ya hehe      0   \n",
       "4     coach nova plis suruh pda bljr sepak penalti a...      0   \n",
       "...                                                 ...    ...   \n",
       "8166                     keren sih terimakasih papua 🔥🔥      0   \n",
       "8167                                 fulll ngakakkk asw      0   \n",
       "8168  yep bang ngelantur samping gue ketakutan gue a...      0   \n",
       "8169  menang hoki korsel nyerang goal sayang korsel ...      0   \n",
       "8170  teh botol sosro ahlinya teh bo kusumat0t0ahlin...      1   \n",
       "\n",
       "                                          comment_clean  has_math_alnum  \\\n",
       "0                                        aamiin ya rabb           False   \n",
       "1     terima kasih mengajak jalan2 virtual raja ampa...           False   \n",
       "2                                           bener prabu           False   \n",
       "3                                  tonton video ya hehe           False   \n",
       "4     coach nova plis suruh pda bljr sepak penalti a...           False   \n",
       "...                                                 ...             ...   \n",
       "8166                     keren sih terimakasih papua 🔥🔥           False   \n",
       "8167                                   full ngakakk asw           False   \n",
       "8168  yep bang ngelantur samping gue ketakutan gue a...           False   \n",
       "8169  menang hoki korsel nyerang goal sayang korsel ...           False   \n",
       "8170  teh botol sosro ahlinya teh bo kusumat0t0ahlin...           False   \n",
       "\n",
       "      money_symbol_count  fire_symbol_count  special_char_ratio  number_ratio  \\\n",
       "0                      0                  0            0.000000      0.000000   \n",
       "1                      0                  0            0.014493      0.014493   \n",
       "2                      0                  0            0.000000      0.000000   \n",
       "3                      0                  0            0.000000      0.000000   \n",
       "4                      0                  0            0.015152      0.015152   \n",
       "...                  ...                ...                 ...           ...   \n",
       "8166                   0                  2            0.066667      0.000000   \n",
       "8167                   0                  0            0.000000      0.000000   \n",
       "8168                   0                  0            0.000000      0.000000   \n",
       "8169                   0                  0            0.000000      0.000000   \n",
       "8170                   0                  0            0.047619      0.047619   \n",
       "\n",
       "      stylized_char_ratio  char_count  word_count  avg_word_length  \\\n",
       "0                     0.0          14           3         4.666667   \n",
       "1                     0.0          69          11         6.272727   \n",
       "2                     0.0          11           2         5.500000   \n",
       "3                     0.0          20           4         5.000000   \n",
       "4                     0.0          66          13         5.076923   \n",
       "...                   ...         ...         ...              ...   \n",
       "8166                  0.0          30           5         6.000000   \n",
       "8167                  0.0          18           3         6.000000   \n",
       "8168                  0.0          68          11         6.181818   \n",
       "8169                  0.0          80          11         7.272727   \n",
       "8170                  0.0          63          12         5.250000   \n",
       "\n",
       "      is_very_short  \n",
       "0             False  \n",
       "1             False  \n",
       "2             False  \n",
       "3             False  \n",
       "4             False  \n",
       "...             ...  \n",
       "8166          False  \n",
       "8167          False  \n",
       "8168          False  \n",
       "8169          False  \n",
       "8170          False  \n",
       "\n",
       "[8171 rows x 13 columns]"
      ]
     },
     "execution_count": 11,
     "metadata": {},
     "output_type": "execute_result"
    }
   ],
   "source": [
    "splits['train']"
   ]
  },
  {
   "cell_type": "code",
   "execution_count": 7,
   "id": "137c18c5",
   "metadata": {},
   "outputs": [],
   "source": [
    "# Metrics and utilities\n",
    "from sklearn.metrics import classification_report, f1_score, precision_score, recall_score\n",
    "from sklearn.model_selection import train_test_split\n",
    "\n",
    "\n",
    "def evaluate_and_report(y_true, y_pred, title: str):\n",
    "    print(f\"\\n=== {title} ===\")\n",
    "    print(classification_report(y_true, y_pred, digits=4))\n",
    "    return {\n",
    "        'precision_1': precision_score(y_true, y_pred, pos_label=1),\n",
    "        'recall_1': recall_score(y_true, y_pred, pos_label=1),\n",
    "        'f1_1': f1_score(y_true, y_pred, pos_label=1),\n",
    "    }\n",
    "\n",
    "\n",
    "def get_xy(df: pd.DataFrame, text_col: str = 'comment_clean'):\n",
    "    return df[text_col].astype(str).tolist(), df['label'].astype(int).values\n",
    "\n",
    "\n",
    "results = []\n"
   ]
  },
  {
   "cell_type": "code",
   "execution_count": 16,
   "id": "3f7abd4b",
   "metadata": {},
   "outputs": [
    {
     "name": "stdout",
     "output_type": "stream",
     "text": [
      "\n",
      "=== Char TF-IDF + LogisticRegression (test) ===\n",
      "              precision    recall  f1-score   support\n",
      "\n",
      "           0     0.8381    1.0000    0.9119       942\n",
      "           1     1.0000    0.1911    0.3209       225\n",
      "\n",
      "    accuracy                         0.8440      1167\n",
      "   macro avg     0.9190    0.5956    0.6164      1167\n",
      "weighted avg     0.8693    0.8440    0.7980      1167\n",
      "\n"
     ]
    },
    {
     "data": {
      "text/plain": [
       "['models/lr_char.pkl']"
      ]
     },
     "execution_count": 16,
     "metadata": {},
     "output_type": "execute_result"
    }
   ],
   "source": [
    "# Model 1: TF-IDF (char) + Logistic Regression\n",
    "from sklearn.feature_extraction.text import TfidfVectorizer\n",
    "from sklearn.linear_model import LogisticRegression\n",
    "from sklearn.pipeline import Pipeline\n",
    "\n",
    "X_train, y_train = get_xy(splits['train'])\n",
    "X_test, y_test = get_xy(splits['holdout'])\n",
    "\n",
    "char_tfidf_lr = Pipeline([\n",
    "    ('tfidf', TfidfVectorizer(analyzer='char', ngram_range=(2,4), min_df=2)),\n",
    "    ('clf', LogisticRegression(max_iter=5000, class_weight='balanced', n_jobs=1, C=2.0, solver='liblinear'))\n",
    "])\n",
    "\n",
    "char_tfidf_lr.fit(X_train, y_train)\n",
    "y_pred = char_tfidf_lr.predict(X_test)\n",
    "metrics = evaluate_and_report(y_test, y_pred, 'Char TF-IDF + LogisticRegression (test)')\n",
    "results.append({'model':'char_tfidf_lr','metrics':metrics})\n",
    "\n",
    "joblib.dump(char_tfidf_lr, os.path.join(MODELS_DIR, 'lr_char.pkl'))\n"
   ]
  },
  {
   "cell_type": "code",
   "execution_count": 17,
   "id": "b729b119",
   "metadata": {},
   "outputs": [
    {
     "name": "stdout",
     "output_type": "stream",
     "text": [
      "\n",
      "=== Hybrid (char+word+numeric) + LogisticRegression (test) ===\n",
      "              precision    recall  f1-score   support\n",
      "\n",
      "           0     0.9039    0.9989    0.9491       942\n",
      "           1     0.9921    0.5556    0.7123       225\n",
      "\n",
      "    accuracy                         0.9135      1167\n",
      "   macro avg     0.9480    0.7772    0.8307      1167\n",
      "weighted avg     0.9209    0.9135    0.9034      1167\n",
      "\n"
     ]
    },
    {
     "data": {
      "text/plain": [
       "['models/hybrid_model.pkl']"
      ]
     },
     "execution_count": 17,
     "metadata": {},
     "output_type": "execute_result"
    }
   ],
   "source": [
    "# Model 2: Hybrid (char + word TF-IDF + numeric features)\n",
    "from sklearn.pipeline import FeatureUnion\n",
    "from sklearn.compose import ColumnTransformer\n",
    "from sklearn.preprocessing import StandardScaler\n",
    "\n",
    "num_features = ['char_count','word_count','avg_word_length','number_ratio','special_char_ratio','stylized_char_ratio','money_symbol_count','fire_symbol_count']\n",
    "\n",
    "# Prepare dataframes for ColumnTransformer\n",
    "train_df = splits['train'].copy()\n",
    "test_df = splits['holdout'].copy()\n",
    "\n",
    "# ColumnTransformer expects array-like; we will build union of text features and numeric\n",
    "char_vec = ('char', TfidfVectorizer(analyzer='char', ngram_range=(2,4), min_df=2), 'comment_clean')\n",
    "word_vec = ('word', TfidfVectorizer(analyzer='word', ngram_range=(1,2), min_df=2), 'comment_clean')\n",
    "\n",
    "preprocess = ColumnTransformer([\n",
    "    char_vec,\n",
    "    word_vec,\n",
    "    ('num', StandardScaler(with_mean=False), num_features)\n",
    "], remainder='drop', sparse_threshold=0.3)\n",
    "\n",
    "from sklearn.linear_model import LogisticRegression\n",
    "from sklearn.pipeline import Pipeline\n",
    "\n",
    "hybrid_clf = Pipeline([\n",
    "    ('prep', preprocess),\n",
    "    ('clf', LogisticRegression(max_iter=5000, class_weight='balanced', C=2.0, solver='liblinear'))\n",
    "])\n",
    "\n",
    "hybrid_clf.fit(train_df, y_train)\n",
    "y_pred_h = hybrid_clf.predict(test_df)\n",
    "metrics_h = evaluate_and_report(y_test, y_pred_h, 'Hybrid (char+word+numeric) + LogisticRegression (test)')\n",
    "results.append({'model':'hybrid_lr','metrics':metrics_h})\n",
    "\n",
    "joblib.dump(hybrid_clf, os.path.join(MODELS_DIR, 'hybrid_model.pkl'))\n"
   ]
  },
  {
   "cell_type": "code",
   "execution_count": null,
   "id": "73f7d51d",
   "metadata": {},
   "outputs": [
    {
     "name": "stderr",
     "output_type": "stream",
     "text": [
      "Batches: 100%|██████████| 233/233 [00:24<00:00,  9.44it/s]\n",
      "Batches: 100%|██████████| 67/67 [00:06<00:00, 10.80it/s]\n"
     ]
    },
    {
     "name": "stdout",
     "output_type": "stream",
     "text": [
      "\n",
      "=== Sentence-Transformer Embeddings + LogisticRegression (test) ===\n",
      "              precision    recall  f1-score   support\n",
      "\n",
      "           0     0.9449    0.9280    0.9364      2126\n",
      "           1     0.9293    0.9459    0.9375      2126\n",
      "\n",
      "    accuracy                         0.9370      4252\n",
      "   macro avg     0.9371    0.9370    0.9370      4252\n",
      "weighted avg     0.9371    0.9370    0.9370      4252\n",
      "\n"
     ]
    },
    {
     "data": {
      "text/plain": [
       "['models/st_embed_lr.pkl']"
      ]
     },
     "execution_count": 11,
     "metadata": {},
     "output_type": "execute_result"
    }
   ],
   "source": [
    "# Model 3: Sentence-Transformers embeddings + Logistic Regression\n",
    "from sentence_transformers import SentenceTransformer\n",
    "from sklearn.linear_model import LogisticRegression\n",
    "\n",
    "st_model = SentenceTransformer(SENTENCE_TRANSFORMER_MODEL)\n",
    "\n",
    "def embed_texts(texts: List[str], batch_size: int = 64):\n",
    "    return st_model.encode(texts, batch_size=batch_size, show_progress_bar=True, convert_to_numpy=True, normalize_embeddings=True)\n",
    "\n",
    "Xtr_emb = embed_texts(splits['train']['comment_clean'].tolist())\n",
    "Xte_emb = embed_texts(splits['test']['comment_clean'].tolist())\n",
    "\n",
    "clf_emb = LogisticRegression(max_iter=2000, class_weight='balanced')\n",
    "clf_emb.fit(Xtr_emb, y_train)\n",
    "y_pred_emb = clf_emb.predict(Xte_emb)\n",
    "metrics_emb = evaluate_and_report(y_test, y_pred_emb, 'Sentence-Transformer Embeddings + LogisticRegression (test)')\n",
    "results.append({'model':'st_embed_lr','metrics':metrics_emb})\n",
    "\n",
    "joblib.dump({'encoder': SENTENCE_TRANSFORMER_MODEL, 'clf': clf_emb}, os.path.join(MODELS_DIR, 'st_embed_lr.pkl'))\n"
   ]
  },
  {
   "cell_type": "code",
   "execution_count": null,
   "id": "93bd9101",
   "metadata": {},
   "outputs": [
    {
     "name": "stderr",
     "output_type": "stream",
     "text": [
      "Some weights of BertForSequenceClassification were not initialized from the model checkpoint at indobenchmark/indobert-base-p1 and are newly initialized: ['classifier.bias', 'classifier.weight']\n",
      "You should probably TRAIN this model on a down-stream task to be able to use it for predictions and inference.\n",
      "Map: 100%|██████████| 4000/4000 [00:00<00:00, 12821.90 examples/s]\n",
      "Map: 100%|██████████| 2000/2000 [00:00<00:00, 28255.79 examples/s]\n"
     ]
    },
    {
     "data": {
      "text/html": [
       "\n",
       "    <div>\n",
       "      \n",
       "      <progress value='63' max='63' style='width:300px; height:20px; vertical-align: middle;'></progress>\n",
       "      [63/63 00:43]\n",
       "    </div>\n",
       "    "
      ],
      "text/plain": [
       "<IPython.core.display.HTML object>"
      ]
     },
     "metadata": {},
     "output_type": "display_data"
    },
    {
     "data": {
      "text/plain": [
       "('models/indobert/tokenizer_config.json',\n",
       " 'models/indobert/special_tokens_map.json',\n",
       " 'models/indobert/vocab.txt',\n",
       " 'models/indobert/added_tokens.json',\n",
       " 'models/indobert/tokenizer.json')"
      ]
     },
     "execution_count": 4,
     "metadata": {},
     "output_type": "execute_result"
    }
   ],
   "source": [
    "# Model 4: IndoBERT fine-tuning (optional, quick demo)\n",
    "# Note: This is a minimal example; for full training use Trainer API with epochs.\n",
    "from transformers import AutoTokenizer, AutoModelForSequenceClassification, Trainer, TrainingArguments\n",
    "import torch\n",
    "\n",
    "indobert_tokenizer = AutoTokenizer.from_pretrained(INDOBERT_MODEL)\n",
    "indobert_model = AutoModelForSequenceClassification.from_pretrained(INDOBERT_MODEL, num_labels=2)\n",
    "\n",
    "def tokenize_fn(batch):\n",
    "    return indobert_tokenizer(batch['comment_clean'], truncation=True, padding='max_length', max_length=128)\n",
    "\n",
    "# Small subset for quick demo to avoid long runtimes\n",
    "train_small = splits['train'].sample(n=min(4000, len(splits['train'])), random_state=RANDOM_STATE)\n",
    "test_small = splits['test'].sample(n=min(2000, len(splits['test'])), random_state=RANDOM_STATE)\n",
    "\n",
    "import datasets as hfds\n",
    "train_ds = hfds.Dataset.from_pandas(train_small[['comment_clean','label']].rename(columns={'label':'labels'}))\n",
    "test_ds = hfds.Dataset.from_pandas(test_small[['comment_clean','label']].rename(columns={'label':'labels'}))\n",
    "\n",
    "train_ds = train_ds.map(tokenize_fn, batched=True)\n",
    "test_ds = test_ds.map(tokenize_fn, batched=True)\n",
    "\n",
    "cols = ['input_ids','attention_mask','labels']\n",
    "train_ds = train_ds.remove_columns([c for c in train_ds.column_names if c not in cols])\n",
    "test_ds = test_ds.remove_columns([c for c in test_ds.column_names if c not in cols])\n",
    "train_ds.set_format('torch')\n",
    "test_ds.set_format('torch')\n",
    "\n",
    "args = TrainingArguments(\n",
    "    output_dir=os.path.join(MODELS_DIR, 'indobert'),\n",
    "    num_train_epochs=1,\n",
    "    per_device_train_batch_size=16,\n",
    "    per_device_eval_batch_size=32,\n",
    "    learning_rate=2e-5,\n",
    "    weight_decay=0.01,\n",
    "    logging_steps=100\n",
    ")\n",
    "\n",
    "def compute_metrics(eval_pred):\n",
    "    logits, labels = eval_pred\n",
    "    preds = np.argmax(logits, axis=1)\n",
    "    m = evaluate_and_report(labels, preds, 'IndoBERT (eval)')\n",
    "    return {'precision_1': m['precision_1'], 'recall_1': m['recall_1'], 'f1_1': m['f1_1']}\n",
    "\n",
    "try:\n",
    "    trainer = Trainer(model=indobert_model, args=args, train_dataset=train_ds, eval_dataset=test_ds, tokenizer=indobert_tokenizer)\n",
    "    # Optional training (can be time-consuming). Commented by default.\n",
    "    # trainer.train()\n",
    "    eval_metrics = trainer.evaluate()\n",
    "    results.append({'model':'indobert_finetune_1epoch','metrics':eval_metrics})\n",
    "except ImportError as e:\n",
    "    print('Accelerate/Trainer not available, running manual evaluation without Trainer...')\n",
    "    indobert_model.eval()\n",
    "    device = torch.device('cpu')\n",
    "    indobert_model.to(device)\n",
    "    from torch.utils.data import DataLoader\n",
    "    loader = DataLoader(test_ds, batch_size=32, shuffle=False)\n",
    "    all_preds = []\n",
    "    all_labels = []\n",
    "    with torch.no_grad():\n",
    "        for batch in loader:\n",
    "            input_ids = batch['input_ids'].to(device)\n",
    "            attention_mask = batch['attention_mask'].to(device)\n",
    "            labels = batch['labels'].numpy()\n",
    "            logits = indobert_model(input_ids=input_ids, attention_mask=attention_mask).logits\n",
    "            preds = torch.argmax(logits, dim=1).cpu().numpy()\n",
    "            all_preds.append(preds)\n",
    "            all_labels.append(labels)\n",
    "    y_pred = np.concatenate(all_preds)\n",
    "    y_true = np.concatenate(all_labels)\n",
    "    m = evaluate_and_report(y_true, y_pred, 'IndoBERT (manual eval)')\n",
    "    results.append({'model':'indobert_manual_eval','metrics':m})\n",
    "\n",
    "indobert_model.save_pretrained(os.path.join(MODELS_DIR, 'indobert'))\n",
    "indobert_tokenizer.save_pretrained(os.path.join(MODELS_DIR, 'indobert'))\n"
   ]
  },
  {
   "cell_type": "code",
   "execution_count": null,
   "id": "ccae6f65",
   "metadata": {},
   "outputs": [
    {
     "name": "stderr",
     "output_type": "stream",
     "text": [
      "E0000 00:00:1759241581.461673 6163239 alts_credentials.cc:93] ALTS creds ignored. Not running on GCP and untrusted ALTS is not enabled.\n",
      "E0000 00:00:1759241887.394719 6163239 alts_credentials.cc:93] ALTS creds ignored. Not running on GCP and untrusted ALTS is not enabled.\n"
     ]
    },
    {
     "name": "stdout",
     "output_type": "stream",
     "text": [
      "\n",
      "=== Google AI Studio (Gemini) Embeddings + LogisticRegression (test) ===\n",
      "              precision    recall  f1-score   support\n",
      "\n",
      "           0     0.9900    0.9741    0.9820      2126\n",
      "           1     0.9745    0.9901    0.9823      2126\n",
      "\n",
      "    accuracy                         0.9821      4252\n",
      "   macro avg     0.9822    0.9821    0.9821      4252\n",
      "weighted avg     0.9822    0.9821    0.9821      4252\n",
      "\n"
     ]
    }
   ],
   "source": [
    "# Model 5: Google AI Studio (Gemini) Embeddings + Logistic Regression\n",
    "# Requires: `pip install google-generativeai`\n",
    "try:\n",
    "    import google.generativeai as genai\n",
    "    has_genai = True\n",
    "except Exception:\n",
    "    has_genai = False\n",
    "\n",
    "from sklearn.linear_model import LogisticRegression\n",
    "\n",
    "def embed_with_genai(texts: List[str], api_key: str, model: str = 'text-embedding-004', task_type: str = 'retrieval_document'):\n",
    "    assert has_genai, 'google-generativeai not installed. Run install cell.'\n",
    "    assert api_key, 'Provide GOOGLE_AI_STUDIO_API_KEY in env or set GOOGLE_AI_STUDIO_API_KEY variable.'\n",
    "    genai.configure(api_key=api_key)\n",
    "    # Batch to avoid payload limits\n",
    "    embeddings = []\n",
    "    batch_size = 128\n",
    "    for i in range(0, len(texts), batch_size):\n",
    "        batch = texts[i:i+batch_size]\n",
    "        resp = genai.embed_content(model=model, content=batch, task_type=task_type)\n",
    "        vecs = resp['embedding'] if 'embedding' in resp else resp['data'][0]['embedding']\n",
    "        # API returns list under 'embedding' for batch; normalize shape\n",
    "        if isinstance(vecs[0], (int, float)):\n",
    "            vecs = [vecs]\n",
    "        embeddings.extend(vecs)\n",
    "    return np.array(embeddings, dtype=np.float32)\n",
    "\n",
    "if has_genai and GOOGLE_AI_STUDIO_API_KEY:\n",
    "    Xtr_g = embed_with_genai(splits['train']['comment_clean'].tolist(), GOOGLE_AI_STUDIO_API_KEY)\n",
    "    Xte_g = embed_with_genai(splits['test']['comment_clean'].tolist(), GOOGLE_AI_STUDIO_API_KEY)\n",
    "    y_train = splits['train']['label'].astype(int).values\n",
    "    y_test = splits['test']['label'].astype(int).values\n",
    "    clf_g = LogisticRegression(max_iter=2000, class_weight='balanced')\n",
    "    clf_g.fit(Xtr_g, y_train)\n",
    "    y_pred_g = clf_g.predict(Xte_g)\n",
    "    metrics_g = evaluate_and_report(y_test, y_pred_g, 'Google AI Studio (Gemini) Embeddings + LogisticRegression (test)')\n",
    "    results.append({'model':'gemini_embed_lr','metrics':metrics_g})\n",
    "    joblib.dump({'provider':'google_ai_studio','model':'text-embedding-004','clf': clf_g}, os.path.join(MODELS_DIR, 'gemini_embed_lr.pkl'))\n",
    "else:\n",
    "    print('Skipping Google AI Studio embeddings (install google-generativeai and/or set GOOGLE_AI_STUDIO_API_KEY).')\n"
   ]
  },
  {
   "cell_type": "code",
   "execution_count": null,
   "id": "4c190bd2",
   "metadata": {},
   "outputs": [],
   "source": [
    "# Model 6: Vertex AI Text Embeddings + Logistic Regression\n",
    "# Requires: `pip install google-cloud-aiplatform`\n",
    "try:\n",
    "    from google.cloud import aiplatform\n",
    "    has_vertex = True\n",
    "except Exception:\n",
    "    has_vertex = False\n",
    "\n",
    "from sklearn.linear_model import LogisticRegression\n",
    "\n",
    "VERTEX_EMBED_MODEL = \"text-embedding-004\"  # for TextEmbeddingModel\n",
    "\n",
    "def embed_with_vertex(texts: List[str], project_id: str, location: str) -> np.ndarray:\n",
    "    assert has_vertex, 'google-cloud-aiplatform not installed.'\n",
    "    assert project_id, 'Set VERTEX_PROJECT_ID.'\n",
    "    aiplatform.init(project=project_id, location=location)\n",
    "    # Use TextEmbeddingModel endpoint\n",
    "    from vertexai.language_models import TextEmbeddingModel\n",
    "    model = TextEmbeddingModel.from_pretrained(VERTEX_EMBED_MODEL)\n",
    "    embeddings = []\n",
    "    batch_size = 128\n",
    "    for i in range(0, len(texts), batch_size):\n",
    "        batch = texts[i:i+batch_size]\n",
    "        resp = model.get_embeddings(batch)\n",
    "        for r in resp:\n",
    "            embeddings.append(r.values)\n",
    "    return np.array(embeddings, dtype=np.float32)\n",
    "\n",
    "if has_vertex and VERTEX_PROJECT_ID:\n",
    "    Xtr_v = embed_with_vertex(splits['train']['comment_clean'].tolist(), VERTEX_PROJECT_ID, VERTEX_LOCATION)\n",
    "    Xte_v = embed_with_vertex(splits['test']['comment_clean'].tolist(), VERTEX_PROJECT_ID, VERTEX_LOCATION)\n",
    "    y_train = splits['train']['label'].astype(int).values\n",
    "    y_test = splits['test']['label'].astype(int).values\n",
    "    clf_v = LogisticRegression(max_iter=2000, class_weight='balanced')\n",
    "    clf_v.fit(Xtr_v, y_train)\n",
    "    y_pred_v = clf_v.predict(Xte_v)\n",
    "    metrics_v = evaluate_and_report(y_test, y_pred_v, 'Vertex AI Embeddings + LogisticRegression (test)')\n",
    "    results.append({'model':'vertex_embed_lr','metrics':metrics_v})\n",
    "    joblib.dump({'provider':'vertex_ai','model':VERTEX_EMBED_MODEL,'clf': clf_v}, os.path.join(MODELS_DIR, 'vertex_embed_lr.pkl'))\n",
    "else:\n",
    "    print('Skipping Vertex AI embeddings (install google-cloud-aiplatform and/or set VERTEX_PROJECT_ID).')\n"
   ]
  },
  {
   "cell_type": "code",
   "execution_count": null,
   "id": "20f50736",
   "metadata": {},
   "outputs": [
    {
     "name": "stdout",
     "output_type": "stream",
     "text": [
      "             model      f1_1  precision_1  recall_1\n",
      "1    char_tfidf_lr  0.985224     0.998551  0.972248\n",
      "2        hybrid_lr  0.984256     0.998548  0.970367\n",
      "0  gemini_embed_lr  0.982268     0.974537  0.990122\n",
      "3      st_embed_lr  0.937529     0.929298  0.945908\n",
      "Metadata saved to models/metadata.json\n"
     ]
    }
   ],
   "source": [
    "# Results Summary & Model Comparison\n",
    "summary = []\n",
    "for r in results:\n",
    "    name = r['model']\n",
    "    m = r['metrics']\n",
    "    if isinstance(m, dict) and 'f1_1' in m:\n",
    "        summary.append({'model': name, 'f1_1': float(m['f1_1']), 'precision_1': float(m['precision_1']), 'recall_1': float(m['recall_1'])})\n",
    "\n",
    "summary_df = pd.DataFrame(summary).sort_values('f1_1', ascending=False)\n",
    "print(summary_df)\n",
    "\n",
    "# Save summary to models/metadata.json\n",
    "meta_path = os.path.join(MODELS_DIR, 'metadata.json')\n",
    "with open(meta_path, 'w') as f:\n",
    "    json.dump({'results': summary}, f, indent=2)\n",
    "print(f'Metadata saved to {meta_path}')\n"
   ]
  },
  {
   "cell_type": "code",
   "execution_count": 5,
   "id": "60f2ceb1",
   "metadata": {},
   "outputs": [],
   "source": [
    "from typing import Union\n",
    "import os\n",
    "\n",
    "# Lazy loaders for saved models\n",
    "char_lr = joblib.load(os.path.join(MODELS_DIR, 'lr_char.pkl')) if os.path.exists(os.path.join(MODELS_DIR, 'lr_char.pkl')) else None\n",
    "\n",
    "\n",
    "\n"
   ]
  },
  {
   "cell_type": "code",
   "execution_count": 6,
   "id": "df8b9895",
   "metadata": {},
   "outputs": [],
   "source": [
    "hybrid_lr = joblib.load(os.path.join(MODELS_DIR, 'hybrid_model.pkl')) if os.path.exists(os.path.join(MODELS_DIR, 'hybrid_model.pkl')) else None\n"
   ]
  },
  {
   "cell_type": "code",
   "execution_count": null,
   "id": "d6def761",
   "metadata": {},
   "outputs": [],
   "source": [
    "# gemini_bundle = joblib.load(os.path.join(MODELS_DIR, 'gemini_embed_lr.pkl')) if os.path.exists(os.path.join(MODELS_DIR, 'gemini_embed_lr.pkl')) else None\n",
    "# vertex_bundle = joblib.load(os.path.join(MODELS_DIR, 'vertex_embed_lr.pkl')) if os.path.exists(os.path.join(MODELS_DIR, 'vertex_embed_lr.pkl')) else None\n",
    "\n",
    "# indobert_path = os.path.join(MODELS_DIR, 'indobert')\n",
    "# indobert_model = None\n",
    "# indobert_tokenizer = None\n",
    "# if os.path.exists(indobert_path):\n",
    "#     from transformers import AutoTokenizer, AutoModelForSequenceClassification\n",
    "#     indobert_tokenizer = AutoTokenizer.from_pretrained(indobert_path)\n",
    "#     indobert_model = AutoModelForSequenceClassification.from_pretrained(indobert_path)\n",
    "\n",
    "# print(\"Models loaded successfully!\")"
   ]
  },
  {
   "cell_type": "code",
   "execution_count": 7,
   "id": "2cfb7d9b",
   "metadata": {},
   "outputs": [
    {
     "name": "stdout",
     "output_type": "stream",
     "text": [
      "Char TF-IDF predictions: [0, 0]\n"
     ]
    }
   ],
   "source": [
    "# Inference 1: Char TF-IDF + Logistic Regression\n",
    "def classify_char_tfidf(texts: Union[str, List[str]]):\n",
    "    if isinstance(texts, str):\n",
    "        texts = [texts]\n",
    "    if char_lr is None:\n",
    "        print(\"Char TF-IDF model not found. Train Model 1 first.\")\n",
    "        return None\n",
    "    return char_lr.predict(texts).tolist()\n",
    "\n",
    "# Test\n",
    "test_texts = [\"𝐃 𝐎 𝙍 𝘈 𝟟 gacor banget!\", \"terima kasih dok\"]\n",
    "print(\"Char TF-IDF predictions:\", classify_char_tfidf(test_texts))\n"
   ]
  },
  {
   "cell_type": "code",
   "execution_count": 8,
   "id": "5813d7c7",
   "metadata": {},
   "outputs": [
    {
     "name": "stdout",
     "output_type": "stream",
     "text": [
      "Hybrid predictions: [0, 0]\n"
     ]
    }
   ],
   "source": [
    "# Inference 2: Hybrid (char+word+numeric) + Logistic Regression\n",
    "def classify_hybrid(texts: Union[str, List[str]]):\n",
    "    if isinstance(texts, str):\n",
    "        texts = [texts]\n",
    "    if hybrid_lr is None:\n",
    "        print(\"Hybrid model not found. Train Model 2 first.\")\n",
    "        return None\n",
    "    \n",
    "    # Create dummy dataframe with required features\n",
    "    dummy_df = pd.DataFrame({\n",
    "        'comment_clean': texts, \n",
    "        'char_count': [len(t) for t in texts], \n",
    "        'word_count': [len(t.split()) for t in texts],\n",
    "        'avg_word_length': [len(t)/max(1,len(t.split())) for t in texts], \n",
    "        'number_ratio': [sum(ch.isdigit() for ch in t)/max(1,len(t)) for t in texts],\n",
    "        'special_char_ratio': [sum((not ch.isalnum()) and not ch.isspace() for ch in t)/max(1,len(t)) for t in texts],\n",
    "        'stylized_char_ratio': [0.0 for _ in texts], \n",
    "        'money_symbol_count': [0 for _ in texts], \n",
    "        'fire_symbol_count': [0 for _ in texts]\n",
    "    })\n",
    "    return hybrid_lr.predict(dummy_df).tolist()\n",
    "\n",
    "# Test\n",
    "print(\"Hybrid predictions:\", classify_hybrid(test_texts))\n"
   ]
  },
  {
   "cell_type": "code",
   "execution_count": 9,
   "id": "b7a14670",
   "metadata": {},
   "outputs": [
    {
     "ename": "NameError",
     "evalue": "name 'st_bundle' is not defined",
     "output_type": "error",
     "traceback": [
      "\u001b[31m---------------------------------------------------------------------------\u001b[39m",
      "\u001b[31mNameError\u001b[39m                                 Traceback (most recent call last)",
      "\u001b[36mCell\u001b[39m\u001b[36m \u001b[39m\u001b[32mIn[9]\u001b[39m\u001b[32m, line 19\u001b[39m\n\u001b[32m     16\u001b[39m         \u001b[38;5;28;01mreturn\u001b[39;00m \u001b[38;5;28;01mNone\u001b[39;00m\n\u001b[32m     18\u001b[39m \u001b[38;5;66;03m# Test\u001b[39;00m\n\u001b[32m---> \u001b[39m\u001b[32m19\u001b[39m \u001b[38;5;28mprint\u001b[39m(\u001b[33m\"\u001b[39m\u001b[33mSentence-Transformer predictions:\u001b[39m\u001b[33m\"\u001b[39m, \u001b[43mclassify_sentence_transformer\u001b[49m\u001b[43m(\u001b[49m\u001b[43mtest_texts\u001b[49m\u001b[43m)\u001b[49m)\n",
      "\u001b[36mCell\u001b[39m\u001b[36m \u001b[39m\u001b[32mIn[9]\u001b[39m\u001b[32m, line 5\u001b[39m, in \u001b[36mclassify_sentence_transformer\u001b[39m\u001b[34m(texts)\u001b[39m\n\u001b[32m      3\u001b[39m \u001b[38;5;28;01mif\u001b[39;00m \u001b[38;5;28misinstance\u001b[39m(texts, \u001b[38;5;28mstr\u001b[39m):\n\u001b[32m      4\u001b[39m     texts = [texts]\n\u001b[32m----> \u001b[39m\u001b[32m5\u001b[39m \u001b[38;5;28;01mif\u001b[39;00m \u001b[43mst_bundle\u001b[49m \u001b[38;5;129;01mis\u001b[39;00m \u001b[38;5;28;01mNone\u001b[39;00m:\n\u001b[32m      6\u001b[39m     \u001b[38;5;28mprint\u001b[39m(\u001b[33m\"\u001b[39m\u001b[33mSentence-Transformer model not found. Train Model 3 first.\u001b[39m\u001b[33m\"\u001b[39m)\n\u001b[32m      7\u001b[39m     \u001b[38;5;28;01mreturn\u001b[39;00m \u001b[38;5;28;01mNone\u001b[39;00m\n",
      "\u001b[31mNameError\u001b[39m: name 'st_bundle' is not defined"
     ]
    }
   ],
   "source": [
    "# Inference 3: Sentence-Transformers + Logistic Regression\n",
    "def classify_sentence_transformer(texts: Union[str, List[str]]):\n",
    "    if isinstance(texts, str):\n",
    "        texts = [texts]\n",
    "    if st_bundle is None:\n",
    "        print(\"Sentence-Transformer model not found. Train Model 3 first.\")\n",
    "        return None\n",
    "    \n",
    "    try:\n",
    "        from sentence_transformers import SentenceTransformer\n",
    "        enc = SentenceTransformer(st_bundle['encoder'])\n",
    "        X_emb = enc.encode(texts, batch_size=64, show_progress_bar=False, convert_to_numpy=True, normalize_embeddings=True)\n",
    "        return st_bundle['clf'].predict(X_emb).tolist()\n",
    "    except Exception as e:\n",
    "        print(f\"Sentence-Transformer prediction failed: {e}\")\n",
    "        return None\n",
    "\n",
    "# Test\n",
    "print(\"Sentence-Transformer predictions:\", classify_sentence_transformer(test_texts))\n"
   ]
  },
  {
   "cell_type": "code",
   "execution_count": null,
   "id": "d2af3972",
   "metadata": {},
   "outputs": [],
   "source": [
    "# Inference 4: IndoBERT\n",
    "def classify_indobert(texts: Union[str, List[str]]):\n",
    "    if isinstance(texts, str):\n",
    "        texts = [texts]\n",
    "    if indobert_model is None or indobert_tokenizer is None:\n",
    "        print(\"IndoBERT model not found. Train Model 4 first.\")\n",
    "        return None\n",
    "    \n",
    "    try:\n",
    "        import torch\n",
    "        indobert_model.eval()\n",
    "        device = torch.device('cpu')\n",
    "        indobert_model.to(device)\n",
    "        \n",
    "        # Tokenize\n",
    "        inputs = indobert_tokenizer(texts, truncation=True, padding=True, max_length=128, return_tensors='pt')\n",
    "        input_ids = inputs['input_ids'].to(device)\n",
    "        attention_mask = inputs['attention_mask'].to(device)\n",
    "        \n",
    "        # Predict\n",
    "        with torch.no_grad():\n",
    "            logits = indobert_model(input_ids=input_ids, attention_mask=attention_mask).logits\n",
    "            preds = torch.argmax(logits, dim=1).cpu().numpy().tolist()\n",
    "        return preds\n",
    "    except Exception as e:\n",
    "        print(f\"IndoBERT prediction failed: {e}\")\n",
    "        return None\n",
    "\n",
    "# Test\n",
    "print(\"IndoBERT predictions:\", classify_indobert(test_texts))\n"
   ]
  },
  {
   "cell_type": "code",
   "execution_count": null,
   "id": "8d628fc0",
   "metadata": {},
   "outputs": [],
   "source": [
    "# Inference 5: Google AI Studio (Gemini) + Logistic Regression\n",
    "def classify_gemini(texts: Union[str, List[str]]):\n",
    "    if isinstance(texts, str):\n",
    "        texts = [texts]\n",
    "    if gemini_bundle is None or not GOOGLE_AI_STUDIO_API_KEY:\n",
    "        print(\"Gemini model not found or API key missing. Train Model 5 first.\")\n",
    "        return None\n",
    "    \n",
    "    try:\n",
    "        import google.generativeai as genai\n",
    "        genai.configure(api_key=GOOGLE_AI_STUDIO_API_KEY)\n",
    "        embeddings = []\n",
    "        batch_size = 128\n",
    "        for i in range(0, len(texts), batch_size):\n",
    "            batch = texts[i:i+batch_size]\n",
    "            resp = genai.embed_content(model='text-embedding-004', content=batch, task_type='retrieval_document')\n",
    "            vecs = resp['embedding'] if 'embedding' in resp else resp['data'][0]['embedding']\n",
    "            if isinstance(vecs[0], (int, float)):\n",
    "                vecs = [vecs]\n",
    "            embeddings.extend(vecs)\n",
    "        X_emb = np.array(embeddings, dtype=np.float32)\n",
    "        return gemini_bundle['clf'].predict(X_emb).tolist()\n",
    "    except Exception as e:\n",
    "        print(f\"Gemini prediction failed: {e}\")\n",
    "        return None\n",
    "\n",
    "# Test\n",
    "print(\"Gemini predictions:\", classify_gemini(test_texts))\n"
   ]
  },
  {
   "cell_type": "code",
   "execution_count": null,
   "id": "32ca1e0f",
   "metadata": {},
   "outputs": [],
   "source": [
    "# Inference 6: Vertex AI + Logistic Regression\n",
    "def classify_vertex(texts: Union[str, List[str]]):\n",
    "    if isinstance(texts, str):\n",
    "        texts = [texts]\n",
    "    if vertex_bundle is None or not VERTEX_PROJECT_ID:\n",
    "        print(\"Vertex AI model not found or project ID missing. Train Model 6 first.\")\n",
    "        return None\n",
    "    \n",
    "    try:\n",
    "        from google.cloud import aiplatform\n",
    "        from vertexai.language_models import TextEmbeddingModel\n",
    "        aiplatform.init(project=VERTEX_PROJECT_ID, location=VERTEX_LOCATION)\n",
    "        model = TextEmbeddingModel.from_pretrained(vertex_bundle['model'])\n",
    "        embeddings = []\n",
    "        batch_size = 128\n",
    "        for i in range(0, len(texts), batch_size):\n",
    "            batch = texts[i:i+batch_size]\n",
    "            resp = model.get_embeddings(batch)\n",
    "            for r in resp:\n",
    "                embeddings.append(r.values)\n",
    "        X_emb = np.array(embeddings, dtype=np.float32)\n",
    "        return vertex_bundle['clf'].predict(X_emb).tolist()\n",
    "    except Exception as e:\n",
    "        print(f\"Vertex AI prediction failed: {e}\")\n",
    "        return None\n",
    "\n",
    "# Test\n",
    "print(\"Vertex AI predictions:\", classify_vertex(test_texts))\n"
   ]
  },
  {
   "cell_type": "code",
   "execution_count": null,
   "id": "0d49486c",
   "metadata": {},
   "outputs": [],
   "source": [
    "# Inference 7: LSTM (Keras)\n",
    "def classify_lstm(texts: Union[str, List[str]]):\n",
    "    if isinstance(texts, str):\n",
    "        texts = [texts]\n",
    "    if lstm_bundle is None or 'lstm_model' not in globals():\n",
    "        print(\"LSTM model not found. Train Model 7 first.\")\n",
    "        return None\n",
    "    \n",
    "    try:\n",
    "        from tensorflow.keras.preprocessing.sequence import pad_sequences\n",
    "        tk = lstm_bundle['tokenizer']\n",
    "        max_len = lstm_bundle['max_len']\n",
    "        seq = pad_sequences(tk.texts_to_sequences(texts), maxlen=max_len)\n",
    "        preds = (lstm_model.predict(seq)[:,0] >= 0.5).astype(int).tolist()\n",
    "        return preds\n",
    "    except Exception as e:\n",
    "        print(f\"LSTM prediction failed: {e}\")\n",
    "        return None\n",
    "\n",
    "# Test\n",
    "print(\"LSTM predictions:\", classify_lstm(test_texts))\n"
   ]
  },
  {
   "cell_type": "code",
   "execution_count": 10,
   "id": "89aa6453",
   "metadata": {},
   "outputs": [
    {
     "name": "stdout",
     "output_type": "stream",
     "text": [
      "=== All Model Predictions ===\n"
     ]
    },
    {
     "ename": "NameError",
     "evalue": "name 'st_bundle' is not defined",
     "output_type": "error",
     "traceback": [
      "\u001b[31m---------------------------------------------------------------------------\u001b[39m",
      "\u001b[31mNameError\u001b[39m                                 Traceback (most recent call last)",
      "\u001b[36mCell\u001b[39m\u001b[36m \u001b[39m\u001b[32mIn[10]\u001b[39m\u001b[32m, line 45\u001b[39m\n\u001b[32m     43\u001b[39m \u001b[38;5;66;03m# Test all models\u001b[39;00m\n\u001b[32m     44\u001b[39m \u001b[38;5;28mprint\u001b[39m(\u001b[33m\"\u001b[39m\u001b[33m=== All Model Predictions ===\u001b[39m\u001b[33m\"\u001b[39m)\n\u001b[32m---> \u001b[39m\u001b[32m45\u001b[39m all_predictions = \u001b[43mclassify_all\u001b[49m\u001b[43m(\u001b[49m\u001b[43mtest_texts\u001b[49m\u001b[43m)\u001b[49m\n\u001b[32m     46\u001b[39m \u001b[38;5;28;01mfor\u001b[39;00m model_name, predictions \u001b[38;5;129;01min\u001b[39;00m all_predictions.items():\n\u001b[32m     47\u001b[39m     \u001b[38;5;28mprint\u001b[39m(\u001b[33mf\u001b[39m\u001b[33m\"\u001b[39m\u001b[38;5;132;01m{\u001b[39;00mmodel_name\u001b[38;5;132;01m}\u001b[39;00m\u001b[33m: \u001b[39m\u001b[38;5;132;01m{\u001b[39;00mpredictions\u001b[38;5;132;01m}\u001b[39;00m\u001b[33m\"\u001b[39m)\n",
      "\u001b[36mCell\u001b[39m\u001b[36m \u001b[39m\u001b[32mIn[10]\u001b[39m\u001b[32m, line 21\u001b[39m, in \u001b[36mclassify_all\u001b[39m\u001b[34m(texts)\u001b[39m\n\u001b[32m     18\u001b[39m \u001b[38;5;28;01mif\u001b[39;00m hybrid_preds \u001b[38;5;129;01mis\u001b[39;00m \u001b[38;5;129;01mnot\u001b[39;00m \u001b[38;5;28;01mNone\u001b[39;00m:\n\u001b[32m     19\u001b[39m     outputs[\u001b[33m'\u001b[39m\u001b[33mhybrid_lr\u001b[39m\u001b[33m'\u001b[39m] = hybrid_preds\n\u001b[32m---> \u001b[39m\u001b[32m21\u001b[39m st_preds = \u001b[43mclassify_sentence_transformer\u001b[49m\u001b[43m(\u001b[49m\u001b[43mtexts\u001b[49m\u001b[43m)\u001b[49m\n\u001b[32m     22\u001b[39m \u001b[38;5;28;01mif\u001b[39;00m st_preds \u001b[38;5;129;01mis\u001b[39;00m \u001b[38;5;129;01mnot\u001b[39;00m \u001b[38;5;28;01mNone\u001b[39;00m:\n\u001b[32m     23\u001b[39m     outputs[\u001b[33m'\u001b[39m\u001b[33mst_embed_lr\u001b[39m\u001b[33m'\u001b[39m] = st_preds\n",
      "\u001b[36mCell\u001b[39m\u001b[36m \u001b[39m\u001b[32mIn[9]\u001b[39m\u001b[32m, line 5\u001b[39m, in \u001b[36mclassify_sentence_transformer\u001b[39m\u001b[34m(texts)\u001b[39m\n\u001b[32m      3\u001b[39m \u001b[38;5;28;01mif\u001b[39;00m \u001b[38;5;28misinstance\u001b[39m(texts, \u001b[38;5;28mstr\u001b[39m):\n\u001b[32m      4\u001b[39m     texts = [texts]\n\u001b[32m----> \u001b[39m\u001b[32m5\u001b[39m \u001b[38;5;28;01mif\u001b[39;00m \u001b[43mst_bundle\u001b[49m \u001b[38;5;129;01mis\u001b[39;00m \u001b[38;5;28;01mNone\u001b[39;00m:\n\u001b[32m      6\u001b[39m     \u001b[38;5;28mprint\u001b[39m(\u001b[33m\"\u001b[39m\u001b[33mSentence-Transformer model not found. Train Model 3 first.\u001b[39m\u001b[33m\"\u001b[39m)\n\u001b[32m      7\u001b[39m     \u001b[38;5;28;01mreturn\u001b[39;00m \u001b[38;5;28;01mNone\u001b[39;00m\n",
      "\u001b[31mNameError\u001b[39m: name 'st_bundle' is not defined"
     ]
    }
   ],
   "source": [
    "# Unified Inference: Run all available models\n",
    "def classify_all(texts: Union[str, List[str]]):\n",
    "    \"\"\"\n",
    "    Run all available models on the input text(s)\n",
    "    Returns a dictionary with model names as keys and predictions as values\n",
    "    \"\"\"\n",
    "    if isinstance(texts, str):\n",
    "        texts = [texts]\n",
    "    \n",
    "    outputs = {}\n",
    "    \n",
    "    # Try each model\n",
    "    char_preds = classify_char_tfidf(texts)\n",
    "    if char_preds is not None:\n",
    "        outputs['char_tfidf_lr'] = char_preds\n",
    "    \n",
    "    hybrid_preds = classify_hybrid(texts)\n",
    "    if hybrid_preds is not None:\n",
    "        outputs['hybrid_lr'] = hybrid_preds\n",
    "    \n",
    "    st_preds = classify_sentence_transformer(texts)\n",
    "    if st_preds is not None:\n",
    "        outputs['st_embed_lr'] = st_preds\n",
    "    \n",
    "    indobert_preds = classify_indobert(texts)\n",
    "    if indobert_preds is not None:\n",
    "        outputs['indobert'] = indobert_preds\n",
    "    \n",
    "    gemini_preds = classify_gemini(texts)\n",
    "    if gemini_preds is not None:\n",
    "        outputs['gemini_embed_lr'] = gemini_preds\n",
    "    \n",
    "    vertex_preds = classify_vertex(texts)\n",
    "    if vertex_preds is not None:\n",
    "        outputs['vertex_embed_lr'] = vertex_preds\n",
    "    \n",
    "    lstm_preds = classify_lstm(texts)\n",
    "    if lstm_preds is not None:\n",
    "        outputs['keras_lstm'] = lstm_preds\n",
    "    \n",
    "    return outputs\n",
    "\n",
    "# Test all models\n",
    "print(\"=== All Model Predictions ===\")\n",
    "all_predictions = classify_all(test_texts)\n",
    "for model_name, predictions in all_predictions.items():\n",
    "    print(f\"{model_name}: {predictions}\")\n"
   ]
  },
  {
   "cell_type": "code",
   "execution_count": null,
   "id": "e96fe126",
   "metadata": {},
   "outputs": [
    {
     "data": {
      "text/plain": [
       "[1]"
      ]
     },
     "execution_count": 33,
     "metadata": {},
     "output_type": "execute_result"
    }
   ],
   "source": [
    "classify_char_tfidf(\"DORA7 gacor banget!\")"
   ]
  }
 ],
 "metadata": {
  "kernelspec": {
   "display_name": ".venv",
   "language": "python",
   "name": "python3"
  },
  "language_info": {
   "codemirror_mode": {
    "name": "ipython",
    "version": 3
   },
   "file_extension": ".py",
   "mimetype": "text/x-python",
   "name": "python",
   "nbconvert_exporter": "python",
   "pygments_lexer": "ipython3",
   "version": "3.13.5"
  }
 },
 "nbformat": 4,
 "nbformat_minor": 5
}
